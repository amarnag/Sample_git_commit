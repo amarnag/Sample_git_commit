{
 "cells": [
  {
   "cell_type": "code",
   "execution_count": 1,
   "metadata": {
    "id": "BDfQP9b6yXPw"
   },
   "outputs": [],
   "source": [
    "import pandas as pd\n",
    "import numpy as np\n",
    "import matplotlib.pyplot as plt\n",
    "import urllib.request\n",
    "from tensorflow.keras.preprocessing.text import Tokenizer\n",
    "from tensorflow.keras.preprocessing.sequence import pad_sequences\n",
    "from sklearn.model_selection import train_test_split\n",
    "from tensorflow.keras.utils import to_categorical"
   ]
  },
  {
   "cell_type": "code",
   "execution_count": 2,
   "metadata": {
    "id": "Qo5Q_PDwycAo"
   },
   "outputs": [],
   "source": [
    "data = pd.read_csv(\"Input_10K_sample_MVP_filtering_1116.csv\")"
   ]
  },
  {
   "cell_type": "code",
   "execution_count": 3,
   "metadata": {
    "colab": {
     "base_uri": "https://localhost:8080/",
     "height": 206
    },
    "id": "ymJjyBL_Y7Bb",
    "outputId": "db039a18-13e7-4a7e-e138-fcd500f62c75"
   },
   "outputs": [
    {
     "data": {
      "text/html": [
       "<div>\n",
       "<style scoped>\n",
       "    .dataframe tbody tr th:only-of-type {\n",
       "        vertical-align: middle;\n",
       "    }\n",
       "\n",
       "    .dataframe tbody tr th {\n",
       "        vertical-align: top;\n",
       "    }\n",
       "\n",
       "    .dataframe thead th {\n",
       "        text-align: right;\n",
       "    }\n",
       "</style>\n",
       "<table border=\"1\" class=\"dataframe\">\n",
       "  <thead>\n",
       "    <tr style=\"text-align: right;\">\n",
       "      <th></th>\n",
       "      <th>Sentence #</th>\n",
       "      <th>Word</th>\n",
       "      <th>Tag</th>\n",
       "    </tr>\n",
       "  </thead>\n",
       "  <tbody>\n",
       "    <tr>\n",
       "      <th>0</th>\n",
       "      <td>Sentence: 1</td>\n",
       "      <td>diversibit</td>\n",
       "      <td>Other</td>\n",
       "    </tr>\n",
       "    <tr>\n",
       "      <th>1</th>\n",
       "      <td>NaN</td>\n",
       "      <td>kit</td>\n",
       "      <td>Other</td>\n",
       "    </tr>\n",
       "    <tr>\n",
       "      <th>2</th>\n",
       "      <td>Sentence: 2</td>\n",
       "      <td>iv</td>\n",
       "      <td>Other</td>\n",
       "    </tr>\n",
       "    <tr>\n",
       "      <th>3</th>\n",
       "      <td>NaN</td>\n",
       "      <td>2g</td>\n",
       "      <td>Other</td>\n",
       "    </tr>\n",
       "    <tr>\n",
       "      <th>4</th>\n",
       "      <td>NaN</td>\n",
       "      <td>gfci</td>\n",
       "      <td>Other</td>\n",
       "    </tr>\n",
       "  </tbody>\n",
       "</table>\n",
       "</div>"
      ],
      "text/plain": [
       "    Sentence #        Word    Tag\n",
       "0  Sentence: 1  diversibit  Other\n",
       "1          NaN         kit  Other\n",
       "2  Sentence: 2          iv  Other\n",
       "3          NaN          2g  Other\n",
       "4          NaN        gfci  Other"
      ]
     },
     "execution_count": 3,
     "metadata": {},
     "output_type": "execute_result"
    }
   ],
   "source": [
    "data[:5]"
   ]
  },
  {
   "cell_type": "code",
   "execution_count": 4,
   "metadata": {
    "colab": {
     "base_uri": "https://localhost:8080/"
    },
    "id": "31B1kMVYzFMd",
    "outputId": "4a9c217b-c48d-4213-c244-b7d44724d89b"
   },
   "outputs": [
    {
     "name": "stdout",
     "output_type": "stream",
     "text": [
      "number of dataframe rows : 30078\n"
     ]
    }
   ],
   "source": [
    "print('number of dataframe rows : {}'.format(len(data)))"
   ]
  },
  {
   "cell_type": "code",
   "execution_count": 5,
   "metadata": {
    "colab": {
     "base_uri": "https://localhost:8080/"
    },
    "id": "5qgElyBDzlXu",
    "outputId": "7f7bb0d7-80a2-415e-acba-1f358b63edcc"
   },
   "outputs": [
    {
     "name": "stdout",
     "output_type": "stream",
     "text": [
      "Whether there are null values in the data : True\n"
     ]
    }
   ],
   "source": [
    "print('Whether there are null values in the data : ' + str(data.isnull().values.any()))"
   ]
  },
  {
   "cell_type": "code",
   "execution_count": 6,
   "metadata": {
    "colab": {
     "base_uri": "https://localhost:8080/"
    },
    "id": "mUKvYcMg3HCH",
    "outputId": "b0e59737-bb44-4d6b-f9d3-01c461ab87a9"
   },
   "outputs": [
    {
     "name": "stdout",
     "output_type": "stream",
     "text": [
      "Print which columns contain null values\n",
      "==============================\n"
     ]
    },
    {
     "data": {
      "text/plain": [
       "Sentence #    20078\n",
       "Word              0\n",
       "Tag               0\n",
       "dtype: int64"
      ]
     },
     "execution_count": 6,
     "metadata": {},
     "output_type": "execute_result"
    }
   ],
   "source": [
    "print('Print which columns contain null values')\n",
    "print('==============================')\n",
    "data.isnull().sum()"
   ]
  },
  {
   "cell_type": "code",
   "execution_count": 7,
   "metadata": {
    "colab": {
     "base_uri": "https://localhost:8080/"
    },
    "id": "D6V0rIuF3Jiv",
    "outputId": "1eab449f-3d44-4472-ac47-1695b5fd4687"
   },
   "outputs": [
    {
     "name": "stdout",
     "output_type": "stream",
     "text": [
      "sentence # The number of deduplicated values in the column : 10000\n",
      "Word The number of deduplicated values in the column : 4985\n",
      "Tag The number of deduplicated values in the column : 50\n"
     ]
    }
   ],
   "source": [
    "print('sentence # The number of deduplicated values in the column : {}'.format(data['Sentence #'].nunique()))\n",
    "print('Word The number of deduplicated values in the column : {}'.format(data.Word.nunique()))\n",
    "print('Tag The number of deduplicated values in the column : {}'.format(data.Tag.nunique()))"
   ]
  },
  {
   "cell_type": "code",
   "execution_count": 8,
   "metadata": {
    "colab": {
     "base_uri": "https://localhost:8080/"
    },
    "id": "5pb88O9o3LRo",
    "outputId": "600894a8-a648-4416-dc32-c670b3870c94"
   },
   "outputs": [
    {
     "name": "stdout",
     "output_type": "stream",
     "text": [
      "Tag count the number of each value in the column\n",
      "================================\n",
      "                                Tag  count\n",
      "0   3 Phase Drive Horsepower Rating    335\n",
      "1                 Additional Detail      3\n",
      "2                              Amps    694\n",
      "3                       Application    266\n",
      "4                     Assembly Type     81\n",
      "5                        Cable Type    235\n",
      "6                          Capacity     29\n",
      "7                          Category     29\n",
      "8                      Coil Voltage    384\n",
      "9                             Color    352\n",
      "10                  Conductor Count     25\n",
      "11                   Conductor Type     43\n",
      "12                   Connector Type    202\n",
      "13                   Container Size      1\n",
      "14                            Depth    141\n",
      "15                         Diameter     56\n",
      "16                            Drive    138\n",
      "17                       Drive Size    154\n",
      "18                   Edge Thickness      2\n",
      "19                     Fixture Type     51\n",
      "20                     For Use With      3\n",
      "21                            Grade     26\n",
      "22                   Grit/ANSI Type      4\n",
      "23                           Height    154\n",
      "24                     Installation    130\n",
      "25                      Label Width     18\n",
      "26                        Lamp Type     66\n",
      "27                  Legend - Number     33\n",
      "28                           Length    317\n",
      "29                         Material    668\n",
      "30                    Mounting Size      5\n",
      "31                             NEMA    203\n",
      "32                  Number of Poles    636\n",
      "33                            Other  14174\n",
      "34                   Overload Relay     80\n",
      "35                            Phase    371\n",
      "36                            Point     88\n",
      "37                     Product Type      9\n",
      "38                             Size    355\n",
      "39                     Socket Depth     83\n",
      "40                     Speed Rating    315\n",
      "41                       Stud Holes     64\n",
      "42                      Tester Type      7\n",
      "43                       Trade Size    308\n",
      "44                             Type   7627\n",
      "45                         Use With     15\n",
      "46                          Voltage    477\n",
      "47                  Voltage Maximum    451\n",
      "48                            Watts     48\n",
      "49                            Width    122\n"
     ]
    }
   ],
   "source": [
    "print('Tag count the number of each value in the column')\n",
    "print('================================')\n",
    "print(data.groupby('Tag').size().reset_index(name='count'))"
   ]
  },
  {
   "cell_type": "code",
   "execution_count": 9,
   "metadata": {
    "id": "kobBX39g3Mfc"
   },
   "outputs": [],
   "source": [
    "data = data.fillna(method=\"ffill\")"
   ]
  },
  {
   "cell_type": "code",
   "execution_count": 10,
   "metadata": {
    "colab": {
     "base_uri": "https://localhost:8080/"
    },
    "id": "95-AHZjn3Nso",
    "outputId": "610c9559-653e-461b-cb55-ba556a26d77b"
   },
   "outputs": [
    {
     "name": "stdout",
     "output_type": "stream",
     "text": [
      "            Sentence #     Word     Tag\n",
      "30073   Sentence: 9999    clamp   Other\n",
      "30074  Sentence: 10000     18in  Length\n",
      "30075  Sentence: 10000      mag   Other\n",
      "30076  Sentence: 10000  pick-up   Other\n",
      "30077  Sentence: 10000     tool   Other\n"
     ]
    }
   ],
   "source": [
    "print(data.tail())"
   ]
  },
  {
   "cell_type": "code",
   "execution_count": 11,
   "metadata": {
    "colab": {
     "base_uri": "https://localhost:8080/"
    },
    "id": "EOdOzFb43QzV",
    "outputId": "01b1c11e-2105-42fd-e083-8feb648afa15"
   },
   "outputs": [
    {
     "name": "stdout",
     "output_type": "stream",
     "text": [
      "to the data Null whether or not there is a value : False\n"
     ]
    }
   ],
   "source": [
    "print('to the data Null whether or not there is a value : ' + str(data.isnull().values.any()))"
   ]
  },
  {
   "cell_type": "code",
   "execution_count": 12,
   "metadata": {
    "colab": {
     "base_uri": "https://localhost:8080/"
    },
    "id": "9ez83REt3TNT",
    "outputId": "513deee1-1b22-484f-9da0-42752b61a86f"
   },
   "outputs": [
    {
     "name": "stdout",
     "output_type": "stream",
     "text": [
      "Word The number of deduplicated values in the column : 4985\n"
     ]
    }
   ],
   "source": [
    "data['Word'] = data['Word'].str.lower()\n",
    "print('Word The number of deduplicated values in the column : {}'.format(data.Word.nunique()))"
   ]
  },
  {
   "cell_type": "code",
   "execution_count": 13,
   "metadata": {
    "colab": {
     "base_uri": "https://localhost:8080/"
    },
    "id": "n1VSrB3z3UeP",
    "outputId": "37c392fe-2cea-473a-d625-60c6afc8759b"
   },
   "outputs": [
    {
     "name": "stdout",
     "output_type": "stream",
     "text": [
      "    Sentence #        Word    Tag\n",
      "0  Sentence: 1  diversibit  Other\n",
      "1  Sentence: 1         kit  Other\n",
      "2  Sentence: 2          iv  Other\n",
      "3  Sentence: 2          2g  Other\n",
      "4  Sentence: 2        gfci  Other\n"
     ]
    }
   ],
   "source": [
    "print(data[:5])"
   ]
  },
  {
   "cell_type": "code",
   "execution_count": 14,
   "metadata": {
    "colab": {
     "base_uri": "https://localhost:8080/"
    },
    "id": "5v7gEF8u3Vyw",
    "outputId": "5b0794b6-7f58-4627-e601-9061b8008cca"
   },
   "outputs": [
    {
     "name": "stdout",
     "output_type": "stream",
     "text": [
      "Total number of samples: 10000\n"
     ]
    }
   ],
   "source": [
    "func = lambda temp: [(w, t) for w, t in zip(temp[\"Word\"].values.tolist(), temp[\"Tag\"].values.tolist())]\n",
    "tagged_sentences=[t for t in data.groupby(\"Sentence #\").apply(func)]\n",
    "print(\"Total number of samples: {}\".format(len(tagged_sentences)))"
   ]
  },
  {
   "cell_type": "code",
   "execution_count": 15,
   "metadata": {
    "colab": {
     "base_uri": "https://localhost:8080/"
    },
    "id": "BP3eD9h53W_D",
    "outputId": "e81152ed-a8ab-4234-f813-c858c13d3a7d"
   },
   "outputs": [
    {
     "name": "stdout",
     "output_type": "stream",
     "text": [
      "[('diversibit', 'Other'), ('kit', 'Other')]\n"
     ]
    }
   ],
   "source": [
    "print(tagged_sentences[0]) # first sample output"
   ]
  },
  {
   "cell_type": "code",
   "execution_count": 16,
   "metadata": {
    "id": "BDIr2WoF3YKu"
   },
   "outputs": [],
   "source": [
    "sentences, ner_tags = [], [] \n",
    "for tagged_sentence in tagged_sentences: # Load one sentence sample at a time.\n",
    "    sentence, tag_info = zip(*tagged_sentence) # In each sample, the words are sent to the sentence, and the entity name tagging information is tag_info save to.\n",
    "    sentences.append(list(sentence)) # Stores only word information in each sample.\n",
    "    ner_tags.append(list(tag_info)) # Stores only entity name tagging information in each sample."
   ]
  },
  {
   "cell_type": "code",
   "execution_count": 17,
   "metadata": {
    "colab": {
     "base_uri": "https://localhost:8080/"
    },
    "id": "L0Qcw-VN3aZp",
    "outputId": "8e44f1b6-9a68-4f08-a864-70ccc0138a4c"
   },
   "outputs": [
    {
     "name": "stdout",
     "output_type": "stream",
     "text": [
      "['diversibit', 'kit']\n",
      "['Other', 'Other']\n"
     ]
    }
   ],
   "source": [
    "print(sentences[0])\n",
    "print(ner_tags[0])"
   ]
  },
  {
   "cell_type": "code",
   "execution_count": 18,
   "metadata": {
    "colab": {
     "base_uri": "https://localhost:8080/"
    },
    "id": "zLglFWkC3blL",
    "outputId": "f6c42a2b-ab67-4c16-bdf5-10feff60b34f"
   },
   "outputs": [
    {
     "name": "stdout",
     "output_type": "stream",
     "text": [
      "['wndw', 'door', 'fits']\n",
      "['Type', 'Type', 'Other']\n"
     ]
    }
   ],
   "source": [
    "print(sentences[98])\n",
    "print(ner_tags[98])"
   ]
  },
  {
   "cell_type": "code",
   "execution_count": 19,
   "metadata": {
    "colab": {
     "base_uri": "https://localhost:8080/",
     "height": 315
    },
    "id": "tVvW72m63c0L",
    "outputId": "dd9c08d8-163e-409b-aaf1-44845b1a5cb6"
   },
   "outputs": [
    {
     "name": "stdout",
     "output_type": "stream",
     "text": [
      "sample length : 7\n",
      "average length of samples : 3.007800\n"
     ]
    },
    {
     "data": {
      "image/png": "[encoded data removed]",
      "text/plain": [
       "<Figure size 432x288 with 1 Axes>"
      ]
     },
     "metadata": {
      "needs_background": "light"
     },
     "output_type": "display_data"
    }
   ],
   "source": [
    "print('sample length : %d' % max(len(l) for l in sentences))\n",
    "print('average length of samples : %f' % (sum(map(len, sentences))/len(sentences)))\n",
    "plt.hist([len(s) for s in sentences], bins=50)\n",
    "plt.xlabel('length of samples')\n",
    "plt.ylabel('number of samples')\n",
    "plt.show()"
   ]
  },
  {
   "cell_type": "code",
   "execution_count": 20,
   "metadata": {
    "id": "Y1Vj7idf3d6X"
   },
   "outputs": [],
   "source": [
    "src_tokenizer = Tokenizer(oov_token='OOV') # Use all words, but assign the word 'OOV' to index 1.\n",
    "src_tokenizer.fit_on_texts(sentences)\n",
    "tar_tokenizer = Tokenizer(lower=False) # Tagging information is internally stored with uppercase letters preserved.\n",
    "tar_tokenizer.fit_on_texts(ner_tags)"
   ]
  },
  {
   "cell_type": "code",
   "execution_count": 21,
   "metadata": {
    "colab": {
     "base_uri": "https://localhost:8080/"
    },
    "id": "-KrEtQ3j3fTk",
    "outputId": "fe08766e-270b-45e0-9c9c-767e94dfac52"
   },
   "outputs": [
    {
     "name": "stdout",
     "output_type": "stream",
     "text": [
      "size of word set : 4987\n",
      "Size of object name tagging information set : 51\n"
     ]
    }
   ],
   "source": [
    "vocab_size = len(src_tokenizer.word_index) + 1\n",
    "tag_size = len(tar_tokenizer.word_index) + 1\n",
    "print('size of word set : {}'.format(vocab_size))\n",
    "print('Size of object name tagging information set : {}'.format(tag_size))"
   ]
  },
  {
   "cell_type": "code",
   "execution_count": 22,
   "metadata": {
    "colab": {
     "base_uri": "https://localhost:8080/"
    },
    "id": "9Uir00Gn3nv4",
    "outputId": "f48a7b87-1eba-44f6-9a11-0fd4d82a3afd"
   },
   "outputs": [
    {
     "name": "stdout",
     "output_type": "stream",
     "text": [
      "index of word OOV : 1\n"
     ]
    }
   ],
   "source": [
    "print('index of word OOV : {}'.format(src_tokenizer.word_index['OOV']))"
   ]
  },
  {
   "cell_type": "code",
   "execution_count": 23,
   "metadata": {
    "id": "CbThZwgm3pIy"
   },
   "outputs": [],
   "source": [
    "X_data = src_tokenizer.texts_to_sequences(sentences)\n",
    "y_data = tar_tokenizer.texts_to_sequences(ner_tags)"
   ]
  },
  {
   "cell_type": "code",
   "execution_count": 24,
   "metadata": {
    "colab": {
     "base_uri": "https://localhost:8080/"
    },
    "id": "8KW1_b7v3qW-",
    "outputId": "3ef71250-6658-494a-f585-3d26d72320b4"
   },
   "outputs": [
    {
     "name": "stdout",
     "output_type": "stream",
     "text": [
      "[2328, 32]\n",
      "[1, 1]\n"
     ]
    }
   ],
   "source": [
    "print(X_data[0])\n",
    "print(y_data[0])"
   ]
  },
  {
   "cell_type": "code",
   "execution_count": 25,
   "metadata": {
    "id": "FsKckwN-3rh3"
   },
   "outputs": [],
   "source": [
    "word_to_index = src_tokenizer.word_index\n",
    "index_to_word = src_tokenizer.index_word\n",
    "ner_to_index = tar_tokenizer.word_index\n",
    "index_to_ner = tar_tokenizer.index_word\n",
    "index_to_ner[0] = 'PAD'"
   ]
  },
  {
   "cell_type": "code",
   "execution_count": 26,
   "metadata": {
    "colab": {
     "base_uri": "https://localhost:8080/"
    },
    "id": "IFmQxwzW3uMO",
    "outputId": "af07b3ab-b76e-42b5-f9e2-ff42c3c2b774"
   },
   "outputs": [
    {
     "name": "stdout",
     "output_type": "stream",
     "text": [
      "{1: 'Other', 2: 'Type', 3: 'Amps', 4: 'Material', 5: 'Number of Poles', 6: 'Voltage', 7: 'Voltage Maximum', 8: 'Coil Voltage', 9: 'Phase', 10: 'Size', 11: 'Color', 12: '3 Phase Drive Horsepower Rating', 13: 'Length', 14: 'Speed Rating', 15: 'Trade Size', 16: 'Application', 17: 'Cable Type', 18: 'NEMA', 19: 'Connector Type', 20: 'Height', 21: 'Drive Size', 22: 'Depth', 23: 'Drive', 24: 'Installation', 25: 'Width', 26: 'Point', 27: 'Socket Depth', 28: 'Assembly Type', 29: 'Overload Relay', 30: 'Lamp Type', 31: 'Stud Holes', 32: 'Diameter', 33: 'Fixture Type', 34: 'Watts', 35: 'Conductor Type', 36: 'Legend - Number', 37: 'Capacity', 38: 'Category', 39: 'Grade', 40: 'Conductor Count', 41: 'Label Width', 42: 'Use With', 43: 'Product Type', 44: 'Tester Type', 45: 'Mounting Size', 46: 'Grit/ANSI Type', 47: 'For Use With', 48: 'Additional Detail', 49: 'Edge Thickness', 50: 'Container Size', 0: 'PAD'}\n"
     ]
    }
   ],
   "source": [
    "print(index_to_ner)"
   ]
  },
  {
   "cell_type": "code",
   "execution_count": 27,
   "metadata": {
    "colab": {
     "base_uri": "https://localhost:8080/"
    },
    "id": "n4ySMUSt3vY5",
    "outputId": "7961c015-c960-4c03-d0d9-bba1df0ace79"
   },
   "outputs": [
    {
     "name": "stdout",
     "output_type": "stream",
     "text": [
      "an existing sentence : ['diversibit', 'kit']\n",
      "decoding sentence : ['diversibit', 'kit']\n"
     ]
    }
   ],
   "source": [
    "decoded = []\n",
    "for index in X_data[0] : # for indices in the first sample\n",
    "    decoded.append(index_to_word[index]) # convert back to words\n",
    "\n",
    "print('an existing sentence : {}'.format(sentences[0]))\n",
    "print('decoding sentence : {}'.format(decoded))"
   ]
  },
  {
   "cell_type": "code",
   "execution_count": 28,
   "metadata": {
    "id": "9mZDlPqo3wlX"
   },
   "outputs": [],
   "source": [
    "max_len = 7\n",
    "X_data = pad_sequences(X_data, padding='post', maxlen=max_len)\n",
    "y_data = pad_sequences(y_data, padding='post', maxlen=max_len)"
   ]
  },
  {
   "cell_type": "code",
   "execution_count": 29,
   "metadata": {
    "colab": {
     "base_uri": "https://localhost:8080/"
    },
    "id": "SyB_WRor7S0Q",
    "outputId": "ebbfffa6-9f40-4278-e4c1-2f736db605ca"
   },
   "outputs": [
    {
     "name": "stdout",
     "output_type": "stream",
     "text": [
      "(10000, 7)\n",
      "(10000, 7)\n"
     ]
    }
   ],
   "source": [
    "print(X_data.shape)\n",
    "print(y_data.shape)"
   ]
  },
  {
   "cell_type": "code",
   "execution_count": 30,
   "metadata": {
    "id": "gJtU5Oz03zNW"
   },
   "outputs": [],
   "source": [
    "X_train, X_test, y_train_int, y_test_int = train_test_split(X_data, y_data, test_size=0.15, random_state=777)"
   ]
  },
  {
   "cell_type": "code",
   "execution_count": 31,
   "metadata": {
    "id": "9FfY0d5f30Qv"
   },
   "outputs": [],
   "source": [
    "y_train = to_categorical(y_train_int, num_classes=tag_size)\n",
    "y_test = to_categorical(y_test_int, num_classes=tag_size)"
   ]
  },
  {
   "cell_type": "code",
   "execution_count": 32,
   "metadata": {
    "colab": {
     "base_uri": "https://localhost:8080/"
    },
    "id": "Npq4bXUA7V8k",
    "outputId": "0afb71f9-6b3a-4e64-fd9e-472616251ac9"
   },
   "outputs": [
    {
     "name": "stdout",
     "output_type": "stream",
     "text": [
      "Size of training sample sentences : (8500, 7)\n",
      "Size of training sample labels (integer encoding) : (8500, 7)\n",
      "Size of training sample labels (one-hot encoding) : (8500, 7, 51)\n",
      "Size of test sample sentences : (1500, 7)\n",
      "Size of test sample labels (integer encoding) : (1500, 7)\n",
      "Size of test sample labels (one-hot encoding) : (1500, 7, 51)\n"
     ]
    }
   ],
   "source": [
    "print('Size of training sample sentences : {}'.format(X_train.shape))\n",
    "print('Size of training sample labels (integer encoding) : {}'.format(y_train_int.shape))\n",
    "print('Size of training sample labels (one-hot encoding) : {}'.format(y_train.shape))\n",
    "print('Size of test sample sentences : {}'.format(X_test.shape))\n",
    "print('Size of test sample labels (integer encoding) : {}'.format(y_test_int.shape))\n",
    "print('Size of test sample labels (one-hot encoding) : {}'.format(y_test.shape))"
   ]
  },
  {
   "cell_type": "code",
   "execution_count": 33,
   "metadata": {
    "colab": {
     "base_uri": "https://localhost:8080/"
    },
    "id": "fvbZZ4pV7jkl",
    "outputId": "391f3308-a184-475f-ca14-1d41fdf5a812"
   },
   "outputs": [
    {
     "name": "stdout",
     "output_type": "stream",
     "text": [
      "['diversibit', 'kit']\n"
     ]
    }
   ],
   "source": [
    "# Existing sentence before integer encoding\n",
    "print(sentences[0])"
   ]
  },
  {
   "cell_type": "code",
   "execution_count": 34,
   "metadata": {
    "colab": {
     "base_uri": "https://localhost:8080/"
    },
    "id": "424UcyumBi2Y",
    "outputId": "3df91d58-1b7c-4ec5-b270-75aae206449f"
   },
   "outputs": [
    {
     "name": "stdout",
     "output_type": "stream",
     "text": [
      "[2328   32    0    0    0    0    0]\n"
     ]
    }
   ],
   "source": [
    "print(X_data[0])"
   ]
  },
  {
   "cell_type": "code",
   "execution_count": 35,
   "metadata": {
    "colab": {
     "base_uri": "https://localhost:8080/"
    },
    "id": "Odl26mVdEfPm",
    "outputId": "fbb72c9f-a8a3-4fc3-9055-50088b01a4be"
   },
   "outputs": [
    {
     "name": "stdout",
     "output_type": "stream",
     "text": [
      "[ 17 265 119   0   0   0   0]\n"
     ]
    }
   ],
   "source": [
    "print(X_train[0])"
   ]
  },
  {
   "cell_type": "code",
   "execution_count": 36,
   "metadata": {
    "colab": {
     "base_uri": "https://localhost:8080/"
    },
    "id": "_5zCFvf58Q1b",
    "outputId": "e103740a-6aad-4326-e1db-bb15e39ee195"
   },
   "outputs": [
    {
     "name": "stdout",
     "output_type": "stream",
     "text": [
      "plaster\n"
     ]
    }
   ],
   "source": [
    "print(index_to_word[3829])"
   ]
  },
  {
   "cell_type": "code",
   "execution_count": 37,
   "metadata": {
    "colab": {
     "base_uri": "https://localhost:8080/"
    },
    "id": "QgBR0y8mFWmn",
    "outputId": "e7294bc7-0522-4829-c74b-d6856ede6d31"
   },
   "outputs": [
    {
     "name": "stdout",
     "output_type": "stream",
     "text": [
      "Size of training sample sentences : (8500, 7)\n",
      "size of training sample labels : (8500, 7, 51)\n",
      "Size of test sample sentences : (1500, 7)\n",
      "Size of test sample label : (1500, 7, 51)\n"
     ]
    }
   ],
   "source": [
    "print('Size of training sample sentences : {}'.format(X_train.shape))\n",
    "print('size of training sample labels : {}'.format(y_train.shape))\n",
    "print('Size of test sample sentences : {}'.format(X_test.shape))\n",
    "print('Size of test sample label : {}'.format(y_test.shape))"
   ]
  },
  {
   "cell_type": "code",
   "execution_count": 38,
   "metadata": {},
   "outputs": [
    {
     "data": {
      "text/plain": [
       "array([2149, 3829,  164,    0,    0,    0,    0])"
      ]
     },
     "execution_count": 38,
     "metadata": {},
     "output_type": "execute_result"
    }
   ],
   "source": [
    "X_test[0]"
   ]
  },
  {
   "cell_type": "markdown",
   "metadata": {
    "id": "M5HlLxZEV7kn"
   },
   "source": [
    "# BiLSTM"
   ]
  },
  {
   "cell_type": "markdown",
   "metadata": {
    "id": "8P0QOs4KOayO"
   },
   "source": [
    "## modelling"
   ]
  },
  {
   "cell_type": "code",
   "execution_count": 39,
   "metadata": {
    "id": "cwvOg6XiWDCO"
   },
   "outputs": [],
   "source": [
    "from tensorflow.keras.models import Sequential\n",
    "from tensorflow.keras.layers import Dense, LSTM, InputLayer, Bidirectional, TimeDistributed, Embedding\n",
    "from tensorflow.keras.optimizers import Adam"
   ]
  },
  {
   "cell_type": "code",
   "execution_count": 40,
   "metadata": {
    "id": "pKE60YszWD-e"
   },
   "outputs": [],
   "source": [
    "embedding_dim = 128\n",
    "hidden_units = 256\n",
    "\n",
    "model = Sequential()\n",
    "model.add(Embedding(vocab_size, embedding_dim, mask_zero=True))\n",
    "model.add(Bidirectional(LSTM(hidden_units, return_sequences=True)))\n",
    "model.add(TimeDistributed(Dense(tag_size, activation=('softmax'))))\n",
    "model.compile(loss='categorical_crossentropy', optimizer=Adam(0.001), metrics=['accuracy'])"
   ]
  },
  {
   "cell_type": "code",
   "execution_count": 41,
   "metadata": {
    "colab": {
     "base_uri": "https://localhost:8080/"
    },
    "id": "tQJb-y9ab0pg",
    "outputId": "aed0db35-3e34-43f6-cfb3-3323a207cd24"
   },
   "outputs": [
    {
     "name": "stdout",
     "output_type": "stream",
     "text": [
      "Model: \"sequential\"\n",
      "_________________________________________________________________\n",
      " Layer (type)                Output Shape              Param #   \n",
      "=================================================================\n",
      " embedding (Embedding)       (None, None, 128)         638336    \n",
      "                                                                 \n",
      " bidirectional (Bidirectiona  (None, None, 512)        788480    \n",
      " l)                                                              \n",
      "                                                                 \n",
      " time_distributed (TimeDistr  (None, None, 51)         26163     \n",
      " ibuted)                                                         \n",
      "                                                                 \n",
      "=================================================================\n",
      "Total params: 1,452,979\n",
      "Trainable params: 1,452,979\n",
      "Non-trainable params: 0\n",
      "_________________________________________________________________\n"
     ]
    }
   ],
   "source": [
    "model.summary()"
   ]
  },
  {
   "cell_type": "code",
   "execution_count": 42,
   "metadata": {
    "colab": {
     "base_uri": "https://localhost:8080/"
    },
    "id": "WRAKp9mSWF5J",
    "outputId": "25a0ad6e-8988-427f-fd0d-f02928266a48"
   },
   "outputs": [
    {
     "name": "stdout",
     "output_type": "stream",
     "text": [
      "Epoch 1/50\n",
      "57/57 [==============================] - 10s 81ms/step - loss: 1.1993 - accuracy: 0.4827 - val_loss: 0.8109 - val_accuracy: 0.5364\n",
      "Epoch 2/50\n",
      "57/57 [==============================] - 3s 50ms/step - loss: 0.7192 - accuracy: 0.5571 - val_loss: 0.6630 - val_accuracy: 0.6019\n",
      "Epoch 3/50\n",
      "57/57 [==============================] - 3s 51ms/step - loss: 0.5692 - accuracy: 0.6459 - val_loss: 0.5878 - val_accuracy: 0.6275\n",
      "Epoch 4/50\n",
      "57/57 [==============================] - 3s 52ms/step - loss: 0.4793 - accuracy: 0.6879 - val_loss: 0.5327 - val_accuracy: 0.6536\n",
      "Epoch 5/50\n",
      "57/57 [==============================] - 3s 52ms/step - loss: 0.4051 - accuracy: 0.7291 - val_loss: 0.4969 - val_accuracy: 0.6710\n",
      "Epoch 6/50\n",
      "57/57 [==============================] - 3s 50ms/step - loss: 0.3486 - accuracy: 0.7597 - val_loss: 0.4763 - val_accuracy: 0.6901\n",
      "Epoch 7/50\n",
      "57/57 [==============================] - 3s 50ms/step - loss: 0.3008 - accuracy: 0.7901 - val_loss: 0.4642 - val_accuracy: 0.7002\n",
      "Epoch 8/50\n",
      "57/57 [==============================] - 3s 50ms/step - loss: 0.2590 - accuracy: 0.8172 - val_loss: 0.4635 - val_accuracy: 0.7070\n",
      "Epoch 9/50\n",
      "57/57 [==============================] - 3s 50ms/step - loss: 0.2234 - accuracy: 0.8391 - val_loss: 0.4699 - val_accuracy: 0.7171\n",
      "Epoch 10/50\n",
      "57/57 [==============================] - 3s 51ms/step - loss: 0.1939 - accuracy: 0.8618 - val_loss: 0.4670 - val_accuracy: 0.7243\n",
      "Epoch 11/50\n",
      "57/57 [==============================] - 3s 52ms/step - loss: 0.1653 - accuracy: 0.8817 - val_loss: 0.4734 - val_accuracy: 0.7228\n",
      "Epoch 12/50\n",
      "57/57 [==============================] - 3s 51ms/step - loss: 0.1447 - accuracy: 0.8920 - val_loss: 0.4909 - val_accuracy: 0.7220\n",
      "Epoch 13/50\n",
      "57/57 [==============================] - 3s 49ms/step - loss: 0.1276 - accuracy: 0.9059 - val_loss: 0.5021 - val_accuracy: 0.7207\n",
      "Epoch 14/50\n",
      "57/57 [==============================] - 3s 50ms/step - loss: 0.1149 - accuracy: 0.9146 - val_loss: 0.5132 - val_accuracy: 0.7209\n",
      "Epoch 15/50\n",
      "57/57 [==============================] - 3s 50ms/step - loss: 0.1021 - accuracy: 0.9237 - val_loss: 0.5275 - val_accuracy: 0.7202\n",
      "Epoch 16/50\n",
      "57/57 [==============================] - 3s 50ms/step - loss: 0.0929 - accuracy: 0.9303 - val_loss: 0.5368 - val_accuracy: 0.7178\n",
      "Epoch 17/50\n",
      "57/57 [==============================] - 3s 50ms/step - loss: 0.0845 - accuracy: 0.9353 - val_loss: 0.5513 - val_accuracy: 0.7323\n",
      "Epoch 18/50\n",
      "57/57 [==============================] - 3s 50ms/step - loss: 0.0762 - accuracy: 0.9431 - val_loss: 0.5597 - val_accuracy: 0.7230\n",
      "Epoch 19/50\n",
      "57/57 [==============================] - 3s 49ms/step - loss: 0.0713 - accuracy: 0.9441 - val_loss: 0.5772 - val_accuracy: 0.7321\n",
      "Epoch 20/50\n",
      "57/57 [==============================] - 3s 49ms/step - loss: 0.0663 - accuracy: 0.9484 - val_loss: 0.5935 - val_accuracy: 0.7204\n",
      "Epoch 21/50\n",
      "57/57 [==============================] - 3s 52ms/step - loss: 0.0626 - accuracy: 0.9497 - val_loss: 0.6038 - val_accuracy: 0.7269\n",
      "Epoch 22/50\n",
      "57/57 [==============================] - 3s 54ms/step - loss: 0.0579 - accuracy: 0.9541 - val_loss: 0.6173 - val_accuracy: 0.7290\n",
      "Epoch 23/50\n",
      "57/57 [==============================] - 3s 53ms/step - loss: 0.0548 - accuracy: 0.9550 - val_loss: 0.6293 - val_accuracy: 0.7295\n",
      "Epoch 24/50\n",
      "57/57 [==============================] - 3s 51ms/step - loss: 0.0525 - accuracy: 0.9568 - val_loss: 0.6231 - val_accuracy: 0.7194\n",
      "Epoch 25/50\n",
      "57/57 [==============================] - 3s 50ms/step - loss: 0.0495 - accuracy: 0.9606 - val_loss: 0.6532 - val_accuracy: 0.7181\n",
      "Epoch 26/50\n",
      "57/57 [==============================] - 3s 50ms/step - loss: 0.0471 - accuracy: 0.9612 - val_loss: 0.6554 - val_accuracy: 0.7303\n",
      "Epoch 27/50\n",
      "57/57 [==============================] - 3s 50ms/step - loss: 0.0453 - accuracy: 0.9616 - val_loss: 0.6579 - val_accuracy: 0.7215\n",
      "Epoch 28/50\n",
      "57/57 [==============================] - 3s 51ms/step - loss: 0.0432 - accuracy: 0.9648 - val_loss: 0.6696 - val_accuracy: 0.7246\n",
      "Epoch 29/50\n",
      "57/57 [==============================] - 3s 52ms/step - loss: 0.0416 - accuracy: 0.9650 - val_loss: 0.6689 - val_accuracy: 0.7251\n",
      "Epoch 30/50\n",
      "57/57 [==============================] - 3s 53ms/step - loss: 0.0407 - accuracy: 0.9656 - val_loss: 0.6790 - val_accuracy: 0.7259\n",
      "Epoch 31/50\n",
      "57/57 [==============================] - 3s 53ms/step - loss: 0.0391 - accuracy: 0.9662 - val_loss: 0.6855 - val_accuracy: 0.7259\n",
      "Epoch 32/50\n",
      "57/57 [==============================] - 3s 54ms/step - loss: 0.0379 - accuracy: 0.9682 - val_loss: 0.6925 - val_accuracy: 0.7228\n",
      "Epoch 33/50\n",
      "57/57 [==============================] - 3s 58ms/step - loss: 0.0376 - accuracy: 0.9671 - val_loss: 0.6957 - val_accuracy: 0.7194\n",
      "Epoch 34/50\n",
      "57/57 [==============================] - 3s 58ms/step - loss: 0.0355 - accuracy: 0.9681 - val_loss: 0.7142 - val_accuracy: 0.7196\n",
      "Epoch 35/50\n",
      "57/57 [==============================] - 3s 59ms/step - loss: 0.0359 - accuracy: 0.9693 - val_loss: 0.7215 - val_accuracy: 0.7222\n",
      "Epoch 36/50\n",
      "57/57 [==============================] - 3s 57ms/step - loss: 0.0344 - accuracy: 0.9694 - val_loss: 0.7220 - val_accuracy: 0.7238\n",
      "Epoch 37/50\n",
      "57/57 [==============================] - 3s 58ms/step - loss: 0.0332 - accuracy: 0.9709 - val_loss: 0.7280 - val_accuracy: 0.7272\n",
      "Epoch 38/50\n",
      "57/57 [==============================] - 3s 60ms/step - loss: 0.0320 - accuracy: 0.9704 - val_loss: 0.7221 - val_accuracy: 0.7191\n",
      "Epoch 39/50\n",
      "57/57 [==============================] - 4s 62ms/step - loss: 0.0325 - accuracy: 0.9705 - val_loss: 0.7368 - val_accuracy: 0.7204\n",
      "Epoch 40/50\n",
      "57/57 [==============================] - 4s 64ms/step - loss: 0.0314 - accuracy: 0.9713 - val_loss: 0.7473 - val_accuracy: 0.7279\n",
      "Epoch 41/50\n",
      "57/57 [==============================] - 4s 65ms/step - loss: 0.0307 - accuracy: 0.9722 - val_loss: 0.7478 - val_accuracy: 0.7202\n",
      "Epoch 42/50\n",
      "57/57 [==============================] - 4s 64ms/step - loss: 0.0307 - accuracy: 0.9719 - val_loss: 0.7429 - val_accuracy: 0.7196\n",
      "Epoch 43/50\n",
      "57/57 [==============================] - 4s 65ms/step - loss: 0.0301 - accuracy: 0.9727 - val_loss: 0.7519 - val_accuracy: 0.7209\n",
      "Epoch 44/50\n",
      "57/57 [==============================] - 4s 64ms/step - loss: 0.0295 - accuracy: 0.9729 - val_loss: 0.7510 - val_accuracy: 0.7264\n",
      "Epoch 45/50\n",
      "57/57 [==============================] - 4s 64ms/step - loss: 0.0290 - accuracy: 0.9732 - val_loss: 0.7655 - val_accuracy: 0.7189\n",
      "Epoch 46/50\n",
      "57/57 [==============================] - 4s 65ms/step - loss: 0.0297 - accuracy: 0.9730 - val_loss: 0.7597 - val_accuracy: 0.7152\n",
      "Epoch 47/50\n",
      "57/57 [==============================] - 4s 65ms/step - loss: 0.0296 - accuracy: 0.9727 - val_loss: 0.7768 - val_accuracy: 0.7235\n",
      "Epoch 48/50\n",
      "57/57 [==============================] - 4s 66ms/step - loss: 0.0295 - accuracy: 0.9726 - val_loss: 0.7663 - val_accuracy: 0.7215\n",
      "Epoch 49/50\n",
      "57/57 [==============================] - 4s 67ms/step - loss: 0.0286 - accuracy: 0.9735 - val_loss: 0.7678 - val_accuracy: 0.7204\n",
      "Epoch 50/50\n",
      "57/57 [==============================] - 4s 66ms/step - loss: 0.0285 - accuracy: 0.9735 - val_loss: 0.7734 - val_accuracy: 0.7295\n"
     ]
    }
   ],
   "source": [
    "history = model.fit(X_train, y_train, batch_size=128, epochs=50, validation_split=0.15)"
   ]
  },
  {
   "cell_type": "code",
   "execution_count": 43,
   "metadata": {
    "id": "5qE4zaXuWI_M"
   },
   "outputs": [],
   "source": [
    "model.save('bilstm.h5')"
   ]
  },
  {
   "cell_type": "code",
   "execution_count": 44,
   "metadata": {
    "colab": {
     "base_uri": "https://localhost:8080/"
    },
    "id": "lEyHvNZ4WXE9",
    "outputId": "24a9c94c-ac86-4247-ea9c-0f198e5d14d1"
   },
   "outputs": [
    {
     "name": "stdout",
     "output_type": "stream",
     "text": [
      "1/1 [==============================] - 2s 2s/step\n",
      "word           |actual value|predicted value\n",
      "-----------------------------------\n",
      "24v              : Other   Other\n",
      "motor            : Other   Other\n",
      "oprtr            : Other   Other\n"
     ]
    }
   ],
   "source": [
    "i = 13 # The index of the test sample you want to check.\n",
    "y_predicted = model.predict(np.array([X_test[i]]))[0] # Returns prediction y for the input test sample\n",
    "y_predicted = np.argmax(y_predicted, axis=-1) # Change the probability vector to integer encoding.\n",
    "true = np.argmax(y_test[i], -1) # Changed one-hot encoding back to integer encoding.\n",
    "\n",
    "print(\"{:15}|{:5}|{}\".format(\"word\", \"actual value\", \"predicted value\"))\n",
    "print(35 * \"-\")\n",
    "\n",
    "for word, tag, pred in zip(X_test[i], true, y_predicted):\n",
    "    if word != 0: # PAD value is excluded.\n",
    "        print(\"{:17}: {:7} {}\".format(index_to_word[word], index_to_ner[tag], index_to_ner[pred]))"
   ]
  },
  {
   "cell_type": "code",
   "execution_count": 45,
   "metadata": {
    "colab": {
     "base_uri": "https://localhost:8080/",
     "height": 295
    },
    "id": "ubLZsdeAWcM5",
    "outputId": "9c6ce50f-1461-453c-9864-89359ec62e85"
   },
   "outputs": [
    {
     "data": {
      "image/png": "[encoded data removed]",
      "text/plain": [
       "<Figure size 432x288 with 1 Axes>"
      ]
     },
     "metadata": {
      "needs_background": "light"
     },
     "output_type": "display_data"
    }
   ],
   "source": [
    "epochs = range(1, len(history.history['val_loss']) + 1)\n",
    "plt.plot(epochs, history.history['loss'])\n",
    "plt.plot(epochs, history.history['val_loss'])\n",
    "plt.title('model loss')\n",
    "plt.ylabel('loss')\n",
    "plt.xlabel('epoch')\n",
    "plt.legend(['train', 'val'], loc='upper left')\n",
    "plt.show()"
   ]
  },
  {
   "cell_type": "code",
   "execution_count": 46,
   "metadata": {
    "id": "sTq2LfgZ9RAt"
   },
   "outputs": [],
   "source": [
    "from seqeval.metrics import f1_score, classification_report"
   ]
  },
  {
   "cell_type": "code",
   "execution_count": 47,
   "metadata": {
    "id": "4cpU0SDGWerH"
   },
   "outputs": [],
   "source": [
    "def sequences_to_tag(sequences): # predicted value index_to_ner Function to change to tagging information using.\n",
    "    result = []\n",
    "    for sequence in sequences: # Retrieves a sequence one by one from the entire sequence.\n",
    "        temp = []\n",
    "        for pred in sequence: # Extract predictions from the sequence one by one..\n",
    "            pred_index = np.argmax(pred) # for example [0, 0, 1, 0 ,0] If so, returns 2, the index of 1..\n",
    "            temp.append(index_to_ner[pred_index].replace(\"PAD\", \"O\")) # 'PAD'change to 'O'\n",
    "        result.append(temp)\n",
    "    return result"
   ]
  },
  {
   "cell_type": "code",
   "execution_count": 48,
   "metadata": {
    "id": "JHhSt-loWhc-"
   },
   "outputs": [
    {
     "name": "stdout",
     "output_type": "stream",
     "text": [
      "47/47 [==============================] - 2s 9ms/step\n"
     ]
    }
   ],
   "source": [
    "y_predicted = model.predict([X_test])\n",
    "pred_tags = sequences_to_tag(y_predicted)\n",
    "test_tags = sequences_to_tag(y_test)"
   ]
  },
  {
   "cell_type": "code",
   "execution_count": 49,
   "metadata": {
    "colab": {
     "base_uri": "https://localhost:8080/"
    },
    "id": "1djczWAQWlSH",
    "outputId": "876fc212-d8ef-433e-c3b8-83309995a3eb"
   },
   "outputs": [],
   "source": [
    "from sklearn.metrics import classification_report, confusion_matrix\n",
    "from sklearn.preprocessing import LabelBinarizer\n",
    "from itertools import chain\n",
    "def tags_classification_report(y_true, y_pred):\n",
    "    \n",
    "    lb = LabelBinarizer()\n",
    "    y_true_combined = lb.fit_transform(list(chain.from_iterable(y_true)))\n",
    "    y_pred_combined = lb.transform(list(chain.from_iterable(y_pred)))\n",
    "        \n",
    "    tagset = set(lb.classes_) - {'O', 'PAD'}\n",
    "    tagset = sorted(tagset, key=lambda tag: tag.split('-', 1)[::-1])\n",
    "    class_indices = {cls: idx for idx, cls in enumerate(lb.classes_)}\n",
    "    \n",
    "    return classification_report(\n",
    "        y_true_combined,\n",
    "        y_pred_combined,\n",
    "        labels = [class_indices[cls] for cls in tagset],\n",
    "        target_names = tagset,\n",
    "    )\n",
    "    lb = LabelBinarizer()\n",
    "    y_true_combined = lb.fit_transform(list(chain.from_iterable(y_true)))\n",
    "    y_pred_combined = lb.transform(list(chain.from_iterable(y_pred)))\n",
    "        \n",
    "    tagset = set(lb.classes_) - {'O'}\n",
    "    tagset = sorted(tagset, key=lambda tag: tag.split('-', 1)[::-1])\n",
    "    class_indices = {cls: idx for idx, cls in enumerate(lb.classes_)}\n",
    "    \n",
    "    return classification_report(\n",
    "        y_true_combined,\n",
    "        y_pred_combined,\n",
    "        labels = [class_indices[cls] for cls in tagset],\n",
    "        target_names = tagset,\n",
    "    )"
   ]
  },
  {
   "cell_type": "code",
   "execution_count": 50,
   "metadata": {},
   "outputs": [
    {
     "name": "stdout",
     "output_type": "stream",
     "text": [
      "                                 precision    recall  f1-score   support\n",
      "\n",
      "3 Phase Drive Horsepower Rating       0.96      0.96      0.96        48\n",
      "                           Amps       0.76      0.77      0.76       108\n",
      "                    Application       0.57      0.41      0.48        39\n",
      "                  Assembly Type       0.55      0.79      0.65        14\n",
      "                     Cable Type       0.86      0.76      0.81        33\n",
      "                       Capacity       1.00      0.33      0.50         3\n",
      "                       Category       1.00      0.60      0.75         5\n",
      "                   Coil Voltage       0.86      0.97      0.91        59\n",
      "                          Color       0.73      0.32      0.45        59\n",
      "                Conductor Count       0.00      0.00      0.00         4\n",
      "                 Conductor Type       0.67      0.67      0.67         9\n",
      "                 Connector Type       0.30      0.25      0.27        24\n",
      "                          Depth       0.38      0.50      0.43        22\n",
      "                       Diameter       0.60      0.60      0.60        10\n",
      "                          Drive       0.74      0.85      0.79        27\n",
      "                     Drive Size       0.65      0.60      0.63        25\n",
      "                 Edge Thickness       1.00      1.00      1.00         1\n",
      "                   Fixture Type       0.29      0.29      0.29         7\n",
      "                   For Use With       0.00      0.00      0.00         1\n",
      "                          Grade       0.33      0.50      0.40         2\n",
      "                         Height       0.54      0.65      0.59        20\n",
      "                   Installation       0.38      0.44      0.41        18\n",
      "                    Label Width       0.29      0.50      0.36         4\n",
      "                      Lamp Type       0.50      0.22      0.31         9\n",
      "                         Length       0.53      0.49      0.51        51\n",
      "                       Material       0.51      0.41      0.45        93\n",
      "                  Mounting Size       1.00      1.00      1.00         1\n",
      "                           NEMA       0.50      0.34      0.41        32\n",
      "                Number of Poles       0.75      0.93      0.83        83\n",
      "                          Other       0.21      0.80      0.33      2131\n",
      "                 Overload Relay       0.50      0.78      0.61         9\n",
      "                          Phase       0.96      0.84      0.90        62\n",
      "                          Point       0.95      0.90      0.92        20\n",
      "                           Size       0.66      0.55      0.60        56\n",
      "                   Socket Depth       0.53      0.57      0.55        14\n",
      "                   Speed Rating       0.94      0.89      0.91        36\n",
      "                     Stud Holes       0.88      0.78      0.82         9\n",
      "                     Trade Size       0.73      0.82      0.77        44\n",
      "                           Type       0.76      0.69      0.72      1154\n",
      "                       Use With       0.00      0.00      0.00         1\n",
      "                        Voltage       0.65      0.61      0.63        84\n",
      "                Voltage Maximum       0.80      0.74      0.77        76\n",
      "                          Watts       0.20      0.14      0.17         7\n",
      "                          Width       0.38      0.28      0.32        18\n",
      "\n",
      "                      micro avg       0.32      0.73      0.44      4532\n",
      "                      macro avg       0.60      0.58      0.57      4532\n",
      "                   weighted avg       0.48      0.73      0.52      4532\n",
      "                    samples avg       0.32      0.32      0.32      4532\n",
      "\n"
     ]
    },
    {
     "name": "stderr",
     "output_type": "stream",
     "text": [
      "C:\\Users\\xx07230\\Anaconda3\\envs\\smart_warehouse\\lib\\site-packages\\sklearn\\metrics\\_classification.py:1334: UndefinedMetricWarning: Precision and F-score are ill-defined and being set to 0.0 in labels with no predicted samples. Use `zero_division` parameter to control this behavior.\n",
      "  _warn_prf(average, modifier, msg_start, len(result))\n",
      "C:\\Users\\xx07230\\Anaconda3\\envs\\smart_warehouse\\lib\\site-packages\\sklearn\\metrics\\_classification.py:1334: UndefinedMetricWarning: Precision and F-score are ill-defined and being set to 0.0 in samples with no predicted labels. Use `zero_division` parameter to control this behavior.\n",
      "  _warn_prf(average, modifier, msg_start, len(result))\n",
      "C:\\Users\\xx07230\\Anaconda3\\envs\\smart_warehouse\\lib\\site-packages\\sklearn\\metrics\\_classification.py:1334: UndefinedMetricWarning: Recall and F-score are ill-defined and being set to 0.0 in samples with no true labels. Use `zero_division` parameter to control this behavior.\n",
      "  _warn_prf(average, modifier, msg_start, len(result))\n"
     ]
    }
   ],
   "source": [
    "print(tags_classification_report(test_tags, pred_tags))"
   ]
  },
  {
   "cell_type": "markdown",
   "metadata": {
    "id": "FbQE34bSOdhP"
   },
   "source": [
    "## Performance"
   ]
  },
  {
   "cell_type": "code",
   "execution_count": 51,
   "metadata": {
    "colab": {
     "base_uri": "https://localhost:8080/"
    },
    "id": "M00m3njrWoNd",
    "outputId": "96a098f5-9e3e-44ec-dc91-414cec2ea45c"
   },
   "outputs": [
    {
     "name": "stdout",
     "output_type": "stream",
     "text": [
      "F1-score: 64.2%\n"
     ]
    },
    {
     "name": "stderr",
     "output_type": "stream",
     "text": [
      "C:\\Users\\xx07230\\Anaconda3\\envs\\smart_warehouse\\lib\\site-packages\\seqeval\\metrics\\sequence_labeling.py:171: UserWarning: Other seems not to be NE tag.\n",
      "  warnings.warn('{} seems not to be NE tag.'.format(chunk))\n",
      "C:\\Users\\xx07230\\Anaconda3\\envs\\smart_warehouse\\lib\\site-packages\\seqeval\\metrics\\sequence_labeling.py:171: UserWarning: Material seems not to be NE tag.\n",
      "  warnings.warn('{} seems not to be NE tag.'.format(chunk))\n",
      "C:\\Users\\xx07230\\Anaconda3\\envs\\smart_warehouse\\lib\\site-packages\\seqeval\\metrics\\sequence_labeling.py:171: UserWarning: Type seems not to be NE tag.\n",
      "  warnings.warn('{} seems not to be NE tag.'.format(chunk))\n",
      "C:\\Users\\xx07230\\Anaconda3\\envs\\smart_warehouse\\lib\\site-packages\\seqeval\\metrics\\sequence_labeling.py:171: UserWarning: Voltage seems not to be NE tag.\n",
      "  warnings.warn('{} seems not to be NE tag.'.format(chunk))\n",
      "C:\\Users\\xx07230\\Anaconda3\\envs\\smart_warehouse\\lib\\site-packages\\seqeval\\metrics\\sequence_labeling.py:171: UserWarning: Color seems not to be NE tag.\n",
      "  warnings.warn('{} seems not to be NE tag.'.format(chunk))\n",
      "C:\\Users\\xx07230\\Anaconda3\\envs\\smart_warehouse\\lib\\site-packages\\seqeval\\metrics\\sequence_labeling.py:171: UserWarning: Trade Size seems not to be NE tag.\n",
      "  warnings.warn('{} seems not to be NE tag.'.format(chunk))\n",
      "C:\\Users\\xx07230\\Anaconda3\\envs\\smart_warehouse\\lib\\site-packages\\seqeval\\metrics\\sequence_labeling.py:171: UserWarning: Size seems not to be NE tag.\n",
      "  warnings.warn('{} seems not to be NE tag.'.format(chunk))\n",
      "C:\\Users\\xx07230\\Anaconda3\\envs\\smart_warehouse\\lib\\site-packages\\seqeval\\metrics\\sequence_labeling.py:171: UserWarning: Length seems not to be NE tag.\n",
      "  warnings.warn('{} seems not to be NE tag.'.format(chunk))\n",
      "C:\\Users\\xx07230\\Anaconda3\\envs\\smart_warehouse\\lib\\site-packages\\seqeval\\metrics\\sequence_labeling.py:171: UserWarning: Application seems not to be NE tag.\n",
      "  warnings.warn('{} seems not to be NE tag.'.format(chunk))\n",
      "C:\\Users\\xx07230\\Anaconda3\\envs\\smart_warehouse\\lib\\site-packages\\seqeval\\metrics\\sequence_labeling.py:171: UserWarning: Phase seems not to be NE tag.\n",
      "  warnings.warn('{} seems not to be NE tag.'.format(chunk))\n",
      "C:\\Users\\xx07230\\Anaconda3\\envs\\smart_warehouse\\lib\\site-packages\\seqeval\\metrics\\sequence_labeling.py:171: UserWarning: 3 Phase Drive Horsepower Rating seems not to be NE tag.\n",
      "  warnings.warn('{} seems not to be NE tag.'.format(chunk))\n",
      "C:\\Users\\xx07230\\Anaconda3\\envs\\smart_warehouse\\lib\\site-packages\\seqeval\\metrics\\sequence_labeling.py:171: UserWarning: Amps seems not to be NE tag.\n",
      "  warnings.warn('{} seems not to be NE tag.'.format(chunk))\n",
      "C:\\Users\\xx07230\\Anaconda3\\envs\\smart_warehouse\\lib\\site-packages\\seqeval\\metrics\\sequence_labeling.py:171: UserWarning: Drive seems not to be NE tag.\n",
      "  warnings.warn('{} seems not to be NE tag.'.format(chunk))\n",
      "C:\\Users\\xx07230\\Anaconda3\\envs\\smart_warehouse\\lib\\site-packages\\seqeval\\metrics\\sequence_labeling.py:171: UserWarning: Point seems not to be NE tag.\n",
      "  warnings.warn('{} seems not to be NE tag.'.format(chunk))\n",
      "C:\\Users\\xx07230\\Anaconda3\\envs\\smart_warehouse\\lib\\site-packages\\seqeval\\metrics\\sequence_labeling.py:171: UserWarning: Height seems not to be NE tag.\n",
      "  warnings.warn('{} seems not to be NE tag.'.format(chunk))\n",
      "C:\\Users\\xx07230\\Anaconda3\\envs\\smart_warehouse\\lib\\site-packages\\seqeval\\metrics\\sequence_labeling.py:171: UserWarning: Depth seems not to be NE tag.\n",
      "  warnings.warn('{} seems not to be NE tag.'.format(chunk))\n",
      "C:\\Users\\xx07230\\Anaconda3\\envs\\smart_warehouse\\lib\\site-packages\\seqeval\\metrics\\sequence_labeling.py:171: UserWarning: NEMA seems not to be NE tag.\n",
      "  warnings.warn('{} seems not to be NE tag.'.format(chunk))\n",
      "C:\\Users\\xx07230\\Anaconda3\\envs\\smart_warehouse\\lib\\site-packages\\seqeval\\metrics\\sequence_labeling.py:171: UserWarning: Coil Voltage seems not to be NE tag.\n",
      "  warnings.warn('{} seems not to be NE tag.'.format(chunk))\n",
      "C:\\Users\\xx07230\\Anaconda3\\envs\\smart_warehouse\\lib\\site-packages\\seqeval\\metrics\\sequence_labeling.py:171: UserWarning: Number of Poles seems not to be NE tag.\n",
      "  warnings.warn('{} seems not to be NE tag.'.format(chunk))\n",
      "C:\\Users\\xx07230\\Anaconda3\\envs\\smart_warehouse\\lib\\site-packages\\seqeval\\metrics\\sequence_labeling.py:171: UserWarning: Stud Holes seems not to be NE tag.\n",
      "  warnings.warn('{} seems not to be NE tag.'.format(chunk))\n",
      "C:\\Users\\xx07230\\Anaconda3\\envs\\smart_warehouse\\lib\\site-packages\\seqeval\\metrics\\sequence_labeling.py:171: UserWarning: Installation seems not to be NE tag.\n",
      "  warnings.warn('{} seems not to be NE tag.'.format(chunk))\n",
      "C:\\Users\\xx07230\\Anaconda3\\envs\\smart_warehouse\\lib\\site-packages\\seqeval\\metrics\\sequence_labeling.py:171: UserWarning: Width seems not to be NE tag.\n",
      "  warnings.warn('{} seems not to be NE tag.'.format(chunk))\n",
      "C:\\Users\\xx07230\\Anaconda3\\envs\\smart_warehouse\\lib\\site-packages\\seqeval\\metrics\\sequence_labeling.py:171: UserWarning: Diameter seems not to be NE tag.\n",
      "  warnings.warn('{} seems not to be NE tag.'.format(chunk))\n",
      "C:\\Users\\xx07230\\Anaconda3\\envs\\smart_warehouse\\lib\\site-packages\\seqeval\\metrics\\sequence_labeling.py:171: UserWarning: Speed Rating seems not to be NE tag.\n",
      "  warnings.warn('{} seems not to be NE tag.'.format(chunk))\n",
      "C:\\Users\\xx07230\\Anaconda3\\envs\\smart_warehouse\\lib\\site-packages\\seqeval\\metrics\\sequence_labeling.py:171: UserWarning: Voltage Maximum seems not to be NE tag.\n",
      "  warnings.warn('{} seems not to be NE tag.'.format(chunk))\n",
      "C:\\Users\\xx07230\\Anaconda3\\envs\\smart_warehouse\\lib\\site-packages\\seqeval\\metrics\\sequence_labeling.py:171: UserWarning: Assembly Type seems not to be NE tag.\n",
      "  warnings.warn('{} seems not to be NE tag.'.format(chunk))\n",
      "C:\\Users\\xx07230\\Anaconda3\\envs\\smart_warehouse\\lib\\site-packages\\seqeval\\metrics\\sequence_labeling.py:171: UserWarning: Cable Type seems not to be NE tag.\n",
      "  warnings.warn('{} seems not to be NE tag.'.format(chunk))\n",
      "C:\\Users\\xx07230\\Anaconda3\\envs\\smart_warehouse\\lib\\site-packages\\seqeval\\metrics\\sequence_labeling.py:171: UserWarning: Conductor Count seems not to be NE tag.\n",
      "  warnings.warn('{} seems not to be NE tag.'.format(chunk))\n",
      "C:\\Users\\xx07230\\Anaconda3\\envs\\smart_warehouse\\lib\\site-packages\\seqeval\\metrics\\sequence_labeling.py:171: UserWarning: Socket Depth seems not to be NE tag.\n",
      "  warnings.warn('{} seems not to be NE tag.'.format(chunk))\n",
      "C:\\Users\\xx07230\\Anaconda3\\envs\\smart_warehouse\\lib\\site-packages\\seqeval\\metrics\\sequence_labeling.py:171: UserWarning: Connector Type seems not to be NE tag.\n",
      "  warnings.warn('{} seems not to be NE tag.'.format(chunk))\n",
      "C:\\Users\\xx07230\\Anaconda3\\envs\\smart_warehouse\\lib\\site-packages\\seqeval\\metrics\\sequence_labeling.py:171: UserWarning: Use With seems not to be NE tag.\n",
      "  warnings.warn('{} seems not to be NE tag.'.format(chunk))\n",
      "C:\\Users\\xx07230\\Anaconda3\\envs\\smart_warehouse\\lib\\site-packages\\seqeval\\metrics\\sequence_labeling.py:171: UserWarning: Label Width seems not to be NE tag.\n",
      "  warnings.warn('{} seems not to be NE tag.'.format(chunk))\n",
      "C:\\Users\\xx07230\\Anaconda3\\envs\\smart_warehouse\\lib\\site-packages\\seqeval\\metrics\\sequence_labeling.py:171: UserWarning: Edge Thickness seems not to be NE tag.\n",
      "  warnings.warn('{} seems not to be NE tag.'.format(chunk))\n",
      "C:\\Users\\xx07230\\Anaconda3\\envs\\smart_warehouse\\lib\\site-packages\\seqeval\\metrics\\sequence_labeling.py:171: UserWarning: Mounting Size seems not to be NE tag.\n",
      "  warnings.warn('{} seems not to be NE tag.'.format(chunk))\n",
      "C:\\Users\\xx07230\\Anaconda3\\envs\\smart_warehouse\\lib\\site-packages\\seqeval\\metrics\\sequence_labeling.py:171: UserWarning: Overload Relay seems not to be NE tag.\n",
      "  warnings.warn('{} seems not to be NE tag.'.format(chunk))\n",
      "C:\\Users\\xx07230\\Anaconda3\\envs\\smart_warehouse\\lib\\site-packages\\seqeval\\metrics\\sequence_labeling.py:171: UserWarning: Conductor Type seems not to be NE tag.\n",
      "  warnings.warn('{} seems not to be NE tag.'.format(chunk))\n",
      "C:\\Users\\xx07230\\Anaconda3\\envs\\smart_warehouse\\lib\\site-packages\\seqeval\\metrics\\sequence_labeling.py:171: UserWarning: Drive Size seems not to be NE tag.\n",
      "  warnings.warn('{} seems not to be NE tag.'.format(chunk))\n",
      "C:\\Users\\xx07230\\Anaconda3\\envs\\smart_warehouse\\lib\\site-packages\\seqeval\\metrics\\sequence_labeling.py:171: UserWarning: Lamp Type seems not to be NE tag.\n",
      "  warnings.warn('{} seems not to be NE tag.'.format(chunk))\n",
      "C:\\Users\\xx07230\\Anaconda3\\envs\\smart_warehouse\\lib\\site-packages\\seqeval\\metrics\\sequence_labeling.py:171: UserWarning: Capacity seems not to be NE tag.\n",
      "  warnings.warn('{} seems not to be NE tag.'.format(chunk))\n",
      "C:\\Users\\xx07230\\Anaconda3\\envs\\smart_warehouse\\lib\\site-packages\\seqeval\\metrics\\sequence_labeling.py:171: UserWarning: Watts seems not to be NE tag.\n",
      "  warnings.warn('{} seems not to be NE tag.'.format(chunk))\n",
      "C:\\Users\\xx07230\\Anaconda3\\envs\\smart_warehouse\\lib\\site-packages\\seqeval\\metrics\\sequence_labeling.py:171: UserWarning: Fixture Type seems not to be NE tag.\n",
      "  warnings.warn('{} seems not to be NE tag.'.format(chunk))\n",
      "C:\\Users\\xx07230\\Anaconda3\\envs\\smart_warehouse\\lib\\site-packages\\seqeval\\metrics\\sequence_labeling.py:171: UserWarning: Category seems not to be NE tag.\n",
      "  warnings.warn('{} seems not to be NE tag.'.format(chunk))\n",
      "C:\\Users\\xx07230\\Anaconda3\\envs\\smart_warehouse\\lib\\site-packages\\seqeval\\metrics\\sequence_labeling.py:171: UserWarning: Grade seems not to be NE tag.\n",
      "  warnings.warn('{} seems not to be NE tag.'.format(chunk))\n",
      "C:\\Users\\xx07230\\Anaconda3\\envs\\smart_warehouse\\lib\\site-packages\\seqeval\\metrics\\sequence_labeling.py:171: UserWarning: For Use With seems not to be NE tag.\n",
      "  warnings.warn('{} seems not to be NE tag.'.format(chunk))\n",
      "C:\\Users\\xx07230\\Anaconda3\\envs\\smart_warehouse\\lib\\site-packages\\seqeval\\metrics\\sequence_labeling.py:171: UserWarning: Tester Type seems not to be NE tag.\n",
      "  warnings.warn('{} seems not to be NE tag.'.format(chunk))\n",
      "C:\\Users\\xx07230\\Anaconda3\\envs\\smart_warehouse\\lib\\site-packages\\seqeval\\metrics\\sequence_labeling.py:171: UserWarning: Product Type seems not to be NE tag.\n",
      "  warnings.warn('{} seems not to be NE tag.'.format(chunk))\n",
      "C:\\Users\\xx07230\\Anaconda3\\envs\\smart_warehouse\\lib\\site-packages\\seqeval\\metrics\\sequence_labeling.py:171: UserWarning: Additional Detail seems not to be NE tag.\n",
      "  warnings.warn('{} seems not to be NE tag.'.format(chunk))\n"
     ]
    }
   ],
   "source": [
    "print(\"F1-score: {:.1%}\".format(f1_score(test_tags, pred_tags)))"
   ]
  },
  {
   "cell_type": "markdown",
   "metadata": {
    "id": "MJIMCtl9Acxp"
   },
   "source": [
    "# BiLSTM-CRF"
   ]
  },
  {
   "cell_type": "markdown",
   "metadata": {
    "id": "o9Xi26XHOhbv"
   },
   "source": [
    "## modelling"
   ]
  },
  {
   "cell_type": "code",
   "execution_count": 52,
   "metadata": {
    "id": "ccSUZlLYGga1"
   },
   "outputs": [],
   "source": [
    "import tensorflow as tf\n",
    "from tensorflow.keras import Model\n",
    "from tensorflow.keras.layers import Attention, Dense, LSTM, Input, Bidirectional, TimeDistributed, Embedding, Dropout\n",
    "from tensorflow.keras.callbacks import EarlyStopping, ModelCheckpoint\n",
    "from keras_crf import CRFModel\n",
    "from seqeval.metrics import f1_score, classification_report"
   ]
  },
  {
   "cell_type": "code",
   "execution_count": 53,
   "metadata": {
    "colab": {
     "base_uri": "https://localhost:8080/"
    },
    "id": "CVvgFVt3llwU",
    "outputId": "97fb67ef-d6fa-4787-cc10-5d171a4f8ab2"
   },
   "outputs": [
    {
     "name": "stdout",
     "output_type": "stream",
     "text": [
      "Model: \"crf_model\"\n",
      "__________________________________________________________________________________________________\n",
      " Layer (type)                   Output Shape         Param #     Connected to                     \n",
      "==================================================================================================\n",
      " sequence_input (InputLayer)    [(None, 7)]          0           []                               \n",
      "                                                                                                  \n",
      " embedding_1 (Embedding)        (None, 7, 128)       638336      ['sequence_input[0][0]']         \n",
      "                                                                                                  \n",
      " bidirectional_1 (Bidirectional  (None, 7, 128)      98816       ['embedding_1[0][0]']            \n",
      " )                                                                                                \n",
      "                                                                                                  \n",
      " time_distributed_1 (TimeDistri  (None, 7, 128)      0           ['bidirectional_1[0][0]']        \n",
      " buted)                                                                                           \n",
      "                                                                                                  \n",
      " time_distributed_2 (TimeDistri  (None, 7, 51)       6579        ['time_distributed_1[0][0]']     \n",
      " buted)                                                                                           \n",
      "                                                                                                  \n",
      " crf (CRF)                      [(None, 7),          5355        ['time_distributed_2[0][0]']     \n",
      "                                 (None, 7, 51),                                                   \n",
      "                                 (None,),                                                         \n",
      "                                 (51, 51)]                                                        \n",
      "                                                                                                  \n",
      " decode_sequence (Lambda)       (None, 7)            0           ['crf[0][0]']                    \n",
      "                                                                                                  \n",
      " potentials (Lambda)            (None, 7, 51)        0           ['crf[0][1]']                    \n",
      "                                                                                                  \n",
      " sequence_length (Lambda)       (None,)              0           ['crf[0][2]']                    \n",
      "                                                                                                  \n",
      " kernel (Lambda)                (51, 51)             0           ['crf[0][3]']                    \n",
      "                                                                                                  \n",
      "==================================================================================================\n",
      "Total params: 749,086\n",
      "Trainable params: 749,086\n",
      "Non-trainable params: 0\n",
      "__________________________________________________________________________________________________\n"
     ]
    }
   ],
   "source": [
    "embedding_dim = 128\n",
    "hidden_units = 64\n",
    "dropout_ratio = 0.3\n",
    "\n",
    "sequence_input = Input(shape=(max_len,),dtype=tf.int32, name='sequence_input')\n",
    "\n",
    "model_embedding = Embedding(input_dim=vocab_size,\n",
    "                            output_dim=embedding_dim,\n",
    "                            input_length=max_len)(sequence_input)\n",
    "\n",
    "model_bilstm = Bidirectional(LSTM(units=hidden_units, return_sequences=True))(model_embedding)\n",
    "\n",
    "model_dropout = TimeDistributed(Dropout(dropout_ratio))(model_bilstm)\n",
    "\n",
    "model_dense = TimeDistributed(Dense(tag_size, activation='relu'))(model_dropout)\n",
    "\n",
    "base = Model(inputs=sequence_input, outputs=model_dense)\n",
    "model = CRFModel(base, tag_size)\n",
    "model.compile(optimizer=tf.keras.optimizers.Adam(0.001), metrics='accuracy')\n",
    "model.summary()"
   ]
  },
  {
   "cell_type": "code",
   "execution_count": 54,
   "metadata": {
    "id": "jv3m451klwxt"
   },
   "outputs": [],
   "source": [
    "es = EarlyStopping(monitor='val_loss', mode='min', verbose=1, patience=4)\n",
    "mc = ModelCheckpoint('bilstm_crf/cp.ckpt', monitor='val_decode_sequence_accuracy', mode='max', verbose=1, save_best_only=True, save_weights_only=True)"
   ]
  },
  {
   "cell_type": "code",
   "execution_count": 55,
   "metadata": {
    "colab": {
     "base_uri": "https://localhost:8080/"
    },
    "id": "NYUs5NYDl4_x",
    "outputId": "427eb8e8-f721-4c14-a79c-1d9312b08496"
   },
   "outputs": [
    {
     "name": "stdout",
     "output_type": "stream",
     "text": [
      "Epoch 1/50\n",
      "55/57 [===========================>..] - ETA: 0s - decode_sequence_accuracy: 0.6295 - loss: 14.6423\n",
      "Epoch 1: val_decode_sequence_accuracy improved from -inf to 0.75798, saving model to bilstm_crf\\cp.ckpt\n",
      "57/57 [==============================] - 6s 50ms/step - decode_sequence_accuracy: 0.6324 - loss: 14.2278 - val_decode_sequence_accuracy: 0.7580 - val_loss: 7.1397\n",
      "Epoch 2/50\n",
      "55/57 [===========================>..] - ETA: 0s - decode_sequence_accuracy: 0.7669 - loss: 6.1622\n",
      "Epoch 2: val_decode_sequence_accuracy improved from 0.75798 to 0.79272, saving model to bilstm_crf\\cp.ckpt\n",
      "57/57 [==============================] - 2s 32ms/step - decode_sequence_accuracy: 0.7671 - loss: 6.1619 - val_decode_sequence_accuracy: 0.7927 - val_loss: 6.0233\n",
      "Epoch 3/50\n",
      "55/57 [===========================>..] - ETA: 0s - decode_sequence_accuracy: 0.7991 - loss: 5.4664\n",
      "Epoch 3: val_decode_sequence_accuracy improved from 0.79272 to 0.80639, saving model to bilstm_crf\\cp.ckpt\n",
      "57/57 [==============================] - 2s 33ms/step - decode_sequence_accuracy: 0.7992 - loss: 5.4628 - val_decode_sequence_accuracy: 0.8064 - val_loss: 5.4857\n",
      "Epoch 4/50\n",
      "55/57 [===========================>..] - ETA: 0s - decode_sequence_accuracy: 0.8235 - loss: 4.8450\n",
      "Epoch 4: val_decode_sequence_accuracy improved from 0.80639 to 0.81501, saving model to bilstm_crf\\cp.ckpt\n",
      "57/57 [==============================] - 2s 33ms/step - decode_sequence_accuracy: 0.8235 - loss: 4.8241 - val_decode_sequence_accuracy: 0.8150 - val_loss: 4.9261\n",
      "Epoch 5/50\n",
      "55/57 [===========================>..] - ETA: 0s - decode_sequence_accuracy: 0.8400 - loss: 4.2453\n",
      "Epoch 5: val_decode_sequence_accuracy improved from 0.81501 to 0.82487, saving model to bilstm_crf\\cp.ckpt\n",
      "57/57 [==============================] - 2s 32ms/step - decode_sequence_accuracy: 0.8402 - loss: 4.2639 - val_decode_sequence_accuracy: 0.8249 - val_loss: 4.5693\n",
      "Epoch 6/50\n",
      "55/57 [===========================>..] - ETA: 0s - decode_sequence_accuracy: 0.8522 - loss: 3.7963\n",
      "Epoch 6: val_decode_sequence_accuracy improved from 0.82487 to 0.83697, saving model to bilstm_crf\\cp.ckpt\n",
      "57/57 [==============================] - 2s 33ms/step - decode_sequence_accuracy: 0.8523 - loss: 3.7848 - val_decode_sequence_accuracy: 0.8370 - val_loss: 4.2705\n",
      "Epoch 7/50\n",
      "55/57 [===========================>..] - ETA: 0s - decode_sequence_accuracy: 0.8675 - loss: 3.3773\n",
      "Epoch 7: val_decode_sequence_accuracy improved from 0.83697 to 0.83910, saving model to bilstm_crf\\cp.ckpt\n",
      "57/57 [==============================] - 2s 32ms/step - decode_sequence_accuracy: 0.8677 - loss: 3.3754 - val_decode_sequence_accuracy: 0.8391 - val_loss: 3.9625\n",
      "Epoch 8/50\n",
      "55/57 [===========================>..] - ETA: 0s - decode_sequence_accuracy: 0.8779 - loss: 3.0338\n",
      "Epoch 8: val_decode_sequence_accuracy improved from 0.83910 to 0.84975, saving model to bilstm_crf\\cp.ckpt\n",
      "57/57 [==============================] - 2s 32ms/step - decode_sequence_accuracy: 0.8779 - loss: 3.0388 - val_decode_sequence_accuracy: 0.8497 - val_loss: 3.6831\n",
      "Epoch 9/50\n",
      "55/57 [===========================>..] - ETA: 0s - decode_sequence_accuracy: 0.8885 - loss: 2.7135\n",
      "Epoch 9: val_decode_sequence_accuracy improved from 0.84975 to 0.85658, saving model to bilstm_crf\\cp.ckpt\n",
      "57/57 [==============================] - 2s 33ms/step - decode_sequence_accuracy: 0.8886 - loss: 2.7108 - val_decode_sequence_accuracy: 0.8566 - val_loss: 3.3517\n",
      "Epoch 10/50\n",
      "55/57 [===========================>..] - ETA: 0s - decode_sequence_accuracy: 0.8968 - loss: 2.4146\n",
      "Epoch 10: val_decode_sequence_accuracy improved from 0.85658 to 0.85961, saving model to bilstm_crf\\cp.ckpt\n",
      "57/57 [==============================] - 2s 32ms/step - decode_sequence_accuracy: 0.8968 - loss: 2.4110 - val_decode_sequence_accuracy: 0.8596 - val_loss: 3.1932\n",
      "Epoch 11/50\n",
      "55/57 [===========================>..] - ETA: 0s - decode_sequence_accuracy: 0.9063 - loss: 2.1349\n",
      "Epoch 11: val_decode_sequence_accuracy improved from 0.85961 to 0.86095, saving model to bilstm_crf\\cp.ckpt\n",
      "57/57 [==============================] - 2s 32ms/step - decode_sequence_accuracy: 0.9061 - loss: 2.1402 - val_decode_sequence_accuracy: 0.8610 - val_loss: 3.1107\n",
      "Epoch 12/50\n",
      "55/57 [===========================>..] - ETA: 0s - decode_sequence_accuracy: 0.9147 - loss: 1.9211\n",
      "Epoch 12: val_decode_sequence_accuracy improved from 0.86095 to 0.86543, saving model to bilstm_crf\\cp.ckpt\n",
      "57/57 [==============================] - 2s 32ms/step - decode_sequence_accuracy: 0.9144 - loss: 1.9324 - val_decode_sequence_accuracy: 0.8654 - val_loss: 3.0071\n",
      "Epoch 13/50\n",
      "55/57 [===========================>..] - ETA: 0s - decode_sequence_accuracy: 0.9204 - loss: 1.7622\n",
      "Epoch 13: val_decode_sequence_accuracy improved from 0.86543 to 0.87081, saving model to bilstm_crf\\cp.ckpt\n",
      "57/57 [==============================] - 2s 32ms/step - decode_sequence_accuracy: 0.9207 - loss: 1.7560 - val_decode_sequence_accuracy: 0.8708 - val_loss: 3.0356\n",
      "Epoch 14/50\n",
      "55/57 [===========================>..] - ETA: 0s - decode_sequence_accuracy: 0.9272 - loss: 1.5811\n",
      "Epoch 14: val_decode_sequence_accuracy improved from 0.87081 to 0.87529, saving model to bilstm_crf\\cp.ckpt\n",
      "57/57 [==============================] - 2s 32ms/step - decode_sequence_accuracy: 0.9273 - loss: 1.5787 - val_decode_sequence_accuracy: 0.8753 - val_loss: 2.9741\n",
      "Epoch 15/50\n",
      "57/57 [==============================] - ETA: 0s - decode_sequence_accuracy: 0.9326 - loss: 1.4673\n",
      "Epoch 15: val_decode_sequence_accuracy improved from 0.87529 to 0.87966, saving model to bilstm_crf\\cp.ckpt\n",
      "57/57 [==============================] - 2s 33ms/step - decode_sequence_accuracy: 0.9326 - loss: 1.4691 - val_decode_sequence_accuracy: 0.8797 - val_loss: 2.9764\n",
      "Epoch 16/50\n",
      "55/57 [===========================>..] - ETA: 0s - decode_sequence_accuracy: 0.9382 - loss: 1.3480\n",
      "Epoch 16: val_decode_sequence_accuracy did not improve from 0.87966\n",
      "57/57 [==============================] - 2s 31ms/step - decode_sequence_accuracy: 0.9383 - loss: 1.3453 - val_decode_sequence_accuracy: 0.8756 - val_loss: 3.2033\n",
      "Epoch 17/50\n",
      "57/57 [==============================] - ETA: 0s - decode_sequence_accuracy: 0.9400 - loss: 1.2677\n",
      "Epoch 17: val_decode_sequence_accuracy did not improve from 0.87966\n",
      "57/57 [==============================] - 2s 32ms/step - decode_sequence_accuracy: 0.9400 - loss: 1.2719 - val_decode_sequence_accuracy: 0.8785 - val_loss: 2.9944\n",
      "Epoch 18/50\n",
      "55/57 [===========================>..] - ETA: 0s - decode_sequence_accuracy: 0.9436 - loss: 1.1868\n",
      "Epoch 18: val_decode_sequence_accuracy did not improve from 0.87966\n",
      "57/57 [==============================] - 2s 31ms/step - decode_sequence_accuracy: 0.9438 - loss: 1.1871 - val_decode_sequence_accuracy: 0.8762 - val_loss: 3.0012\n",
      "Epoch 18: early stopping\n"
     ]
    }
   ],
   "source": [
    "history = model.fit(X_train, y_train_int, batch_size=128, epochs=50, validation_split=0.15, callbacks=[mc, es])"
   ]
  },
  {
   "cell_type": "code",
   "execution_count": 56,
   "metadata": {
    "colab": {
     "base_uri": "https://localhost:8080/"
    },
    "id": "p5UqeRqwre2t",
    "outputId": "c7d80748-85d5-437c-88cd-adb01a57f344"
   },
   "outputs": [
    {
     "data": {
      "text/plain": [
       "<tensorflow.python.checkpoint.checkpoint.CheckpointLoadStatus at 0x25200951a60>"
      ]
     },
     "execution_count": 56,
     "metadata": {},
     "output_type": "execute_result"
    }
   ],
   "source": [
    "model.load_weights('bilstm_crf/cp.ckpt')"
   ]
  },
  {
   "cell_type": "code",
   "execution_count": 57,
   "metadata": {
    "colab": {
     "base_uri": "https://localhost:8080/"
    },
    "id": "y2ojsYdHH4vA",
    "outputId": "852855be-e993-41a2-bb00-5778d7bebfa6"
   },
   "outputs": [
    {
     "name": "stdout",
     "output_type": "stream",
     "text": [
      "1/1 [==============================] - 1s 642ms/step\n",
      "word           |actual value|predicted value\n",
      "-----------------------------------\n",
      "24v              : Other   Other\n",
      "motor            : Other   Other\n",
      "oprtr            : Other   Other\n"
     ]
    }
   ],
   "source": [
    "i = 13 # The index of the test sample you want to check.\n",
    "y_predicted = model.predict(np.array([X_test[i]]))[0] # Returns prediction y for the input test sample\n",
    "true = np.argmax(y_test[i], -1) # Changed one-hot encoding back to integer encoding.\n",
    "\n",
    "print(\"{:15}|{:5}|{}\".format(\"word\", \"actual value\", \"predicted value\"))\n",
    "print(35 * \"-\")\n",
    "\n",
    "for word, tag, pred in zip(X_test[i], true, y_predicted[0]):\n",
    "    if word != 0: # Excluding PAD value.\n",
    "        print(\"{:17}: {:7} {}\".format(index_to_word[word], index_to_ner[tag], index_to_ner[pred]))"
   ]
  },
  {
   "cell_type": "code",
   "execution_count": 58,
   "metadata": {
    "id": "QyrXGm8sm9Xl"
   },
   "outputs": [
    {
     "name": "stdout",
     "output_type": "stream",
     "text": [
      "47/47 [==============================] - 0s 3ms/step\n"
     ]
    }
   ],
   "source": [
    "y_predicted = model.predict(X_test)[0]"
   ]
  },
  {
   "cell_type": "code",
   "execution_count": 59,
   "metadata": {
    "id": "fz3ataXrnFNj"
   },
   "outputs": [],
   "source": [
    "def sequences_to_tag(sequences): # predicted value index_to_ner Function to change to tagging information using.\n",
    "    result = []\n",
    "    for sequence in sequences: # Retrieves a sequence one by one from the entire sequence.\n",
    "        temp = []\n",
    "        for pred in sequence: # Extract predictions from the sequence one by one..\n",
    "            pred_index = np.argmax(pred) # for example [0, 0, 1, 0 ,0] If so, returns 2, the index of 1..\n",
    "            temp.append(index_to_ner[pred_index].replace(\"PAD\", \"O\")) # 'PAD'change to 'O'\n",
    "        result.append(temp)\n",
    "    return result"
   ]
  },
  {
   "cell_type": "code",
   "execution_count": 60,
   "metadata": {
    "id": "UHgc7HhZm-cs"
   },
   "outputs": [],
   "source": [
    "def sequences_to_tag_for_crf(sequences): # A function that changes predictions to tagging information using index_to_ner.\n",
    "    result = []\n",
    "    for sequence in sequences: # Retrieves a sequence one by one from the entire sequence.\n",
    "        temp = []\n",
    "        for pred in sequence: # Extract the predicted values from the sequence one by one.\n",
    "            # pred_index = np.argmax(pred) # For example, [0, 0, 1, 0, 0] returns 2, which is the index of 1..\n",
    "            pred_index = pred\n",
    "            temp.append(index_to_ner[pred_index].replace(\"PAD\", \"O\")) # 'PAD' changed to 'O'\n",
    "        result.append(temp)\n",
    "    return result"
   ]
  },
  {
   "cell_type": "code",
   "execution_count": 61,
   "metadata": {},
   "outputs": [],
   "source": [
    "pred_tags = sequences_to_tag_for_crf(y_predicted)\n",
    "test_tags = sequences_to_tag(y_test)"
   ]
  },
  {
   "cell_type": "code",
   "execution_count": 62,
   "metadata": {},
   "outputs": [],
   "source": [
    "from sklearn.metrics import classification_report, confusion_matrix\n",
    "from sklearn.preprocessing import LabelBinarizer\n",
    "from itertools import chain\n",
    "def tags_classification_report(y_true, y_pred):\n",
    "    \n",
    "    lb = LabelBinarizer()\n",
    "    y_true_combined = lb.fit_transform(list(chain.from_iterable(y_true)))\n",
    "    y_pred_combined = lb.transform(list(chain.from_iterable(y_pred)))\n",
    "        \n",
    "    tagset = set(lb.classes_) - {'O', 'PAD'}\n",
    "    tagset = sorted(tagset, key=lambda tag: tag.split('-', 1)[::-1])\n",
    "    class_indices = {cls: idx for idx, cls in enumerate(lb.classes_)}\n",
    "    \n",
    "    return classification_report(\n",
    "        y_true_combined,\n",
    "        y_pred_combined,\n",
    "        labels = [class_indices[cls] for cls in tagset],\n",
    "        target_names = tagset,\n",
    "    )\n",
    "    lb = LabelBinarizer()\n",
    "    y_true_combined = lb.fit_transform(list(chain.from_iterable(y_true)))\n",
    "    y_pred_combined = lb.transform(list(chain.from_iterable(y_pred)))\n",
    "        \n",
    "    tagset = set(lb.classes_) - {'O'}\n",
    "    tagset = sorted(tagset, key=lambda tag: tag.split('-', 1)[::-1])\n",
    "    class_indices = {cls: idx for idx, cls in enumerate(lb.classes_)}\n",
    "    \n",
    "    return classification_report(\n",
    "        y_true_combined,\n",
    "        y_pred_combined,\n",
    "        labels = [class_indices[cls] for cls in tagset],\n",
    "        target_names = tagset,\n",
    "    )"
   ]
  },
  {
   "cell_type": "code",
   "execution_count": 63,
   "metadata": {},
   "outputs": [
    {
     "name": "stdout",
     "output_type": "stream",
     "text": [
      "                                 precision    recall  f1-score   support\n",
      "\n",
      "3 Phase Drive Horsepower Rating       0.94      0.96      0.95        48\n",
      "                           Amps       0.77      0.78      0.77       108\n",
      "                    Application       0.58      0.28      0.38        39\n",
      "                  Assembly Type       0.83      0.71      0.77        14\n",
      "                     Cable Type       0.88      0.64      0.74        33\n",
      "                       Capacity       0.00      0.00      0.00         3\n",
      "                       Category       1.00      0.60      0.75         5\n",
      "                   Coil Voltage       0.87      0.88      0.87        59\n",
      "                          Color       0.50      0.29      0.37        59\n",
      "                Conductor Count       0.00      0.00      0.00         4\n",
      "                 Conductor Type       1.00      0.11      0.20         9\n",
      "                 Connector Type       0.27      0.17      0.21        24\n",
      "                          Depth       0.50      0.32      0.39        22\n",
      "                       Diameter       1.00      0.10      0.18        10\n",
      "                          Drive       0.77      0.74      0.75        27\n",
      "                     Drive Size       0.47      0.28      0.35        25\n",
      "                 Edge Thickness       0.00      0.00      0.00         1\n",
      "                   Fixture Type       0.00      0.00      0.00         7\n",
      "                   For Use With       0.00      0.00      0.00         1\n",
      "                          Grade       0.00      0.00      0.00         2\n",
      "                         Height       0.59      0.65      0.62        20\n",
      "                   Installation       0.50      0.28      0.36        18\n",
      "                    Label Width       0.00      0.00      0.00         4\n",
      "                      Lamp Type       0.50      0.44      0.47         9\n",
      "                         Length       0.43      0.31      0.36        51\n",
      "                       Material       0.55      0.43      0.48        93\n",
      "                  Mounting Size       0.00      0.00      0.00         1\n",
      "                           NEMA       0.38      0.28      0.32        32\n",
      "                Number of Poles       0.71      0.93      0.80        83\n",
      "                          Other       0.73      0.81      0.76      2131\n",
      "                 Overload Relay       0.50      0.44      0.47         9\n",
      "                          Phase       0.95      0.84      0.89        62\n",
      "                          Point       0.73      0.80      0.76        20\n",
      "                           Size       0.65      0.57      0.61        56\n",
      "                   Socket Depth       0.32      0.43      0.36        14\n",
      "                   Speed Rating       0.89      0.94      0.92        36\n",
      "                     Stud Holes       0.50      0.44      0.47         9\n",
      "                     Trade Size       0.68      0.77      0.72        44\n",
      "                           Type       0.74      0.70      0.72      1154\n",
      "                       Use With       0.00      0.00      0.00         1\n",
      "                        Voltage       0.68      0.54      0.60        84\n",
      "                Voltage Maximum       0.70      0.82      0.75        76\n",
      "                          Watts       0.00      0.00      0.00         7\n",
      "                          Width       0.70      0.39      0.50        18\n",
      "\n",
      "                      micro avg       0.72      0.72      0.72      4532\n",
      "                      macro avg       0.52      0.42      0.45      4532\n",
      "                   weighted avg       0.71      0.72      0.71      4532\n",
      "                    samples avg       0.31      0.31      0.31      4532\n",
      "\n"
     ]
    },
    {
     "name": "stderr",
     "output_type": "stream",
     "text": [
      "C:\\Users\\xx07230\\Anaconda3\\envs\\smart_warehouse\\lib\\site-packages\\sklearn\\metrics\\_classification.py:1334: UndefinedMetricWarning: Precision and F-score are ill-defined and being set to 0.0 in labels with no predicted samples. Use `zero_division` parameter to control this behavior.\n",
      "  _warn_prf(average, modifier, msg_start, len(result))\n",
      "C:\\Users\\xx07230\\Anaconda3\\envs\\smart_warehouse\\lib\\site-packages\\sklearn\\metrics\\_classification.py:1334: UndefinedMetricWarning: Precision and F-score are ill-defined and being set to 0.0 in samples with no predicted labels. Use `zero_division` parameter to control this behavior.\n",
      "  _warn_prf(average, modifier, msg_start, len(result))\n",
      "C:\\Users\\xx07230\\Anaconda3\\envs\\smart_warehouse\\lib\\site-packages\\sklearn\\metrics\\_classification.py:1334: UndefinedMetricWarning: Recall and F-score are ill-defined and being set to 0.0 in samples with no true labels. Use `zero_division` parameter to control this behavior.\n",
      "  _warn_prf(average, modifier, msg_start, len(result))\n"
     ]
    }
   ],
   "source": [
    "print(tags_classification_report(test_tags, pred_tags))"
   ]
  },
  {
   "cell_type": "code",
   "execution_count": 64,
   "metadata": {
    "colab": {
     "base_uri": "https://localhost:8080/"
    },
    "id": "qC1_wjJSQcdr",
    "outputId": "902727e9-3884-4a67-9241-d1ba6d61ba2c"
   },
   "outputs": [
    {
     "name": "stdout",
     "output_type": "stream",
     "text": [
      "F1-score: 61.5%\n"
     ]
    },
    {
     "name": "stderr",
     "output_type": "stream",
     "text": [
      "C:\\Users\\xx07230\\Anaconda3\\envs\\smart_warehouse\\lib\\site-packages\\seqeval\\metrics\\sequence_labeling.py:171: UserWarning: Other seems not to be NE tag.\n",
      "  warnings.warn('{} seems not to be NE tag.'.format(chunk))\n",
      "C:\\Users\\xx07230\\Anaconda3\\envs\\smart_warehouse\\lib\\site-packages\\seqeval\\metrics\\sequence_labeling.py:171: UserWarning: Material seems not to be NE tag.\n",
      "  warnings.warn('{} seems not to be NE tag.'.format(chunk))\n",
      "C:\\Users\\xx07230\\Anaconda3\\envs\\smart_warehouse\\lib\\site-packages\\seqeval\\metrics\\sequence_labeling.py:171: UserWarning: Type seems not to be NE tag.\n",
      "  warnings.warn('{} seems not to be NE tag.'.format(chunk))\n",
      "C:\\Users\\xx07230\\Anaconda3\\envs\\smart_warehouse\\lib\\site-packages\\seqeval\\metrics\\sequence_labeling.py:171: UserWarning: Voltage seems not to be NE tag.\n",
      "  warnings.warn('{} seems not to be NE tag.'.format(chunk))\n",
      "C:\\Users\\xx07230\\Anaconda3\\envs\\smart_warehouse\\lib\\site-packages\\seqeval\\metrics\\sequence_labeling.py:171: UserWarning: Color seems not to be NE tag.\n",
      "  warnings.warn('{} seems not to be NE tag.'.format(chunk))\n",
      "C:\\Users\\xx07230\\Anaconda3\\envs\\smart_warehouse\\lib\\site-packages\\seqeval\\metrics\\sequence_labeling.py:171: UserWarning: Trade Size seems not to be NE tag.\n",
      "  warnings.warn('{} seems not to be NE tag.'.format(chunk))\n",
      "C:\\Users\\xx07230\\Anaconda3\\envs\\smart_warehouse\\lib\\site-packages\\seqeval\\metrics\\sequence_labeling.py:171: UserWarning: Size seems not to be NE tag.\n",
      "  warnings.warn('{} seems not to be NE tag.'.format(chunk))\n",
      "C:\\Users\\xx07230\\Anaconda3\\envs\\smart_warehouse\\lib\\site-packages\\seqeval\\metrics\\sequence_labeling.py:171: UserWarning: Length seems not to be NE tag.\n",
      "  warnings.warn('{} seems not to be NE tag.'.format(chunk))\n",
      "C:\\Users\\xx07230\\Anaconda3\\envs\\smart_warehouse\\lib\\site-packages\\seqeval\\metrics\\sequence_labeling.py:171: UserWarning: Application seems not to be NE tag.\n",
      "  warnings.warn('{} seems not to be NE tag.'.format(chunk))\n",
      "C:\\Users\\xx07230\\Anaconda3\\envs\\smart_warehouse\\lib\\site-packages\\seqeval\\metrics\\sequence_labeling.py:171: UserWarning: Phase seems not to be NE tag.\n",
      "  warnings.warn('{} seems not to be NE tag.'.format(chunk))\n",
      "C:\\Users\\xx07230\\Anaconda3\\envs\\smart_warehouse\\lib\\site-packages\\seqeval\\metrics\\sequence_labeling.py:171: UserWarning: 3 Phase Drive Horsepower Rating seems not to be NE tag.\n",
      "  warnings.warn('{} seems not to be NE tag.'.format(chunk))\n",
      "C:\\Users\\xx07230\\Anaconda3\\envs\\smart_warehouse\\lib\\site-packages\\seqeval\\metrics\\sequence_labeling.py:171: UserWarning: Amps seems not to be NE tag.\n",
      "  warnings.warn('{} seems not to be NE tag.'.format(chunk))\n",
      "C:\\Users\\xx07230\\Anaconda3\\envs\\smart_warehouse\\lib\\site-packages\\seqeval\\metrics\\sequence_labeling.py:171: UserWarning: Drive seems not to be NE tag.\n",
      "  warnings.warn('{} seems not to be NE tag.'.format(chunk))\n",
      "C:\\Users\\xx07230\\Anaconda3\\envs\\smart_warehouse\\lib\\site-packages\\seqeval\\metrics\\sequence_labeling.py:171: UserWarning: Point seems not to be NE tag.\n",
      "  warnings.warn('{} seems not to be NE tag.'.format(chunk))\n",
      "C:\\Users\\xx07230\\Anaconda3\\envs\\smart_warehouse\\lib\\site-packages\\seqeval\\metrics\\sequence_labeling.py:171: UserWarning: Height seems not to be NE tag.\n",
      "  warnings.warn('{} seems not to be NE tag.'.format(chunk))\n",
      "C:\\Users\\xx07230\\Anaconda3\\envs\\smart_warehouse\\lib\\site-packages\\seqeval\\metrics\\sequence_labeling.py:171: UserWarning: Depth seems not to be NE tag.\n",
      "  warnings.warn('{} seems not to be NE tag.'.format(chunk))\n",
      "C:\\Users\\xx07230\\Anaconda3\\envs\\smart_warehouse\\lib\\site-packages\\seqeval\\metrics\\sequence_labeling.py:171: UserWarning: NEMA seems not to be NE tag.\n",
      "  warnings.warn('{} seems not to be NE tag.'.format(chunk))\n",
      "C:\\Users\\xx07230\\Anaconda3\\envs\\smart_warehouse\\lib\\site-packages\\seqeval\\metrics\\sequence_labeling.py:171: UserWarning: Coil Voltage seems not to be NE tag.\n",
      "  warnings.warn('{} seems not to be NE tag.'.format(chunk))\n",
      "C:\\Users\\xx07230\\Anaconda3\\envs\\smart_warehouse\\lib\\site-packages\\seqeval\\metrics\\sequence_labeling.py:171: UserWarning: Number of Poles seems not to be NE tag.\n",
      "  warnings.warn('{} seems not to be NE tag.'.format(chunk))\n",
      "C:\\Users\\xx07230\\Anaconda3\\envs\\smart_warehouse\\lib\\site-packages\\seqeval\\metrics\\sequence_labeling.py:171: UserWarning: Stud Holes seems not to be NE tag.\n",
      "  warnings.warn('{} seems not to be NE tag.'.format(chunk))\n",
      "C:\\Users\\xx07230\\Anaconda3\\envs\\smart_warehouse\\lib\\site-packages\\seqeval\\metrics\\sequence_labeling.py:171: UserWarning: Installation seems not to be NE tag.\n",
      "  warnings.warn('{} seems not to be NE tag.'.format(chunk))\n",
      "C:\\Users\\xx07230\\Anaconda3\\envs\\smart_warehouse\\lib\\site-packages\\seqeval\\metrics\\sequence_labeling.py:171: UserWarning: Width seems not to be NE tag.\n",
      "  warnings.warn('{} seems not to be NE tag.'.format(chunk))\n",
      "C:\\Users\\xx07230\\Anaconda3\\envs\\smart_warehouse\\lib\\site-packages\\seqeval\\metrics\\sequence_labeling.py:171: UserWarning: Diameter seems not to be NE tag.\n",
      "  warnings.warn('{} seems not to be NE tag.'.format(chunk))\n",
      "C:\\Users\\xx07230\\Anaconda3\\envs\\smart_warehouse\\lib\\site-packages\\seqeval\\metrics\\sequence_labeling.py:171: UserWarning: Speed Rating seems not to be NE tag.\n",
      "  warnings.warn('{} seems not to be NE tag.'.format(chunk))\n",
      "C:\\Users\\xx07230\\Anaconda3\\envs\\smart_warehouse\\lib\\site-packages\\seqeval\\metrics\\sequence_labeling.py:171: UserWarning: Voltage Maximum seems not to be NE tag.\n",
      "  warnings.warn('{} seems not to be NE tag.'.format(chunk))\n",
      "C:\\Users\\xx07230\\Anaconda3\\envs\\smart_warehouse\\lib\\site-packages\\seqeval\\metrics\\sequence_labeling.py:171: UserWarning: Assembly Type seems not to be NE tag.\n",
      "  warnings.warn('{} seems not to be NE tag.'.format(chunk))\n",
      "C:\\Users\\xx07230\\Anaconda3\\envs\\smart_warehouse\\lib\\site-packages\\seqeval\\metrics\\sequence_labeling.py:171: UserWarning: Cable Type seems not to be NE tag.\n",
      "  warnings.warn('{} seems not to be NE tag.'.format(chunk))\n",
      "C:\\Users\\xx07230\\Anaconda3\\envs\\smart_warehouse\\lib\\site-packages\\seqeval\\metrics\\sequence_labeling.py:171: UserWarning: Conductor Count seems not to be NE tag.\n",
      "  warnings.warn('{} seems not to be NE tag.'.format(chunk))\n",
      "C:\\Users\\xx07230\\Anaconda3\\envs\\smart_warehouse\\lib\\site-packages\\seqeval\\metrics\\sequence_labeling.py:171: UserWarning: Socket Depth seems not to be NE tag.\n",
      "  warnings.warn('{} seems not to be NE tag.'.format(chunk))\n",
      "C:\\Users\\xx07230\\Anaconda3\\envs\\smart_warehouse\\lib\\site-packages\\seqeval\\metrics\\sequence_labeling.py:171: UserWarning: Connector Type seems not to be NE tag.\n",
      "  warnings.warn('{} seems not to be NE tag.'.format(chunk))\n",
      "C:\\Users\\xx07230\\Anaconda3\\envs\\smart_warehouse\\lib\\site-packages\\seqeval\\metrics\\sequence_labeling.py:171: UserWarning: Use With seems not to be NE tag.\n",
      "  warnings.warn('{} seems not to be NE tag.'.format(chunk))\n",
      "C:\\Users\\xx07230\\Anaconda3\\envs\\smart_warehouse\\lib\\site-packages\\seqeval\\metrics\\sequence_labeling.py:171: UserWarning: Label Width seems not to be NE tag.\n",
      "  warnings.warn('{} seems not to be NE tag.'.format(chunk))\n",
      "C:\\Users\\xx07230\\Anaconda3\\envs\\smart_warehouse\\lib\\site-packages\\seqeval\\metrics\\sequence_labeling.py:171: UserWarning: Edge Thickness seems not to be NE tag.\n",
      "  warnings.warn('{} seems not to be NE tag.'.format(chunk))\n",
      "C:\\Users\\xx07230\\Anaconda3\\envs\\smart_warehouse\\lib\\site-packages\\seqeval\\metrics\\sequence_labeling.py:171: UserWarning: Mounting Size seems not to be NE tag.\n",
      "  warnings.warn('{} seems not to be NE tag.'.format(chunk))\n",
      "C:\\Users\\xx07230\\Anaconda3\\envs\\smart_warehouse\\lib\\site-packages\\seqeval\\metrics\\sequence_labeling.py:171: UserWarning: Overload Relay seems not to be NE tag.\n",
      "  warnings.warn('{} seems not to be NE tag.'.format(chunk))\n",
      "C:\\Users\\xx07230\\Anaconda3\\envs\\smart_warehouse\\lib\\site-packages\\seqeval\\metrics\\sequence_labeling.py:171: UserWarning: Conductor Type seems not to be NE tag.\n",
      "  warnings.warn('{} seems not to be NE tag.'.format(chunk))\n",
      "C:\\Users\\xx07230\\Anaconda3\\envs\\smart_warehouse\\lib\\site-packages\\seqeval\\metrics\\sequence_labeling.py:171: UserWarning: Drive Size seems not to be NE tag.\n",
      "  warnings.warn('{} seems not to be NE tag.'.format(chunk))\n",
      "C:\\Users\\xx07230\\Anaconda3\\envs\\smart_warehouse\\lib\\site-packages\\seqeval\\metrics\\sequence_labeling.py:171: UserWarning: Lamp Type seems not to be NE tag.\n",
      "  warnings.warn('{} seems not to be NE tag.'.format(chunk))\n",
      "C:\\Users\\xx07230\\Anaconda3\\envs\\smart_warehouse\\lib\\site-packages\\seqeval\\metrics\\sequence_labeling.py:171: UserWarning: Capacity seems not to be NE tag.\n",
      "  warnings.warn('{} seems not to be NE tag.'.format(chunk))\n",
      "C:\\Users\\xx07230\\Anaconda3\\envs\\smart_warehouse\\lib\\site-packages\\seqeval\\metrics\\sequence_labeling.py:171: UserWarning: Watts seems not to be NE tag.\n",
      "  warnings.warn('{} seems not to be NE tag.'.format(chunk))\n",
      "C:\\Users\\xx07230\\Anaconda3\\envs\\smart_warehouse\\lib\\site-packages\\seqeval\\metrics\\sequence_labeling.py:171: UserWarning: Fixture Type seems not to be NE tag.\n",
      "  warnings.warn('{} seems not to be NE tag.'.format(chunk))\n",
      "C:\\Users\\xx07230\\Anaconda3\\envs\\smart_warehouse\\lib\\site-packages\\seqeval\\metrics\\sequence_labeling.py:171: UserWarning: Category seems not to be NE tag.\n",
      "  warnings.warn('{} seems not to be NE tag.'.format(chunk))\n",
      "C:\\Users\\xx07230\\Anaconda3\\envs\\smart_warehouse\\lib\\site-packages\\seqeval\\metrics\\sequence_labeling.py:171: UserWarning: Grade seems not to be NE tag.\n",
      "  warnings.warn('{} seems not to be NE tag.'.format(chunk))\n",
      "C:\\Users\\xx07230\\Anaconda3\\envs\\smart_warehouse\\lib\\site-packages\\seqeval\\metrics\\sequence_labeling.py:171: UserWarning: For Use With seems not to be NE tag.\n",
      "  warnings.warn('{} seems not to be NE tag.'.format(chunk))\n"
     ]
    }
   ],
   "source": [
    "print(\"F1-score: {:.1%}\".format(f1_score(test_tags, pred_tags)))"
   ]
  },
  {
   "cell_type": "markdown",
   "metadata": {
    "id": "UN97GyqEw8oG"
   },
   "source": [
    "# BiLSTM-BiLSTM-CRF"
   ]
  },
  {
   "cell_type": "markdown",
   "metadata": {
    "id": "utbrWJnSOp5s"
   },
   "source": [
    "## Modelling"
   ]
  },
  {
   "cell_type": "code",
   "execution_count": 65,
   "metadata": {
    "colab": {
     "base_uri": "https://localhost:8080/"
    },
    "id": "Mif6bSyT5OXS",
    "outputId": "676a62f6-3502-4bbb-b76a-c670f3daef36"
   },
   "outputs": [
    {
     "name": "stdout",
     "output_type": "stream",
     "text": [
      "Model: \"crf_model_1\"\n",
      "__________________________________________________________________________________________________\n",
      " Layer (type)                   Output Shape         Param #     Connected to                     \n",
      "==================================================================================================\n",
      " word_input (InputLayer)        [(None, None)]       0           []                               \n",
      "                                                                                                  \n",
      " word_embedding (Embedding)     (None, None, 128)    638336      ['word_input[0][0]']             \n",
      "                                                                                                  \n",
      " dropout_1 (Dropout)            (None, None, 128)    0           ['word_embedding[0][0]']         \n",
      "                                                                                                  \n",
      " bidirectional_2 (Bidirectional  (None, None, 128)   98816       ['dropout_1[0][0]']              \n",
      " )                                                                                                \n",
      "                                                                                                  \n",
      " time_distributed_3 (TimeDistri  (None, None, 51)    6579        ['bidirectional_2[0][0]']        \n",
      " buted)                                                                                           \n",
      "                                                                                                  \n",
      " crf_1 (CRF)                    [(None, None),       5355        ['time_distributed_3[0][0]']     \n",
      "                                 (None, None, 51),                                                \n",
      "                                 (None,),                                                         \n",
      "                                 (51, 51)]                                                        \n",
      "                                                                                                  \n",
      " decode_sequence (Lambda)       (None, None)         0           ['crf_1[0][0]']                  \n",
      "                                                                                                  \n",
      " potentials (Lambda)            (None, None, 51)     0           ['crf_1[0][1]']                  \n",
      "                                                                                                  \n",
      " sequence_length (Lambda)       (None,)              0           ['crf_1[0][2]']                  \n",
      "                                                                                                  \n",
      " kernel (Lambda)                (51, 51)             0           ['crf_1[0][3]']                  \n",
      "                                                                                                  \n",
      "==================================================================================================\n",
      "Total params: 749,086\n",
      "Trainable params: 749,086\n",
      "Non-trainable params: 0\n",
      "__________________________________________________________________________________________________\n"
     ]
    }
   ],
   "source": [
    "embedding_dim = 128\n",
    "dropout_ratio = 0.3\n",
    "hidden_units = 64\n",
    "\n",
    "word_ids = Input(batch_shape=(None, None), dtype='int32', name='word_input')\n",
    "word_embeddings = Embedding(input_dim=vocab_size,\n",
    "                                        output_dim=embedding_dim,\n",
    "                                        name='word_embedding')(word_ids)\n",
    "\n",
    "word_embeddings = Dropout(dropout_ratio)(word_embeddings)\n",
    "output = Bidirectional(LSTM(units=hidden_units, return_sequences=True))(word_embeddings)\n",
    "output = TimeDistributed(Dense(tag_size, activation='relu'))(output)\n",
    "base = Model(inputs=word_ids, outputs=[output])\n",
    "model = CRFModel(base, tag_size)\n",
    "model.compile(optimizer=tf.keras.optimizers.Adam(0.001), metrics='accuracy')\n",
    "\n",
    "model.summary()"
   ]
  },
  {
   "cell_type": "code",
   "execution_count": 66,
   "metadata": {
    "id": "D1RNtqNNK6Th"
   },
   "outputs": [],
   "source": [
    "es = EarlyStopping(monitor='val_loss', mode='min', verbose=1, patience=4)\n",
    "mc = ModelCheckpoint('bilstm_bilstm_crf/cp.ckpt', monitor='val_decode_sequence_accuracy', mode='max', verbose=1, save_best_only=True, save_weights_only=True)"
   ]
  },
  {
   "cell_type": "code",
   "execution_count": 67,
   "metadata": {
    "colab": {
     "base_uri": "https://localhost:8080/"
    },
    "id": "Wl9dIPsIzW-m",
    "outputId": "0c25dd64-984d-49cd-873a-ed6b6db68d44"
   },
   "outputs": [
    {
     "name": "stdout",
     "output_type": "stream",
     "text": [
      "Epoch 1/50\n",
      "57/57 [==============================] - ETA: 0s - decode_sequence_accuracy: 0.6596 - loss: 15.2444\n",
      "Epoch 1: val_decode_sequence_accuracy improved from -inf to 0.75036, saving model to bilstm_bilstm_crf\\cp.ckpt\n",
      "57/57 [==============================] - 6s 53ms/step - decode_sequence_accuracy: 0.6596 - loss: 15.0872 - val_decode_sequence_accuracy: 0.7504 - val_loss: 7.1927\n",
      "Epoch 2/50\n",
      "57/57 [==============================] - ETA: 0s - decode_sequence_accuracy: 0.7603 - loss: 6.1894\n",
      "Epoch 2: val_decode_sequence_accuracy improved from 0.75036 to 0.77064, saving model to bilstm_bilstm_crf\\cp.ckpt\n",
      "57/57 [==============================] - 2s 40ms/step - decode_sequence_accuracy: 0.7603 - loss: 6.1798 - val_decode_sequence_accuracy: 0.7706 - val_loss: 6.2045\n",
      "Epoch 3/50\n",
      "57/57 [==============================] - ETA: 0s - decode_sequence_accuracy: 0.7956 - loss: 5.4728\n",
      "Epoch 3: val_decode_sequence_accuracy improved from 0.77064 to 0.80291, saving model to bilstm_bilstm_crf\\cp.ckpt\n",
      "57/57 [==============================] - 2s 43ms/step - decode_sequence_accuracy: 0.7956 - loss: 5.4817 - val_decode_sequence_accuracy: 0.8029 - val_loss: 5.6232\n",
      "Epoch 4/50\n",
      "57/57 [==============================] - ETA: 0s - decode_sequence_accuracy: 0.8191 - loss: 4.8453\n",
      "Epoch 4: val_decode_sequence_accuracy improved from 0.80291 to 0.81490, saving model to bilstm_bilstm_crf\\cp.ckpt\n",
      "57/57 [==============================] - 2s 40ms/step - decode_sequence_accuracy: 0.8191 - loss: 4.8292 - val_decode_sequence_accuracy: 0.8149 - val_loss: 5.0329\n",
      "Epoch 5/50\n",
      "57/57 [==============================] - ETA: 0s - decode_sequence_accuracy: 0.8408 - loss: 4.1988\n",
      "Epoch 5: val_decode_sequence_accuracy improved from 0.81490 to 0.83126, saving model to bilstm_bilstm_crf\\cp.ckpt\n",
      "57/57 [==============================] - 2s 41ms/step - decode_sequence_accuracy: 0.8408 - loss: 4.2098 - val_decode_sequence_accuracy: 0.8313 - val_loss: 4.6036\n",
      "Epoch 6/50\n",
      "57/57 [==============================] - ETA: 0s - decode_sequence_accuracy: 0.8624 - loss: 3.6642\n",
      "Epoch 6: val_decode_sequence_accuracy improved from 0.83126 to 0.84269, saving model to bilstm_bilstm_crf\\cp.ckpt\n",
      "57/57 [==============================] - 2s 41ms/step - decode_sequence_accuracy: 0.8624 - loss: 3.6665 - val_decode_sequence_accuracy: 0.8427 - val_loss: 4.2509\n",
      "Epoch 7/50\n",
      "57/57 [==============================] - ETA: 0s - decode_sequence_accuracy: 0.8733 - loss: 3.2659\n",
      "Epoch 7: val_decode_sequence_accuracy improved from 0.84269 to 0.84807, saving model to bilstm_bilstm_crf\\cp.ckpt\n",
      "57/57 [==============================] - 2s 41ms/step - decode_sequence_accuracy: 0.8733 - loss: 3.2709 - val_decode_sequence_accuracy: 0.8481 - val_loss: 3.9648\n",
      "Epoch 8/50\n",
      "57/57 [==============================] - ETA: 0s - decode_sequence_accuracy: 0.8808 - loss: 2.9428\n",
      "Epoch 8: val_decode_sequence_accuracy improved from 0.84807 to 0.85535, saving model to bilstm_bilstm_crf\\cp.ckpt\n",
      "57/57 [==============================] - 2s 40ms/step - decode_sequence_accuracy: 0.8808 - loss: 2.9428 - val_decode_sequence_accuracy: 0.8554 - val_loss: 3.7737\n",
      "Epoch 9/50\n",
      "57/57 [==============================] - ETA: 0s - decode_sequence_accuracy: 0.8892 - loss: 2.6676\n",
      "Epoch 9: val_decode_sequence_accuracy did not improve from 0.85535\n",
      "57/57 [==============================] - 2s 39ms/step - decode_sequence_accuracy: 0.8892 - loss: 2.6625 - val_decode_sequence_accuracy: 0.8536 - val_loss: 3.7156\n",
      "Epoch 10/50\n",
      "57/57 [==============================] - ETA: 0s - decode_sequence_accuracy: 0.8974 - loss: 2.4192\n",
      "Epoch 10: val_decode_sequence_accuracy improved from 0.85535 to 0.86106, saving model to bilstm_bilstm_crf\\cp.ckpt\n",
      "57/57 [==============================] - 2s 41ms/step - decode_sequence_accuracy: 0.8974 - loss: 2.4195 - val_decode_sequence_accuracy: 0.8611 - val_loss: 3.6136\n",
      "Epoch 11/50\n",
      "56/57 [============================>.] - ETA: 0s - decode_sequence_accuracy: 0.9057 - loss: 2.1959\n",
      "Epoch 11: val_decode_sequence_accuracy improved from 0.86106 to 0.86599, saving model to bilstm_bilstm_crf\\cp.ckpt\n",
      "57/57 [==============================] - 2s 41ms/step - decode_sequence_accuracy: 0.9055 - loss: 2.2083 - val_decode_sequence_accuracy: 0.8660 - val_loss: 3.5468\n",
      "Epoch 12/50\n",
      "56/57 [============================>.] - ETA: 0s - decode_sequence_accuracy: 0.9135 - loss: 1.9948\n",
      "Epoch 12: val_decode_sequence_accuracy improved from 0.86599 to 0.86667, saving model to bilstm_bilstm_crf\\cp.ckpt\n",
      "57/57 [==============================] - 2s 41ms/step - decode_sequence_accuracy: 0.9134 - loss: 1.9969 - val_decode_sequence_accuracy: 0.8667 - val_loss: 3.5622\n",
      "Epoch 13/50\n",
      "57/57 [==============================] - ETA: 0s - decode_sequence_accuracy: 0.9196 - loss: 1.8222\n",
      "Epoch 13: val_decode_sequence_accuracy improved from 0.86667 to 0.87249, saving model to bilstm_bilstm_crf\\cp.ckpt\n",
      "57/57 [==============================] - 2s 40ms/step - decode_sequence_accuracy: 0.9196 - loss: 1.8244 - val_decode_sequence_accuracy: 0.8725 - val_loss: 3.5713\n",
      "Epoch 14/50\n",
      "57/57 [==============================] - ETA: 0s - decode_sequence_accuracy: 0.9271 - loss: 1.6517\n",
      "Epoch 14: val_decode_sequence_accuracy improved from 0.87249 to 0.87608, saving model to bilstm_bilstm_crf\\cp.ckpt\n",
      "57/57 [==============================] - 2s 40ms/step - decode_sequence_accuracy: 0.9271 - loss: 1.6512 - val_decode_sequence_accuracy: 0.8761 - val_loss: 3.4826\n",
      "Epoch 15/50\n",
      "57/57 [==============================] - ETA: 0s - decode_sequence_accuracy: 0.9333 - loss: 1.5001\n",
      "Epoch 15: val_decode_sequence_accuracy improved from 0.87608 to 0.87686, saving model to bilstm_bilstm_crf\\cp.ckpt\n",
      "57/57 [==============================] - 2s 41ms/step - decode_sequence_accuracy: 0.9333 - loss: 1.5022 - val_decode_sequence_accuracy: 0.8769 - val_loss: 3.4956\n",
      "Epoch 16/50\n",
      "57/57 [==============================] - ETA: 0s - decode_sequence_accuracy: 0.9367 - loss: 1.3853\n",
      "Epoch 16: val_decode_sequence_accuracy did not improve from 0.87686\n",
      "57/57 [==============================] - 2s 39ms/step - decode_sequence_accuracy: 0.9367 - loss: 1.3869 - val_decode_sequence_accuracy: 0.8755 - val_loss: 3.4550\n",
      "Epoch 17/50\n",
      "57/57 [==============================] - ETA: 0s - decode_sequence_accuracy: 0.9417 - loss: 1.2801\n",
      "Epoch 17: val_decode_sequence_accuracy improved from 0.87686 to 0.87832, saving model to bilstm_bilstm_crf\\cp.ckpt\n",
      "57/57 [==============================] - 2s 42ms/step - decode_sequence_accuracy: 0.9417 - loss: 1.2785 - val_decode_sequence_accuracy: 0.8783 - val_loss: 3.5155\n",
      "Epoch 18/50\n",
      "57/57 [==============================] - ETA: 0s - decode_sequence_accuracy: 0.9433 - loss: 1.1890\n",
      "Epoch 18: val_decode_sequence_accuracy improved from 0.87832 to 0.87843, saving model to bilstm_bilstm_crf\\cp.ckpt\n",
      "57/57 [==============================] - 2s 42ms/step - decode_sequence_accuracy: 0.9433 - loss: 1.1870 - val_decode_sequence_accuracy: 0.8784 - val_loss: 3.4878\n",
      "Epoch 19/50\n",
      "56/57 [============================>.] - ETA: 0s - decode_sequence_accuracy: 0.9482 - loss: 1.1235\n",
      "Epoch 19: val_decode_sequence_accuracy improved from 0.87843 to 0.87989, saving model to bilstm_bilstm_crf\\cp.ckpt\n",
      "57/57 [==============================] - 3s 44ms/step - decode_sequence_accuracy: 0.9481 - loss: 1.1337 - val_decode_sequence_accuracy: 0.8799 - val_loss: 3.5204\n",
      "Epoch 20/50\n",
      "57/57 [==============================] - ETA: 0s - decode_sequence_accuracy: 0.9501 - loss: 1.0441\n",
      "Epoch 20: val_decode_sequence_accuracy improved from 0.87989 to 0.88067, saving model to bilstm_bilstm_crf\\cp.ckpt\n",
      "57/57 [==============================] - 3s 46ms/step - decode_sequence_accuracy: 0.9501 - loss: 1.0470 - val_decode_sequence_accuracy: 0.8807 - val_loss: 3.5460\n",
      "Epoch 20: early stopping\n"
     ]
    }
   ],
   "source": [
    "history = model.fit(X_train, y_train_int, batch_size=128, epochs=50, validation_split=0.15, callbacks=[mc, es])"
   ]
  },
  {
   "cell_type": "code",
   "execution_count": 68,
   "metadata": {
    "colab": {
     "base_uri": "https://localhost:8080/"
    },
    "id": "DZcu-pPrNqpz",
    "outputId": "b14ea385-0598-47de-8ef4-6d9e09258b24"
   },
   "outputs": [
    {
     "data": {
      "text/plain": [
       "<tensorflow.python.checkpoint.checkpoint.CheckpointLoadStatus at 0x2526af05820>"
      ]
     },
     "execution_count": 68,
     "metadata": {},
     "output_type": "execute_result"
    }
   ],
   "source": [
    "model.load_weights('bilstm_bilstm_crf/cp.ckpt')"
   ]
  },
  {
   "cell_type": "code",
   "execution_count": 69,
   "metadata": {
    "colab": {
     "base_uri": "https://localhost:8080/"
    },
    "id": "T_ECUaJ2Nuoj",
    "outputId": "e33f23f1-52fd-45a5-b547-52d321aa9b85"
   },
   "outputs": [
    {
     "name": "stdout",
     "output_type": "stream",
     "text": [
      "1/1 [==============================] - 1s 721ms/step\n",
      "word           |actual value|predicted value\n",
      "-----------------------------------\n",
      "24v              : Other   Other\n",
      "motor            : Other   Other\n",
      "oprtr            : Other   Other\n"
     ]
    }
   ],
   "source": [
    "i = 13 # The index of the test sample you want to check.\n",
    "y_predicted = model.predict(np.array([X_test[i]]))[0] # Returns prediction y for the input test sample\n",
    "true = np.argmax(y_test[i], -1) # Changed one-hot encoding back to integer encoding.\n",
    "\n",
    "print(\"{:15}|{:5}|{}\".format(\"word\", \"actual value\", \"predicted value\"))\n",
    "print(35 * \"-\")\n",
    "\n",
    "for word, tag, pred in zip(X_test[i], true, y_predicted[0]):\n",
    "    if word != 0: # Excluding PAD value.\n",
    "        print(\"{:17}: {:7} {}\".format(index_to_word[word], index_to_ner[tag], index_to_ner[pred]))"
   ]
  },
  {
   "cell_type": "code",
   "execution_count": 70,
   "metadata": {
    "colab": {
     "base_uri": "https://localhost:8080/",
     "height": 295
    },
    "id": "3JeErjaCNyp6",
    "outputId": "d3dd1345-0925-4b55-c43b-cf2a6ebafbb0"
   },
   "outputs": [
    {
     "data": {
      "image/png": "[encoded data removed]",
      "text/plain": [
       "<Figure size 432x288 with 1 Axes>"
      ]
     },
     "metadata": {
      "needs_background": "light"
     },
     "output_type": "display_data"
    }
   ],
   "source": [
    "epochs = range(1, len(history.history['val_loss']) + 1)\n",
    "plt.plot(epochs, history.history['loss'])\n",
    "plt.plot(epochs, history.history['val_loss'])\n",
    "plt.title('model loss')\n",
    "plt.ylabel('loss')\n",
    "plt.xlabel('epoch')\n",
    "plt.legend(['train', 'val'], loc='upper left')\n",
    "plt.show()"
   ]
  },
  {
   "cell_type": "code",
   "execution_count": 71,
   "metadata": {
    "id": "hX3VzmGeN2Ay"
   },
   "outputs": [
    {
     "name": "stdout",
     "output_type": "stream",
     "text": [
      "47/47 [==============================] - 0s 4ms/step\n"
     ]
    }
   ],
   "source": [
    "y_predicted = model.predict(X_test)[0]\n",
    "pred_tags = sequences_to_tag_for_crf(y_predicted)\n",
    "test_tags = sequences_to_tag(y_test)"
   ]
  },
  {
   "cell_type": "code",
   "execution_count": 72,
   "metadata": {
    "colab": {
     "base_uri": "https://localhost:8080/"
    },
    "id": "nk1jkfQUN5G6",
    "outputId": "baa6ffd4-c2a8-4f68-f578-b1cae00252fb"
   },
   "outputs": [
    {
     "name": "stdout",
     "output_type": "stream",
     "text": [
      "                                 precision    recall  f1-score   support\n",
      "\n",
      "3 Phase Drive Horsepower Rating       0.98      0.85      0.91        48\n",
      "                           Amps       0.82      0.80      0.81       108\n",
      "                    Application       0.57      0.33      0.42        39\n",
      "                  Assembly Type       0.83      0.71      0.77        14\n",
      "                     Cable Type       0.85      0.67      0.75        33\n",
      "                       Capacity       0.00      0.00      0.00         3\n",
      "                       Category       1.00      0.80      0.89         5\n",
      "                   Coil Voltage       0.93      0.86      0.89        59\n",
      "                          Color       0.61      0.34      0.43        59\n",
      "                Conductor Count       0.00      0.00      0.00         4\n",
      "                 Conductor Type       0.78      0.78      0.78         9\n",
      "                 Connector Type       0.37      0.29      0.33        24\n",
      "                          Depth       0.64      0.32      0.42        22\n",
      "                       Diameter       1.00      0.20      0.33        10\n",
      "                          Drive       0.73      0.81      0.77        27\n",
      "                     Drive Size       0.50      0.20      0.29        25\n",
      "                 Edge Thickness       0.00      0.00      0.00         1\n",
      "                   Fixture Type       0.75      0.43      0.55         7\n",
      "                   For Use With       0.00      0.00      0.00         1\n",
      "                          Grade       0.00      0.00      0.00         2\n",
      "                         Height       0.67      0.70      0.68        20\n",
      "                   Installation       0.50      0.33      0.40        18\n",
      "                    Label Width       1.00      0.25      0.40         4\n",
      "                      Lamp Type       1.00      0.22      0.36         9\n",
      "                         Length       0.53      0.47      0.50        51\n",
      "                       Material       0.49      0.46      0.48        93\n",
      "                  Mounting Size       0.00      0.00      0.00         1\n",
      "                           NEMA       0.44      0.34      0.39        32\n",
      "                Number of Poles       0.78      0.96      0.86        83\n",
      "                          Other       0.74      0.80      0.77      2131\n",
      "                 Overload Relay       0.53      0.89      0.67         9\n",
      "                          Phase       0.96      0.87      0.92        62\n",
      "                          Point       0.88      0.75      0.81        20\n",
      "                           Size       0.74      0.61      0.67        56\n",
      "                   Socket Depth       0.64      0.50      0.56        14\n",
      "                   Speed Rating       0.94      0.89      0.91        36\n",
      "                     Stud Holes       0.86      0.67      0.75         9\n",
      "                     Trade Size       0.72      0.77      0.75        44\n",
      "                           Type       0.73      0.72      0.73      1154\n",
      "                       Use With       0.00      0.00      0.00         1\n",
      "                        Voltage       0.81      0.62      0.70        84\n",
      "                Voltage Maximum       0.71      0.92      0.80        76\n",
      "                          Watts       0.25      0.14      0.18         7\n",
      "                          Width       0.73      0.44      0.55        18\n",
      "\n",
      "                      micro avg       0.74      0.74      0.74      4532\n",
      "                      macro avg       0.61      0.49      0.53      4532\n",
      "                   weighted avg       0.73      0.74      0.73      4532\n",
      "                    samples avg       0.32      0.32      0.32      4532\n",
      "\n"
     ]
    },
    {
     "name": "stderr",
     "output_type": "stream",
     "text": [
      "C:\\Users\\xx07230\\Anaconda3\\envs\\smart_warehouse\\lib\\site-packages\\sklearn\\metrics\\_classification.py:1334: UndefinedMetricWarning: Precision and F-score are ill-defined and being set to 0.0 in labels with no predicted samples. Use `zero_division` parameter to control this behavior.\n",
      "  _warn_prf(average, modifier, msg_start, len(result))\n",
      "C:\\Users\\xx07230\\Anaconda3\\envs\\smart_warehouse\\lib\\site-packages\\sklearn\\metrics\\_classification.py:1334: UndefinedMetricWarning: Precision and F-score are ill-defined and being set to 0.0 in samples with no predicted labels. Use `zero_division` parameter to control this behavior.\n",
      "  _warn_prf(average, modifier, msg_start, len(result))\n",
      "C:\\Users\\xx07230\\Anaconda3\\envs\\smart_warehouse\\lib\\site-packages\\sklearn\\metrics\\_classification.py:1334: UndefinedMetricWarning: Recall and F-score are ill-defined and being set to 0.0 in samples with no true labels. Use `zero_division` parameter to control this behavior.\n",
      "  _warn_prf(average, modifier, msg_start, len(result))\n"
     ]
    }
   ],
   "source": [
    "print(tags_classification_report(test_tags, pred_tags))"
   ]
  },
  {
   "cell_type": "markdown",
   "metadata": {
    "id": "gadtb_rmOrcf"
   },
   "source": [
    "## Performance"
   ]
  },
  {
   "cell_type": "code",
   "execution_count": 73,
   "metadata": {
    "colab": {
     "base_uri": "https://localhost:8080/"
    },
    "id": "aP1jPe10AIqb",
    "outputId": "b799effa-f85f-4d5d-96b2-4dabf8219c19"
   },
   "outputs": [
    {
     "name": "stdout",
     "output_type": "stream",
     "text": [
      "F1-score: 64.4%\n"
     ]
    },
    {
     "name": "stderr",
     "output_type": "stream",
     "text": [
      "C:\\Users\\xx07230\\Anaconda3\\envs\\smart_warehouse\\lib\\site-packages\\seqeval\\metrics\\sequence_labeling.py:171: UserWarning: Other seems not to be NE tag.\n",
      "  warnings.warn('{} seems not to be NE tag.'.format(chunk))\n",
      "C:\\Users\\xx07230\\Anaconda3\\envs\\smart_warehouse\\lib\\site-packages\\seqeval\\metrics\\sequence_labeling.py:171: UserWarning: Material seems not to be NE tag.\n",
      "  warnings.warn('{} seems not to be NE tag.'.format(chunk))\n",
      "C:\\Users\\xx07230\\Anaconda3\\envs\\smart_warehouse\\lib\\site-packages\\seqeval\\metrics\\sequence_labeling.py:171: UserWarning: Type seems not to be NE tag.\n",
      "  warnings.warn('{} seems not to be NE tag.'.format(chunk))\n",
      "C:\\Users\\xx07230\\Anaconda3\\envs\\smart_warehouse\\lib\\site-packages\\seqeval\\metrics\\sequence_labeling.py:171: UserWarning: Voltage seems not to be NE tag.\n",
      "  warnings.warn('{} seems not to be NE tag.'.format(chunk))\n",
      "C:\\Users\\xx07230\\Anaconda3\\envs\\smart_warehouse\\lib\\site-packages\\seqeval\\metrics\\sequence_labeling.py:171: UserWarning: Color seems not to be NE tag.\n",
      "  warnings.warn('{} seems not to be NE tag.'.format(chunk))\n",
      "C:\\Users\\xx07230\\Anaconda3\\envs\\smart_warehouse\\lib\\site-packages\\seqeval\\metrics\\sequence_labeling.py:171: UserWarning: Trade Size seems not to be NE tag.\n",
      "  warnings.warn('{} seems not to be NE tag.'.format(chunk))\n",
      "C:\\Users\\xx07230\\Anaconda3\\envs\\smart_warehouse\\lib\\site-packages\\seqeval\\metrics\\sequence_labeling.py:171: UserWarning: Size seems not to be NE tag.\n",
      "  warnings.warn('{} seems not to be NE tag.'.format(chunk))\n",
      "C:\\Users\\xx07230\\Anaconda3\\envs\\smart_warehouse\\lib\\site-packages\\seqeval\\metrics\\sequence_labeling.py:171: UserWarning: Length seems not to be NE tag.\n",
      "  warnings.warn('{} seems not to be NE tag.'.format(chunk))\n",
      "C:\\Users\\xx07230\\Anaconda3\\envs\\smart_warehouse\\lib\\site-packages\\seqeval\\metrics\\sequence_labeling.py:171: UserWarning: Application seems not to be NE tag.\n",
      "  warnings.warn('{} seems not to be NE tag.'.format(chunk))\n",
      "C:\\Users\\xx07230\\Anaconda3\\envs\\smart_warehouse\\lib\\site-packages\\seqeval\\metrics\\sequence_labeling.py:171: UserWarning: Phase seems not to be NE tag.\n",
      "  warnings.warn('{} seems not to be NE tag.'.format(chunk))\n",
      "C:\\Users\\xx07230\\Anaconda3\\envs\\smart_warehouse\\lib\\site-packages\\seqeval\\metrics\\sequence_labeling.py:171: UserWarning: 3 Phase Drive Horsepower Rating seems not to be NE tag.\n",
      "  warnings.warn('{} seems not to be NE tag.'.format(chunk))\n",
      "C:\\Users\\xx07230\\Anaconda3\\envs\\smart_warehouse\\lib\\site-packages\\seqeval\\metrics\\sequence_labeling.py:171: UserWarning: Amps seems not to be NE tag.\n",
      "  warnings.warn('{} seems not to be NE tag.'.format(chunk))\n",
      "C:\\Users\\xx07230\\Anaconda3\\envs\\smart_warehouse\\lib\\site-packages\\seqeval\\metrics\\sequence_labeling.py:171: UserWarning: Drive seems not to be NE tag.\n",
      "  warnings.warn('{} seems not to be NE tag.'.format(chunk))\n",
      "C:\\Users\\xx07230\\Anaconda3\\envs\\smart_warehouse\\lib\\site-packages\\seqeval\\metrics\\sequence_labeling.py:171: UserWarning: Point seems not to be NE tag.\n",
      "  warnings.warn('{} seems not to be NE tag.'.format(chunk))\n",
      "C:\\Users\\xx07230\\Anaconda3\\envs\\smart_warehouse\\lib\\site-packages\\seqeval\\metrics\\sequence_labeling.py:171: UserWarning: Height seems not to be NE tag.\n",
      "  warnings.warn('{} seems not to be NE tag.'.format(chunk))\n",
      "C:\\Users\\xx07230\\Anaconda3\\envs\\smart_warehouse\\lib\\site-packages\\seqeval\\metrics\\sequence_labeling.py:171: UserWarning: Depth seems not to be NE tag.\n",
      "  warnings.warn('{} seems not to be NE tag.'.format(chunk))\n",
      "C:\\Users\\xx07230\\Anaconda3\\envs\\smart_warehouse\\lib\\site-packages\\seqeval\\metrics\\sequence_labeling.py:171: UserWarning: NEMA seems not to be NE tag.\n",
      "  warnings.warn('{} seems not to be NE tag.'.format(chunk))\n",
      "C:\\Users\\xx07230\\Anaconda3\\envs\\smart_warehouse\\lib\\site-packages\\seqeval\\metrics\\sequence_labeling.py:171: UserWarning: Coil Voltage seems not to be NE tag.\n",
      "  warnings.warn('{} seems not to be NE tag.'.format(chunk))\n",
      "C:\\Users\\xx07230\\Anaconda3\\envs\\smart_warehouse\\lib\\site-packages\\seqeval\\metrics\\sequence_labeling.py:171: UserWarning: Number of Poles seems not to be NE tag.\n",
      "  warnings.warn('{} seems not to be NE tag.'.format(chunk))\n",
      "C:\\Users\\xx07230\\Anaconda3\\envs\\smart_warehouse\\lib\\site-packages\\seqeval\\metrics\\sequence_labeling.py:171: UserWarning: Stud Holes seems not to be NE tag.\n",
      "  warnings.warn('{} seems not to be NE tag.'.format(chunk))\n",
      "C:\\Users\\xx07230\\Anaconda3\\envs\\smart_warehouse\\lib\\site-packages\\seqeval\\metrics\\sequence_labeling.py:171: UserWarning: Installation seems not to be NE tag.\n",
      "  warnings.warn('{} seems not to be NE tag.'.format(chunk))\n",
      "C:\\Users\\xx07230\\Anaconda3\\envs\\smart_warehouse\\lib\\site-packages\\seqeval\\metrics\\sequence_labeling.py:171: UserWarning: Width seems not to be NE tag.\n",
      "  warnings.warn('{} seems not to be NE tag.'.format(chunk))\n",
      "C:\\Users\\xx07230\\Anaconda3\\envs\\smart_warehouse\\lib\\site-packages\\seqeval\\metrics\\sequence_labeling.py:171: UserWarning: Diameter seems not to be NE tag.\n",
      "  warnings.warn('{} seems not to be NE tag.'.format(chunk))\n",
      "C:\\Users\\xx07230\\Anaconda3\\envs\\smart_warehouse\\lib\\site-packages\\seqeval\\metrics\\sequence_labeling.py:171: UserWarning: Speed Rating seems not to be NE tag.\n",
      "  warnings.warn('{} seems not to be NE tag.'.format(chunk))\n",
      "C:\\Users\\xx07230\\Anaconda3\\envs\\smart_warehouse\\lib\\site-packages\\seqeval\\metrics\\sequence_labeling.py:171: UserWarning: Voltage Maximum seems not to be NE tag.\n",
      "  warnings.warn('{} seems not to be NE tag.'.format(chunk))\n",
      "C:\\Users\\xx07230\\Anaconda3\\envs\\smart_warehouse\\lib\\site-packages\\seqeval\\metrics\\sequence_labeling.py:171: UserWarning: Assembly Type seems not to be NE tag.\n",
      "  warnings.warn('{} seems not to be NE tag.'.format(chunk))\n",
      "C:\\Users\\xx07230\\Anaconda3\\envs\\smart_warehouse\\lib\\site-packages\\seqeval\\metrics\\sequence_labeling.py:171: UserWarning: Cable Type seems not to be NE tag.\n",
      "  warnings.warn('{} seems not to be NE tag.'.format(chunk))\n",
      "C:\\Users\\xx07230\\Anaconda3\\envs\\smart_warehouse\\lib\\site-packages\\seqeval\\metrics\\sequence_labeling.py:171: UserWarning: Conductor Count seems not to be NE tag.\n",
      "  warnings.warn('{} seems not to be NE tag.'.format(chunk))\n",
      "C:\\Users\\xx07230\\Anaconda3\\envs\\smart_warehouse\\lib\\site-packages\\seqeval\\metrics\\sequence_labeling.py:171: UserWarning: Socket Depth seems not to be NE tag.\n",
      "  warnings.warn('{} seems not to be NE tag.'.format(chunk))\n",
      "C:\\Users\\xx07230\\Anaconda3\\envs\\smart_warehouse\\lib\\site-packages\\seqeval\\metrics\\sequence_labeling.py:171: UserWarning: Connector Type seems not to be NE tag.\n",
      "  warnings.warn('{} seems not to be NE tag.'.format(chunk))\n",
      "C:\\Users\\xx07230\\Anaconda3\\envs\\smart_warehouse\\lib\\site-packages\\seqeval\\metrics\\sequence_labeling.py:171: UserWarning: Use With seems not to be NE tag.\n",
      "  warnings.warn('{} seems not to be NE tag.'.format(chunk))\n",
      "C:\\Users\\xx07230\\Anaconda3\\envs\\smart_warehouse\\lib\\site-packages\\seqeval\\metrics\\sequence_labeling.py:171: UserWarning: Label Width seems not to be NE tag.\n",
      "  warnings.warn('{} seems not to be NE tag.'.format(chunk))\n",
      "C:\\Users\\xx07230\\Anaconda3\\envs\\smart_warehouse\\lib\\site-packages\\seqeval\\metrics\\sequence_labeling.py:171: UserWarning: Edge Thickness seems not to be NE tag.\n",
      "  warnings.warn('{} seems not to be NE tag.'.format(chunk))\n",
      "C:\\Users\\xx07230\\Anaconda3\\envs\\smart_warehouse\\lib\\site-packages\\seqeval\\metrics\\sequence_labeling.py:171: UserWarning: Mounting Size seems not to be NE tag.\n",
      "  warnings.warn('{} seems not to be NE tag.'.format(chunk))\n",
      "C:\\Users\\xx07230\\Anaconda3\\envs\\smart_warehouse\\lib\\site-packages\\seqeval\\metrics\\sequence_labeling.py:171: UserWarning: Overload Relay seems not to be NE tag.\n",
      "  warnings.warn('{} seems not to be NE tag.'.format(chunk))\n",
      "C:\\Users\\xx07230\\Anaconda3\\envs\\smart_warehouse\\lib\\site-packages\\seqeval\\metrics\\sequence_labeling.py:171: UserWarning: Conductor Type seems not to be NE tag.\n",
      "  warnings.warn('{} seems not to be NE tag.'.format(chunk))\n",
      "C:\\Users\\xx07230\\Anaconda3\\envs\\smart_warehouse\\lib\\site-packages\\seqeval\\metrics\\sequence_labeling.py:171: UserWarning: Drive Size seems not to be NE tag.\n",
      "  warnings.warn('{} seems not to be NE tag.'.format(chunk))\n",
      "C:\\Users\\xx07230\\Anaconda3\\envs\\smart_warehouse\\lib\\site-packages\\seqeval\\metrics\\sequence_labeling.py:171: UserWarning: Lamp Type seems not to be NE tag.\n",
      "  warnings.warn('{} seems not to be NE tag.'.format(chunk))\n",
      "C:\\Users\\xx07230\\Anaconda3\\envs\\smart_warehouse\\lib\\site-packages\\seqeval\\metrics\\sequence_labeling.py:171: UserWarning: Capacity seems not to be NE tag.\n",
      "  warnings.warn('{} seems not to be NE tag.'.format(chunk))\n",
      "C:\\Users\\xx07230\\Anaconda3\\envs\\smart_warehouse\\lib\\site-packages\\seqeval\\metrics\\sequence_labeling.py:171: UserWarning: Watts seems not to be NE tag.\n",
      "  warnings.warn('{} seems not to be NE tag.'.format(chunk))\n",
      "C:\\Users\\xx07230\\Anaconda3\\envs\\smart_warehouse\\lib\\site-packages\\seqeval\\metrics\\sequence_labeling.py:171: UserWarning: Fixture Type seems not to be NE tag.\n",
      "  warnings.warn('{} seems not to be NE tag.'.format(chunk))\n",
      "C:\\Users\\xx07230\\Anaconda3\\envs\\smart_warehouse\\lib\\site-packages\\seqeval\\metrics\\sequence_labeling.py:171: UserWarning: Category seems not to be NE tag.\n",
      "  warnings.warn('{} seems not to be NE tag.'.format(chunk))\n",
      "C:\\Users\\xx07230\\Anaconda3\\envs\\smart_warehouse\\lib\\site-packages\\seqeval\\metrics\\sequence_labeling.py:171: UserWarning: Grade seems not to be NE tag.\n",
      "  warnings.warn('{} seems not to be NE tag.'.format(chunk))\n",
      "C:\\Users\\xx07230\\Anaconda3\\envs\\smart_warehouse\\lib\\site-packages\\seqeval\\metrics\\sequence_labeling.py:171: UserWarning: For Use With seems not to be NE tag.\n",
      "  warnings.warn('{} seems not to be NE tag.'.format(chunk))\n"
     ]
    }
   ],
   "source": [
    "print(\"F1-score: {:.1%}\".format(f1_score(test_tags, pred_tags)))"
   ]
  },
  {
   "cell_type": "markdown",
   "metadata": {},
   "source": [
    "## BiLSTM-Attention-CRF"
   ]
  },
  {
   "cell_type": "code",
   "execution_count": 75,
   "metadata": {},
   "outputs": [],
   "source": [
    "from keras_self_attention import SeqSelfAttention"
   ]
  },
  {
   "cell_type": "code",
   "execution_count": 123,
   "metadata": {},
   "outputs": [
    {
     "name": "stdout",
     "output_type": "stream",
     "text": [
      "Model: \"crf_model_6\"\n",
      "__________________________________________________________________________________________________\n",
      " Layer (type)                   Output Shape         Param #     Connected to                     \n",
      "==================================================================================================\n",
      " word_input (InputLayer)        [(None, None)]       0           []                               \n",
      "                                                                                                  \n",
      " word_embedding (Embedding)     (None, None, 128)    638336      ['word_input[0][0]']             \n",
      "                                                                                                  \n",
      " dropout_7 (Dropout)            (None, None, 128)    0           ['word_embedding[0][0]']         \n",
      "                                                                                                  \n",
      " bidirectional_8 (Bidirectional  (None, None, 800)   1692800     ['dropout_7[0][0]']              \n",
      " )                                                                                                \n",
      "                                                                                                  \n",
      " dropout_8 (Dropout)            (None, None, 800)    0           ['bidirectional_8[0][0]']        \n",
      "                                                                                                  \n",
      " bidirectional_9 (Bidirectional  (None, None, 800)   3843200     ['dropout_8[0][0]']              \n",
      " )                                                                                                \n",
      "                                                                                                  \n",
      " time_distributed_6 (TimeDistri  (None, None, 51)    40851       ['bidirectional_9[0][0]']        \n",
      " buted)                                                                                           \n",
      "                                                                                                  \n",
      " Attention (SeqSelfAttention)   (None, None, 51)     3329        ['time_distributed_6[0][0]']     \n",
      "                                                                                                  \n",
      " crf_6 (CRF)                    [(None, None),       5355        ['Attention[0][0]']              \n",
      "                                 (None, None, 51),                                                \n",
      "                                 (None,),                                                         \n",
      "                                 (51, 51)]                                                        \n",
      "                                                                                                  \n",
      " decode_sequence (Lambda)       (None, None)         0           ['crf_6[0][0]']                  \n",
      "                                                                                                  \n",
      " potentials (Lambda)            (None, None, 51)     0           ['crf_6[0][1]']                  \n",
      "                                                                                                  \n",
      " sequence_length (Lambda)       (None,)              0           ['crf_6[0][2]']                  \n",
      "                                                                                                  \n",
      " kernel (Lambda)                (51, 51)             0           ['crf_6[0][3]']                  \n",
      "                                                                                                  \n",
      "==================================================================================================\n",
      "Total params: 6,223,871\n",
      "Trainable params: 6,223,871\n",
      "Non-trainable params: 0\n",
      "__________________________________________________________________________________________________\n"
     ]
    },
    {
     "name": "stderr",
     "output_type": "stream",
     "text": [
      "C:\\Users\\xx07230\\Anaconda3\\envs\\smart_warehouse\\lib\\site-packages\\keras\\initializers\\initializers_v2.py:120: UserWarning: The initializer GlorotNormal is unseeded and being called multiple times, which will return identical values  each time (even if the initializer is unseeded). Please update your code to provide a seed to the initializer, or avoid using the same initalizer instance more than once.\n",
      "  warnings.warn(\n"
     ]
    }
   ],
   "source": [
    "embedding_dim = 128\n",
    "dropout_ratio = 0.3\n",
    "hidden_units = 400\n",
    "\n",
    "word_ids = Input(batch_shape=(None, None), dtype='int32', name='word_input')\n",
    "word_embeddings = Embedding(input_dim=vocab_size,\n",
    "                                        output_dim=embedding_dim,\n",
    "                                        name='word_embedding')(word_ids)\n",
    "\n",
    "word_embeddings = Dropout(dropout_ratio)(word_embeddings)\n",
    "bilstm_layer1 = Bidirectional(LSTM(units=hidden_units, return_sequences=True))(word_embeddings)\n",
    "bilstm_drop = Dropout(dropout_ratio)(bilstm_layer1)\n",
    "bilstm_layer2 = Bidirectional(LSTM(units=hidden_units, return_sequences=True))(bilstm_drop)\n",
    "output = TimeDistributed(Dense(tag_size, activation='relu'))(bilstm_layer2)\n",
    "attention_layer = SeqSelfAttention(attention_activation='sigmoid',\n",
    "                                name='Attention')(output)\n",
    "base = Model(word_ids, attention_layer)\n",
    "\n",
    "model = CRFModel(base, tag_size)\n",
    "\n",
    "model.compile(optimizer=tf.keras.optimizers.Adam(0.001), metrics='accuracy')\n",
    "\n",
    "model.summary()"
   ]
  },
  {
   "cell_type": "code",
   "execution_count": 125,
   "metadata": {},
   "outputs": [],
   "source": [
    "es = EarlyStopping(monitor='val_loss', mode='min', verbose=1, patience=4)\n",
    "mc = ModelCheckpoint('bilstm_attention_crfV0.1/cp.ckpt', monitor='val_decode_sequence_accuracy', mode='max', verbose=1, save_best_only=True, save_weights_only=True)"
   ]
  },
  {
   "cell_type": "code",
   "execution_count": 126,
   "metadata": {},
   "outputs": [
    {
     "name": "stdout",
     "output_type": "stream",
     "text": [
      "Epoch 1/50\n",
      "57/57 [==============================] - ETA: 0s - decode_sequence_accuracy: 0.5487 - loss: 12.4010\n",
      "Epoch 1: val_decode_sequence_accuracy improved from -inf to 0.56706, saving model to bilstm_attention_crfV0.1\\cp.ckpt\n",
      "57/57 [==============================] - 20s 264ms/step - decode_sequence_accuracy: 0.5487 - loss: 12.3514 - val_decode_sequence_accuracy: 0.5671 - val_loss: 10.3078\n",
      "Epoch 2/50\n",
      "57/57 [==============================] - ETA: 0s - decode_sequence_accuracy: 0.6278 - loss: 8.6944\n",
      "Epoch 2: val_decode_sequence_accuracy improved from 0.56706 to 0.75216, saving model to bilstm_attention_crfV0.1\\cp.ckpt\n",
      "57/57 [==============================] - 14s 239ms/step - decode_sequence_accuracy: 0.6278 - loss: 8.6651 - val_decode_sequence_accuracy: 0.7522 - val_loss: 7.0764\n",
      "Epoch 3/50\n",
      "57/57 [==============================] - ETA: 0s - decode_sequence_accuracy: 0.7774 - loss: 5.8455\n",
      "Epoch 3: val_decode_sequence_accuracy improved from 0.75216 to 0.78790, saving model to bilstm_attention_crfV0.1\\cp.ckpt\n",
      "57/57 [==============================] - 14s 238ms/step - decode_sequence_accuracy: 0.7774 - loss: 5.8399 - val_decode_sequence_accuracy: 0.7879 - val_loss: 5.6003\n",
      "Epoch 4/50\n",
      "57/57 [==============================] - ETA: 0s - decode_sequence_accuracy: 0.8067 - loss: 4.8581\n",
      "Epoch 4: val_decode_sequence_accuracy improved from 0.78790 to 0.80840, saving model to bilstm_attention_crfV0.1\\cp.ckpt\n",
      "57/57 [==============================] - 14s 244ms/step - decode_sequence_accuracy: 0.8067 - loss: 4.8518 - val_decode_sequence_accuracy: 0.8084 - val_loss: 4.8765\n",
      "Epoch 5/50\n",
      "57/57 [==============================] - ETA: 0s - decode_sequence_accuracy: 0.8270 - loss: 4.2899\n",
      "Epoch 5: val_decode_sequence_accuracy improved from 0.80840 to 0.81927, saving model to bilstm_attention_crfV0.1\\cp.ckpt\n",
      "57/57 [==============================] - 14s 242ms/step - decode_sequence_accuracy: 0.8270 - loss: 4.2847 - val_decode_sequence_accuracy: 0.8193 - val_loss: 4.4379\n",
      "Epoch 6/50\n",
      "57/57 [==============================] - ETA: 0s - decode_sequence_accuracy: 0.8393 - loss: 3.8747\n",
      "Epoch 6: val_decode_sequence_accuracy did not improve from 0.81927\n",
      "57/57 [==============================] - 14s 244ms/step - decode_sequence_accuracy: 0.8393 - loss: 3.8670 - val_decode_sequence_accuracy: 0.8160 - val_loss: 4.4064\n",
      "Epoch 7/50\n",
      "57/57 [==============================] - ETA: 0s - decode_sequence_accuracy: 0.8446 - loss: 3.6210\n",
      "Epoch 7: val_decode_sequence_accuracy improved from 0.81927 to 0.83092, saving model to bilstm_attention_crfV0.1\\cp.ckpt\n",
      "57/57 [==============================] - 15s 267ms/step - decode_sequence_accuracy: 0.8446 - loss: 3.6250 - val_decode_sequence_accuracy: 0.8309 - val_loss: 4.0840\n",
      "Epoch 8/50\n",
      "57/57 [==============================] - ETA: 0s - decode_sequence_accuracy: 0.8515 - loss: 3.3254\n",
      "Epoch 8: val_decode_sequence_accuracy improved from 0.83092 to 0.83462, saving model to bilstm_attention_crfV0.1\\cp.ckpt\n",
      "57/57 [==============================] - 16s 288ms/step - decode_sequence_accuracy: 0.8515 - loss: 3.3162 - val_decode_sequence_accuracy: 0.8346 - val_loss: 3.8405\n",
      "Epoch 9/50\n",
      "57/57 [==============================] - ETA: 0s - decode_sequence_accuracy: 0.8578 - loss: 3.1003\n",
      "Epoch 9: val_decode_sequence_accuracy did not improve from 0.83462\n",
      "57/57 [==============================] - 17s 298ms/step - decode_sequence_accuracy: 0.8578 - loss: 3.1078 - val_decode_sequence_accuracy: 0.8287 - val_loss: 3.6658\n",
      "Epoch 10/50\n",
      "57/57 [==============================] - ETA: 0s - decode_sequence_accuracy: 0.8613 - loss: 2.8670\n",
      "Epoch 10: val_decode_sequence_accuracy improved from 0.83462 to 0.84168, saving model to bilstm_attention_crfV0.1\\cp.ckpt\n",
      "57/57 [==============================] - 17s 305ms/step - decode_sequence_accuracy: 0.8613 - loss: 2.8680 - val_decode_sequence_accuracy: 0.8417 - val_loss: 3.5348\n",
      "Epoch 11/50\n",
      "57/57 [==============================] - ETA: 0s - decode_sequence_accuracy: 0.8674 - loss: 2.6758\n",
      "Epoch 11: val_decode_sequence_accuracy improved from 0.84168 to 0.84672, saving model to bilstm_attention_crfV0.1\\cp.ckpt\n",
      "57/57 [==============================] - 17s 305ms/step - decode_sequence_accuracy: 0.8674 - loss: 2.6795 - val_decode_sequence_accuracy: 0.8467 - val_loss: 3.5111\n",
      "Epoch 12/50\n",
      "57/57 [==============================] - ETA: 0s - decode_sequence_accuracy: 0.8701 - loss: 2.5290\n",
      "Epoch 12: val_decode_sequence_accuracy did not improve from 0.84672\n",
      "57/57 [==============================] - 17s 303ms/step - decode_sequence_accuracy: 0.8701 - loss: 2.5282 - val_decode_sequence_accuracy: 0.8406 - val_loss: 3.5766\n",
      "Epoch 13/50\n",
      "57/57 [==============================] - ETA: 0s - decode_sequence_accuracy: 0.8764 - loss: 2.3878\n",
      "Epoch 13: val_decode_sequence_accuracy did not improve from 0.84672\n",
      "57/57 [==============================] - 17s 305ms/step - decode_sequence_accuracy: 0.8764 - loss: 2.3929 - val_decode_sequence_accuracy: 0.8459 - val_loss: 3.3974\n",
      "Epoch 14/50\n",
      "57/57 [==============================] - ETA: 0s - decode_sequence_accuracy: 0.8823 - loss: 2.2329\n",
      "Epoch 14: val_decode_sequence_accuracy improved from 0.84672 to 0.84997, saving model to bilstm_attention_crfV0.1\\cp.ckpt\n",
      "57/57 [==============================] - 17s 304ms/step - decode_sequence_accuracy: 0.8823 - loss: 2.2356 - val_decode_sequence_accuracy: 0.8500 - val_loss: 3.4301\n",
      "Epoch 15/50\n",
      "57/57 [==============================] - ETA: 0s - decode_sequence_accuracy: 0.8877 - loss: 2.1156\n",
      "Epoch 15: val_decode_sequence_accuracy did not improve from 0.84997\n",
      "57/57 [==============================] - 18s 312ms/step - decode_sequence_accuracy: 0.8877 - loss: 2.1038 - val_decode_sequence_accuracy: 0.8404 - val_loss: 3.5161\n",
      "Epoch 16/50\n",
      "57/57 [==============================] - ETA: 0s - decode_sequence_accuracy: 0.8895 - loss: 2.0233\n",
      "Epoch 16: val_decode_sequence_accuracy did not improve from 0.84997\n",
      "57/57 [==============================] - 17s 298ms/step - decode_sequence_accuracy: 0.8895 - loss: 2.0258 - val_decode_sequence_accuracy: 0.8476 - val_loss: 3.4391\n",
      "Epoch 17/50\n",
      "57/57 [==============================] - ETA: 0s - decode_sequence_accuracy: 0.8919 - loss: 1.9527\n",
      "Epoch 17: val_decode_sequence_accuracy did not improve from 0.84997\n",
      "57/57 [==============================] - 17s 301ms/step - decode_sequence_accuracy: 0.8919 - loss: 1.9503 - val_decode_sequence_accuracy: 0.8476 - val_loss: 3.3625\n",
      "Epoch 18/50\n",
      "57/57 [==============================] - ETA: 0s - decode_sequence_accuracy: 0.8962 - loss: 1.8708\n",
      "Epoch 18: val_decode_sequence_accuracy did not improve from 0.84997\n",
      "57/57 [==============================] - 17s 300ms/step - decode_sequence_accuracy: 0.8962 - loss: 1.8763 - val_decode_sequence_accuracy: 0.8365 - val_loss: 3.4173\n",
      "Epoch 19/50\n",
      "57/57 [==============================] - ETA: 0s - decode_sequence_accuracy: 0.8972 - loss: 1.7999\n",
      "Epoch 19: val_decode_sequence_accuracy improved from 0.84997 to 0.85154, saving model to bilstm_attention_crfV0.1\\cp.ckpt\n",
      "57/57 [==============================] - 18s 307ms/step - decode_sequence_accuracy: 0.8972 - loss: 1.8028 - val_decode_sequence_accuracy: 0.8515 - val_loss: 3.3256\n",
      "Epoch 20/50\n",
      "57/57 [==============================] - ETA: 0s - decode_sequence_accuracy: 0.9012 - loss: 1.7281\n",
      "Epoch 20: val_decode_sequence_accuracy did not improve from 0.85154\n",
      "57/57 [==============================] - 17s 304ms/step - decode_sequence_accuracy: 0.9012 - loss: 1.7406 - val_decode_sequence_accuracy: 0.8500 - val_loss: 3.6102\n",
      "Epoch 21/50\n",
      "57/57 [==============================] - ETA: 0s - decode_sequence_accuracy: 0.9018 - loss: 1.6816\n",
      "Epoch 21: val_decode_sequence_accuracy improved from 0.85154 to 0.85658, saving model to bilstm_attention_crfV0.1\\cp.ckpt\n",
      "57/57 [==============================] - 17s 304ms/step - decode_sequence_accuracy: 0.9018 - loss: 1.6908 - val_decode_sequence_accuracy: 0.8566 - val_loss: 3.3985\n",
      "Epoch 22/50\n",
      "57/57 [==============================] - ETA: 0s - decode_sequence_accuracy: 0.9039 - loss: 1.6294\n",
      "Epoch 22: val_decode_sequence_accuracy did not improve from 0.85658\n",
      "57/57 [==============================] - 17s 302ms/step - decode_sequence_accuracy: 0.9039 - loss: 1.6335 - val_decode_sequence_accuracy: 0.8524 - val_loss: 3.5510\n",
      "Epoch 23/50\n"
     ]
    },
    {
     "name": "stdout",
     "output_type": "stream",
     "text": [
      "57/57 [==============================] - ETA: 0s - decode_sequence_accuracy: 0.9059 - loss: 1.5614\n",
      "Epoch 23: val_decode_sequence_accuracy did not improve from 0.85658\n",
      "57/57 [==============================] - 17s 300ms/step - decode_sequence_accuracy: 0.9059 - loss: 1.5619 - val_decode_sequence_accuracy: 0.8539 - val_loss: 3.6288\n",
      "Epoch 23: early stopping\n"
     ]
    }
   ],
   "source": [
    "history = model.fit(X_train, y_train_int, batch_size=128, epochs=50, validation_split=0.15, callbacks=[mc, es])"
   ]
  },
  {
   "cell_type": "code",
   "execution_count": 127,
   "metadata": {},
   "outputs": [
    {
     "data": {
      "text/plain": [
       "<tensorflow.python.checkpoint.checkpoint.CheckpointLoadStatus at 0x2527a47b820>"
      ]
     },
     "execution_count": 127,
     "metadata": {},
     "output_type": "execute_result"
    }
   ],
   "source": [
    "model.load_weights('bilstm_attention_crfV0.1/cp.ckpt')"
   ]
  },
  {
   "cell_type": "code",
   "execution_count": 128,
   "metadata": {},
   "outputs": [
    {
     "name": "stdout",
     "output_type": "stream",
     "text": [
      "1/1 [==============================] - 1s 1s/step\n",
      "word           |actual value|predicted value\n",
      "-----------------------------------\n",
      "3000rpm          : Speed Rating Speed Rating\n",
      "mtr              : Type    Type\n"
     ]
    }
   ],
   "source": [
    "i = 55 # The index of the test sample you want to check.\n",
    "y_predicted = model.predict(np.array([X_test[i]]))[0] # Returns prediction y for the input test sample\n",
    "true = np.argmax(y_test[i], -1) # Changed one-hot encoding back to integer encoding.\n",
    "\n",
    "print(\"{:15}|{:5}|{}\".format(\"word\", \"actual value\", \"predicted value\"))\n",
    "print(35 * \"-\")\n",
    "\n",
    "for word, tag, pred in zip(X_test[i], true, y_predicted[0]):\n",
    "    if word != 0: # Excluding PAD value.\n",
    "        print(\"{:17}: {:7} {}\".format(index_to_word[word], index_to_ner[tag], index_to_ner[pred]))"
   ]
  },
  {
   "cell_type": "code",
   "execution_count": 129,
   "metadata": {},
   "outputs": [
    {
     "data": {
      "image/png": "[encoded data removed]",
      "text/plain": [
       "<Figure size 432x288 with 1 Axes>"
      ]
     },
     "metadata": {
      "needs_background": "light"
     },
     "output_type": "display_data"
    }
   ],
   "source": [
    "epochs = range(1, len(history.history['val_loss']) + 1)\n",
    "plt.plot(epochs, history.history['loss'])\n",
    "plt.plot(epochs, history.history['val_loss'])\n",
    "plt.title('model loss')\n",
    "plt.ylabel('loss')\n",
    "plt.xlabel('epoch')\n",
    "plt.legend(['train', 'val'], loc='upper left')\n",
    "plt.show()"
   ]
  },
  {
   "cell_type": "code",
   "execution_count": 130,
   "metadata": {},
   "outputs": [
    {
     "name": "stdout",
     "output_type": "stream",
     "text": [
      "47/47 [==============================] - 2s 42ms/step\n"
     ]
    }
   ],
   "source": [
    "y_predicted = model.predict(X_test)[0]\n",
    "pred_tags = sequences_to_tag_for_crf(y_predicted)\n",
    "test_tags = sequences_to_tag(y_test)"
   ]
  },
  {
   "cell_type": "code",
   "execution_count": 131,
   "metadata": {},
   "outputs": [],
   "source": [
    "from sklearn.metrics import classification_report, confusion_matrix\n",
    "from sklearn.preprocessing import LabelBinarizer\n",
    "from itertools import chain\n",
    "def tags_classification_report(y_true, y_pred):\n",
    "    \n",
    "    lb = LabelBinarizer()\n",
    "    y_true_combined = lb.fit_transform(list(chain.from_iterable(y_true)))\n",
    "    y_pred_combined = lb.transform(list(chain.from_iterable(y_pred)))\n",
    "        \n",
    "    tagset = set(lb.classes_) - {'O', 'PAD'}\n",
    "    tagset = sorted(tagset, key=lambda tag: tag.split('-', 1)[::-1])\n",
    "    class_indices = {cls: idx for idx, cls in enumerate(lb.classes_)}\n",
    "    \n",
    "    return classification_report(\n",
    "        y_true_combined,\n",
    "        y_pred_combined,\n",
    "        labels = [class_indices[cls] for cls in tagset],\n",
    "        target_names = tagset,\n",
    "    )\n",
    "    lb = LabelBinarizer()\n",
    "    y_true_combined = lb.fit_transform(list(chain.from_iterable(y_true)))\n",
    "    y_pred_combined = lb.transform(list(chain.from_iterable(y_pred)))\n",
    "        \n",
    "    tagset = set(lb.classes_) - {'O'}\n",
    "    tagset = sorted(tagset, key=lambda tag: tag.split('-', 1)[::-1])\n",
    "    class_indices = {cls: idx for idx, cls in enumerate(lb.classes_)}\n",
    "    \n",
    "    return classification_report(\n",
    "        y_true_combined,\n",
    "        y_pred_combined,\n",
    "        labels = [class_indices[cls] for cls in tagset],\n",
    "        target_names = tagset,\n",
    "    )"
   ]
  },
  {
   "cell_type": "code",
   "execution_count": 132,
   "metadata": {},
   "outputs": [
    {
     "name": "stdout",
     "output_type": "stream",
     "text": [
      "                                 precision    recall  f1-score   support\n",
      "\n",
      "3 Phase Drive Horsepower Rating       0.88      0.90      0.89        48\n",
      "                           Amps       0.63      0.73      0.68       108\n",
      "                    Application       1.00      0.10      0.19        39\n",
      "                  Assembly Type       0.80      0.29      0.42        14\n",
      "                     Cable Type       0.83      0.61      0.70        33\n",
      "                       Capacity       0.00      0.00      0.00         3\n",
      "                       Category       0.75      0.60      0.67         5\n",
      "                   Coil Voltage       0.73      0.81      0.77        59\n",
      "                          Color       0.14      0.08      0.11        59\n",
      "                Conductor Count       0.00      0.00      0.00         4\n",
      "                 Conductor Type       0.67      0.22      0.33         9\n",
      "                 Connector Type       0.14      0.12      0.13        24\n",
      "                          Depth       0.36      0.23      0.28        22\n",
      "                       Diameter       0.44      0.40      0.42        10\n",
      "                          Drive       0.46      0.44      0.45        27\n",
      "                     Drive Size       0.62      0.40      0.49        25\n",
      "                 Edge Thickness       0.00      0.00      0.00         1\n",
      "                   Fixture Type       0.00      0.00      0.00         7\n",
      "                   For Use With       0.00      0.00      0.00         1\n",
      "                          Grade       0.00      0.00      0.00         2\n",
      "                         Height       0.54      0.35      0.42        20\n",
      "                   Installation       0.00      0.00      0.00        18\n",
      "                    Label Width       0.00      0.00      0.00         4\n",
      "                      Lamp Type       0.00      0.00      0.00         9\n",
      "                         Length       0.37      0.20      0.26        51\n",
      "                       Material       0.36      0.17      0.23        93\n",
      "                  Mounting Size       0.00      0.00      0.00         1\n",
      "                           NEMA       0.60      0.09      0.16        32\n",
      "                Number of Poles       0.65      0.80      0.71        83\n",
      "                          Other       0.68      0.78      0.72      2131\n",
      "                 Overload Relay       0.53      1.00      0.69         9\n",
      "                          Phase       0.91      0.85      0.88        62\n",
      "                          Point       0.44      0.35      0.39        20\n",
      "                           Size       0.45      0.36      0.40        56\n",
      "                   Socket Depth       0.36      0.36      0.36        14\n",
      "                   Speed Rating       0.89      0.94      0.92        36\n",
      "                     Stud Holes       0.80      0.44      0.57         9\n",
      "                     Trade Size       0.68      0.57      0.62        44\n",
      "                           Type       0.73      0.68      0.70      1154\n",
      "                       Use With       0.00      0.00      0.00         1\n",
      "                        Voltage       0.40      0.35      0.37        84\n",
      "                Voltage Maximum       0.62      0.89      0.74        76\n",
      "                          Watts       0.25      0.14      0.18         7\n",
      "                          Width       0.44      0.22      0.30        18\n",
      "\n",
      "                      micro avg       0.67      0.67      0.67      4532\n",
      "                      macro avg       0.44      0.35      0.37      4532\n",
      "                   weighted avg       0.66      0.67      0.65      4532\n",
      "                    samples avg       0.29      0.29      0.29      4532\n",
      "\n"
     ]
    },
    {
     "name": "stderr",
     "output_type": "stream",
     "text": [
      "C:\\Users\\xx07230\\Anaconda3\\envs\\smart_warehouse\\lib\\site-packages\\sklearn\\metrics\\_classification.py:1334: UndefinedMetricWarning: Precision and F-score are ill-defined and being set to 0.0 in labels with no predicted samples. Use `zero_division` parameter to control this behavior.\n",
      "  _warn_prf(average, modifier, msg_start, len(result))\n",
      "C:\\Users\\xx07230\\Anaconda3\\envs\\smart_warehouse\\lib\\site-packages\\sklearn\\metrics\\_classification.py:1334: UndefinedMetricWarning: Precision and F-score are ill-defined and being set to 0.0 in samples with no predicted labels. Use `zero_division` parameter to control this behavior.\n",
      "  _warn_prf(average, modifier, msg_start, len(result))\n",
      "C:\\Users\\xx07230\\Anaconda3\\envs\\smart_warehouse\\lib\\site-packages\\sklearn\\metrics\\_classification.py:1334: UndefinedMetricWarning: Recall and F-score are ill-defined and being set to 0.0 in samples with no true labels. Use `zero_division` parameter to control this behavior.\n",
      "  _warn_prf(average, modifier, msg_start, len(result))\n"
     ]
    }
   ],
   "source": [
    "print(tags_classification_report(test_tags, pred_tags))"
   ]
  },
  {
   "cell_type": "code",
   "execution_count": null,
   "metadata": {},
   "outputs": [],
   "source": []
  }
 ],
 "metadata": {
  "accelerator": "GPU",
  "colab": {
   "machine_shape": "hm",
   "provenance": []
  },
  "kernelspec": {
   "display_name": "Python 3 (ipykernel)",
   "language": "python",
   "name": "python3"
  },
  "language_info": {
   "codemirror_mode": {
    "name": "ipython",
    "version": 3
   },
   "file_extension": ".py",
   "mimetype": "text/x-python",
   "name": "python",
   "nbconvert_exporter": "python",
   "pygments_lexer": "ipython3",
   "version": "3.8.13"
  }
 },
 "nbformat": 4,
 "nbformat_minor": 1
}
