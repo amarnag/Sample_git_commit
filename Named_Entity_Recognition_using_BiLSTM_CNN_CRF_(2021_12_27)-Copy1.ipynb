{
 "cells": [
  {
   "cell_type": "markdown",
   "metadata": {
    "id": "pPthmTBbODpC"
   },
   "source": [
    "# CRF layer 설치"
   ]
  },
  {
   "cell_type": "markdown",
   "metadata": {
    "id": "NqD8wMcd7evE"
   },
   "source": [
    "ner_dataset.csv를 Colab에 업로드하세요."
   ]
  },
  {
   "cell_type": "markdown",
   "metadata": {
    "id": "p7yAfzbN7aXk"
   },
   "source": [
    "# 데이터 전처리"
   ]
  },
  {
   "cell_type": "code",
   "execution_count": 1,
   "metadata": {
    "id": "BDfQP9b6yXPw"
   },
   "outputs": [],
   "source": [
    "import pandas as pd\n",
    "import numpy as np\n",
    "import matplotlib.pyplot as plt\n",
    "import urllib.request\n",
    "from tensorflow.keras.preprocessing.text import Tokenizer\n",
    "from tensorflow.keras.preprocessing.sequence import pad_sequences\n",
    "from sklearn.model_selection import train_test_split\n",
    "from tensorflow.keras.utils import to_categorical"
   ]
  },
  {
   "cell_type": "code",
   "execution_count": 2,
   "metadata": {
    "id": "Qo5Q_PDwycAo"
   },
   "outputs": [],
   "source": [
    "data = pd.read_csv(\"Input_10K_sample_MVP_filtering_1116.csv\")"
   ]
  },
  {
   "cell_type": "code",
   "execution_count": 3,
   "metadata": {
    "colab": {
     "base_uri": "https://localhost:8080/",
     "height": 206
    },
    "id": "ymJjyBL_Y7Bb",
    "outputId": "db039a18-13e7-4a7e-e138-fcd500f62c75"
   },
   "outputs": [
    {
     "data": {
      "text/html": [
       "<div>\n",
       "<style scoped>\n",
       "    .dataframe tbody tr th:only-of-type {\n",
       "        vertical-align: middle;\n",
       "    }\n",
       "\n",
       "    .dataframe tbody tr th {\n",
       "        vertical-align: top;\n",
       "    }\n",
       "\n",
       "    .dataframe thead th {\n",
       "        text-align: right;\n",
       "    }\n",
       "</style>\n",
       "<table border=\"1\" class=\"dataframe\">\n",
       "  <thead>\n",
       "    <tr style=\"text-align: right;\">\n",
       "      <th></th>\n",
       "      <th>Sentence #</th>\n",
       "      <th>Word</th>\n",
       "      <th>Tag</th>\n",
       "    </tr>\n",
       "  </thead>\n",
       "  <tbody>\n",
       "    <tr>\n",
       "      <th>0</th>\n",
       "      <td>Sentence: 1</td>\n",
       "      <td>diversibit</td>\n",
       "      <td>Other</td>\n",
       "    </tr>\n",
       "    <tr>\n",
       "      <th>1</th>\n",
       "      <td>NaN</td>\n",
       "      <td>kit</td>\n",
       "      <td>Other</td>\n",
       "    </tr>\n",
       "    <tr>\n",
       "      <th>2</th>\n",
       "      <td>Sentence: 2</td>\n",
       "      <td>iv</td>\n",
       "      <td>Other</td>\n",
       "    </tr>\n",
       "    <tr>\n",
       "      <th>3</th>\n",
       "      <td>NaN</td>\n",
       "      <td>2g</td>\n",
       "      <td>Other</td>\n",
       "    </tr>\n",
       "    <tr>\n",
       "      <th>4</th>\n",
       "      <td>NaN</td>\n",
       "      <td>gfci</td>\n",
       "      <td>Other</td>\n",
       "    </tr>\n",
       "  </tbody>\n",
       "</table>\n",
       "</div>"
      ],
      "text/plain": [
       "    Sentence #        Word    Tag\n",
       "0  Sentence: 1  diversibit  Other\n",
       "1          NaN         kit  Other\n",
       "2  Sentence: 2          iv  Other\n",
       "3          NaN          2g  Other\n",
       "4          NaN        gfci  Other"
      ]
     },
     "execution_count": 3,
     "metadata": {},
     "output_type": "execute_result"
    }
   ],
   "source": [
    "data[:5]"
   ]
  },
  {
   "cell_type": "code",
   "execution_count": 4,
   "metadata": {
    "colab": {
     "base_uri": "https://localhost:8080/"
    },
    "id": "31B1kMVYzFMd",
    "outputId": "4a9c217b-c48d-4213-c244-b7d44724d89b"
   },
   "outputs": [
    {
     "name": "stdout",
     "output_type": "stream",
     "text": [
      "데이터프레임 행의 개수 : 30078\n"
     ]
    }
   ],
   "source": [
    "print('데이터프레임 행의 개수 : {}'.format(len(data)))"
   ]
  },
  {
   "cell_type": "code",
   "execution_count": 5,
   "metadata": {
    "colab": {
     "base_uri": "https://localhost:8080/"
    },
    "id": "5qgElyBDzlXu",
    "outputId": "7f7bb0d7-80a2-415e-acba-1f358b63edcc"
   },
   "outputs": [
    {
     "name": "stdout",
     "output_type": "stream",
     "text": [
      "데이터에 Null 값이 있는지 유무 : True\n"
     ]
    }
   ],
   "source": [
    "print('데이터에 Null 값이 있는지 유무 : ' + str(data.isnull().values.any()))"
   ]
  },
  {
   "cell_type": "code",
   "execution_count": 6,
   "metadata": {
    "colab": {
     "base_uri": "https://localhost:8080/"
    },
    "id": "mUKvYcMg3HCH",
    "outputId": "b0e59737-bb44-4d6b-f9d3-01c461ab87a9"
   },
   "outputs": [
    {
     "name": "stdout",
     "output_type": "stream",
     "text": [
      "어떤 열에 Null값이 있는지 출력\n",
      "==============================\n"
     ]
    },
    {
     "data": {
      "text/plain": [
       "Sentence #    20078\n",
       "Word              0\n",
       "Tag               0\n",
       "dtype: int64"
      ]
     },
     "execution_count": 6,
     "metadata": {},
     "output_type": "execute_result"
    }
   ],
   "source": [
    "print('어떤 열에 Null값이 있는지 출력')\n",
    "print('==============================')\n",
    "data.isnull().sum()"
   ]
  },
  {
   "cell_type": "code",
   "execution_count": 7,
   "metadata": {
    "colab": {
     "base_uri": "https://localhost:8080/"
    },
    "id": "D6V0rIuF3Jiv",
    "outputId": "1eab449f-3d44-4472-ac47-1695b5fd4687"
   },
   "outputs": [
    {
     "name": "stdout",
     "output_type": "stream",
     "text": [
      "sentence # 열의 중복을 제거한 값의 개수 : 10000\n",
      "Word 열의 중복을 제거한 값의 개수 : 4985\n",
      "Tag 열의 중복을 제거한 값의 개수 : 50\n"
     ]
    }
   ],
   "source": [
    "print('sentence # 열의 중복을 제거한 값의 개수 : {}'.format(data['Sentence #'].nunique()))\n",
    "print('Word 열의 중복을 제거한 값의 개수 : {}'.format(data.Word.nunique()))\n",
    "print('Tag 열의 중복을 제거한 값의 개수 : {}'.format(data.Tag.nunique()))"
   ]
  },
  {
   "cell_type": "code",
   "execution_count": 8,
   "metadata": {
    "colab": {
     "base_uri": "https://localhost:8080/"
    },
    "id": "5pb88O9o3LRo",
    "outputId": "600894a8-a648-4416-dc32-c670b3870c94"
   },
   "outputs": [
    {
     "name": "stdout",
     "output_type": "stream",
     "text": [
      "Tag 열의 각각의 값의 개수 카운트\n",
      "================================\n",
      "                                Tag  count\n",
      "0   3 Phase Drive Horsepower Rating    335\n",
      "1                 Additional Detail      3\n",
      "2                              Amps    694\n",
      "3                       Application    266\n",
      "4                     Assembly Type     81\n",
      "5                        Cable Type    235\n",
      "6                          Capacity     29\n",
      "7                          Category     29\n",
      "8                      Coil Voltage    384\n",
      "9                             Color    352\n",
      "10                  Conductor Count     25\n",
      "11                   Conductor Type     43\n",
      "12                   Connector Type    202\n",
      "13                   Container Size      1\n",
      "14                            Depth    141\n",
      "15                         Diameter     56\n",
      "16                            Drive    138\n",
      "17                       Drive Size    154\n",
      "18                   Edge Thickness      2\n",
      "19                     Fixture Type     51\n",
      "20                     For Use With      3\n",
      "21                            Grade     26\n",
      "22                   Grit/ANSI Type      4\n",
      "23                           Height    154\n",
      "24                     Installation    130\n",
      "25                      Label Width     18\n",
      "26                        Lamp Type     66\n",
      "27                  Legend - Number     33\n",
      "28                           Length    317\n",
      "29                         Material    668\n",
      "30                    Mounting Size      5\n",
      "31                             NEMA    203\n",
      "32                  Number of Poles    636\n",
      "33                            Other  14174\n",
      "34                   Overload Relay     80\n",
      "35                            Phase    371\n",
      "36                            Point     88\n",
      "37                     Product Type      9\n",
      "38                             Size    355\n",
      "39                     Socket Depth     83\n",
      "40                     Speed Rating    315\n",
      "41                       Stud Holes     64\n",
      "42                      Tester Type      7\n",
      "43                       Trade Size    308\n",
      "44                             Type   7627\n",
      "45                         Use With     15\n",
      "46                          Voltage    477\n",
      "47                  Voltage Maximum    451\n",
      "48                            Watts     48\n",
      "49                            Width    122\n"
     ]
    }
   ],
   "source": [
    "print('Tag 열의 각각의 값의 개수 카운트')\n",
    "print('================================')\n",
    "print(data.groupby('Tag').size().reset_index(name='count'))"
   ]
  },
  {
   "cell_type": "code",
   "execution_count": 9,
   "metadata": {
    "id": "kobBX39g3Mfc"
   },
   "outputs": [],
   "source": [
    "data = data.fillna(method=\"ffill\")"
   ]
  },
  {
   "cell_type": "code",
   "execution_count": 10,
   "metadata": {
    "colab": {
     "base_uri": "https://localhost:8080/"
    },
    "id": "95-AHZjn3Nso",
    "outputId": "610c9559-653e-461b-cb55-ba556a26d77b"
   },
   "outputs": [
    {
     "name": "stdout",
     "output_type": "stream",
     "text": [
      "            Sentence #     Word     Tag\n",
      "30073   Sentence: 9999    clamp   Other\n",
      "30074  Sentence: 10000     18in  Length\n",
      "30075  Sentence: 10000      mag   Other\n",
      "30076  Sentence: 10000  pick-up   Other\n",
      "30077  Sentence: 10000     tool   Other\n"
     ]
    }
   ],
   "source": [
    "print(data.tail())"
   ]
  },
  {
   "cell_type": "code",
   "execution_count": 11,
   "metadata": {
    "colab": {
     "base_uri": "https://localhost:8080/"
    },
    "id": "EOdOzFb43QzV",
    "outputId": "01b1c11e-2105-42fd-e083-8feb648afa15"
   },
   "outputs": [
    {
     "name": "stdout",
     "output_type": "stream",
     "text": [
      "데이터에 Null 값이 있는지 유무 : False\n"
     ]
    }
   ],
   "source": [
    "print('데이터에 Null 값이 있는지 유무 : ' + str(data.isnull().values.any()))"
   ]
  },
  {
   "cell_type": "code",
   "execution_count": 12,
   "metadata": {
    "colab": {
     "base_uri": "https://localhost:8080/"
    },
    "id": "9ez83REt3TNT",
    "outputId": "513deee1-1b22-484f-9da0-42752b61a86f"
   },
   "outputs": [
    {
     "name": "stdout",
     "output_type": "stream",
     "text": [
      "Word 열의 중복을 제거한 값의 개수 : 4985\n"
     ]
    }
   ],
   "source": [
    "data['Word'] = data['Word'].str.lower()\n",
    "print('Word 열의 중복을 제거한 값의 개수 : {}'.format(data.Word.nunique()))"
   ]
  },
  {
   "cell_type": "code",
   "execution_count": 13,
   "metadata": {
    "colab": {
     "base_uri": "https://localhost:8080/"
    },
    "id": "n1VSrB3z3UeP",
    "outputId": "37c392fe-2cea-473a-d625-60c6afc8759b"
   },
   "outputs": [
    {
     "name": "stdout",
     "output_type": "stream",
     "text": [
      "    Sentence #        Word    Tag\n",
      "0  Sentence: 1  diversibit  Other\n",
      "1  Sentence: 1         kit  Other\n",
      "2  Sentence: 2          iv  Other\n",
      "3  Sentence: 2          2g  Other\n",
      "4  Sentence: 2        gfci  Other\n"
     ]
    }
   ],
   "source": [
    "print(data[:5])"
   ]
  },
  {
   "cell_type": "code",
   "execution_count": 14,
   "metadata": {
    "colab": {
     "base_uri": "https://localhost:8080/"
    },
    "id": "5v7gEF8u3Vyw",
    "outputId": "5b0794b6-7f58-4627-e601-9061b8008cca"
   },
   "outputs": [
    {
     "name": "stdout",
     "output_type": "stream",
     "text": [
      "전체 샘플 개수: 10000\n"
     ]
    }
   ],
   "source": [
    "func = lambda temp: [(w, t) for w, t in zip(temp[\"Word\"].values.tolist(), temp[\"Tag\"].values.tolist())]\n",
    "tagged_sentences=[t for t in data.groupby(\"Sentence #\").apply(func)]\n",
    "print(\"전체 샘플 개수: {}\".format(len(tagged_sentences)))"
   ]
  },
  {
   "cell_type": "code",
   "execution_count": 15,
   "metadata": {
    "colab": {
     "base_uri": "https://localhost:8080/"
    },
    "id": "BP3eD9h53W_D",
    "outputId": "e81152ed-a8ab-4234-f813-c858c13d3a7d"
   },
   "outputs": [
    {
     "name": "stdout",
     "output_type": "stream",
     "text": [
      "[('diversibit', 'Other'), ('kit', 'Other')]\n"
     ]
    }
   ],
   "source": [
    "print(tagged_sentences[0]) # 첫번째 샘플 출력"
   ]
  },
  {
   "cell_type": "code",
   "execution_count": 16,
   "metadata": {
    "id": "BDIr2WoF3YKu"
   },
   "outputs": [],
   "source": [
    "sentences, ner_tags = [], [] \n",
    "for tagged_sentence in tagged_sentences: # 47,959개의 문장 샘플을 1개씩 불러온다.\n",
    "    sentence, tag_info = zip(*tagged_sentence) # 각 샘플에서 단어들은 sentence에 개체명 태깅 정보들은 tag_info에 저장.\n",
    "    sentences.append(list(sentence)) # 각 샘플에서 단어 정보만 저장한다.\n",
    "    ner_tags.append(list(tag_info)) # 각 샘플에서 개체명 태깅 정보만 저장한다."
   ]
  },
  {
   "cell_type": "code",
   "execution_count": 17,
   "metadata": {
    "colab": {
     "base_uri": "https://localhost:8080/"
    },
    "id": "L0Qcw-VN3aZp",
    "outputId": "8e44f1b6-9a68-4f08-a864-70ccc0138a4c"
   },
   "outputs": [
    {
     "name": "stdout",
     "output_type": "stream",
     "text": [
      "['diversibit', 'kit']\n",
      "['Other', 'Other']\n"
     ]
    }
   ],
   "source": [
    "print(sentences[0])\n",
    "print(ner_tags[0])"
   ]
  },
  {
   "cell_type": "code",
   "execution_count": 18,
   "metadata": {
    "colab": {
     "base_uri": "https://localhost:8080/"
    },
    "id": "zLglFWkC3blL",
    "outputId": "f6c42a2b-ab67-4c16-bdf5-10feff60b34f"
   },
   "outputs": [
    {
     "name": "stdout",
     "output_type": "stream",
     "text": [
      "['wndw', 'door', 'fits']\n",
      "['Type', 'Type', 'Other']\n"
     ]
    }
   ],
   "source": [
    "print(sentences[98])\n",
    "print(ner_tags[98])"
   ]
  },
  {
   "cell_type": "code",
   "execution_count": 19,
   "metadata": {
    "colab": {
     "base_uri": "https://localhost:8080/",
     "height": 315
    },
    "id": "tVvW72m63c0L",
    "outputId": "dd9c08d8-163e-409b-aaf1-44845b1a5cb6"
   },
   "outputs": [
    {
     "name": "stdout",
     "output_type": "stream",
     "text": [
      "샘플의 최대 길이 : 7\n",
      "샘플의 평균 길이 : 3.007800\n"
     ]
    },
    {
     "data": {
      "image/png": "[encoded data removed]",
      "text/plain": [
       "<Figure size 432x288 with 1 Axes>"
      ]
     },
     "metadata": {
      "needs_background": "light"
     },
     "output_type": "display_data"
    }
   ],
   "source": [
    "print('샘플의 최대 길이 : %d' % max(len(l) for l in sentences))\n",
    "print('샘플의 평균 길이 : %f' % (sum(map(len, sentences))/len(sentences)))\n",
    "plt.hist([len(s) for s in sentences], bins=50)\n",
    "plt.xlabel('length of samples')\n",
    "plt.ylabel('number of samples')\n",
    "plt.show()"
   ]
  },
  {
   "cell_type": "code",
   "execution_count": 20,
   "metadata": {
    "id": "Y1Vj7idf3d6X"
   },
   "outputs": [],
   "source": [
    "src_tokenizer = Tokenizer(oov_token='OOV') # 모든 단어를 사용하지만 인덱스 1에는 단어 'OOV'를 할당한다.\n",
    "src_tokenizer.fit_on_texts(sentences)\n",
    "tar_tokenizer = Tokenizer(lower=False) # 태깅 정보들은 내부적으로 대문자를 유지한채로 저장\n",
    "tar_tokenizer.fit_on_texts(ner_tags)"
   ]
  },
  {
   "cell_type": "code",
   "execution_count": 21,
   "metadata": {
    "colab": {
     "base_uri": "https://localhost:8080/"
    },
    "id": "-KrEtQ3j3fTk",
    "outputId": "fe08766e-270b-45e0-9c9c-767e94dfac52"
   },
   "outputs": [
    {
     "name": "stdout",
     "output_type": "stream",
     "text": [
      "단어 집합의 크기 : 4987\n",
      "개체명 태깅 정보 집합의 크기 : 51\n"
     ]
    }
   ],
   "source": [
    "vocab_size = len(src_tokenizer.word_index) + 1\n",
    "tag_size = len(tar_tokenizer.word_index) + 1\n",
    "print('단어 집합의 크기 : {}'.format(vocab_size))\n",
    "print('개체명 태깅 정보 집합의 크기 : {}'.format(tag_size))"
   ]
  },
  {
   "cell_type": "code",
   "execution_count": 22,
   "metadata": {
    "colab": {
     "base_uri": "https://localhost:8080/"
    },
    "id": "9Uir00Gn3nv4",
    "outputId": "f48a7b87-1eba-44f6-9a11-0fd4d82a3afd"
   },
   "outputs": [
    {
     "name": "stdout",
     "output_type": "stream",
     "text": [
      "단어 OOV의 인덱스 : 1\n"
     ]
    }
   ],
   "source": [
    "print('단어 OOV의 인덱스 : {}'.format(src_tokenizer.word_index['OOV']))"
   ]
  },
  {
   "cell_type": "code",
   "execution_count": 23,
   "metadata": {
    "id": "CbThZwgm3pIy"
   },
   "outputs": [],
   "source": [
    "X_data = src_tokenizer.texts_to_sequences(sentences)\n",
    "y_data = tar_tokenizer.texts_to_sequences(ner_tags)"
   ]
  },
  {
   "cell_type": "code",
   "execution_count": 24,
   "metadata": {
    "colab": {
     "base_uri": "https://localhost:8080/"
    },
    "id": "8KW1_b7v3qW-",
    "outputId": "3ef71250-6658-494a-f585-3d26d72320b4"
   },
   "outputs": [
    {
     "name": "stdout",
     "output_type": "stream",
     "text": [
      "[2328, 32]\n",
      "[1, 1]\n"
     ]
    }
   ],
   "source": [
    "print(X_data[0])\n",
    "print(y_data[0])"
   ]
  },
  {
   "cell_type": "code",
   "execution_count": 25,
   "metadata": {
    "id": "FsKckwN-3rh3"
   },
   "outputs": [],
   "source": [
    "word_to_index = src_tokenizer.word_index\n",
    "index_to_word = src_tokenizer.index_word\n",
    "ner_to_index = tar_tokenizer.word_index\n",
    "index_to_ner = tar_tokenizer.index_word\n",
    "index_to_ner[0] = 'PAD'"
   ]
  },
  {
   "cell_type": "code",
   "execution_count": 26,
   "metadata": {
    "colab": {
     "base_uri": "https://localhost:8080/"
    },
    "id": "IFmQxwzW3uMO",
    "outputId": "af07b3ab-b76e-42b5-f9e2-ff42c3c2b774"
   },
   "outputs": [
    {
     "name": "stdout",
     "output_type": "stream",
     "text": [
      "{1: 'Other', 2: 'Type', 3: 'Amps', 4: 'Material', 5: 'Number of Poles', 6: 'Voltage', 7: 'Voltage Maximum', 8: 'Coil Voltage', 9: 'Phase', 10: 'Size', 11: 'Color', 12: '3 Phase Drive Horsepower Rating', 13: 'Length', 14: 'Speed Rating', 15: 'Trade Size', 16: 'Application', 17: 'Cable Type', 18: 'NEMA', 19: 'Connector Type', 20: 'Height', 21: 'Drive Size', 22: 'Depth', 23: 'Drive', 24: 'Installation', 25: 'Width', 26: 'Point', 27: 'Socket Depth', 28: 'Assembly Type', 29: 'Overload Relay', 30: 'Lamp Type', 31: 'Stud Holes', 32: 'Diameter', 33: 'Fixture Type', 34: 'Watts', 35: 'Conductor Type', 36: 'Legend - Number', 37: 'Capacity', 38: 'Category', 39: 'Grade', 40: 'Conductor Count', 41: 'Label Width', 42: 'Use With', 43: 'Product Type', 44: 'Tester Type', 45: 'Mounting Size', 46: 'Grit/ANSI Type', 47: 'For Use With', 48: 'Additional Detail', 49: 'Edge Thickness', 50: 'Container Size', 0: 'PAD'}\n"
     ]
    }
   ],
   "source": [
    "print(index_to_ner)"
   ]
  },
  {
   "cell_type": "code",
   "execution_count": 27,
   "metadata": {
    "colab": {
     "base_uri": "https://localhost:8080/"
    },
    "id": "n4ySMUSt3vY5",
    "outputId": "7961c015-c960-4c03-d0d9-bba1df0ace79"
   },
   "outputs": [
    {
     "name": "stdout",
     "output_type": "stream",
     "text": [
      "기존의 문장 : ['diversibit', 'kit']\n",
      "디코딩 문장 : ['diversibit', 'kit']\n"
     ]
    }
   ],
   "source": [
    "decoded = []\n",
    "for index in X_data[0] : # 첫번째 샘플 안의 인덱스들에 대해서\n",
    "    decoded.append(index_to_word[index]) # 다시 단어로 변환\n",
    "\n",
    "print('기존의 문장 : {}'.format(sentences[0]))\n",
    "print('디코딩 문장 : {}'.format(decoded))"
   ]
  },
  {
   "cell_type": "code",
   "execution_count": 28,
   "metadata": {
    "id": "9mZDlPqo3wlX"
   },
   "outputs": [],
   "source": [
    "max_len = 7\n",
    "X_data = pad_sequences(X_data, padding='post', maxlen=max_len)\n",
    "y_data = pad_sequences(y_data, padding='post', maxlen=max_len)"
   ]
  },
  {
   "cell_type": "code",
   "execution_count": 29,
   "metadata": {
    "colab": {
     "base_uri": "https://localhost:8080/"
    },
    "id": "SyB_WRor7S0Q",
    "outputId": "ebbfffa6-9f40-4278-e4c1-2f736db605ca"
   },
   "outputs": [
    {
     "name": "stdout",
     "output_type": "stream",
     "text": [
      "(10000, 7)\n",
      "(10000, 7)\n"
     ]
    }
   ],
   "source": [
    "print(X_data.shape)\n",
    "print(y_data.shape)"
   ]
  },
  {
   "cell_type": "code",
   "execution_count": 30,
   "metadata": {
    "id": "gJtU5Oz03zNW"
   },
   "outputs": [],
   "source": [
    "X_train, X_test, y_train_int, y_test_int = train_test_split(X_data, y_data, test_size=.2, random_state=777)"
   ]
  },
  {
   "cell_type": "code",
   "execution_count": 31,
   "metadata": {
    "id": "9FfY0d5f30Qv"
   },
   "outputs": [],
   "source": [
    "y_train = to_categorical(y_train_int, num_classes=tag_size)\n",
    "y_test = to_categorical(y_test_int, num_classes=tag_size)"
   ]
  },
  {
   "cell_type": "code",
   "execution_count": 32,
   "metadata": {
    "colab": {
     "base_uri": "https://localhost:8080/"
    },
    "id": "Npq4bXUA7V8k",
    "outputId": "0afb71f9-6b3a-4e64-fd9e-472616251ac9"
   },
   "outputs": [
    {
     "name": "stdout",
     "output_type": "stream",
     "text": [
      "훈련 샘플 문장의 크기 : (8000, 7)\n",
      "훈련 샘플 레이블(정수 인코딩)의 크기 : (8000, 7)\n",
      "훈련 샘플 레이블(원-핫 인코딩)의 크기 : (8000, 7, 51)\n",
      "테스트 샘플 문장의 크기 : (2000, 7)\n",
      "테스트 샘플 레이블(정수 인코딩)의 크기 : (2000, 7)\n",
      "테스트 샘플 레이블(원-핫 인코딩)의 크기 : (2000, 7, 51)\n"
     ]
    }
   ],
   "source": [
    "print('훈련 샘플 문장의 크기 : {}'.format(X_train.shape))\n",
    "print('훈련 샘플 레이블(정수 인코딩)의 크기 : {}'.format(y_train_int.shape))\n",
    "print('훈련 샘플 레이블(원-핫 인코딩)의 크기 : {}'.format(y_train.shape))\n",
    "print('테스트 샘플 문장의 크기 : {}'.format(X_test.shape))\n",
    "print('테스트 샘플 레이블(정수 인코딩)의 크기 : {}'.format(y_test_int.shape))\n",
    "print('테스트 샘플 레이블(원-핫 인코딩)의 크기 : {}'.format(y_test.shape))"
   ]
  },
  {
   "cell_type": "markdown",
   "metadata": {
    "id": "c9maF6Hg7ngI"
   },
   "source": [
    "# char 정보를 사용하기 위한 추가 전처리"
   ]
  },
  {
   "cell_type": "code",
   "execution_count": 33,
   "metadata": {
    "colab": {
     "base_uri": "https://localhost:8080/"
    },
    "id": "UAmtu5LG4m-2",
    "outputId": "fded19de-1451-46d9-bfd8-ab49b9433e26"
   },
   "outputs": [
    {
     "name": "stdout",
     "output_type": "stream",
     "text": [
      "['#', '&', '+', '-', '.', '/', '0', '1', '2', '3', '4', '5', '6', '7', '8', '9', ':', 'a', 'b', 'c', 'd', 'e', 'f', 'g', 'h', 'i', 'j', 'k', 'l', 'm', 'n', 'o', 'p', 'q', 'r', 's', 't', 'u', 'v', 'w', 'x', 'y', 'z']\n"
     ]
    }
   ],
   "source": [
    "# char_vocab 만들기\n",
    "words = list(set(data[\"Word\"].values))\n",
    "chars = set([w_i for w in words for w_i in w])\n",
    "chars = sorted(list(chars))\n",
    "print(chars)"
   ]
  },
  {
   "cell_type": "code",
   "execution_count": 34,
   "metadata": {
    "id": "tjahDonE5Zyn"
   },
   "outputs": [],
   "source": [
    "char_to_index = {c: i + 2 for i, c in enumerate(chars)}\n",
    "char_to_index[\"OOV\"] = 1\n",
    "char_to_index[\"PAD\"] = 0"
   ]
  },
  {
   "cell_type": "code",
   "execution_count": 35,
   "metadata": {
    "id": "L3_Mf9HlB_p4"
   },
   "outputs": [],
   "source": [
    "index_to_char = {}\n",
    "for key, value in char_to_index.items():\n",
    "    index_to_char[value] = key"
   ]
  },
  {
   "cell_type": "code",
   "execution_count": 36,
   "metadata": {
    "colab": {
     "base_uri": "https://localhost:8080/"
    },
    "id": "UbQYSZAl-uWQ",
    "outputId": "3a28c5fc-02f3-4147-fed6-ad7d8b5a6b20"
   },
   "outputs": [
    {
     "name": "stdout",
     "output_type": "stream",
     "text": [
      "['diversibit', 'kit']\n"
     ]
    }
   ],
   "source": [
    "print(sentences[0])"
   ]
  },
  {
   "cell_type": "code",
   "execution_count": 37,
   "metadata": {
    "id": "rNZZqDN99_lU"
   },
   "outputs": [],
   "source": [
    "max_len_char = 16\n",
    "\n",
    "def padding_char_indice(char_indice, max_len_char):\n",
    "  return pad_sequences(\n",
    "        char_indice, maxlen=max_len_char, padding='post', value = 0)\n",
    "\n",
    "def integer_coding(sentences):\n",
    "  char_data = []\n",
    "  for ts in sentences:\n",
    "    word_indice = [word_to_index[t] for t in ts]\n",
    "    char_indice = [[char_to_index[char] for char in t]  \n",
    "                                          for t in ts]\n",
    "    char_indice = padding_char_indice(char_indice, max_len_char)\n",
    "\n",
    "    for chars_of_token in char_indice:\n",
    "      if len(chars_of_token) > max_len_char:\n",
    "        continue\n",
    "    char_data.append(char_indice)\n",
    "  return char_data"
   ]
  },
  {
   "cell_type": "code",
   "execution_count": 38,
   "metadata": {
    "id": "KE7aX8UFC7MT"
   },
   "outputs": [],
   "source": [
    "X_char_data = integer_coding(sentences)"
   ]
  },
  {
   "cell_type": "code",
   "execution_count": 39,
   "metadata": {},
   "outputs": [
    {
     "data": {
      "text/plain": [
       "[array([[22, 27, 40, 23, 36, 37, 27, 20, 27, 38,  0,  0,  0,  0,  0,  0],\n",
       "        [29, 27, 38,  0,  0,  0,  0,  0,  0,  0,  0,  0,  0,  0,  0,  0]]),\n",
       " array([[ 9, 26, 33, 30, 23,  0,  0,  0,  0,  0,  0,  0,  0,  0,  0,  0],\n",
       "        [30, 39, 25,  0,  0,  0,  0,  0,  0,  0,  0,  0,  0,  0,  0,  0]]),\n",
       " array([[ 9, 13,  6, 10, 13, 27, 32,  0,  0,  0,  0,  0,  0,  0,  0,  0],\n",
       "        [32, 43, 30,  0,  0,  0,  0,  0,  0,  0,  0,  0,  0,  0,  0,  0],\n",
       "        [21, 19, 20, 30, 23,  0,  0,  0,  0,  0,  0,  0,  0,  0,  0,  0],\n",
       "        [38, 27, 23,  0,  0,  0,  0,  0,  0,  0,  0,  0,  0,  0,  0,  0]]),\n",
       " array([[ 9,  5,  9,  7, 10,  0,  0,  0,  0,  0,  0,  0,  0,  0,  0,  0],\n",
       "        [37, 38, 36,  0,  0,  0,  0,  0,  0,  0,  0,  0,  0,  0,  0,  0],\n",
       "        [30,  7, 38,  0,  0,  0,  0,  0,  0,  0,  0,  0,  0,  0,  0,  0],\n",
       "        [21, 33, 32, 32,  0,  0,  0,  0,  0,  0,  0,  0,  0,  0,  0,  0]]),\n",
       " array([[ 9, 16, 27, 32,  0,  0,  0,  0,  0,  0,  0,  0,  0,  0,  0,  0],\n",
       "        [31, 19, 25,  0,  0,  0,  0,  0,  0,  0,  0,  0,  0,  0,  0,  0],\n",
       "        [34, 27, 21, 29,  5, 39, 34,  0,  0,  0,  0,  0,  0,  0,  0,  0],\n",
       "        [38, 33, 33, 30,  0,  0,  0,  0,  0,  0,  0,  0,  0,  0,  0,  0]]),\n",
       " array([[41, 22, 39,  0,  0,  0,  0,  0,  0,  0,  0,  0,  0,  0,  0,  0],\n",
       "        [14,  0,  0,  0,  0,  0,  0,  0,  0,  0,  0,  0,  0,  0,  0,  0],\n",
       "        [41, 31,  0,  0,  0,  0,  0,  0,  0,  0,  0,  0,  0,  0,  0,  0],\n",
       "        [20, 25,  0,  0,  0,  0,  0,  0,  0,  0,  0,  0,  0,  0,  0,  0]]),\n",
       " array([[23, 32, 21,  0,  0,  0,  0,  0,  0,  0,  0,  0,  0,  0,  0,  0],\n",
       "        [22, 33, 33, 36,  0,  0,  0,  0,  0,  0,  0,  0,  0,  0,  0,  0]]),\n",
       " array([[12, 16, 40,  0,  0,  0,  0,  0,  0,  0,  0,  0,  0,  0,  0,  0],\n",
       "        [21, 32, 21, 38, 36,  0,  0,  0,  0,  0,  0,  0,  0,  0,  0,  0]]),\n",
       " array([[10, 34,  0,  0,  0,  0,  0,  0,  0,  0,  0,  0,  0,  0,  0,  0],\n",
       "        [10,  8, 19,  0,  0,  0,  0,  0,  0,  0,  0,  0,  0,  0,  0,  0],\n",
       "        [21, 29, 38,  0,  0,  0,  0,  0,  0,  0,  0,  0,  0,  0,  0,  0],\n",
       "        [20, 36, 29, 36,  0,  0,  0,  0,  0,  0,  0,  0,  0,  0,  0,  0]]),\n",
       " array([[10, 13,  8, 40,  0,  0,  0,  0,  0,  0,  0,  0,  0,  0,  0,  0],\n",
       "        [31, 27, 22, 25, 23, 38,  0,  0,  0,  0,  0,  0,  0,  0,  0,  0],\n",
       "        [38, 22,  0,  0,  0,  0,  0,  0,  0,  0,  0,  0,  0,  0,  0,  0],\n",
       "        [24, 39, 37, 23,  0,  0,  0,  0,  0,  0,  0,  0,  0,  0,  0,  0]]),\n",
       " array([[21, 37, 38, 31,  0,  0,  0,  0,  0,  0,  0,  0,  0,  0,  0,  0],\n",
       "        [20, 30, 19, 22, 23,  0,  0,  0,  0,  0,  0,  0,  0,  0,  0,  0],\n",
       "        [37, 23, 38,  0,  0,  0,  0,  0,  0,  0,  0,  0,  0,  0,  0,  0],\n",
       "        [33, 32, 30, 43,  0,  0,  0,  0,  0,  0,  0,  0,  0,  0,  0,  0]]),\n",
       " array([[10, 12,  0,  0,  0,  0,  0,  0,  0,  0,  0,  0,  0,  0,  0,  0],\n",
       "        [14,  0,  0,  0,  0,  0,  0,  0,  0,  0,  0,  0,  0,  0,  0,  0],\n",
       "        [32, 23, 31, 19,  9, 10,  0,  0,  0,  0,  0,  0,  0,  0,  0,  0],\n",
       "        [23, 32, 21, 30,  3, 34, 32, 30,  0,  0,  0,  0,  0,  0,  0,  0]]),\n",
       " array([[23, 32, 21,  7, 24, 30, 19, 32, 25, 23,  0,  0,  0,  0,  0,  0],\n",
       "        [30, 27, 22,  0,  0,  0,  0,  0,  0,  0,  0,  0,  0,  0,  0,  0]]),\n",
       " array([[37, 27, 25, 32, 19, 30,  0,  0,  0,  0,  0,  0,  0,  0,  0,  0],\n",
       "        [21, 19, 20, 30, 23,  0,  0,  0,  0,  0,  0,  0,  0,  0,  0,  0]]),\n",
       " array([[20, 30, 19, 32, 29,  0,  0,  0,  0,  0,  0,  0,  0,  0,  0,  0],\n",
       "        [22, 27, 40, 27, 22, 23, 22,  0,  0,  0,  0,  0,  0,  0,  0,  0],\n",
       "        [23, 32, 22,  0,  0,  0,  0,  0,  0,  0,  0,  0,  0,  0,  0,  0]]),\n",
       " array([[36, 33, 21, 29, 23, 36,  0,  0,  0,  0,  0,  0,  0,  0,  0,  0],\n",
       "        [37, 41, 27, 38, 21, 26,  0,  0,  0,  0,  0,  0,  0,  0,  0,  0]]),\n",
       " array([[12, 16, 40,  0,  0,  0,  0,  0,  0,  0,  0,  0,  0,  0,  0,  0],\n",
       "        [19, 21,  0,  0,  0,  0,  0,  0,  0,  0,  0,  0,  0,  0,  0,  0],\n",
       "        [21, 33, 27, 30,  0,  0,  0,  0,  0,  0,  0,  0,  0,  0,  0,  0]]),\n",
       " array([[20, 39, 27, 30, 22, 27, 32, 25,  0,  0,  0,  0,  0,  0,  0,  0],\n",
       "        [41, 27, 36, 23,  0,  0,  0,  0,  0,  0,  0,  0,  0,  0,  0,  0]]),\n",
       " array([[36, 19, 21, 29,  0,  0,  0,  0,  0,  0,  0,  0,  0,  0,  0,  0],\n",
       "        [37, 38, 32, 22,  7, 33,  0,  0,  0,  0,  0,  0,  0,  0,  0,  0],\n",
       "        [20, 36, 29, 38,  0,  0,  0,  0,  0,  0,  0,  0,  0,  0,  0,  0]]),\n",
       " array([[11, 34, 26,  0,  0,  0,  0,  0,  0,  0,  0,  0,  0,  0,  0,  0],\n",
       "        [10, 12, 40,  0,  0,  0,  0,  0,  0,  0,  0,  0,  0,  0,  0,  0],\n",
       "        [37, 38, 36,  0,  0,  0,  0,  0,  0,  0,  0,  0,  0,  0,  0,  0]]),\n",
       " array([[37, 38, 23, 23, 30,  0,  0,  0,  0,  0,  0,  0,  0,  0,  0,  0],\n",
       "        [21, 33, 40, 23, 36,  0,  0,  0,  0,  0,  0,  0,  0,  0,  0,  0]]),\n",
       " array([[11, 34, 26,  0,  0,  0,  0,  0,  0,  0,  0,  0,  0,  0,  0,  0],\n",
       "        [10,  8,  8, 19,  0,  0,  0,  0,  0,  0,  0,  0,  0,  0,  0,  0],\n",
       "        [21, 20,  0,  0,  0,  0,  0,  0,  0,  0,  0,  0,  0,  0,  0,  0],\n",
       "        [30, 22,  5, 21, 38, 36,  0,  0,  0,  0,  0,  0,  0,  0,  0,  0]]),\n",
       " array([[24, 30, 25, 22,  0,  0,  0,  0,  0,  0,  0,  0,  0,  0,  0,  0],\n",
       "        [27, 32, 30, 23, 38,  5, 32, 23, 31, 19,  0,  0,  0,  0,  0,  0],\n",
       "        [30, 14,  5, 11,  8, 34,  0,  0,  0,  0,  0,  0,  0,  0,  0,  0]]),\n",
       " array([[ 9, 25,  0,  0,  0,  0,  0,  0,  0,  0,  0,  0,  0,  0,  0,  0],\n",
       "        [34, 30, 37, 38, 21,  0,  0,  0,  0,  0,  0,  0,  0,  0,  0,  0],\n",
       "        [33, 39, 38, 30, 23, 38,  0,  0,  0,  0,  0,  0,  0,  0,  0,  0],\n",
       "        [20, 33, 42,  0,  0,  0,  0,  0,  0,  0,  0,  0,  0,  0,  0,  0]]),\n",
       " array([[10,  8, 27, 32,  0,  0,  0,  0,  0,  0,  0,  0,  0,  0,  0,  0],\n",
       "        [23, 32, 21, 30, 33, 37, 39, 36, 23,  0,  0,  0,  0,  0,  0,  0],\n",
       "        [41,  7, 22, 33, 33, 36,  0,  0,  0,  0,  0,  0,  0,  0,  0,  0]]),\n",
       " array([[10,  8,  5, 25, 19,  0,  0,  0,  0,  0,  0,  0,  0,  0,  0,  0],\n",
       "        [37, 38, 30,  0,  0,  0,  0,  0,  0,  0,  0,  0,  0,  0,  0,  0],\n",
       "        [27, 32, 37, 38, 31,  0,  0,  0,  0,  0,  0,  0,  0,  0,  0,  0],\n",
       "        [21, 19, 37, 23,  0,  0,  0,  0,  0,  0,  0,  0,  0,  0,  0,  0]]),\n",
       " array([[41,  7, 31,  0,  0,  0,  0,  0,  0,  0,  0,  0,  0,  0,  0,  0],\n",
       "        [28, 39, 32, 21, 38, 27, 33, 32,  0,  0,  0,  0,  0,  0,  0,  0],\n",
       "        [20, 33, 42,  0,  0,  0,  0,  0,  0,  0,  0,  0,  0,  0,  0,  0]]),\n",
       " array([[11, 34,  0,  0,  0,  0,  0,  0,  0,  0,  0,  0,  0,  0,  0,  0],\n",
       "        [ 9, 13, 19,  0,  0,  0,  0,  0,  0,  0,  0,  0,  0,  0,  0,  0],\n",
       "        [21, 20,  0,  0,  0,  0,  0,  0,  0,  0,  0,  0,  0,  0,  0,  0]]),\n",
       " array([[ 9, 13, 31, 31,  0,  0,  0,  0,  0,  0,  0,  0,  0,  0,  0,  0],\n",
       "        [22, 36, 27, 40, 23,  0,  0,  0,  0,  0,  0,  0,  0,  0,  0,  0],\n",
       "        [20, 33, 30, 38,  0,  0,  0,  0,  0,  0,  0,  0,  0,  0,  0,  0],\n",
       "        [37, 33, 21, 29, 23, 38,  0,  0,  0,  0,  0,  0,  0,  0,  0,  0]]),\n",
       " array([[37, 39, 37, 34, 23, 32, 37, 27, 33, 32,  0,  0,  0,  0,  0,  0],\n",
       "        [38, 39, 20, 23,  0,  0,  0,  0,  0,  0,  0,  0,  0,  0,  0,  0]]),\n",
       " array([[37, 25, 30,  0,  0,  0,  0,  0,  0,  0,  0,  0,  0,  0,  0,  0],\n",
       "        [36, 23, 21,  0,  0,  0,  0,  0,  0,  0,  0,  0,  0,  0,  0,  0],\n",
       "        [34, 30, 38,  0,  0,  0,  0,  0,  0,  0,  0,  0,  0,  0,  0,  0]]),\n",
       " array([[12, 16,  8, 40,  0,  0,  0,  0,  0,  0,  0,  0,  0,  0,  0,  0],\n",
       "        [36, 21, 34,  0,  0,  0,  0,  0,  0,  0,  0,  0,  0,  0,  0,  0]]),\n",
       " array([[11,  7, 12,  0,  0,  0,  0,  0,  0,  0,  0,  0,  0,  0,  0,  0],\n",
       "        [25, 39, 19, 30,  0,  0,  0,  0,  0,  0,  0,  0,  0,  0,  0,  0],\n",
       "        [20, 22, 43,  3, 21, 40, 36,  0,  0,  0,  0,  0,  0,  0,  0,  0]]),\n",
       " array([[32, 21,  0,  0,  0,  0,  0,  0,  0,  0,  0,  0,  0,  0,  0,  0],\n",
       "        [31, 19, 25, 32, 23, 38, 27, 21,  0,  0,  0,  0,  0,  0,  0,  0],\n",
       "        [37, 41, 27, 38, 21, 26,  0,  0,  0,  0,  0,  0,  0,  0,  0,  0]]),\n",
       " array([[31, 19, 25, 32, 23, 38, 27, 21,  0,  0,  0,  0,  0,  0,  0,  0],\n",
       "        [20, 36, 19, 29, 23,  0,  0,  0,  0,  0,  0,  0,  0,  0,  0,  0],\n",
       "        [21, 33, 27, 30,  0,  0,  0,  0,  0,  0,  0,  0,  0,  0,  0,  0]]),\n",
       " array([[ 9, 34, 26,  0,  0,  0,  0,  0,  0,  0,  0,  0,  0,  0,  0,  0],\n",
       "        [10, 12, 40,  0,  0,  0,  0,  0,  0,  0,  0,  0,  0,  0,  0,  0],\n",
       "        [37, 38, 36,  0,  0,  0,  0,  0,  0,  0,  0,  0,  0,  0,  0,  0]]),\n",
       " array([[37, 39, 36, 25, 23,  0,  0,  0,  0,  0,  0,  0,  0,  0,  0,  0],\n",
       "        [37, 39, 34, 34, 36, 23, 37, 37,  0,  0,  0,  0,  0,  0,  0,  0],\n",
       "        [29, 27, 38,  0,  0,  0,  0,  0,  0,  0,  0,  0,  0,  0,  0,  0]]),\n",
       " array([[11, 34,  0,  0,  0,  0,  0,  0,  0,  0,  0,  0,  0,  0,  0,  0],\n",
       "        [12,  8,  8, 19,  0,  0,  0,  0,  0,  0,  0,  0,  0,  0,  0,  0],\n",
       "        [21, 20,  0,  0,  0,  0,  0,  0,  0,  0,  0,  0,  0,  0,  0,  0]]),\n",
       " array([[ 9,  8, 19,  0,  0,  0,  0,  0,  0,  0,  0,  0,  0,  0,  0,  0],\n",
       "        [10, 13,  8, 40,  0,  0,  0,  0,  0,  0,  0,  0,  0,  0,  0,  0],\n",
       "        [36, 29, 36, 37, 41,  0,  0,  0,  0,  0,  0,  0,  0,  0,  0,  0]]),\n",
       " array([[21, 32, 38,  0,  0,  0,  0,  0,  0,  0,  0,  0,  0,  0,  0,  0],\n",
       "        [21, 20, 30,  0,  0,  0,  0,  0,  0,  0,  0,  0,  0,  0,  0,  0]]),\n",
       " array([[23, 32, 22,  0,  0,  0,  0,  0,  0,  0,  0,  0,  0,  0,  0,  0],\n",
       "        [21, 19, 34,  0,  0,  0,  0,  0,  0,  0,  0,  0,  0,  0,  0,  0]]),\n",
       " array([[ 9, 12, 31, 31,  0,  0,  0,  0,  0,  0,  0,  0,  0,  0,  0,  0],\n",
       "        [36, 23, 40,  0,  0,  0,  0,  0,  0,  0,  0,  0,  0,  0,  0,  0],\n",
       "        [36, 38, 21, 26, 38,  0,  0,  0,  0,  0,  0,  0,  0,  0,  0,  0],\n",
       "        [20, 42,  0,  0,  0,  0,  0,  0,  0,  0,  0,  0,  0,  0,  0,  0],\n",
       "        [41, 36, 32,  0,  0,  0,  0,  0,  0,  0,  0,  0,  0,  0,  0,  0]]),\n",
       " array([[15, 13, 26, 34,  0,  0,  0,  0,  0,  0,  0,  0,  0,  0,  0,  0],\n",
       "        [22, 36, 40,  0,  0,  0,  0,  0,  0,  0,  0,  0,  0,  0,  0,  0]]),\n",
       " array([[ 9,  6, 17, 15,  0,  0,  0,  0,  0,  0,  0,  0,  0,  0,  0,  0],\n",
       "        [ 8,  6, 17, 16,  0,  0,  0,  0,  0,  0,  0,  0,  0,  0,  0,  0],\n",
       "        [ 8,  6, 14,  9,  0,  0,  0,  0,  0,  0,  0,  0,  0,  0,  0,  0],\n",
       "        [23, 32, 21,  0,  0,  0,  0,  0,  0,  0,  0,  0,  0,  0,  0,  0]]),\n",
       " array([[10, 26, 39, 20,  0,  0,  0,  0,  0,  0,  0,  0,  0,  0,  0,  0],\n",
       "        [39, 34,  0,  0,  0,  0,  0,  0,  0,  0,  0,  0,  0,  0,  0,  0],\n",
       "        [25, 36, 19, 22, 23,  0,  0,  0,  0,  0,  0,  0,  0,  0,  0,  0],\n",
       "        [29, 27, 38,  0,  0,  0,  0,  0,  0,  0,  0,  0,  0,  0,  0,  0]]),\n",
       " array([[36, 23, 34, 30,  0,  0,  0,  0,  0,  0,  0,  0,  0,  0,  0,  0],\n",
       "        [24, 19, 32,  0,  0,  0,  0,  0,  0,  0,  0,  0,  0,  0,  0,  0]]),\n",
       " array([[ 9,  7, 10,  0,  0,  0,  0,  0,  0,  0,  0,  0,  0,  0,  0,  0],\n",
       "        [21, 33, 32, 22, 39, 27, 38,  0,  0,  0,  0,  0,  0,  0,  0,  0],\n",
       "        [37, 39, 34, 34, 33, 36, 38,  0,  0,  0,  0,  0,  0,  0,  0,  0]]),\n",
       " array([[32,  9, 10,  0,  0,  0,  0,  0,  0,  0,  0,  0,  0,  0,  0,  0],\n",
       "        [21, 33, 31, 20,  0,  0,  0,  0,  0,  0,  0,  0,  0,  0,  0,  0],\n",
       "        [37, 38, 19, 36, 38, 23, 36,  0,  0,  0,  0,  0,  0,  0,  0,  0]]),\n",
       " array([[32, 31, 19,  9, 10,  0,  0,  0,  0,  0,  0,  0,  0,  0,  0,  0],\n",
       "        [22, 27, 37, 21, 33, 32, 32,  0,  0,  0,  0,  0,  0,  0,  0,  0],\n",
       "        [23, 32, 21,  0,  0,  0,  0,  0,  0,  0,  0,  0,  0,  0,  0,  0]]),\n",
       " array([[15, 13, 19,  0,  0,  0,  0,  0,  0,  0,  0,  0,  0,  0,  0,  0],\n",
       "        [37, 44,  0,  0,  0,  0,  0,  0,  0,  0,  0,  0,  0,  0,  0,  0],\n",
       "        [10,  0,  0,  0,  0,  0,  0,  0,  0,  0,  0,  0,  0,  0,  0,  0],\n",
       "        [21, 33, 32, 38, 19, 21, 38, 33, 36,  0,  0,  0,  0,  0,  0,  0]]),\n",
       " array([[22,  5, 34, 39, 36, 34,  0,  0,  0,  0,  0,  0,  0,  0,  0,  0],\n",
       "        [21, 32, 21, 38, 36,  0,  0,  0,  0,  0,  0,  0,  0,  0,  0,  0]]),\n",
       " array([[11, 34, 26,  0,  0,  0,  0,  0,  0,  0,  0,  0,  0,  0,  0,  0],\n",
       "        [10, 12,  8, 40,  0,  0,  0,  0,  0,  0,  0,  0,  0,  0,  0,  0],\n",
       "        [21, 32, 21, 38, 36,  0,  0,  0,  0,  0,  0,  0,  0,  0,  0,  0]]),\n",
       " array([[12, 13, 29, 40, 19,  0,  0,  0,  0,  0,  0,  0,  0,  0,  0,  0],\n",
       "        [38, 24, 31,  0,  0,  0,  0,  0,  0,  0,  0,  0,  0,  0,  0,  0]]),\n",
       " array([[21, 20,  0,  0,  0,  0,  0,  0,  0,  0,  0,  0,  0,  0,  0,  0],\n",
       "        [21, 19, 20, 30, 23,  0,  0,  0,  0,  0,  0,  0,  0,  0,  0,  0]]),\n",
       " array([[20, 39, 27, 30, 22, 27, 32, 25,  0,  0,  0,  0,  0,  0,  0,  0],\n",
       "        [41, 27, 36, 23,  0,  0,  0,  0,  0,  0,  0,  0,  0,  0,  0,  0]]),\n",
       " array([[24, 37,  0,  0,  0,  0,  0,  0,  0,  0,  0,  0,  0,  0,  0,  0],\n",
       "        [21, 31, 20,  0,  0,  0,  0,  0,  0,  0,  0,  0,  0,  0,  0,  0],\n",
       "        [37, 44,  0,  0,  0,  0,  0,  0,  0,  0,  0,  0,  0,  0,  0,  0],\n",
       "        [ 8,  0,  0,  0,  0,  0,  0,  0,  0,  0,  0,  0,  0,  0,  0,  0],\n",
       "        [23, 32, 21, 30,  0,  0,  0,  0,  0,  0,  0,  0,  0,  0,  0,  0]]),\n",
       " array([[37, 38, 19, 36, 38,  5, 37, 38, 33, 34,  0,  0,  0,  0,  0,  0],\n",
       "        [33,  7, 38,  0,  0,  0,  0,  0,  0,  0,  0,  0,  0,  0,  0,  0],\n",
       "        [34, 20,  0,  0,  0,  0,  0,  0,  0,  0,  0,  0,  0,  0,  0,  0]]),\n",
       " array([[38, 33, 38, 19, 30, 27, 44, 23, 36,  0,  0,  0,  0,  0,  0,  0]]),\n",
       " array([[10, 13, 26, 34,  0,  0,  0,  0,  0,  0,  0,  0,  0,  0,  0,  0],\n",
       "        [22, 36, 40,  0,  0,  0,  0,  0,  0,  0,  0,  0,  0,  0,  0,  0]]),\n",
       " array([[ 9, 10, 34, 38,  0,  0,  0,  0,  0,  0,  0,  0,  0,  0,  0,  0],\n",
       "        [10, 14, 31, 31,  0,  0,  0,  0,  0,  0,  0,  0,  0,  0,  0,  0],\n",
       "        [20, 30, 29,  0,  0,  0,  0,  0,  0,  0,  0,  0,  0,  0,  0,  0],\n",
       "        [41, 36, 32,  0,  0,  0,  0,  0,  0,  0,  0,  0,  0,  0,  0,  0]]),\n",
       " array([[34, 22, 39,  0,  0,  0,  0,  0,  0,  0,  0,  0,  0,  0,  0,  0]]),\n",
       " array([[38, 23, 36, 31,  0,  0,  0,  0,  0,  0,  0,  0,  0,  0,  0,  0],\n",
       "        [20, 30, 33, 29,  0,  0,  0,  0,  0,  0,  0,  0,  0,  0,  0,  0],\n",
       "        [23, 32, 22,  0,  0,  0,  0,  0,  0,  0,  0,  0,  0,  0,  0,  0],\n",
       "        [21, 40, 36,  0,  0,  0,  0,  0,  0,  0,  0,  0,  0,  0,  0,  0]]),\n",
       " array([[11,  8,  8,  8, 36, 34, 31,  0,  0,  0,  0,  0,  0,  0,  0,  0],\n",
       "        [31, 38, 36,  0,  0,  0,  0,  0,  0,  0,  0,  0,  0,  0,  0,  0]]),\n",
       " array([[14,  8,  8, 19, 10, 34,  0,  0,  0,  0,  0,  0,  0,  0,  0,  0],\n",
       "        [14,  8,  8, 40,  0,  0,  0,  0,  0,  0,  0,  0,  0,  0,  0,  0],\n",
       "        [21, 20,  0,  0,  0,  0,  0,  0,  0,  0,  0,  0,  0,  0,  0,  0]]),\n",
       " array([[10, 10,  8,  8,  0,  0,  0,  0,  0,  0,  0,  0,  0,  0,  0,  0],\n",
       "        [14,  8,  8,  0,  0,  0,  0,  0,  0,  0,  0,  0,  0,  0,  0,  0],\n",
       "        [37, 27, 22, 23,  0,  0,  0,  0,  0,  0,  0,  0,  0,  0,  0,  0],\n",
       "        [21, 40, 36,  0,  0,  0,  0,  0,  0,  0,  0,  0,  0,  0,  0,  0]]),\n",
       " array([[10,  0,  0,  0,  0,  0,  0,  0,  0,  0,  0,  0,  0,  0,  0,  0],\n",
       "        [17,  7,  9, 14,  0,  0,  0,  0,  0,  0,  0,  0,  0,  0,  0,  0],\n",
       "        [37, 39, 34, 34,  0,  0,  0,  0,  0,  0,  0,  0,  0,  0,  0,  0],\n",
       "        [21, 26, 32, 30,  0,  0,  0,  0,  0,  0,  0,  0,  0,  0,  0,  0]]),\n",
       " array([[11,  8,  8,  8, 36, 34, 31,  0,  0,  0,  0,  0,  0,  0,  0,  0],\n",
       "        [31, 38, 36,  0,  0,  0,  0,  0,  0,  0,  0,  0,  0,  0,  0,  0]]),\n",
       " array([[24, 37,  0,  0,  0,  0,  0,  0,  0,  0,  0,  0,  0,  0,  0,  0],\n",
       "        [21, 33, 31, 20, 33,  0,  0,  0,  0,  0,  0,  0,  0,  0,  0,  0],\n",
       "        [24, 40, 36, 23, 32, 21, 30,  9,  0,  0,  0,  0,  0,  0,  0,  0]]),\n",
       " array([[13,  8,  8, 41,  0,  0,  0,  0,  0,  0,  0,  0,  0,  0,  0,  0],\n",
       "        [10, 41, 36,  0,  0,  0,  0,  0,  0,  0,  0,  0,  0,  0,  0,  0],\n",
       "        [41, 30,  0,  0,  0,  0,  0,  0,  0,  0,  0,  0,  0,  0,  0,  0],\n",
       "        [37, 23, 32,  0,  0,  0,  0,  0,  0,  0,  0,  0,  0,  0,  0,  0]]),\n",
       " array([[10, 26, 34,  0,  0,  0,  0,  0,  0,  0,  0,  0,  0,  0,  0,  0],\n",
       "        [12, 16,  8, 40,  0,  0,  0,  0,  0,  0,  0,  0,  0,  0,  0,  0],\n",
       "        [22, 36, 40,  0,  0,  0,  0,  0,  0,  0,  0,  0,  0,  0,  0,  0]]),\n",
       " array([[37,  8,  8,  0,  0,  0,  0,  0,  0,  0,  0,  0,  0,  0,  0,  0],\n",
       "        [34, 30, 32, 38,  0,  0,  0,  0,  0,  0,  0,  0,  0,  0,  0,  0],\n",
       "        [34, 36, 33, 38,  0,  0,  0,  0,  0,  0,  0,  0,  0,  0,  0,  0],\n",
       "        [21, 20,  0,  0,  0,  0,  0,  0,  0,  0,  0,  0,  0,  0,  0,  0]]),\n",
       " array([[ 9,  5,  9,  7, 12,  0,  0,  0,  0,  0,  0,  0,  0,  0,  0,  0],\n",
       "        [19, 30,  0,  0,  0,  0,  0,  0,  0,  0,  0,  0,  0,  0,  0,  0],\n",
       "        [30, 20,  0,  0,  0,  0,  0,  0,  0,  0,  0,  0,  0,  0,  0,  0],\n",
       "        [21, 33, 32, 22,  0,  0,  0,  0,  0,  0,  0,  0,  0,  0,  0,  0],\n",
       "        [20, 33, 22, 43,  0,  0,  0,  0,  0,  0,  0,  0,  0,  0,  0,  0]]),\n",
       " array([[11,  8,  8,  8, 36, 34, 31,  0,  0,  0,  0,  0,  0,  0,  0,  0],\n",
       "        [31, 38, 36,  0,  0,  0,  0,  0,  0,  0,  0,  0,  0,  0,  0,  0]]),\n",
       " array([[ 9,  6, 13, 26, 34,  0,  0,  0,  0,  0,  0,  0,  0,  0,  0,  0],\n",
       "        [22, 36, 40,  0,  0,  0,  0,  0,  0,  0,  0,  0,  0,  0,  0,  0]]),\n",
       " array([[16, 13, 41,  0,  0,  0,  0,  0,  0,  0,  0,  0,  0,  0,  0,  0],\n",
       "        [21, 23, 27, 30,  0,  0,  0,  0,  0,  0,  0,  0,  0,  0,  0,  0],\n",
       "        [27, 32, 22, 21, 38, 32,  0,  0,  0,  0,  0,  0,  0,  0,  0,  0],\n",
       "        [24, 42,  0,  0,  0,  0,  0,  0,  0,  0,  0,  0,  0,  0,  0,  0]]),\n",
       " array([[ 9, 25,  0,  0,  0,  0,  0,  0,  0,  0,  0,  0,  0,  0,  0,  0],\n",
       "        [ 9, 34, 20,  0,  0,  0,  0,  0,  0,  0,  0,  0,  0,  0,  0,  0],\n",
       "        [39, 32, 27, 30, 23, 38,  0,  0,  0,  0,  0,  0,  0,  0,  0,  0]]),\n",
       " array([[12, 34,  0,  0,  0,  0,  0,  0,  0,  0,  0,  0,  0,  0,  0,  0],\n",
       "        [ 9,  8,  8, 19,  0,  0,  0,  0,  0,  0,  0,  0,  0,  0,  0,  0],\n",
       "        [21, 32, 21, 38, 36,  0,  0,  0,  0,  0,  0,  0,  0,  0,  0,  0]]),\n",
       " array([[11,  8,  8,  8, 36, 34, 31,  0,  0,  0,  0,  0,  0,  0,  0,  0],\n",
       "        [31, 38, 36,  0,  0,  0,  0,  0,  0,  0,  0,  0,  0,  0,  0,  0]]),\n",
       " array([[37, 36, 25,  0,  0,  0,  0,  0,  0,  0,  0,  0,  0,  0,  0,  0],\n",
       "        [34, 36, 33, 38, 36,  0,  0,  0,  0,  0,  0,  0,  0,  0,  0,  0]]),\n",
       " array([[ 9, 13, 19, 31, 34,  0,  0,  0,  0,  0,  0,  0,  0,  0,  0,  0],\n",
       "        [34, 33, 41, 23, 36,  0,  0,  0,  0,  0,  0,  0,  0,  0,  0,  0],\n",
       "        [37, 38, 36, 27, 34,  0,  0,  0,  0,  0,  0,  0,  0,  0,  0,  0]]),\n",
       " array([[10,  8, 16, 40,  0,  0,  0,  0,  0,  0,  0,  0,  0,  0,  0,  0],\n",
       "        [21,  5, 37, 38, 36,  0,  0,  0,  0,  0,  0,  0,  0,  0,  0,  0]]),\n",
       " array([[22, 34, 22, 38,  0,  0,  0,  0,  0,  0,  0,  0,  0,  0,  0,  0],\n",
       "        [11,  8, 19,  0,  0,  0,  0,  0,  0,  0,  0,  0,  0,  0,  0,  0],\n",
       "        [20, 36, 32,  0,  0,  0,  0,  0,  0,  0,  0,  0,  0,  0,  0,  0],\n",
       "        [31, 19, 32,  0,  0,  0,  0,  0,  0,  0,  0,  0,  0,  0,  0,  0],\n",
       "        [21, 38, 36, 30, 36,  0,  0,  0,  0,  0,  0,  0,  0,  0,  0,  0],\n",
       "        [37, 41,  0,  0,  0,  0,  0,  0,  0,  0,  0,  0,  0,  0,  0,  0]]),\n",
       " array([[19, 21,  0,  0,  0,  0,  0,  0,  0,  0,  0,  0,  0,  0,  0,  0],\n",
       "        [21, 33, 27, 30,  0,  0,  0,  0,  0,  0,  0,  0,  0,  0,  0,  0]]),\n",
       " array([[10, 34,  0,  0,  0,  0,  0,  0,  0,  0,  0,  0,  0,  0,  0,  0],\n",
       "        [11,  8,  8, 19,  0,  0,  0,  0,  0,  0,  0,  0,  0,  0,  0,  0],\n",
       "        [21, 29, 38,  0,  0,  0,  0,  0,  0,  0,  0,  0,  0,  0,  0,  0],\n",
       "        [20, 36, 29, 36,  0,  0,  0,  0,  0,  0,  0,  0,  0,  0,  0,  0]]),\n",
       " array([[ 9,  9, 13, 19,  0,  0,  0,  0,  0,  0,  0,  0,  0,  0,  0,  0],\n",
       "        [27, 23, 21,  0,  0,  0,  0,  0,  0,  0,  0,  0,  0,  0,  0,  0],\n",
       "        [37, 38, 36,  0,  0,  0,  0,  0,  0,  0,  0,  0,  0,  0,  0,  0]]),\n",
       " array([[10, 12, 39,  0,  0,  0,  0,  0,  0,  0,  0,  0,  0,  0,  0,  0],\n",
       "        [37, 23, 36, 40, 23, 36,  0,  0,  0,  0,  0,  0,  0,  0,  0,  0],\n",
       "        [21, 19, 20,  0,  0,  0,  0,  0,  0,  0,  0,  0,  0,  0,  0,  0]]),\n",
       " array([[ 9, 15, 29, 41,  0,  0,  0,  0,  0,  0,  0,  0,  0,  0,  0,  0],\n",
       "        [31, 38, 36,  0,  0,  0,  0,  0,  0,  0,  0,  0,  0,  0,  0,  0]]),\n",
       " array([[37, 23, 36, 40, 23, 36,  0,  0,  0,  0,  0,  0,  0,  0,  0,  0],\n",
       "        [38, 34,  0,  0,  0,  0,  0,  0,  0,  0,  0,  0,  0,  0,  0,  0],\n",
       "        [21, 19, 20, 27, 32, 23, 38,  0,  0,  0,  0,  0,  0,  0,  0,  0]]),\n",
       " array([[25, 36, 32,  0,  0,  0,  0,  0,  0,  0,  0,  0,  0,  0,  0,  0],\n",
       "        [30, 23, 22,  0,  0,  0,  0,  0,  0,  0,  0,  0,  0,  0,  0,  0],\n",
       "        [37, 34, 23, 21,  0,  0,  0,  0,  0,  0,  0,  0,  0,  0,  0,  0],\n",
       "        [30, 19, 31, 34,  0,  0,  0,  0,  0,  0,  0,  0,  0,  0,  0,  0]]),\n",
       " array([[ 9, 13, 19,  0,  0,  0,  0,  0,  0,  0,  0,  0,  0,  0,  0,  0],\n",
       "        [ 9, 10, 13, 40,  0,  0,  0,  0,  0,  0,  0,  0,  0,  0,  0,  0],\n",
       "        [36, 21, 34,  0,  0,  0,  0,  0,  0,  0,  0,  0,  0,  0,  0,  0]]),\n",
       " array([[24, 19, 21, 23, 34, 30, 19, 38, 23,  0,  0,  0,  0,  0,  0,  0]]),\n",
       " array([[11,  7, 12,  0,  0,  0,  0,  0,  0,  0,  0,  0,  0,  0,  0,  0],\n",
       "        [24, 23, 31,  0,  0,  0,  0,  0,  0,  0,  0,  0,  0,  0,  0,  0],\n",
       "        [21, 33, 36, 22,  0,  0,  0,  0,  0,  0,  0,  0,  0,  0,  0,  0],\n",
       "        [21, 33, 32, 32,  0,  0,  0,  0,  0,  0,  0,  0,  0,  0,  0,  0]]),\n",
       " array([[37, 27, 25, 32, 19, 30,  0,  0,  0,  0,  0,  0,  0,  0,  0,  0],\n",
       "        [21, 19, 20, 30, 23,  0,  0,  0,  0,  0,  0,  0,  0,  0,  0,  0]]),\n",
       " array([[41, 26, 38,  0,  0,  0,  0,  0,  0,  0,  0,  0,  0,  0,  0,  0],\n",
       "        [32, 31,  0,  0,  0,  0,  0,  0,  0,  0,  0,  0,  0,  0,  0,  0],\n",
       "        [36, 19, 21, 23, 41, 19, 43,  0,  0,  0,  0,  0,  0,  0,  0,  0]]),\n",
       " array([[10,  8,  8, 19,  0,  0,  0,  0,  0,  0,  0,  0,  0,  0,  0,  0],\n",
       "        [10, 31, 38, 36,  0,  0,  0,  0,  0,  0,  0,  0,  0,  0,  0,  0],\n",
       "        [37, 29, 38,  0,  0,  0,  0,  0,  0,  0,  0,  0,  0,  0,  0,  0]]),\n",
       " array([[14, 40,  0,  0,  0,  0,  0,  0,  0,  0,  0,  0,  0,  0,  0,  0],\n",
       "        [19, 31, 20,  0,  0,  0,  0,  0,  0,  0,  0,  0,  0,  0,  0,  0],\n",
       "        [25, 30, 37,  0,  0,  0,  0,  0,  0,  0,  0,  0,  0,  0,  0,  0],\n",
       "        [24, 40, 38, 25,  0,  0,  0,  0,  0,  0,  0,  0,  0,  0,  0,  0],\n",
       "        [34,  7, 30,  0,  0,  0,  0,  0,  0,  0,  0,  0,  0,  0,  0,  0]]),\n",
       " array([[15,  7,  9, 14,  0,  0,  0,  0,  0,  0,  0,  0,  0,  0,  0,  0],\n",
       "        [37, 33, 21, 29, 23, 38,  0,  0,  0,  0,  0,  0,  0,  0,  0,  0]]),\n",
       " array([[11, 34,  0,  0,  0,  0,  0,  0,  0,  0,  0,  0,  0,  0,  0,  0],\n",
       "        [17,  8,  8, 19,  0,  0,  0,  0,  0,  0,  0,  0,  0,  0,  0,  0],\n",
       "        [11, 13, 29, 19,  0,  0,  0,  0,  0,  0,  0,  0,  0,  0,  0,  0],\n",
       "        [21,  7, 20,  0,  0,  0,  0,  0,  0,  0,  0,  0,  0,  0,  0,  0]]),\n",
       " array([[41, 32, 22, 41,  0,  0,  0,  0,  0,  0,  0,  0,  0,  0,  0,  0],\n",
       "        [22, 33, 33, 36,  0,  0,  0,  0,  0,  0,  0,  0,  0,  0,  0,  0],\n",
       "        [24, 27, 38, 37,  0,  0,  0,  0,  0,  0,  0,  0,  0,  0,  0,  0]]),\n",
       " array([[23, 32, 21,  0,  0,  0,  0,  0,  0,  0,  0,  0,  0,  0,  0,  0],\n",
       "        [19, 30,  0,  0,  0,  0,  0,  0,  0,  0,  0,  0,  0,  0,  0,  0],\n",
       "        [21, 26, 19, 37, 37, 27, 37,  0,  0,  0,  0,  0,  0,  0,  0,  0]]),\n",
       " array([[38, 24, 31, 36,  0,  0,  0,  0,  0,  0,  0,  0,  0,  0,  0,  0],\n",
       "        [31, 32, 38, 25,  0,  0,  0,  0,  0,  0,  0,  0,  0,  0,  0,  0],\n",
       "        [20, 19, 37, 23,  0,  0,  0,  0,  0,  0,  0,  0,  0,  0,  0,  0]]),\n",
       " array([[ 8,  6, 15, 13,  5,  8,  6, 17, 17, 27, 32,  0,  0,  0,  0,  0],\n",
       "        [25, 36, 27, 34,  0,  0,  0,  0,  0,  0,  0,  0,  0,  0,  0,  0]]),\n",
       " array([[12, 13,  8,  8, 36, 34, 31,  0,  0,  0,  0,  0,  0,  0,  0,  0],\n",
       "        [31, 38, 36,  0,  0,  0,  0,  0,  0,  0,  0,  0,  0,  0,  0,  0]]),\n",
       " array([[32,  9, 10,  0,  0,  0,  0,  0,  0,  0,  0,  0,  0,  0,  0,  0],\n",
       "        [21, 33, 31, 20,  0,  0,  0,  0,  0,  0,  0,  0,  0,  0,  0,  0],\n",
       "        [37, 38, 36, 38, 36,  0,  0,  0,  0,  0,  0,  0,  0,  0,  0,  0]]),\n",
       " array([[ 9, 10,  8, 40,  0,  0,  0,  0,  0,  0,  0,  0,  0,  0,  0,  0],\n",
       "        [32, 12,  0,  0,  0,  0,  0,  0,  0,  0,  0,  0,  0,  0,  0,  0],\n",
       "        [37, 38, 36,  0,  0,  0,  0,  0,  0,  0,  0,  0,  0,  0,  0,  0]]),\n",
       " array([[21, 36, 32, 38,  0,  0,  0,  0,  0,  0,  0,  0,  0,  0,  0,  0],\n",
       "        [34, 36, 38, 38, 40,  0,  0,  0,  0,  0,  0,  0,  0,  0,  0,  0],\n",
       "        [22, 23, 40,  0,  0,  0,  0,  0,  0,  0,  0,  0,  0,  0,  0,  0]]),\n",
       " array([[41, 27, 36, 27, 32, 25,  0,  0,  0,  0,  0,  0,  0,  0,  0,  0],\n",
       "        [22, 39, 21, 38,  0,  0,  0,  0,  0,  0,  0,  0,  0,  0,  0,  0]]),\n",
       " array([[27, 32, 37, 38, 36, 39, 31, 23, 32, 38,  0,  0,  0,  0,  0,  0],\n",
       "        [23, 32, 21, 30, 33, 37, 39, 36, 23,  0,  0,  0,  0,  0,  0,  0]]),\n",
       " array([[21, 19, 20,  0,  0,  0,  0,  0,  0,  0,  0,  0,  0,  0,  0,  0],\n",
       "        [30, 33, 21, 29, 27, 32, 25,  0,  0,  0,  0,  0,  0,  0,  0,  0],\n",
       "        [22, 33, 33, 36,  0,  0,  0,  0,  0,  0,  0,  0,  0,  0,  0,  0]]),\n",
       " array([[21, 20,  0,  0,  0,  0,  0,  0,  0,  0,  0,  0,  0,  0,  0,  0],\n",
       "        [20, 19, 36, 36, 27, 23, 36,  0,  0,  0,  0,  0,  0,  0,  0,  0]]),\n",
       " array([[ 9, 10, 31, 31,  0,  0,  0,  0,  0,  0,  0,  0,  0,  0,  0,  0],\n",
       "        [26, 23, 42,  0,  0,  0,  0,  0,  0,  0,  0,  0,  0,  0,  0,  0],\n",
       "        [20, 27, 38,  0,  0,  0,  0,  0,  0,  0,  0,  0,  0,  0,  0,  0],\n",
       "        [37, 29, 38,  0,  0,  0,  0,  0,  0,  0,  0,  0,  0,  0,  0,  0]]),\n",
       " array([[15, 13, 29, 40, 19,  0,  0,  0,  0,  0,  0,  0,  0,  0,  0,  0],\n",
       "        [38, 24, 31,  0,  0,  0,  0,  0,  0,  0,  0,  0,  0,  0,  0,  0]]),\n",
       " array([[20, 39, 27, 30, 22, 27, 32, 25,  0,  0,  0,  0,  0,  0,  0,  0],\n",
       "        [41, 27, 36, 23,  0,  0,  0,  0,  0,  0,  0,  0,  0,  0,  0,  0]]),\n",
       " array([[30, 13,  5, 10,  8, 34,  0,  0,  0,  0,  0,  0,  0,  0,  0,  0],\n",
       "        [38, 33,  0,  0,  0,  0,  0,  0,  0,  0,  0,  0,  0,  0,  0,  0],\n",
       "        [13,  5, 10,  8, 36,  0,  0,  0,  0,  0,  0,  0,  0,  0,  0,  0],\n",
       "        [19, 22, 34, 38,  0,  0,  0,  0,  0,  0,  0,  0,  0,  0,  0,  0]]),\n",
       " array([[14,  8,  8, 40,  0,  0,  0,  0,  0,  0,  0,  0,  0,  0,  0,  0],\n",
       "        [36, 21, 34,  0,  0,  0,  0,  0,  0,  0,  0,  0,  0,  0,  0,  0]]),\n",
       " array([[16, 31,  0,  0,  0,  0,  0,  0,  0,  0,  0,  0,  0,  0,  0,  0],\n",
       "        [21, 19, 20, 30, 23,  0,  0,  0,  0,  0,  0,  0,  0,  0,  0,  0]]),\n",
       " array([[34, 33, 34,  0,  0,  0,  0,  0,  0,  0,  0,  0,  0,  0,  0,  0],\n",
       "        [34, 23, 22, 23, 37, 38, 19, 30,  0,  0,  0,  0,  0,  0,  0,  0]]),\n",
       " array([[21, 19, 31, 23, 36, 19,  0,  0,  0,  0,  0,  0,  0,  0,  0,  0],\n",
       "        [41, 27, 32, 22, 33, 41,  0,  0,  0,  0,  0,  0,  0,  0,  0,  0],\n",
       "        [29, 27, 38,  0,  0,  0,  0,  0,  0,  0,  0,  0,  0,  0,  0,  0]]),\n",
       " array([[37, 27, 32, 23,  5, 41, 19, 40, 23,  0,  0,  0,  0,  0,  0,  0],\n",
       "        [24, 27, 30, 38, 23, 36,  0,  0,  0,  0,  0,  0,  0,  0,  0,  0]]),\n",
       " array([[ 9, 14,  8, 29, 19,  0,  0,  0,  0,  0,  0,  0,  0,  0,  0,  0],\n",
       "        [37, 34, 22, 23, 40,  0,  0,  0,  0,  0,  0,  0,  0,  0,  0,  0]]),\n",
       " array([[ 9, 27, 32,  0,  0,  0,  0,  0,  0,  0,  0,  0,  0,  0,  0,  0],\n",
       "        [25, 36, 32,  0,  0,  0,  0,  0,  0,  0,  0,  0,  0,  0,  0,  0],\n",
       "        [21, 33, 36, 22,  0,  0,  0,  0,  0,  0,  0,  0,  0,  0,  0,  0],\n",
       "        [25, 36, 27, 34,  0,  0,  0,  0,  0,  0,  0,  0,  0,  0,  0,  0]]),\n",
       " array([[12, 34,  0,  0,  0,  0,  0,  0,  0,  0,  0,  0,  0,  0,  0,  0],\n",
       "        [10, 31,  0,  0,  0,  0,  0,  0,  0,  0,  0,  0,  0,  0,  0,  0],\n",
       "        [ 2,  9, 16, 19, 41, 25,  0,  0,  0,  0,  0,  0,  0,  0,  0,  0]]),\n",
       " array([[ 9,  6, 10, 13, 27, 32,  0,  0,  0,  0,  0,  0,  0,  0,  0,  0],\n",
       "        [31,  5, 31,  0,  0,  0,  0,  0,  0,  0,  0,  0,  0,  0,  0,  0],\n",
       "        [21, 33, 31, 34,  0,  0,  0,  0,  0,  0,  0,  0,  0,  0,  0,  0],\n",
       "        [24,  5, 21, 33, 32, 32,  0,  0,  0,  0,  0,  0,  0,  0,  0,  0]]),\n",
       " array([[37, 27, 25, 32, 19, 30,  0,  0,  0,  0,  0,  0,  0,  0,  0,  0],\n",
       "        [21, 20, 30,  0,  0,  0,  0,  0,  0,  0,  0,  0,  0,  0,  0,  0]]),\n",
       " array([[38, 10,  8,  0,  0,  0,  0,  0,  0,  0,  0,  0,  0,  0,  0,  0],\n",
       "        [38, 33, 36, 42,  0,  0,  0,  0,  0,  0,  0,  0,  0,  0,  0,  0],\n",
       "        [26, 23, 42,  0,  0,  0,  0,  0,  0,  0,  0,  0,  0,  0,  0,  0],\n",
       "        [27, 32, 37,  0,  0,  0,  0,  0,  0,  0,  0,  0,  0,  0,  0,  0],\n",
       "        [20, 27, 38,  0,  0,  0,  0,  0,  0,  0,  0,  0,  0,  0,  0,  0]]),\n",
       " array([[34, 33, 41, 23, 36,  0,  0,  0,  0,  0,  0,  0,  0,  0,  0,  0],\n",
       "        [21, 19, 20, 30, 23,  0,  0,  0,  0,  0,  0,  0,  0,  0,  0,  0]]),\n",
       " array([[20, 19, 36, 23,  0,  0,  0,  0,  0,  0,  0,  0,  0,  0,  0,  0],\n",
       "        [38, 36, 19, 32, 37, 31, 27, 37, 37, 27, 33, 32,  0,  0,  0,  0],\n",
       "        [19, 32, 22,  0,  0,  0,  0,  0,  0,  0,  0,  0,  0,  0,  0,  0],\n",
       "        [22, 27, 37, 38, 36, 27, 20, 39, 38,  0,  0,  0,  0,  0,  0,  0]]),\n",
       " array([[22, 36, 40,  0,  0,  0,  0,  0,  0,  0,  0,  0,  0,  0,  0,  0],\n",
       "        [36, 21, 38, 24, 36,  0,  0,  0,  0,  0,  0,  0,  0,  0,  0,  0]]),\n",
       " array([[11, 34,  0,  0,  0,  0,  0,  0,  0,  0,  0,  0,  0,  0,  0,  0],\n",
       "        [ 9, 10,  8, 19,  0,  0,  0,  0,  0,  0,  0,  0,  0,  0,  0,  0],\n",
       "        [21, 20,  0,  0,  0,  0,  0,  0,  0,  0,  0,  0,  0,  0,  0,  0]]),\n",
       " array([[ 9, 13,  8, 19,  0,  0,  0,  0,  0,  0,  0,  0,  0,  0,  0,  0],\n",
       "        [27, 23, 21,  0,  0,  0,  0,  0,  0,  0,  0,  0,  0,  0,  0,  0],\n",
       "        [37, 38, 36,  0,  0,  0,  0,  0,  0,  0,  0,  0,  0,  0,  0,  0]]),\n",
       " array([[11, 34, 26,  0,  0,  0,  0,  0,  0,  0,  0,  0,  0,  0,  0,  0],\n",
       "        [10, 15, 15, 40,  0,  0,  0,  0,  0,  0,  0,  0,  0,  0,  0,  0],\n",
       "        [37, 38, 36,  0,  0,  0,  0,  0,  0,  0,  0,  0,  0,  0,  0,  0]]),\n",
       " array([[11,  7, 12,  0,  0,  0,  0,  0,  0,  0,  0,  0,  0,  0,  0,  0],\n",
       "        [23, 42,  5, 34, 36, 24,  0,  0,  0,  0,  0,  0,  0,  0,  0,  0],\n",
       "        [21, 33, 32, 22,  0,  0,  0,  0,  0,  0,  0,  0,  0,  0,  0,  0],\n",
       "        [20, 22, 43,  0,  0,  0,  0,  0,  0,  0,  0,  0,  0,  0,  0,  0]]),\n",
       " array([[10, 26, 34,  0,  0,  0,  0,  0,  0,  0,  0,  0,  0,  0,  0,  0],\n",
       "        [22, 36, 40,  0,  0,  0,  0,  0,  0,  0,  0,  0,  0,  0,  0,  0]]),\n",
       " array([[37, 33, 24, 38, 41, 19, 36, 23,  0,  0,  0,  0,  0,  0,  0,  0]]),\n",
       " array([[22,  5, 34, 39, 36, 34,  0,  0,  0,  0,  0,  0,  0,  0,  0,  0],\n",
       "        [19, 21,  0,  0,  0,  0,  0,  0,  0,  0,  0,  0,  0,  0,  0,  0],\n",
       "        [21, 33, 27, 30,  0,  0,  0,  0,  0,  0,  0,  0,  0,  0,  0,  0]]),\n",
       " array([[24, 27, 20, 23, 36,  5, 33, 34, 38, 27, 21,  0,  0,  0,  0,  0],\n",
       "        [37, 23, 32,  0,  0,  0,  0,  0,  0,  0,  0,  0,  0,  0,  0,  0]]),\n",
       " array([[11, 34,  0,  0,  0,  0,  0,  0,  0,  0,  0,  0,  0,  0,  0,  0],\n",
       "        [10, 13, 19,  0,  0,  0,  0,  0,  0,  0,  0,  0,  0,  0,  0,  0],\n",
       "        [21, 20,  0,  0,  0,  0,  0,  0,  0,  0,  0,  0,  0,  0,  0,  0]]),\n",
       " array([[26, 19, 31, 31, 23, 36,  0,  0,  0,  0,  0,  0,  0,  0,  0,  0],\n",
       "        [22, 36, 27, 30, 30,  0,  0,  0,  0,  0,  0,  0,  0,  0,  0,  0],\n",
       "        [29, 27, 38,  0,  0,  0,  0,  0,  0,  0,  0,  0,  0,  0,  0,  0]]),\n",
       " array([[11, 26, 34,  0,  0,  0,  0,  0,  0,  0,  0,  0,  0,  0,  0,  0],\n",
       "        [22, 36, 40,  0,  0,  0,  0,  0,  0,  0,  0,  0,  0,  0,  0,  0]]),\n",
       " array([[34, 32, 30, 20, 22,  0,  0,  0,  0,  0,  0,  0,  0,  0,  0,  0],\n",
       "        [38, 36, 31,  0,  0,  0,  0,  0,  0,  0,  0,  0,  0,  0,  0,  0]]),\n",
       " array([[11, 34, 33, 37,  0,  0,  0,  0,  0,  0,  0,  0,  0,  0,  0,  0],\n",
       "        [10, 12, 40,  0,  0,  0,  0,  0,  0,  0,  0,  0,  0,  0,  0,  0],\n",
       "        [31, 33, 31,  0,  0,  0,  0,  0,  0,  0,  0,  0,  0,  0,  0,  0],\n",
       "        [24, 40, 38, 25,  0,  0,  0,  0,  0,  0,  0,  0,  0,  0,  0,  0],\n",
       "        [34, 20,  0,  0,  0,  0,  0,  0,  0,  0,  0,  0,  0,  0,  0,  0]]),\n",
       " array([[12, 16, 31, 31,  0,  0,  0,  0,  0,  0,  0,  0,  0,  0,  0,  0],\n",
       "        [43, 23, 30,  0,  0,  0,  0,  0,  0,  0,  0,  0,  0,  0,  0,  0],\n",
       "        [37, 38, 19, 29,  5, 30, 38,  0,  0,  0,  0,  0,  0,  0,  0,  0]]),\n",
       " array([[20, 27, 42,  0,  0,  0,  0,  0,  0,  0,  0,  0,  0,  0,  0,  0],\n",
       "        [20, 30, 19, 22, 23,  0,  0,  0,  0,  0,  0,  0,  0,  0,  0,  0]]),\n",
       " array([[27, 40,  0,  0,  0,  0,  0,  0,  0,  0,  0,  0,  0,  0,  0,  0],\n",
       "        [32, 31,  0,  0,  0,  0,  0,  0,  0,  0,  0,  0,  0,  0,  0,  0],\n",
       "        [22, 34, 30, 42,  0,  0,  0,  0,  0,  0,  0,  0,  0,  0,  0,  0],\n",
       "        [24, 19, 21, 23, 34, 30, 19, 38, 23,  0,  0,  0,  0,  0,  0,  0]]),\n",
       " array([[21, 20,  0,  0,  0,  0,  0,  0,  0,  0,  0,  0,  0,  0,  0,  0],\n",
       "        [30, 32,  3, 30, 39, 25,  0,  0,  0,  0,  0,  0,  0,  0,  0,  0],\n",
       "        [34, 19, 22, 30, 29,  0,  0,  0,  0,  0,  0,  0,  0,  0,  0,  0],\n",
       "        [37, 21, 36,  0,  0,  0,  0,  0,  0,  0,  0,  0,  0,  0,  0,  0]]),\n",
       " array([[37, 33, 30, 22, 23, 36, 30, 23, 37, 37,  0,  0,  0,  0,  0,  0],\n",
       "        [38, 23, 36, 31, 27, 32, 19, 30, 37,  0,  0,  0,  0,  0,  0,  0]]),\n",
       " array([[21, 32, 40, 38, 36,  0,  0,  0,  0,  0,  0,  0,  0,  0,  0,  0],\n",
       "        [21, 26, 33, 29, 23,  0,  0,  0,  0,  0,  0,  0,  0,  0,  0,  0]]),\n",
       " array([[14,  5, 11, 10,  0,  0,  0,  0,  0,  0,  0,  0,  0,  0,  0,  0],\n",
       "        [ 9,  5,  9,  7, 12,  0,  0,  0,  0,  0,  0,  0,  0,  0,  0,  0],\n",
       "        [31,  7, 37,  0,  0,  0,  0,  0,  0,  0,  0,  0,  0,  0,  0,  0]]),\n",
       " array([[11, 34, 26,  0,  0,  0,  0,  0,  0,  0,  0,  0,  0,  0,  0,  0],\n",
       "        [10, 15, 15, 40,  0,  0,  0,  0,  0,  0,  0,  0,  0,  0,  0,  0],\n",
       "        [37, 38, 36,  0,  0,  0,  0,  0,  0,  0,  0,  0,  0,  0,  0,  0]]),\n",
       " array([[10, 34,  0,  0,  0,  0,  0,  0,  0,  0,  0,  0,  0,  0,  0,  0],\n",
       "        [13,  8, 19,  0,  0,  0,  0,  0,  0,  0,  0,  0,  0,  0,  0,  0],\n",
       "        [21, 32, 21, 38, 36,  0,  0,  0,  0,  0,  0,  0,  0,  0,  0,  0]]),\n",
       " array([[35, 38, 36,  0,  0,  0,  0,  0,  0,  0,  0,  0,  0,  0,  0,  0],\n",
       "        [38, 36, 32,  0,  0,  0,  0,  0,  0,  0,  0,  0,  0,  0,  0,  0],\n",
       "        [30, 19, 38, 21, 26,  0,  0,  0,  0,  0,  0,  0,  0,  0,  0,  0],\n",
       "        [28,  5, 20, 33, 42,  0,  0,  0,  0,  0,  0,  0,  0,  0,  0,  0]]),\n",
       " array([[19, 31, 20,  0,  0,  0,  0,  0,  0,  0,  0,  0,  0,  0,  0,  0],\n",
       "        [30, 23, 22,  0,  0,  0,  0,  0,  0,  0,  0,  0,  0,  0,  0,  0],\n",
       "        [27, 32, 22,  0,  0,  0,  0,  0,  0,  0,  0,  0,  0,  0,  0,  0],\n",
       "        [30, 38,  0,  0,  0,  0,  0,  0,  0,  0,  0,  0,  0,  0,  0,  0]]),\n",
       " array([[10,  6, 10, 29, 41,  0,  0,  0,  0,  0,  0,  0,  0,  0,  0,  0],\n",
       "        [31, 38, 36,  0,  0,  0,  0,  0,  0,  0,  0,  0,  0,  0,  0,  0]]),\n",
       " array([[22, 39, 34, 30, 23, 42,  0,  0,  0,  0,  0,  0,  0,  0,  0,  0],\n",
       "        [34, 38, 21, 26, 21, 36, 22,  0,  0,  0,  0,  0,  0,  0,  0,  0]]),\n",
       " array([[ 9, 13, 19,  0,  0,  0,  0,  0,  0,  0,  0,  0,  0,  0,  0,  0],\n",
       "        [ 9, 10,  8, 40,  0,  0,  0,  0,  0,  0,  0,  0,  0,  0,  0,  0],\n",
       "        [25, 36, 22,  0,  0,  0,  0,  0,  0,  0,  0,  0,  0,  0,  0,  0],\n",
       "        [37, 34,  5, 38, 25, 30,  0,  0,  0,  0,  0,  0,  0,  0,  0,  0],\n",
       "        [37, 41,  0,  0,  0,  0,  0,  0,  0,  0,  0,  0,  0,  0,  0,  0]]),\n",
       " array([[12,  8, 19,  0,  0,  0,  0,  0,  0,  0,  0,  0,  0,  0,  0,  0],\n",
       "        [21, 31, 20, 33,  0,  0,  0,  0,  0,  0,  0,  0,  0,  0,  0,  0],\n",
       "        [31, 38, 36,  0,  0,  0,  0,  0,  0,  0,  0,  0,  0,  0,  0,  0],\n",
       "        [21, 38, 36, 30, 36,  0,  0,  0,  0,  0,  0,  0,  0,  0,  0,  0]]),\n",
       " array([[17, 19,  0,  0,  0,  0,  0,  0,  0,  0,  0,  0,  0,  0,  0,  0],\n",
       "        [27, 23, 21,  0,  0,  0,  0,  0,  0,  0,  0,  0,  0,  0,  0,  0],\n",
       "        [37, 38, 36,  0,  0,  0,  0,  0,  0,  0,  0,  0,  0,  0,  0,  0]]),\n",
       " array([[41, 27, 36, 23,  0,  0,  0,  0,  0,  0,  0,  0,  0,  0,  0,  0],\n",
       "        [31, 36, 29, 36,  0,  0,  0,  0,  0,  0,  0,  0,  0,  0,  0,  0],\n",
       "        [37, 30, 40,  0,  0,  0,  0,  0,  0,  0,  0,  0,  0,  0,  0,  0]]),\n",
       " array([[31, 39, 30, 38, 27,  5, 34, 33, 30, 23,  0,  0,  0,  0,  0,  0],\n",
       "        [36, 23, 30, 19, 43,  0,  0,  0,  0,  0,  0,  0,  0,  0,  0,  0]]),\n",
       " array([[19, 36, 31, 33, 36, 23, 22,  0,  0,  0,  0,  0,  0,  0,  0,  0],\n",
       "        [21, 19, 20, 30, 23,  0,  0,  0,  0,  0,  0,  0,  0,  0,  0,  0]]),\n",
       " array([[ 9, 17, 31, 31,  0,  0,  0,  0,  0,  0,  0,  0,  0,  0,  0,  0],\n",
       "        [22, 36, 40,  0,  0,  0,  0,  0,  0,  0,  0,  0,  0,  0,  0,  0],\n",
       "        [22, 23, 23, 34,  0,  0,  0,  0,  0,  0,  0,  0,  0,  0,  0,  0],\n",
       "        [37, 33, 21, 29, 23, 38,  0,  0,  0,  0,  0,  0,  0,  0,  0,  0]]),\n",
       " array([[25, 19, 40,  0,  0,  0,  0,  0,  0,  0,  0,  0,  0,  0,  0,  0],\n",
       "        [37, 38, 36,  0,  0,  0,  0,  0,  0,  0,  0,  0,  0,  0,  0,  0],\n",
       "        [37, 23, 21, 38,  0,  0,  0,  0,  0,  0,  0,  0,  0,  0,  0,  0]]),\n",
       " array([[11, 34,  0,  0,  0,  0,  0,  0,  0,  0,  0,  0,  0,  0,  0,  0],\n",
       "        [11,  8, 19,  0,  0,  0,  0,  0,  0,  0,  0,  0,  0,  0,  0,  0],\n",
       "        [21, 20,  0,  0,  0,  0,  0,  0,  0,  0,  0,  0,  0,  0,  0,  0]]),\n",
       " array([[30, 33, 39, 40, 23, 36, 23, 22,  0,  0,  0,  0,  0,  0,  0,  0],\n",
       "        [40, 23, 32, 38,  0,  0,  0,  0,  0,  0,  0,  0,  0,  0,  0,  0],\n",
       "        [29, 38,  0,  0,  0,  0,  0,  0,  0,  0,  0,  0,  0,  0,  0,  0]]),\n",
       " array([[ 9, 14,  8, 29, 19,  0,  0,  0,  0,  0,  0,  0,  0,  0,  0,  0],\n",
       "        [37, 34, 22, 23, 40,  0,  0,  0,  0,  0,  0,  0,  0,  0,  0,  0]]),\n",
       " array([[10,  8, 19,  0,  0,  0,  0,  0,  0,  0,  0,  0,  0,  0,  0,  0],\n",
       "        [25, 24, 21, 27,  0,  0,  0,  0,  0,  0,  0,  0,  0,  0,  0,  0],\n",
       "        [41,  7, 34, 30, 39, 25,  3, 21, 33, 32, 32,  0,  0,  0,  0,  0]]),\n",
       " array([[20, 19, 32, 22, 37, 19, 41,  0,  0,  0,  0,  0,  0,  0,  0,  0],\n",
       "        [20, 30, 22,  0,  0,  0,  0,  0,  0,  0,  0,  0,  0,  0,  0,  0]]),\n",
       " array([[10, 15, 15, 40,  0,  0,  0,  0,  0,  0,  0,  0,  0,  0,  0,  0],\n",
       "        [32,  9, 10,  0,  0,  0,  0,  0,  0,  0,  0,  0,  0,  0,  0,  0],\n",
       "        [37, 38, 36,  0,  0,  0,  0,  0,  0,  0,  0,  0,  0,  0,  0,  0]]),\n",
       " array([[19, 32, 25, 30, 23, 22,  0,  0,  0,  0,  0,  0,  0,  0,  0,  0],\n",
       "        [39, 32, 30, 33, 19, 22,  0,  0,  0,  0,  0,  0,  0,  0,  0,  0],\n",
       "        [34,  5, 34, 19, 32, 23, 30,  0,  0,  0,  0,  0,  0,  0,  0,  0]]),\n",
       " array([[11,  8, 31, 31,  0,  0,  0,  0,  0,  0,  0,  0,  0,  0,  0,  0],\n",
       "        [ 9, 10,  8, 40,  0,  0,  0,  0,  0,  0,  0,  0,  0,  0,  0,  0],\n",
       "        [34, 20,  0,  0,  0,  0,  0,  0,  0,  0,  0,  0,  0,  0,  0,  0]]),\n",
       " array([[11,  8, 26, 34,  0,  0,  0,  0,  0,  0,  0,  0,  0,  0,  0,  0],\n",
       "        [22, 36, 40,  0,  0,  0,  0,  0,  0,  0,  0,  0,  0,  0,  0,  0]]),\n",
       " array([[ 9,  8,  8, 41,  0,  0,  0,  0,  0,  0,  0,  0,  0,  0,  0,  0],\n",
       "        [30, 23, 22,  0,  0,  0,  0,  0,  0,  0,  0,  0,  0,  0,  0,  0],\n",
       "        [30, 39, 31, 32, 36,  0,  0,  0,  0,  0,  0,  0,  0,  0,  0,  0]]),\n",
       " array([[31, 23, 31, 33, 36, 43,  0,  0,  0,  0,  0,  0,  0,  0,  0,  0],\n",
       "        [23, 42, 34, 32,  0,  0,  0,  0,  0,  0,  0,  0,  0,  0,  0,  0]]),\n",
       " array([[37, 37, 41,  0,  0,  0,  0,  0,  0,  0,  0,  0,  0,  0,  0,  0],\n",
       "        [39, 32, 27, 38,  0,  0,  0,  0,  0,  0,  0,  0,  0,  0,  0,  0]]),\n",
       " array([[11, 34,  0,  0,  0,  0,  0,  0,  0,  0,  0,  0,  0,  0,  0,  0],\n",
       "        [13,  8, 19,  0,  0,  0,  0,  0,  0,  0,  0,  0,  0,  0,  0,  0],\n",
       "        [37, 38, 36,  0,  0,  0,  0,  0,  0,  0,  0,  0,  0,  0,  0,  0]]),\n",
       " array([[37, 33, 30,  0,  0,  0,  0,  0,  0,  0,  0,  0,  0,  0,  0,  0],\n",
       "        [32, 33,  0,  0,  0,  0,  0,  0,  0,  0,  0,  0,  0,  0,  0,  0],\n",
       "        [30, 23, 25, 23, 32, 22, 18,  0,  0,  0,  0,  0,  0,  0,  0,  0],\n",
       "        [13, 13,  0,  0,  0,  0,  0,  0,  0,  0,  0,  0,  0,  0,  0,  0]]),\n",
       " array([[20, 19, 30, 30, 19, 37, 38,  0,  0,  0,  0,  0,  0,  0,  0,  0]]),\n",
       " array([[36, 23, 34, 30,  0,  0,  0,  0,  0,  0,  0,  0,  0,  0,  0,  0],\n",
       "        [34, 41, 36, 20, 30, 21, 29,  0,  0,  0,  0,  0,  0,  0,  0,  0]]),\n",
       " array([[13, 34, 21,  0,  0,  0,  0,  0,  0,  0,  0,  0,  0,  0,  0,  0],\n",
       "        [11,  7, 16, 22, 36, 40,  0,  0,  0,  0,  0,  0,  0,  0,  0,  0],\n",
       "        [27, 31, 34,  0,  0,  0,  0,  0,  0,  0,  0,  0,  0,  0,  0,  0],\n",
       "        [37, 29, 38,  0,  0,  0,  0,  0,  0,  0,  0,  0,  0,  0,  0,  0],\n",
       "        [37, 23, 38,  0,  0,  0,  0,  0,  0,  0,  0,  0,  0,  0,  0,  0]]),\n",
       " array([[22, 37, 14,  0,  0,  0,  0,  0,  0,  0,  0,  0,  0,  0,  0,  0],\n",
       "        [34, 30, 39, 25,  0,  0,  0,  0,  0,  0,  0,  0,  0,  0,  0,  0],\n",
       "        [34, 33, 30, 43,  0,  0,  0,  0,  0,  0,  0,  0,  0,  0,  0,  0],\n",
       "        [21, 19, 37, 27, 32, 25,  0,  0,  0,  0,  0,  0,  0,  0,  0,  0]]),\n",
       " array([[21, 33, 39, 34, 30, 27, 32, 25,  0,  0,  0,  0,  0,  0,  0,  0]]),\n",
       " array([[14,  5, 13,  7, 16, 22,  0,  0,  0,  0,  0,  0,  0,  0,  0,  0],\n",
       "        [32, 31, 19,  9,  0,  0,  0,  0,  0,  0,  0,  0,  0,  0,  0,  0],\n",
       "        [23, 32, 21, 30,  0,  0,  0,  0,  0,  0,  0,  0,  0,  0,  0,  0]]),\n",
       " array([[11, 34, 26,  0,  0,  0,  0,  0,  0,  0,  0,  0,  0,  0,  0,  0],\n",
       "        [12,  8, 19,  0,  0,  0,  0,  0,  0,  0,  0,  0,  0,  0,  0,  0],\n",
       "        [10, 12,  8, 40,  0,  0,  0,  0,  0,  0,  0,  0,  0,  0,  0,  0],\n",
       "        [37, 38, 36,  0,  0,  0,  0,  0,  0,  0,  0,  0,  0,  0,  0,  0]]),\n",
       " array([[11,  9, 13, 19,  0,  0,  0,  0,  0,  0,  0,  0,  0,  0,  0,  0],\n",
       "        [13, 15, 13, 40,  0,  0,  0,  0,  0,  0,  0,  0,  0,  0,  0,  0],\n",
       "        [37, 38, 36,  0,  0,  0,  0,  0,  0,  0,  0,  0,  0,  0,  0,  0]]),\n",
       " array([[11, 34,  0,  0,  0,  0,  0,  0,  0,  0,  0,  0,  0,  0,  0,  0],\n",
       "        [ 9, 16, 19,  0,  0,  0,  0,  0,  0,  0,  0,  0,  0,  0,  0,  0],\n",
       "        [37, 38, 36,  0,  0,  0,  0,  0,  0,  0,  0,  0,  0,  0,  0,  0]]),\n",
       " array([[37, 24, 38, 41, 36,  0,  0,  0,  0,  0,  0,  0,  0,  0,  0,  0]]),\n",
       " array([[27, 32, 22, 39, 37,  0,  0,  0,  0,  0,  0,  0,  0,  0,  0,  0],\n",
       "        [37, 36, 25,  0,  0,  0,  0,  0,  0,  0,  0,  0,  0,  0,  0,  0],\n",
       "        [34, 36, 33, 38, 36,  0,  0,  0,  0,  0,  0,  0,  0,  0,  0,  0]]),\n",
       " array([[ 9,  5, 13,  7,  9, 14,  0,  0,  0,  0,  0,  0,  0,  0,  0,  0],\n",
       "        [37, 25, 30,  0,  0,  0,  0,  0,  0,  0,  0,  0,  0,  0,  0,  0],\n",
       "        [36, 19, 38,  0,  0,  0,  0,  0,  0,  0,  0,  0,  0,  0,  0,  0],\n",
       "        [20, 33, 42,  0,  0,  0,  0,  0,  0,  0,  0,  0,  0,  0,  0,  0],\n",
       "        [41, 36, 23, 32, 21, 26,  0,  0,  0,  0,  0,  0,  0,  0,  0,  0]]),\n",
       " array([[10,  7,  8, 19, 41, 25,  0,  0,  0,  0,  0,  0,  0,  0,  0,  0],\n",
       "        [10, 26,  0,  0,  0,  0,  0,  0,  0,  0,  0,  0,  0,  0,  0,  0],\n",
       "        [30, 32, 25,  0,  0,  0,  0,  0,  0,  0,  0,  0,  0,  0,  0,  0],\n",
       "        [30, 39, 25,  0,  0,  0,  0,  0,  0,  0,  0,  0,  0,  0,  0,  0]]),\n",
       " array([[31, 19, 21, 26, 27, 32, 23,  0,  0,  0,  0,  0,  0,  0,  0,  0],\n",
       "        [20, 33, 30, 38,  0,  0,  0,  0,  0,  0,  0,  0,  0,  0,  0,  0]]),\n",
       " array([[12,  8,  8, 19,  0,  0,  0,  0,  0,  0,  0,  0,  0,  0,  0,  0],\n",
       "        [10, 13,  8, 40,  0,  0,  0,  0,  0,  0,  0,  0,  0,  0,  0,  0],\n",
       "        [37, 34,  0,  0,  0,  0,  0,  0,  0,  0,  0,  0,  0,  0,  0,  0],\n",
       "        [24, 39, 37, 23,  0,  0,  0,  0,  0,  0,  0,  0,  0,  0,  0,  0],\n",
       "        [20, 30, 29,  0,  0,  0,  0,  0,  0,  0,  0,  0,  0,  0,  0,  0]]),\n",
       " array([[27, 32, 34, 39, 38,  0,  0,  0,  0,  0,  0,  0,  0,  0,  0,  0],\n",
       "        [21, 26, 33, 29, 23,  0,  0,  0,  0,  0,  0,  0,  0,  0,  0,  0]]),\n",
       " array([[ 9, 15,  0,  0,  0,  0,  0,  0,  0,  0,  0,  0,  0,  0,  0,  0],\n",
       "        [ 9, 17,  0,  0,  0,  0,  0,  0,  0,  0,  0,  0,  0,  0,  0,  0],\n",
       "        [20, 33, 42,  0,  0,  0,  0,  0,  0,  0,  0,  0,  0,  0,  0,  0],\n",
       "        [41, 36, 32,  0,  0,  0,  0,  0,  0,  0,  0,  0,  0,  0,  0,  0]]),\n",
       " array([[38,  5, 11, 34, 12, 41, 14,  8, 19, 11, 34, 26, 10, 13,  8, 40]]),\n",
       " array([[11, 34,  0,  0,  0,  0,  0,  0,  0,  0,  0,  0,  0,  0,  0,  0],\n",
       "        [10, 10, 13, 19,  0,  0,  0,  0,  0,  0,  0,  0,  0,  0,  0,  0],\n",
       "        [21, 20,  0,  0,  0,  0,  0,  0,  0,  0,  0,  0,  0,  0,  0,  0]]),\n",
       " array([[ 9, 13, 19,  0,  0,  0,  0,  0,  0,  0,  0,  0,  0,  0,  0,  0],\n",
       "        [41, 27, 38, 21, 26,  7, 36, 23, 21, 23, 34, 38, 19, 21, 30, 23]]),\n",
       " array([[10, 15, 15, 40,  0,  0,  0,  0,  0,  0,  0,  0,  0,  0,  0,  0],\n",
       "        [37, 38, 36,  0,  0,  0,  0,  0,  0,  0,  0,  0,  0,  0,  0,  0]]),\n",
       " array([[21, 32, 22,  0,  0,  0,  0,  0,  0,  0,  0,  0,  0,  0,  0,  0],\n",
       "        [36, 37, 36,  0,  0,  0,  0,  0,  0,  0,  0,  0,  0,  0,  0,  0],\n",
       "        [25, 36, 34,  0,  0,  0,  0,  0,  0,  0,  0,  0,  0,  0,  0,  0]]),\n",
       " array([[ 9,  5,  9,  7, 12,  0,  0,  0,  0,  0,  0,  0,  0,  0,  0,  0],\n",
       "        [26, 33, 30, 23,  0,  0,  0,  0,  0,  0,  0,  0,  0,  0,  0,  0],\n",
       "        [37, 19, 41,  0,  0,  0,  0,  0,  0,  0,  0,  0,  0,  0,  0,  0]]),\n",
       " array([[11,  7, 16, 22, 36, 40,  0,  0,  0,  0,  0,  0,  0,  0,  0,  0],\n",
       "        [11,  7,  9, 14,  0,  0,  0,  0,  0,  0,  0,  0,  0,  0,  0,  0],\n",
       "        [26, 23, 42,  0,  0,  0,  0,  0,  0,  0,  0,  0,  0,  0,  0,  0],\n",
       "        [20, 27, 38,  0,  0,  0,  0,  0,  0,  0,  0,  0,  0,  0,  0,  0]]),\n",
       " array([[11,  8,  8,  8, 36, 34, 31,  0,  0,  0,  0,  0,  0,  0,  0,  0],\n",
       "        [31, 38, 36,  0,  0,  0,  0,  0,  0,  0,  0,  0,  0,  0,  0,  0]]),\n",
       " array([[23, 42, 38, 23, 32, 37, 27, 33, 32,  0,  0,  0,  0,  0,  0,  0],\n",
       "        [21, 33, 32, 32, 23, 21, 38, 33, 36,  0,  0,  0,  0,  0,  0,  0]]),\n",
       " array([[23, 32, 22,  0,  0,  0,  0,  0,  0,  0,  0,  0,  0,  0,  0,  0],\n",
       "        [21, 19, 34,  0,  0,  0,  0,  0,  0,  0,  0,  0,  0,  0,  0,  0]]),\n",
       " array([[13, 12,  8, 19,  0,  0,  0,  0,  0,  0,  0,  0,  0,  0,  0,  0],\n",
       "        [10, 15, 15, 40,  0,  0,  0,  0,  0,  0,  0,  0,  0,  0,  0,  0],\n",
       "        [37, 38, 19, 36, 38, 23, 36,  0,  0,  0,  0,  0,  0,  0,  0,  0]]),\n",
       " array([[ 9,  5, 27, 32,  0,  0,  0,  0,  0,  0,  0,  0,  0,  0,  0,  0],\n",
       "        [10, 26,  0,  0,  0,  0,  0,  0,  0,  0,  0,  0,  0,  0,  0,  0],\n",
       "        [21, 33, 32, 22,  0,  0,  0,  0,  0,  0,  0,  0,  0,  0,  0,  0],\n",
       "        [37, 38, 36, 19, 34,  0,  0,  0,  0,  0,  0,  0,  0,  0,  0,  0]]),\n",
       " array([[34, 33, 41, 23, 36,  0,  0,  0,  0,  0,  0,  0,  0,  0,  0,  0],\n",
       "        [21, 19, 20, 30, 23,  0,  0,  0,  0,  0,  0,  0,  0,  0,  0,  0]]),\n",
       " array([[11, 27, 32,  0,  0,  0,  0,  0,  0,  0,  0,  0,  0,  0,  0,  0],\n",
       "        [37, 37,  0,  0,  0,  0,  0,  0,  0,  0,  0,  0,  0,  0,  0,  0],\n",
       "        [30, 33, 33, 34,  0,  0,  0,  0,  0,  0,  0,  0,  0,  0,  0,  0],\n",
       "        [26, 19, 32, 25, 23, 36,  0,  0,  0,  0,  0,  0,  0,  0,  0,  0]]),\n",
       " array([[ 9, 10, 13, 19,  0,  0,  0,  0,  0,  0,  0,  0,  0,  0,  0,  0],\n",
       "        [21, 20,  0,  0,  0,  0,  0,  0,  0,  0,  0,  0,  0,  0,  0,  0],\n",
       "        [19, 37, 37, 23, 31, 20, 30, 43,  0,  0,  0,  0,  0,  0,  0,  0]]),\n",
       " array([[11,  7, 12,  0,  0,  0,  0,  0,  0,  0,  0,  0,  0,  0,  0,  0],\n",
       "        [32, 23, 33,  0,  0,  0,  0,  0,  0,  0,  0,  0,  0,  0,  0,  0],\n",
       "        [20, 33, 22, 43,  0,  0,  0,  0,  0,  0,  0,  0,  0,  0,  0,  0],\n",
       "        [25, 19, 37, 29, 23, 38,  0,  0,  0,  0,  0,  0,  0,  0,  0,  0]]),\n",
       " array([[ 9,  7, 12,  0,  0,  0,  0,  0,  0,  0,  0,  0,  0,  0,  0,  0],\n",
       "        [ 9, 17, 34, 21,  0,  0,  0,  0,  0,  0,  0,  0,  0,  0,  0,  0],\n",
       "        [37, 29, 38,  0,  0,  0,  0,  0,  0,  0,  0,  0,  0,  0,  0,  0],\n",
       "        [37, 38,  0,  0,  0,  0,  0,  0,  0,  0,  0,  0,  0,  0,  0,  0]]),\n",
       " array([[11,  7, 12, 22, 36,  0,  0,  0,  0,  0,  0,  0,  0,  0,  0,  0],\n",
       "        [ 9, 11,  7,  9, 14,  0,  0,  0,  0,  0,  0,  0,  0,  0,  0,  0],\n",
       "        [14, 34, 38,  0,  0,  0,  0,  0,  0,  0,  0,  0,  0,  0,  0,  0],\n",
       "        [22, 34,  0,  0,  0,  0,  0,  0,  0,  0,  0,  0,  0,  0,  0,  0],\n",
       "        [37, 29, 38,  0,  0,  0,  0,  0,  0,  0,  0,  0,  0,  0,  0,  0]]),\n",
       " array([[13, 27, 32,  0,  0,  0,  0,  0,  0,  0,  0,  0,  0,  0,  0,  0],\n",
       "        [31, 19, 30, 30, 23, 19, 20, 30, 23,  0,  0,  0,  0,  0,  0,  0],\n",
       "        [30, 33, 21, 29, 32, 39, 38,  0,  0,  0,  0,  0,  0,  0,  0,  0]]),\n",
       " array([[11,  8,  6, 13, 31, 31,  0,  0,  0,  0,  0,  0,  0,  0,  0,  0],\n",
       "        [34, 20,  0,  0,  0,  0,  0,  0,  0,  0,  0,  0,  0,  0,  0,  0]]),\n",
       " array([[25, 36, 24,  0,  0,  0,  0,  0,  0,  0,  0,  0,  0,  0,  0,  0],\n",
       "        [20, 30, 19, 32, 29,  0,  0,  0,  0,  0,  0,  0,  0,  0,  0,  0],\n",
       "        [21, 33, 40, 23, 36,  0,  0,  0,  0,  0,  0,  0,  0,  0,  0,  0],\n",
       "        [37, 39, 36, 24,  0,  0,  0,  0,  0,  0,  0,  0,  0,  0,  0,  0]]),\n",
       " array([[11, 14,  0,  0,  0,  0,  0,  0,  0,  0,  0,  0,  0,  0,  0,  0],\n",
       "        [11, 14,  6, 10, 13,  0,  0,  0,  0,  0,  0,  0,  0,  0,  0,  0],\n",
       "        [ 9,  8,  6,  9, 11,  0,  0,  0,  0,  0,  0,  0,  0,  0,  0,  0],\n",
       "        [23, 32, 21, 30,  0,  0,  0,  0,  0,  0,  0,  0,  0,  0,  0,  0]]),\n",
       " array([[10, 13, 19,  0,  0,  0,  0,  0,  0,  0,  0,  0,  0,  0,  0,  0],\n",
       "        [27, 23, 21,  0,  0,  0,  0,  0,  0,  0,  0,  0,  0,  0,  0,  0],\n",
       "        [37, 38, 36,  0,  0,  0,  0,  0,  0,  0,  0,  0,  0,  0,  0,  0]]),\n",
       " array([[27, 40,  0,  0,  0,  0,  0,  0,  0,  0,  0,  0,  0,  0,  0,  0],\n",
       "        [ 9, 25,  0,  0,  0,  0,  0,  0,  0,  0,  0,  0,  0,  0,  0,  0],\n",
       "        [25, 24, 21, 27,  0,  0,  0,  0,  0,  0,  0,  0,  0,  0,  0,  0],\n",
       "        [34, 30, 38,  0,  0,  0,  0,  0,  0,  0,  0,  0,  0,  0,  0,  0]]),\n",
       " array([[10,  3, 11, 34,  0,  0,  0,  0,  0,  0,  0,  0,  0,  0,  0,  0],\n",
       "        [37, 34, 36, 27, 32, 25,  0,  0,  0,  0,  0,  0,  0,  0,  0,  0],\n",
       "        [22, 33, 33, 36,  0,  0,  0,  0,  0,  0,  0,  0,  0,  0,  0,  0],\n",
       "        [19, 37, 37, 43,  0,  0,  0,  0,  0,  0,  0,  0,  0,  0,  0,  0]]),\n",
       " array([[37, 41, 27, 40, 23, 30,  0,  0,  0,  0,  0,  0,  0,  0,  0,  0],\n",
       "        [19, 21, 21, 23, 37, 37, 33, 36, 43,  0,  0,  0,  0,  0,  0,  0]]),\n",
       " array([[11, 27, 32,  0,  0,  0,  0,  0,  0,  0,  0,  0,  0,  0,  0,  0],\n",
       "        [23, 31, 38,  0,  0,  0,  0,  0,  0,  0,  0,  0,  0,  0,  0,  0],\n",
       "        [21, 33, 39, 34, 30, 27, 32, 25,  0,  0,  0,  0,  0,  0,  0,  0]]),\n",
       " array([[ 9, 10,  8, 40,  7, 10, 12,  8, 40,  0,  0,  0,  0,  0,  0,  0],\n",
       "        [34, 33, 41, 23, 36,  0,  0,  0,  0,  0,  0,  0,  0,  0,  0,  0],\n",
       "        [38, 24, 31,  0,  0,  0,  0,  0,  0,  0,  0,  0,  0,  0,  0,  0]]),\n",
       " array([[ 9, 34,  0,  0,  0,  0,  0,  0,  0,  0,  0,  0,  0,  0,  0,  0],\n",
       "        [12, 13, 19,  0,  0,  0,  0,  0,  0,  0,  0,  0,  0,  0,  0,  0],\n",
       "        [10, 15, 15, 40,  0,  0,  0,  0,  0,  0,  0,  0,  0,  0,  0,  0],\n",
       "        [21, 20,  0,  0,  0,  0,  0,  0,  0,  0,  0,  0,  0,  0,  0,  0]]),\n",
       " array([[ 9,  5,  9,  7, 16,  0,  0,  0,  0,  0,  0,  0,  0,  0,  0,  0],\n",
       "        [14, 32, 38,  0,  0,  0,  0,  0,  0,  0,  0,  0,  0,  0,  0,  0],\n",
       "        [41, 36, 23, 32, 21, 26,  0,  0,  0,  0,  0,  0,  0,  0,  0,  0]]),\n",
       " array([[24, 27, 20, 23, 36,  0,  0,  0,  0,  0,  0,  0,  0,  0,  0,  0],\n",
       "        [33, 34, 38, 27, 21,  0,  0,  0,  0,  0,  0,  0,  0,  0,  0,  0],\n",
       "        [21, 20, 30,  0,  0,  0,  0,  0,  0,  0,  0,  0,  0,  0,  0,  0]]),\n",
       " array([[37, 38, 30,  0,  0,  0,  0,  0,  0,  0,  0,  0,  0,  0,  0,  0],\n",
       "        [39, 38, 27, 30, 27, 38, 43,  0,  0,  0,  0,  0,  0,  0,  0,  0],\n",
       "        [23, 32, 21,  0,  0,  0,  0,  0,  0,  0,  0,  0,  0,  0,  0,  0]]),\n",
       " array([[10,  9, 34, 21,  0,  0,  0,  0,  0,  0,  0,  0,  0,  0,  0,  0],\n",
       "        [11,  7, 16,  0,  0,  0,  0,  0,  0,  0,  0,  0,  0,  0,  0,  0],\n",
       "        [14, 34, 38,  0,  0,  0,  0,  0,  0,  0,  0,  0,  0,  0,  0,  0],\n",
       "        [37, 29, 38,  0,  0,  0,  0,  0,  0,  0,  0,  0,  0,  0,  0,  0],\n",
       "        [37, 23, 38,  0,  0,  0,  0,  0,  0,  0,  0,  0,  0,  0,  0,  0]]),\n",
       " array([[35, 20, 15, 13,  0,  0,  0,  0,  0,  0,  0,  0,  0,  0,  0,  0],\n",
       "        [38, 23, 36, 31,  0,  0,  0,  0,  0,  0,  0,  0,  0,  0,  0,  0]]),\n",
       " array([[34, 41, 36,  0,  0,  0,  0,  0,  0,  0,  0,  0,  0,  0,  0,  0],\n",
       "        [21, 20, 30,  0,  0,  0,  0,  0,  0,  0,  0,  0,  0,  0,  0,  0]]),\n",
       " array([[38, 23, 32, 38, 27, 33, 31, 23, 38, 23, 36,  5, 13,  8,  8, 29]]),\n",
       " array([[10,  8, 19, 31, 34,  0,  0,  0,  0,  0,  0,  0,  0,  0,  0,  0],\n",
       "        [34, 33, 41, 23, 36,  0,  0,  0,  0,  0,  0,  0,  0,  0,  0,  0],\n",
       "        [37, 38, 36, 27, 34,  0,  0,  0,  0,  0,  0,  0,  0,  0,  0,  0]]),\n",
       " array([[34, 33, 41, 23, 36,  0,  0,  0,  0,  0,  0,  0,  0,  0,  0,  0],\n",
       "        [21, 20, 30,  0,  0,  0,  0,  0,  0,  0,  0,  0,  0,  0,  0,  0]]),\n",
       " array([[21, 39, 38, 38, 23, 36,  0,  0,  0,  0,  0,  0,  0,  0,  0,  0],\n",
       "        [39, 32, 27, 38,  0,  0,  0,  0,  0,  0,  0,  0,  0,  0,  0,  0],\n",
       "        [24,  7, 15,  8, 13,  0,  0,  0,  0,  0,  0,  0,  0,  0,  0,  0]]),\n",
       " array([[11, 34,  0,  0,  0,  0,  0,  0,  0,  0,  0,  0,  0,  0,  0,  0],\n",
       "        [11, 13,  8, 19,  0,  0,  0,  0,  0,  0,  0,  0,  0,  0,  0,  0],\n",
       "        [21, 29, 38,  0,  0,  0,  0,  0,  0,  0,  0,  0,  0,  0,  0,  0],\n",
       "        [20, 36, 29, 36,  0,  0,  0,  0,  0,  0,  0,  0,  0,  0,  0,  0]]),\n",
       " array([[11, 27, 32,  0,  0,  0,  0,  0,  0,  0,  0,  0,  0,  0,  0,  0],\n",
       "        [21, 33, 32, 32, 23, 21, 38, 33, 36,  0,  0,  0,  0,  0,  0,  0]]),\n",
       " array([[10, 12,  0,  0,  0,  0,  0,  0,  0,  0,  0,  0,  0,  0,  0,  0],\n",
       "        [ 9, 16,  0,  0,  0,  0,  0,  0,  0,  0,  0,  0,  0,  0,  0,  0],\n",
       "        [16,  0,  0,  0,  0,  0,  0,  0,  0,  0,  0,  0,  0,  0,  0,  0],\n",
       "        [11, 36,  0,  0,  0,  0,  0,  0,  0,  0,  0,  0,  0,  0,  0,  0],\n",
       "        [37, 21, 36,  0,  0,  0,  0,  0,  0,  0,  0,  0,  0,  0,  0,  0],\n",
       "        [21, 40, 36,  0,  0,  0,  0,  0,  0,  0,  0,  0,  0,  0,  0,  0]]),\n",
       " array([[20, 39, 27, 30, 22, 27, 32, 25,  0,  0,  0,  0,  0,  0,  0,  0],\n",
       "        [41, 27, 36, 23,  0,  0,  0,  0,  0,  0,  0,  0,  0,  0,  0,  0]]),\n",
       " array([[19, 31, 20,  0,  0,  0,  0,  0,  0,  0,  0,  0,  0,  0,  0,  0],\n",
       "        [27, 32, 22, 27, 21, 19, 38, 33, 36,  0,  0,  0,  0,  0,  0,  0],\n",
       "        [30, 38,  0,  0,  0,  0,  0,  0,  0,  0,  0,  0,  0,  0,  0,  0]]),\n",
       " array([[12,  7, 10, 11,  0,  0,  0,  0,  0,  0,  0,  0,  0,  0,  0,  0],\n",
       "        [41, 26, 38,  0,  0,  0,  0,  0,  0,  0,  0,  0,  0,  0,  0,  0],\n",
       "        [ 9,  8,  8,  8, 24, 38,  0,  0,  0,  0,  0,  0,  0,  0,  0,  0],\n",
       "        [21, 20, 30,  0,  0,  0,  0,  0,  0,  0,  0,  0,  0,  0,  0,  0]]),\n",
       " array([[30, 27, 25, 26, 38, 27, 32, 25,  0,  0,  0,  0,  0,  0,  0,  0],\n",
       "        [38, 36, 27, 31,  0,  0,  0,  0,  0,  0,  0,  0,  0,  0,  0,  0]]),\n",
       " array([[26, 27, 22,  0,  0,  0,  0,  0,  0,  0,  0,  0,  0,  0,  0,  0],\n",
       "        [24, 27, 42, 38,  0,  0,  0,  0,  0,  0,  0,  0,  0,  0,  0,  0],\n",
       "        [36, 23, 24, 30, 23, 21, 38, 33, 36,  7, 30, 23, 32, 37,  0,  0]]),\n",
       " array([[10, 15, 31, 31,  0,  0,  0,  0,  0,  0,  0,  0,  0,  0,  0,  0],\n",
       "        [36, 38, 21, 26, 38,  0,  0,  0,  0,  0,  0,  0,  0,  0,  0,  0],\n",
       "        [20, 33, 42,  0,  0,  0,  0,  0,  0,  0,  0,  0,  0,  0,  0,  0],\n",
       "        [41, 36, 32, 21, 26,  0,  0,  0,  0,  0,  0,  0,  0,  0,  0,  0]]),\n",
       " array([[ 9,  7, 10,  0,  0,  0,  0,  0,  0,  0,  0,  0,  0,  0,  0,  0],\n",
       "        [ 6, 13,  5,  6, 14,  0,  0,  0,  0,  0,  0,  0,  0,  0,  0,  0],\n",
       "        [21, 33, 36, 22,  0,  0,  0,  0,  0,  0,  0,  0,  0,  0,  0,  0],\n",
       "        [21, 33, 32, 32,  0,  0,  0,  0,  0,  0,  0,  0,  0,  0,  0,  0]]),\n",
       " array([[31, 37, 38, 36,  0,  0,  0,  0,  0,  0,  0,  0,  0,  0,  0,  0],\n",
       "        [22, 36, 40,  0,  0,  0,  0,  0,  0,  0,  0,  0,  0,  0,  0,  0]]),\n",
       " array([[38, 33, 38, 19, 30, 27, 44, 23, 36,  0,  0,  0,  0,  0,  0,  0]]),\n",
       " array([[12, 34,  0,  0,  0,  0,  0,  0,  0,  0,  0,  0,  0,  0,  0,  0],\n",
       "        [ 9, 13,  8, 19,  0,  0,  0,  0,  0,  0,  0,  0,  0,  0,  0,  0],\n",
       "        [21, 20,  0,  0,  0,  0,  0,  0,  0,  0,  0,  0,  0,  0,  0,  0]]),\n",
       " array([[11, 34, 26,  0,  0,  0,  0,  0,  0,  0,  0,  0,  0,  0,  0,  0],\n",
       "        [21,  5, 37, 38, 36,  0,  0,  0,  0,  0,  0,  0,  0,  0,  0,  0]]),\n",
       " array([[ 9, 13, 26, 34,  0,  0,  0,  0,  0,  0,  0,  0,  0,  0,  0,  0],\n",
       "        [22, 36, 40,  0,  0,  0,  0,  0,  0,  0,  0,  0,  0,  0,  0,  0]]),\n",
       " array([[26, 31, 27,  0,  0,  0,  0,  0,  0,  0,  0,  0,  0,  0,  0,  0],\n",
       "        [37, 33, 24, 38, 41, 19, 36, 23,  0,  0,  0,  0,  0,  0,  0,  0]]),\n",
       " array([[10,  5, 27, 32,  0,  0,  0,  0,  0,  0,  0,  0,  0,  0,  0,  0],\n",
       "        [21, 39,  0,  0,  0,  0,  0,  0,  0,  0,  0,  0,  0,  0,  0,  0],\n",
       "        [25, 32, 22,  0,  0,  0,  0,  0,  0,  0,  0,  0,  0,  0,  0,  0],\n",
       "        [30, 39, 25,  0,  0,  0,  0,  0,  0,  0,  0,  0,  0,  0,  0,  0]]),\n",
       " array([[21, 33, 32, 22, 39, 27, 38,  0,  0,  0,  0,  0,  0,  0,  0,  0],\n",
       "        [33, 39, 38, 30, 23, 38,  0,  0,  0,  0,  0,  0,  0,  0,  0,  0],\n",
       "        [20, 33, 42,  0,  0,  0,  0,  0,  0,  0,  0,  0,  0,  0,  0,  0]]),\n",
       " array([[25, 36, 32,  0,  0,  0,  0,  0,  0,  0,  0,  0,  0,  0,  0,  0],\n",
       "        [28, 19, 21, 29,  0,  0,  0,  0,  0,  0,  0,  0,  0,  0,  0,  0]]),\n",
       " array([[ 9, 13, 29, 40, 19,  0,  0,  0,  0,  0,  0,  0,  0,  0,  0,  0],\n",
       "        [38, 24, 31,  0,  0,  0,  0,  0,  0,  0,  0,  0,  0,  0,  0,  0]]),\n",
       " array([[38, 23, 21, 29,  0,  0,  0,  0,  0,  0,  0,  0,  0,  0,  0,  0],\n",
       "        [21, 33, 32, 32, 23, 21, 38, 33, 36,  0,  0,  0,  0,  0,  0,  0]]),\n",
       " array([[ 9,  5,  9,  7, 12,  0,  0,  0,  0,  0,  0,  0,  0,  0,  0,  0],\n",
       "        [10, 26,  0,  0,  0,  0,  0,  0,  0,  0,  0,  0,  0,  0,  0,  0],\n",
       "        [37, 38, 30,  0,  0,  0,  0,  0,  0,  0,  0,  0,  0,  0,  0,  0],\n",
       "        [21, 33, 32, 22,  0,  0,  0,  0,  0,  0,  0,  0,  0,  0,  0,  0],\n",
       "        [37, 38, 36, 19, 34,  0,  0,  0,  0,  0,  0,  0,  0,  0,  0,  0]]),\n",
       " array([[34, 39, 37, 26,  5, 34, 39, 30, 30,  0,  0,  0,  0,  0,  0,  0],\n",
       "        [39, 32, 27, 38,  0,  0,  0,  0,  0,  0,  0,  0,  0,  0,  0,  0]]),\n",
       " array([[21, 26, 19, 32, 32, 23, 30,  0,  0,  0,  0,  0,  0,  0,  0,  0],\n",
       "        [32, 39, 38,  0,  0,  0,  0,  0,  0,  0,  0,  0,  0,  0,  0,  0]]),\n",
       " array([[12, 10, 41,  0,  0,  0,  0,  0,  0,  0,  0,  0,  0,  0,  0,  0],\n",
       "        [ 9, 10,  8,  0,  0,  0,  0,  0,  0,  0,  0,  0,  0,  0,  0,  0],\n",
       "        [23,  0,  0,  0,  0,  0,  0,  0,  0,  0,  0,  0,  0,  0,  0,  0],\n",
       "        [22, 27, 31,  0,  0,  0,  0,  0,  0,  0,  0,  0,  0,  0,  0,  0],\n",
       "        [20, 30,  0,  0,  0,  0,  0,  0,  0,  0,  0,  0,  0,  0,  0,  0]]),\n",
       " array([[12, 16, 27, 32,  0,  0,  0,  0,  0,  0,  0,  0,  0,  0,  0,  0],\n",
       "        [20, 23, 30, 38,  0,  0,  0,  0,  0,  0,  0,  0,  0,  0,  0,  0]]),\n",
       " array([[11, 34,  0,  0,  0,  0,  0,  0,  0,  0,  0,  0,  0,  0,  0,  0],\n",
       "        [10, 13,  8, 19,  0,  0,  0,  0,  0,  0,  0,  0,  0,  0,  0,  0],\n",
       "        [21, 20,  0,  0,  0,  0,  0,  0,  0,  0,  0,  0,  0,  0,  0,  0]]),\n",
       " array([[21, 19, 31, 23, 36, 19,  0,  0,  0,  0,  0,  0,  0,  0,  0,  0],\n",
       "        [41, 19, 30, 30,  0,  0,  0,  0,  0,  0,  0,  0,  0,  0,  0,  0],\n",
       "        [31, 38,  0,  0,  0,  0,  0,  0,  0,  0,  0,  0,  0,  0,  0,  0],\n",
       "        [22, 33, 31, 23,  0,  0,  0,  0,  0,  0,  0,  0,  0,  0,  0,  0]]),\n",
       " array([[10, 12, 27, 32,  0,  0,  0,  0,  0,  0,  0,  0,  0,  0,  0,  0],\n",
       "        [37, 25, 30,  0,  0,  0,  0,  0,  0,  0,  0,  0,  0,  0,  0,  0],\n",
       "        [19, 21, 37,  0,  0,  0,  0,  0,  0,  0,  0,  0,  0,  0,  0,  0],\n",
       "        [20, 19, 37, 23,  0,  0,  0,  0,  0,  0,  0,  0,  0,  0,  0,  0]]),\n",
       " array([[41, 38,  0,  0,  0,  0,  0,  0,  0,  0,  0,  0,  0,  0,  0,  0],\n",
       "        [27, 32, 37, 39, 30, 25, 36, 27, 34,  0,  0,  0,  0,  0,  0,  0],\n",
       "        [21, 33, 32, 32,  0,  0,  0,  0,  0,  0,  0,  0,  0,  0,  0,  0]]),\n",
       " array([[23, 32, 21, 30, 33, 37, 39, 36, 23,  0,  0,  0,  0,  0,  0,  0]]),\n",
       " array([[13,  6, 10, 11,  0,  0,  0,  0,  0,  0,  0,  0,  0,  0,  0,  0],\n",
       "        [ 9,  6, 11, 16,  0,  0,  0,  0,  0,  0,  0,  0,  0,  0,  0,  0],\n",
       "        [23, 32, 21,  0,  0,  0,  0,  0,  0,  0,  0,  0,  0,  0,  0,  0]]),\n",
       " array([[10, 27, 32,  0,  0,  0,  0,  0,  0,  0,  0,  0,  0,  0,  0,  0],\n",
       "        [38, 26, 36, 23, 19, 22, 23, 22,  0,  0,  0,  0,  0,  0,  0,  0],\n",
       "        [26, 39, 20,  0,  0,  0,  0,  0,  0,  0,  0,  0,  0,  0,  0,  0]]),\n",
       " array([[34, 32, 30, 20, 22,  0,  0,  0,  0,  0,  0,  0,  0,  0,  0,  0],\n",
       "        [38, 36, 31,  0,  0,  0,  0,  0,  0,  0,  0,  0,  0,  0,  0,  0]]),\n",
       " array([[ 2, 16,  0,  0,  0,  0,  0,  0,  0,  0,  0,  0,  0,  0,  0,  0],\n",
       "        [34, 30, 19, 37, 38, 27, 21,  0,  0,  0,  0,  0,  0,  0,  0,  0],\n",
       "        [37, 21, 36, 23, 41,  0,  0,  0,  0,  0,  0,  0,  0,  0,  0,  0],\n",
       "        [19, 32, 21, 26, 33, 36,  0,  0,  0,  0,  0,  0,  0,  0,  0,  0]]),\n",
       " array([[12, 13, 29, 40, 19,  0,  0,  0,  0,  0,  0,  0,  0,  0,  0,  0],\n",
       "        [38, 24, 31,  0,  0,  0,  0,  0,  0,  0,  0,  0,  0,  0,  0,  0]]),\n",
       " array([[ 9,  0,  0,  0,  0,  0,  0,  0,  0,  0,  0,  0,  0,  0,  0,  0],\n",
       "        [ 9,  6, 14, 14,  0,  0,  0,  0,  0,  0,  0,  0,  0,  0,  0,  0],\n",
       "        [37, 30, 40,  0,  0,  0,  0,  0,  0,  0,  0,  0,  0,  0,  0,  0]]),\n",
       " array([[34, 19, 21, 29, 19, 25, 23, 22,  0,  0,  0,  0,  0,  0,  0,  0],\n",
       "        [34, 27, 21, 35, 39, 27, 21,  0,  0,  0,  0,  0,  0,  0,  0,  0],\n",
       "        [37, 38, 39, 20, 20, 43,  0,  0,  0,  0,  0,  0,  0,  0,  0,  0]]),\n",
       " array([[11,  7, 12, 22, 36, 42,  9, 16,  0,  0,  0,  0,  0,  0,  0,  0],\n",
       "        [37, 30, 27, 22, 27, 32, 25,  0,  0,  0,  0,  0,  0,  0,  0,  0],\n",
       "        [38,  5, 26, 32, 22, 30,  0,  0,  0,  0,  0,  0,  0,  0,  0,  0]]),\n",
       " array([[14,  8,  8,  8, 36, 34, 31, 31, 38, 36,  0,  0,  0,  0,  0,  0]]),\n",
       " array([[10, 12, 40,  0,  0,  0,  0,  0,  0,  0,  0,  0,  0,  0,  0,  0],\n",
       "        [21, 32, 21, 38, 36,  0,  0,  0,  0,  0,  0,  0,  0,  0,  0,  0]]),\n",
       " array([[10, 10,  5,  9, 16,  0,  0,  0,  0,  0,  0,  0,  0,  0,  0,  0],\n",
       "        [36, 27, 32, 25,  0,  0,  0,  0,  0,  0,  0,  0,  0,  0,  0,  0],\n",
       "        [30, 39, 25,  0,  0,  0,  0,  0,  0,  0,  0,  0,  0,  0,  0,  0]]),\n",
       " array([[ 9,  5,  9,  7, 10,  0,  0,  0,  0,  0,  0,  0,  0,  0,  0,  0],\n",
       "        [21, 33, 32,  0,  0,  0,  0,  0,  0,  0,  0,  0,  0,  0,  0,  0]]),\n",
       " array([[ 9, 25,  0,  0,  0,  0,  0,  0,  0,  0,  0,  0,  0,  0,  0,  0],\n",
       "        [10, 25,  0,  0,  0,  0,  0,  0,  0,  0,  0,  0,  0,  0,  0,  0],\n",
       "        [38, 19, 32, 22, 23, 31,  0,  0,  0,  0,  0,  0,  0,  0,  0,  0],\n",
       "        [ 3,  0,  0,  0,  0,  0,  0,  0,  0,  0,  0,  0,  0,  0,  0,  0],\n",
       "        [11,  5, 22, 23, 40,  0,  0,  0,  0,  0,  0,  0,  0,  0,  0,  0],\n",
       "        [23,  0,  0,  0,  0,  0,  0,  0,  0,  0,  0,  0,  0,  0,  0,  0]]),\n",
       " array([[11,  8,  6, 13, 31, 31,  0,  0,  0,  0,  0,  0,  0,  0,  0,  0],\n",
       "        [20, 30, 29,  0,  0,  0,  0,  0,  0,  0,  0,  0,  0,  0,  0,  0],\n",
       "        [20, 38, 32,  0,  0,  0,  0,  0,  0,  0,  0,  0,  0,  0,  0,  0]]),\n",
       " array([[36, 29, 36, 37, 41,  0,  0,  0,  0,  0,  0,  0,  0,  0,  0,  0]]),\n",
       " array([[14,  5, 15,  7, 16,  0,  0,  0,  0,  0,  0,  0,  0,  0,  0,  0],\n",
       "        [26, 33, 30, 23,  0,  0,  0,  0,  0,  0,  0,  0,  0,  0,  0,  0],\n",
       "        [37, 19, 41,  0,  0,  0,  0,  0,  0,  0,  0,  0,  0,  0,  0,  0]]),\n",
       " array([[ 9,  7, 10,  0,  0,  0,  0,  0,  0,  0,  0,  0,  0,  0,  0,  0],\n",
       "        [21, 26, 27, 37, 23, 30,  0,  0,  0,  0,  0,  0,  0,  0,  0,  0]]),\n",
       " array([[11,  8,  8,  8, 36, 34, 31,  0,  0,  0,  0,  0,  0,  0,  0,  0],\n",
       "        [31, 38, 36,  0,  0,  0,  0,  0,  0,  0,  0,  0,  0,  0,  0,  0]]),\n",
       " array([[37, 31, 19, 30, 30,  0,  0,  0,  0,  0,  0,  0,  0,  0,  0,  0],\n",
       "        [22, 27, 31,  0,  0,  0,  0,  0,  0,  0,  0,  0,  0,  0,  0,  0],\n",
       "        [24, 39, 37,  0,  0,  0,  0,  0,  0,  0,  0,  0,  0,  0,  0,  0]]),\n",
       " array([[11, 34, 33, 37,  0,  0,  0,  0,  0,  0,  0,  0,  0,  0,  0,  0],\n",
       "        [37, 37, 41,  0,  0,  0,  0,  0,  0,  0,  0,  0,  0,  0,  0,  0],\n",
       "        [33, 34, 23, 36,  0,  0,  0,  0,  0,  0,  0,  0,  0,  0,  0,  0]]),\n",
       " array([[11, 34,  0,  0,  0,  0,  0,  0,  0,  0,  0,  0,  0,  0,  0,  0],\n",
       "        [14,  8,  8, 19,  0,  0,  0,  0,  0,  0,  0,  0,  0,  0,  0,  0],\n",
       "        [14,  8,  8, 40,  0,  0,  0,  0,  0,  0,  0,  0,  0,  0,  0,  0],\n",
       "        [21,  7, 20,  0,  0,  0,  0,  0,  0,  0,  0,  0,  0,  0,  0,  0]]),\n",
       " array([[11,  8, 29, 40, 19,  0,  0,  0,  0,  0,  0,  0,  0,  0,  0,  0],\n",
       "        [38, 24, 31,  0,  0,  0,  0,  0,  0,  0,  0,  0,  0,  0,  0,  0]]),\n",
       " array([[31, 19, 30, 23,  0,  0,  0,  0,  0,  0,  0,  0,  0,  0,  0,  0],\n",
       "        [37, 38, 36,  0,  0,  0,  0,  0,  0,  0,  0,  0,  0,  0,  0,  0],\n",
       "        [21, 33, 36, 22,  0,  0,  0,  0,  0,  0,  0,  0,  0,  0,  0,  0],\n",
       "        [21, 33, 32, 32,  0,  0,  0,  0,  0,  0,  0,  0,  0,  0,  0,  0]]),\n",
       " array([[34, 33, 41, 23, 36,  0,  0,  0,  0,  0,  0,  0,  0,  0,  0,  0],\n",
       "        [34, 19, 32, 23, 30,  0,  0,  0,  0,  0,  0,  0,  0,  0,  0,  0]]),\n",
       " array([[10, 10,  5,  9, 16, 27, 32, 37,  0,  0,  0,  0,  0,  0,  0,  0],\n",
       "        [24, 33, 36, 29,  0,  0,  0,  0,  0,  0,  0,  0,  0,  0,  0,  0],\n",
       "        [30, 39, 25,  0,  0,  0,  0,  0,  0,  0,  0,  0,  0,  0,  0,  0]]),\n",
       " array([[ 9, 25,  0,  0,  0,  0,  0,  0,  0,  0,  0,  0,  0,  0,  0,  0],\n",
       "        [24, 37, 30, 19,  5, 20, 33, 42,  0,  0,  0,  0,  0,  0,  0,  0]]),\n",
       " array([[34, 33, 41, 23, 36,  0,  0,  0,  0,  0,  0,  0,  0,  0,  0,  0],\n",
       "        [21, 19, 20, 30, 23,  0,  0,  0,  0,  0,  0,  0,  0,  0,  0,  0]]),\n",
       " array([[10,  7,  8,  0,  0,  0,  0,  0,  0,  0,  0,  0,  0,  0,  0,  0],\n",
       "        [19, 30, 21, 39,  0,  0,  0,  0,  0,  0,  0,  0,  0,  0,  0,  0],\n",
       "        [10, 20, 30, 38,  0,  0,  0,  0,  0,  0,  0,  0,  0,  0,  0,  0],\n",
       "        [21, 33, 32, 32,  0,  0,  0,  0,  0,  0,  0,  0,  0,  0,  0,  0]]),\n",
       " array([[ 9, 14, 31, 31,  0,  0,  0,  0,  0,  0,  0,  0,  0,  0,  0,  0],\n",
       "        [37, 41, 40, 30,  0,  0,  0,  0,  0,  0,  0,  0,  0,  0,  0,  0],\n",
       "        [36, 38, 21, 26, 38,  0,  0,  0,  0,  0,  0,  0,  0,  0,  0,  0],\n",
       "        [41, 36, 32,  0,  0,  0,  0,  0,  0,  0,  0,  0,  0,  0,  0,  0]]),\n",
       " array([[23, 30,  0,  0,  0,  0,  0,  0,  0,  0,  0,  0,  0,  0,  0,  0],\n",
       "        [21, 33, 32, 32,  0,  0,  0,  0,  0,  0,  0,  0,  0,  0,  0,  0]]),\n",
       " array([[15,  8,  8, 40, 19,  0,  0,  0,  0,  0,  0,  0,  0,  0,  0,  0],\n",
       "        [30, 33,  5, 40, 38, 25,  0,  0,  0,  0,  0,  0,  0,  0,  0,  0],\n",
       "        [37, 30, 27, 22, 23,  0,  0,  0,  0,  0,  0,  0,  0,  0,  0,  0]]),\n",
       " array([[13,  7, 16,  0,  0,  0,  0,  0,  0,  0,  0,  0,  0,  0,  0,  0],\n",
       "        [14,  8,  0,  0,  0,  0,  0,  0,  0,  0,  0,  0,  0,  0,  0,  0],\n",
       "        [21, 39,  0,  0,  0,  0,  0,  0,  0,  0,  0,  0,  0,  0,  0,  0],\n",
       "        [20, 19, 36, 23,  0,  0,  0,  0,  0,  0,  0,  0,  0,  0,  0,  0],\n",
       "        [27, 32, 22,  0,  0,  0,  0,  0,  0,  0,  0,  0,  0,  0,  0,  0],\n",
       "        [34, 33, 27, 32, 38,  0,  0,  0,  0,  0,  0,  0,  0,  0,  0,  0]]),\n",
       " array([[11,  8,  8,  8, 36, 34, 31,  0,  0,  0,  0,  0,  0,  0,  0,  0],\n",
       "        [31, 38, 36,  0,  0,  0,  0,  0,  0,  0,  0,  0,  0,  0,  0,  0]]),\n",
       " array([[13, 34, 21,  0,  0,  0,  0,  0,  0,  0,  0,  0,  0,  0,  0,  0],\n",
       "        [34, 39, 32, 21, 26,  3, 21, 26, 27, 37, 23, 30,  0,  0,  0,  0],\n",
       "        [37, 23, 38,  0,  0,  0,  0,  0,  0,  0,  0,  0,  0,  0,  0,  0]]),\n",
       " array([[11,  6, 17,  0,  0,  0,  0,  0,  0,  0,  0,  0,  0,  0,  0,  0],\n",
       "        [ 8,  6, 16,  0,  0,  0,  0,  0,  0,  0,  0,  0,  0,  0,  0,  0],\n",
       "        [23, 32, 21,  7, 30, 27, 22,  0,  0,  0,  0,  0,  0,  0,  0,  0]]),\n",
       " array([[25, 36, 32,  0,  0,  0,  0,  0,  0,  0,  0,  0,  0,  0,  0,  0],\n",
       "        [32, 23, 31, 19,  0,  0,  0,  0,  0,  0,  0,  0,  0,  0,  0,  0],\n",
       "        [11, 36,  0,  0,  0,  0,  0,  0,  0,  0,  0,  0,  0,  0,  0,  0],\n",
       "        [36, 21, 34, 38,  0,  0,  0,  0,  0,  0,  0,  0,  0,  0,  0,  0],\n",
       "        [21, 40, 36,  0,  0,  0,  0,  0,  0,  0,  0,  0,  0,  0,  0,  0]]),\n",
       " array([[36, 37, 11,  8,  0,  0,  0,  0,  0,  0,  0,  0,  0,  0,  0,  0],\n",
       "        [36, 23, 30, 19, 43,  0,  0,  0,  0,  0,  0,  0,  0,  0,  0,  0]]),\n",
       " array([[11, 34,  0,  0,  0,  0,  0,  0,  0,  0,  0,  0,  0,  0,  0,  0],\n",
       "        [10, 12,  8, 40,  0,  0,  0,  0,  0,  0,  0,  0,  0,  0,  0,  0],\n",
       "        [37, 38, 36,  0,  0,  0,  0,  0,  0,  0,  0,  0,  0,  0,  0,  0]]),\n",
       " array([[10,  5, 11,  7, 12,  5, 33, 44,  0,  0,  0,  0,  0,  0,  0,  0],\n",
       "        [30, 39, 20, 36, 27, 21, 19, 32, 38,  0,  0,  0,  0,  0,  0,  0]]),\n",
       " array([[34, 36, 23, 37, 23, 38,  0,  0,  0,  0,  0,  0,  0,  0,  0,  0],\n",
       "        [22, 27, 31, 31, 23, 36,  0,  0,  0,  0,  0,  0,  0,  0,  0,  0]]),\n",
       " array([[34, 33, 41, 23, 36,  0,  0,  0,  0,  0,  0,  0,  0,  0,  0,  0],\n",
       "        [21, 20, 30,  0,  0,  0,  0,  0,  0,  0,  0,  0,  0,  0,  0,  0]]),\n",
       " array([[10,  5, 11,  7,  9, 14,  0,  0,  0,  0,  0,  0,  0,  0,  0,  0],\n",
       "        [37, 38, 36, 29, 32, 25,  0,  0,  0,  0,  0,  0,  0,  0,  0,  0],\n",
       "        [41, 36, 32,  0,  0,  0,  0,  0,  0,  0,  0,  0,  0,  0,  0,  0]]),\n",
       " array([[23, 37, 21, 39, 38, 21, 26, 23, 33, 32,  0,  0,  0,  0,  0,  0]]),\n",
       " array([[11, 34,  0,  0,  0,  0,  0,  0,  0,  0,  0,  0,  0,  0,  0,  0],\n",
       "        [17,  8, 19,  0,  0,  0,  0,  0,  0,  0,  0,  0,  0,  0,  0,  0],\n",
       "        [21, 32, 21, 38, 36,  0,  0,  0,  0,  0,  0,  0,  0,  0,  0,  0]]),\n",
       " array([[12, 16,  8,  8, 40,  0,  0,  0,  0,  0,  0,  0,  0,  0,  0,  0],\n",
       "        [36,  0,  0,  0,  0,  0,  0,  0,  0,  0,  0,  0,  0,  0,  0,  0],\n",
       "        [36, 19, 38, 23, 22,  0,  0,  0,  0,  0,  0,  0,  0,  0,  0,  0],\n",
       "        [24, 37,  0,  0,  0,  0,  0,  0,  0,  0,  0,  0,  0,  0,  0,  0]]),\n",
       " array([[11, 34,  0,  0,  0,  0,  0,  0,  0,  0,  0,  0,  0,  0,  0,  0],\n",
       "        [ 9, 13, 19,  0,  0,  0,  0,  0,  0,  0,  0,  0,  0,  0,  0,  0],\n",
       "        [21, 32, 21, 38, 36,  0,  0,  0,  0,  0,  0,  0,  0,  0,  0,  0]]),\n",
       " array([[36, 23, 22, 39, 21, 23, 36,  0,  0,  0,  0,  0,  0,  0,  0,  0],\n",
       "        [20, 39, 37, 26, 27, 32, 25,  0,  0,  0,  0,  0,  0,  0,  0,  0]]),\n",
       " array([[11, 27, 32,  0,  0,  0,  0,  0,  0,  0,  0,  0,  0,  0,  0,  0],\n",
       "        [ 9,  8,  8, 24, 38,  0,  0,  0,  0,  0,  0,  0,  0,  0,  0,  0],\n",
       "        [31, 36, 29, 25,  0,  0,  0,  0,  0,  0,  0,  0,  0,  0,  0,  0],\n",
       "        [38, 19, 34, 23,  0,  0,  0,  0,  0,  0,  0,  0,  0,  0,  0,  0]]),\n",
       " array([[10, 12, 40,  0,  0,  0,  0,  0,  0,  0,  0,  0,  0,  0,  0,  0],\n",
       "        [34, 30,  0,  0,  0,  0,  0,  0,  0,  0,  0,  0,  0,  0,  0,  0]]),\n",
       " array([[10,  8, 16, 40,  0,  0,  0,  0,  0,  0,  0,  0,  0,  0,  0,  0],\n",
       "        [11, 34, 26,  0,  0,  0,  0,  0,  0,  0,  0,  0,  0,  0,  0,  0],\n",
       "        [21, 30, 37, 22,  0,  0,  0,  0,  0,  0,  0,  0,  0,  0,  0,  0],\n",
       "        [21, 32, 38, 21, 38, 36,  0,  0,  0,  0,  0,  0,  0,  0,  0,  0]]),\n",
       " array([[10, 27, 32,  0,  0,  0,  0,  0,  0,  0,  0,  0,  0,  0,  0,  0],\n",
       "        [32, 23, 33,  0,  0,  0,  0,  0,  0,  0,  0,  0,  0,  0,  0,  0],\n",
       "        [23, 32, 22,  0,  0,  0,  0,  0,  0,  0,  0,  0,  0,  0,  0,  0],\n",
       "        [21, 19, 34,  0,  0,  0,  0,  0,  0,  0,  0,  0,  0,  0,  0,  0]]),\n",
       " array([[ 9,  8,  8, 26, 34,  0,  0,  0,  0,  0,  0,  0,  0,  0,  0,  0],\n",
       "        [22, 36, 40,  0,  0,  0,  0,  0,  0,  0,  0,  0,  0,  0,  0,  0]]),\n",
       " array([[21, 26, 19, 32, 32, 23, 30,  0,  0,  0,  0,  0,  0,  0,  0,  0]]),\n",
       " array([[20, 30, 29,  0,  0,  0,  0,  0,  0,  0,  0,  0,  0,  0,  0,  0],\n",
       "        [28,  5, 26, 33, 33, 29,  0,  0,  0,  0,  0,  0,  0,  0,  0,  0],\n",
       "        [19, 32, 25, 30, 23,  0,  0,  0,  0,  0,  0,  0,  0,  0,  0,  0],\n",
       "        [20, 36, 29, 38,  0,  0,  0,  0,  0,  0,  0,  0,  0,  0,  0,  0]]),\n",
       " array([[ 9, 13,  6, 13,  0,  0,  0,  0,  0,  0,  0,  0,  0,  0,  0,  0],\n",
       "        [31, 19, 42,  0,  0,  0,  0,  0,  0,  0,  0,  0,  0,  0,  0,  0],\n",
       "        [29, 40,  0,  0,  0,  0,  0,  0,  0,  0,  0,  0,  0,  0,  0,  0],\n",
       "        [20, 19,  5, 10,  8,  8,  0,  0,  0,  0,  0,  0,  0,  0,  0,  0]]),\n",
       " array([[24, 40, 32, 36,  0,  0,  0,  0,  0,  0,  0,  0,  0,  0,  0,  0],\n",
       "        [21, 33, 31, 20,  0,  0,  0,  0,  0,  0,  0,  0,  0,  0,  0,  0],\n",
       "        [37, 44,  8,  0,  0,  0,  0,  0,  0,  0,  0,  0,  0,  0,  0,  0],\n",
       "        [32,  9,  0,  0,  0,  0,  0,  0,  0,  0,  0,  0,  0,  0,  0,  0]]),\n",
       " array([[10, 11,  8, 40,  0,  0,  0,  0,  0,  0,  0,  0,  0,  0,  0,  0],\n",
       "        [22, 36, 27, 40, 23,  0,  0,  0,  0,  0,  0,  0,  0,  0,  0,  0]]),\n",
       " array([[37, 23, 35,  0,  0,  0,  0,  0,  0,  0,  0,  0,  0,  0,  0,  0],\n",
       "        [19,  0,  0,  0,  0,  0,  0,  0,  0,  0,  0,  0,  0,  0,  0,  0],\n",
       "        [24, 36, 32, 38,  0,  0,  0,  0,  0,  0,  0,  0,  0,  0,  0,  0],\n",
       "        [19, 39, 42,  0,  0,  0,  0,  0,  0,  0,  0,  0,  0,  0,  0,  0]]),\n",
       " array([[34, 22, 39,  0,  0,  0,  0,  0,  0,  0,  0,  0,  0,  0,  0,  0]]),\n",
       " array([[20, 19, 36, 23,  0,  0,  0,  0,  0,  0,  0,  0,  0,  0,  0,  0],\n",
       "        [38, 36, 19, 32, 37, 31, 27, 37, 37, 27, 33, 32,  0,  0,  0,  0],\n",
       "        [19, 32, 22,  0,  0,  0,  0,  0,  0,  0,  0,  0,  0,  0,  0,  0],\n",
       "        [22, 27, 37, 38, 36, 27, 20, 39, 38,  0,  0,  0,  0,  0,  0,  0]]),\n",
       " array([[30, 29, 25,  0,  0,  0,  0,  0,  0,  0,  0,  0,  0,  0,  0,  0],\n",
       "        [36, 21, 34, 38,  5, 32, 23, 31, 19,  0,  0,  0,  0,  0,  0,  0],\n",
       "        [30,  9, 16,  5, 10,  8, 36,  0,  0,  0,  0,  0,  0,  0,  0,  0]]),\n",
       " array([[11, 34,  0,  0,  0,  0,  0,  0,  0,  0,  0,  0,  0,  0,  0,  0],\n",
       "        [ 9, 13,  8, 19,  0,  0,  0,  0,  0,  0,  0,  0,  0,  0,  0,  0],\n",
       "        [21, 20,  0,  0,  0,  0,  0,  0,  0,  0,  0,  0,  0,  0,  0,  0]]),\n",
       " array([[15,  5,  9,  7, 12,  0,  0,  0,  0,  0,  0,  0,  0,  0,  0,  0],\n",
       "        [22, 27, 19, 25, 33, 32, 19, 30,  0,  0,  0,  0,  0,  0,  0,  0],\n",
       "        [21, 38, 38, 36,  0,  0,  0,  0,  0,  0,  0,  0,  0,  0,  0,  0]]),\n",
       " array([[30, 27, 32, 23,  0,  0,  0,  0,  0,  0,  0,  0,  0,  0,  0,  0],\n",
       "        [19, 39, 38, 33,  0,  0,  0,  0,  0,  0,  0,  0,  0,  0,  0,  0],\n",
       "        [38, 36, 19, 32, 37, 24, 33, 36, 31, 23, 36,  0,  0,  0,  0,  0]]),\n",
       " array([[15,  6, 13,  0,  0,  0,  0,  0,  0,  0,  0,  0,  0,  0,  0,  0],\n",
       "        [37, 34, 21, 36,  0,  0,  0,  0,  0,  0,  0,  0,  0,  0,  0,  0],\n",
       "        [21, 40, 36,  0,  0,  0,  0,  0,  0,  0,  0,  0,  0,  0,  0,  0]]),\n",
       " array([[36, 28,  0,  0,  0,  0,  0,  0,  0,  0,  0,  0,  0,  0,  0,  0],\n",
       "        [21, 33, 32, 32, 23, 21, 38, 33, 36,  0,  0,  0,  0,  0,  0,  0]]),\n",
       " array([[15,  6, 13, 29, 41,  0,  0,  0,  0,  0,  0,  0,  0,  0,  0,  0],\n",
       "        [21, 32, 21, 38, 36,  0,  0,  0,  0,  0,  0,  0,  0,  0,  0,  0]]),\n",
       " array([[37, 32, 19, 34,  0,  0,  0,  0,  0,  0,  0,  0,  0,  0,  0,  0],\n",
       "        [22, 27, 37, 21,  0,  0,  0,  0,  0,  0,  0,  0,  0,  0,  0,  0],\n",
       "        [21, 33, 32,  0,  0,  0,  0,  0,  0,  0,  0,  0,  0,  0,  0,  0]]),\n",
       " array([[ 9,  8,  8, 24, 38,  0,  0,  0,  0,  0,  0,  0,  0,  0,  0,  0],\n",
       "        [34, 38, 21, 26, 21, 36, 22,  0,  0,  0,  0,  0,  0,  0,  0,  0]]),\n",
       " array([[ 9, 16, 25, 19,  0,  0,  0,  0,  0,  0,  0,  0,  0,  0,  0,  0],\n",
       "        [ 9,  5,  9,  7, 10,  0,  0,  0,  0,  0,  0,  0,  0,  0,  0,  0],\n",
       "        [20, 36, 19, 22,  0,  0,  0,  0,  0,  0,  0,  0,  0,  0,  0,  0],\n",
       "        [32, 19, 27, 30,  0,  0,  0,  0,  0,  0,  0,  0,  0,  0,  0,  0]]),\n",
       " array([[13,  8, 26, 34,  0,  0,  0,  0,  0,  0,  0,  0,  0,  0,  0,  0],\n",
       "        [22, 36, 40,  0,  0,  0,  0,  0,  0,  0,  0,  0,  0,  0,  0,  0]]),\n",
       " array([[30, 19, 37, 23, 36,  0,  0,  0,  0,  0,  0,  0,  0,  0,  0,  0],\n",
       "        [34, 36, 32, 38,  0,  0,  0,  0,  0,  0,  0,  0,  0,  0,  0,  0],\n",
       "        [30, 20, 30,  0,  0,  0,  0,  0,  0,  0,  0,  0,  0,  0,  0,  0]]),\n",
       " array([[21, 33, 31, 20,  0,  0,  0,  0,  0,  0,  0,  0,  0,  0,  0,  0],\n",
       "        [37, 38, 19, 36, 38, 23, 36,  0,  0,  0,  0,  0,  0,  0,  0,  0]]),\n",
       " array([[10, 15, 15, 40,  0,  0,  0,  0,  0,  0,  0,  0,  0,  0,  0,  0],\n",
       "        [37, 38, 19, 36, 38, 23, 36,  0,  0,  0,  0,  0,  0,  0,  0,  0]]),\n",
       " array([[20, 39, 27, 30, 22, 27, 32, 25,  0,  0,  0,  0,  0,  0,  0,  0],\n",
       "        [41, 27, 36, 23,  0,  0,  0,  0,  0,  0,  0,  0,  0,  0,  0,  0]]),\n",
       " array([[11,  8,  6, 13, 31, 31,  0,  0,  0,  0,  0,  0,  0,  0,  0,  0],\n",
       "        [20, 30, 39,  0,  0,  0,  0,  0,  0,  0,  0,  0,  0,  0,  0,  0],\n",
       "        [20, 38, 32,  0,  0,  0,  0,  0,  0,  0,  0,  0,  0,  0,  0,  0]]),\n",
       " array([[11,  8, 31, 31,  0,  0,  0,  0,  0,  0,  0,  0,  0,  0,  0,  0],\n",
       "        [34, 20,  0,  0,  0,  0,  0,  0,  0,  0,  0,  0,  0,  0,  0,  0]]),\n",
       " array([[11,  7, 12,  0,  0,  0,  0,  0,  0,  0,  0,  0,  0,  0,  0,  0],\n",
       "        [37, 37,  0,  0,  0,  0,  0,  0,  0,  0,  0,  0,  0,  0,  0,  0],\n",
       "        [11, 34, 21,  0,  0,  0,  0,  0,  0,  0,  0,  0,  0,  0,  0,  0],\n",
       "        [21, 34, 30, 25,  0,  0,  0,  0,  0,  0,  0,  0,  0,  0,  0,  0]]),\n",
       " array([[12, 34, 19, 27, 36,  0,  0,  0,  0,  0,  0,  0,  0,  0,  0,  0],\n",
       "        [34, 19, 38, 21, 26,  0,  0,  0,  0,  0,  0,  0,  0,  0,  0,  0],\n",
       "        [21, 33, 36, 22,  0,  0,  0,  0,  0,  0,  0,  0,  0,  0,  0,  0]]),\n",
       " array([[13, 26, 34,  0,  0,  0,  0,  0,  0,  0,  0,  0,  0,  0,  0,  0],\n",
       "        [22, 36, 40,  0,  0,  0,  0,  0,  0,  0,  0,  0,  0,  0,  0,  0]]),\n",
       " array([[36, 19, 21, 29,  0,  0,  0,  0,  0,  0,  0,  0,  0,  0,  0,  0],\n",
       "        [31, 33, 39, 32, 38,  0,  0,  0,  0,  0,  0,  0,  0,  0,  0,  0],\n",
       "        [37, 26, 30, 24,  0,  0,  0,  0,  0,  0,  0,  0,  0,  0,  0,  0]]),\n",
       " array([[23, 32, 21, 30, 33, 37, 23, 22,  0,  0,  0,  0,  0,  0,  0,  0],\n",
       "        [37, 41, 27, 38, 21, 26,  0,  0,  0,  0,  0,  0,  0,  0,  0,  0]]),\n",
       " array([[11,  5, 11,  7, 12,  0,  0,  0,  0,  0,  0,  0,  0,  0,  0,  0],\n",
       "        [32, 33, 32,  5, 27, 21,  0,  0,  0,  0,  0,  0,  0,  0,  0,  0],\n",
       "        [36, 31, 22, 30, 36,  0,  0,  0,  0,  0,  0,  0,  0,  0,  0,  0]]),\n",
       " array([[12, 16,  8, 40,  0,  0,  0,  0,  0,  0,  0,  0,  0,  0,  0,  0],\n",
       "        [36, 21, 34,  0,  0,  0,  0,  0,  0,  0,  0,  0,  0,  0,  0,  0]]),\n",
       " array([[12, 16,  8, 40,  0,  0,  0,  0,  0,  0,  0,  0,  0,  0,  0,  0],\n",
       "        [11,  8, 26, 34,  0,  0,  0,  0,  0,  0,  0,  0,  0,  0,  0,  0],\n",
       "        [22, 36, 40,  0,  0,  0,  0,  0,  0,  0,  0,  0,  0,  0,  0,  0]]),\n",
       " array([[37, 32, 19, 34,  5, 27, 32,  0,  0,  0,  0,  0,  0,  0,  0,  0],\n",
       "        [21, 33, 32, 32,  0,  0,  0,  0,  0,  0,  0,  0,  0,  0,  0,  0],\n",
       "        [24, 38, 25,  0,  0,  0,  0,  0,  0,  0,  0,  0,  0,  0,  0,  0],\n",
       "        [ 9,  8,  0,  0,  0,  0,  0,  0,  0,  0,  0,  0,  0,  0,  0,  0]]),\n",
       " array([[13,  6, 13, 29, 41,  0,  0,  0,  0,  0,  0,  0,  0,  0,  0,  0],\n",
       "        [12,  8,  8, 40,  0,  0,  0,  0,  0,  0,  0,  0,  0,  0,  0,  0],\n",
       "        [21, 32, 21, 38, 36,  0,  0,  0,  0,  0,  0,  0,  0,  0,  0,  0]]),\n",
       " array([[ 9, 13, 13, 40,  0,  0,  0,  0,  0,  0,  0,  0,  0,  0,  0,  0],\n",
       "        [21, 32, 21, 38, 36,  0,  0,  0,  0,  0,  0,  0,  0,  0,  0,  0]]),\n",
       " array([[ 9,  7, 10, 22, 36,  0,  0,  0,  0,  0,  0,  0,  0,  0,  0,  0],\n",
       "        [26, 27, 32, 25, 23,  0,  0,  0,  0,  0,  0,  0,  0,  0,  0,  0],\n",
       "        [26, 19, 32, 22, 30, 23,  0,  0,  0,  0,  0,  0,  0,  0,  0,  0]]),\n",
       " array([[11, 34,  0,  0,  0,  0,  0,  0,  0,  0,  0,  0,  0,  0,  0,  0],\n",
       "        [ 9, 16,  8,  8, 19,  0,  0,  0,  0,  0,  0,  0,  0,  0,  0,  0],\n",
       "        [14,  8,  8, 40,  0,  0,  0,  0,  0,  0,  0,  0,  0,  0,  0,  0],\n",
       "        [21,  7, 20,  0,  0,  0,  0,  0,  0,  0,  0,  0,  0,  0,  0,  0]]),\n",
       " array([[32, 11, 36,  0,  0,  0,  0,  0,  0,  0,  0,  0,  0,  0,  0,  0],\n",
       "        [30, 36, 25,  0,  0,  0,  0,  0,  0,  0,  0,  0,  0,  0,  0,  0],\n",
       "        [21, 33, 32, 38,  0,  0,  0,  0,  0,  0,  0,  0,  0,  0,  0,  0],\n",
       "        [23, 32, 21, 30,  0,  0,  0,  0,  0,  0,  0,  0,  0,  0,  0,  0]]),\n",
       " array([[11, 34, 26,  0,  0,  0,  0,  0,  0,  0,  0,  0,  0,  0,  0,  0],\n",
       "        [12, 13, 29, 40, 19,  0,  0,  0,  0,  0,  0,  0,  0,  0,  0,  0],\n",
       "        [38, 24, 31,  0,  0,  0,  0,  0,  0,  0,  0,  0,  0,  0,  0,  0]]),\n",
       " array([[44,  0,  0,  0,  0,  0,  0,  0,  0,  0,  0,  0,  0,  0,  0,  0],\n",
       "        [34, 39, 36, 30, 27, 32,  0,  0,  0,  0,  0,  0,  0,  0,  0,  0],\n",
       "        [26, 25, 36,  0,  0,  0,  0,  0,  0,  0,  0,  0,  0,  0,  0,  0],\n",
       "        [21, 19, 20, 30, 23,  0,  0,  0,  0,  0,  0,  0,  0,  0,  0,  0]]),\n",
       " array([[ 9,  7, 12,  5, 10,  8,  0,  0,  0,  0,  0,  0,  0,  0,  0,  0],\n",
       "        [26, 23, 42,  0,  0,  0,  0,  0,  0,  0,  0,  0,  0,  0,  0,  0],\n",
       "        [32, 39, 38,  0,  0,  0,  0,  0,  0,  0,  0,  0,  0,  0,  0,  0],\n",
       "        [37, 37,  0,  0,  0,  0,  0,  0,  0,  0,  0,  0,  0,  0,  0,  0]]),\n",
       " array([[11, 34,  0,  0,  0,  0,  0,  0,  0,  0,  0,  0,  0,  0,  0,  0],\n",
       "        [ 9, 14,  8, 19,  0,  0,  0,  0,  0,  0,  0,  0,  0,  0,  0,  0],\n",
       "        [14,  8,  8, 40,  0,  0,  0,  0,  0,  0,  0,  0,  0,  0,  0,  0],\n",
       "        [21, 20,  0,  0,  0,  0,  0,  0,  0,  0,  0,  0,  0,  0,  0,  0]]),\n",
       " array([[10, 13, 19,  0,  0,  0,  0,  0,  0,  0,  0,  0,  0,  0,  0,  0],\n",
       "        [27, 23, 21,  0,  0,  0,  0,  0,  0,  0,  0,  0,  0,  0,  0,  0],\n",
       "        [37, 38, 36,  0,  0,  0,  0,  0,  0,  0,  0,  0,  0,  0,  0,  0]]),\n",
       " array([[11, 34, 26,  0,  0,  0,  0,  0,  0,  0,  0,  0,  0,  0,  0,  0],\n",
       "        [21,  5, 37, 38, 36,  0,  0,  0,  0,  0,  0,  0,  0,  0,  0,  0]]),\n",
       " array([[11, 34,  0,  0,  0,  0,  0,  0,  0,  0,  0,  0,  0,  0,  0,  0],\n",
       "        [ 9, 13, 19,  0,  0,  0,  0,  0,  0,  0,  0,  0,  0,  0,  0,  0],\n",
       "        [21, 20,  0,  0,  0,  0,  0,  0,  0,  0,  0,  0,  0,  0,  0,  0]]),\n",
       " array([[12,  5, 21, 22, 36,  0,  0,  0,  0,  0,  0,  0,  0,  0,  0,  0],\n",
       "        [12, 19, 41, 25,  0,  0,  0,  0,  0,  0,  0,  0,  0,  0,  0,  0],\n",
       "        [21, 20, 30,  0,  0,  0,  0,  0,  0,  0,  0,  0,  0,  0,  0,  0]]),\n",
       " array([[11,  5, 34, 36, 38,  0,  0,  0,  0,  0,  0,  0,  0,  0,  0,  0],\n",
       "        [25, 36, 43,  0,  0,  0,  0,  0,  0,  0,  0,  0,  0,  0,  0,  0],\n",
       "        [24, 21, 23, 34, 30, 38,  0,  0,  0,  0,  0,  0,  0,  0,  0,  0]]),\n",
       " array([[43,  0,  0,  0,  0,  0,  0,  0,  0,  0,  0,  0,  0,  0,  0,  0],\n",
       "        [38, 25, 30,  0,  0,  0,  0,  0,  0,  0,  0,  0,  0,  0,  0,  0],\n",
       "        [19, 21, 21, 43,  0,  0,  0,  0,  0,  0,  0,  0,  0,  0,  0,  0]]),\n",
       " array([[42,  5, 34, 36, 24,  0,  0,  0,  0,  0,  0,  0,  0,  0,  0,  0],\n",
       "        [28, 39, 32, 21, 38, 27, 33, 32,  0,  0,  0,  0,  0,  0,  0,  0],\n",
       "        [20, 33, 42,  0,  0,  0,  0,  0,  0,  0,  0,  0,  0,  0,  0,  0]]),\n",
       " array([[ 9, 34, 26,  0,  0,  0,  0,  0,  0,  0,  0,  0,  0,  0,  0,  0],\n",
       "        [10, 29, 40, 19,  0,  0,  0,  0,  0,  0,  0,  0,  0,  0,  0,  0],\n",
       "        [38, 24, 31,  0,  0,  0,  0,  0,  0,  0,  0,  0,  0,  0,  0,  0]]),\n",
       " array([[14,  8,  8,  8, 36, 34, 31,  0,  0,  0,  0,  0,  0,  0,  0,  0],\n",
       "        [31, 38, 36,  0,  0,  0,  0,  0,  0,  0,  0,  0,  0,  0,  0,  0]]),\n",
       " array([[ 9,  8,  8, 24, 38,  0,  0,  0,  0,  0,  0,  0,  0,  0,  0,  0],\n",
       "        [21, 33, 36, 22,  0,  0,  0,  0,  0,  0,  0,  0,  0,  0,  0,  0],\n",
       "        [37, 23, 38,  0,  0,  0,  0,  0,  0,  0,  0,  0,  0,  0,  0,  0]]),\n",
       " array([[38, 36, 19, 29,  0,  0,  0,  0,  0,  0,  0,  0,  0,  0,  0,  0],\n",
       "        [37, 39, 36, 24,  0,  0,  0,  0,  0,  0,  0,  0,  0,  0,  0,  0],\n",
       "        [41,  7, 21, 33, 32, 32,  0,  0,  0,  0,  0,  0,  0,  0,  0,  0],\n",
       "        [41, 26, 38,  0,  0,  0,  0,  0,  0,  0,  0,  0,  0,  0,  0,  0]]),\n",
       " array([[22, 20, 30,  0,  0,  0,  0,  0,  0,  0,  0,  0,  0,  0,  0,  0],\n",
       "        [36, 33, 41,  0,  0,  0,  0,  0,  0,  0,  0,  0,  0,  0,  0,  0],\n",
       "        [38, 23, 36, 31,  0,  0,  0,  0,  0,  0,  0,  0,  0,  0,  0,  0],\n",
       "        [20, 30, 33, 21, 29,  0,  0,  0,  0,  0,  0,  0,  0,  0,  0,  0]]),\n",
       " array([[ 9, 27, 32,  0,  0,  0,  0,  0,  0,  0,  0,  0,  0,  0,  0,  0],\n",
       "        [21, 33, 32, 32,  0,  0,  0,  0,  0,  0,  0,  0,  0,  0,  0,  0]]),\n",
       " array([[12, 27, 32,  0,  0,  0,  0,  0,  0,  0,  0,  0,  0,  0,  0,  0],\n",
       "        [11, 12,  8,  0,  0,  0,  0,  0,  0,  0,  0,  0,  0,  0,  0,  0],\n",
       "        [20, 23, 30, 30,  0,  0,  0,  0,  0,  0,  0,  0,  0,  0,  0,  0],\n",
       "        [21, 19, 37, 38,  0,  0,  0,  0,  0,  0,  0,  0,  0,  0,  0,  0],\n",
       "        [20, 19, 21, 29,  0,  0,  0,  0,  0,  0,  0,  0,  0,  0,  0,  0],\n",
       "        [20, 33, 42,  0,  0,  0,  0,  0,  0,  0,  0,  0,  0,  0,  0,  0]]),\n",
       " array([[ 9,  6, 14, 19,  0,  0,  0,  0,  0,  0,  0,  0,  0,  0,  0,  0],\n",
       "        [31, 38, 36,  0,  0,  0,  0,  0,  0,  0,  0,  0,  0,  0,  0,  0],\n",
       "        [21, 38, 36, 30, 36,  0,  0,  0,  0,  0,  0,  0,  0,  0,  0,  0]]),\n",
       " array([[ 9,  7, 10,  0,  0,  0,  0,  0,  0,  0,  0,  0,  0,  0,  0,  0],\n",
       "        [ 9, 25,  0,  0,  0,  0,  0,  0,  0,  0,  0,  0,  0,  0,  0,  0],\n",
       "        [23, 30, 23, 21, 38, 36, 33, 30, 23, 38,  0,  0,  0,  0,  0,  0]]),\n",
       " array([[31, 19, 32, 39, 19, 30,  0,  0,  0,  0,  0,  0,  0,  0,  0,  0],\n",
       "        [27, 36, 27, 37,  0,  0,  0,  0,  0,  0,  0,  0,  0,  0,  0,  0],\n",
       "        [30, 23, 32, 37,  0,  0,  0,  0,  0,  0,  0,  0,  0,  0,  0,  0]]),\n",
       " array([[37, 27, 25, 32, 19, 30,  0,  0,  0,  0,  0,  0,  0,  0,  0,  0],\n",
       "        [21, 19, 20, 30, 23,  0,  0,  0,  0,  0,  0,  0,  0,  0,  0,  0]]),\n",
       " array([[36, 19, 32, 25, 23,  0,  0,  0,  0,  0,  0,  0,  0,  0,  0,  0],\n",
       "        [38, 19, 29, 27, 32, 25,  0,  0,  0,  0,  0,  0,  0,  0,  0,  0],\n",
       "        [21,  0,  0,  0,  0,  0,  0,  0,  0,  0,  0,  0,  0,  0,  0,  0],\n",
       "        [38, 19, 34,  0,  0,  0,  0,  0,  0,  0,  0,  0,  0,  0,  0,  0]]),\n",
       " array([[30, 38, 25,  0,  0,  0,  0,  0,  0,  0,  0,  0,  0,  0,  0,  0],\n",
       "        [21, 33, 32, 38, 19, 21, 38, 33, 36,  0,  0,  0,  0,  0,  0,  0]]),\n",
       " array([[37, 32, 19, 34,  5, 27, 32,  0,  0,  0,  0,  0,  0,  0,  0,  0],\n",
       "        [21, 33, 32, 32,  0,  0,  0,  0,  0,  0,  0,  0,  0,  0,  0,  0],\n",
       "        [24, 27, 38, 38, 27, 32, 25,  0,  0,  0,  0,  0,  0,  0,  0,  0],\n",
       "        [ 9,  8,  0,  0,  0,  0,  0,  0,  0,  0,  0,  0,  0,  0,  0,  0]]),\n",
       " array([[10, 34, 33, 37,  0,  0,  0,  0,  0,  0,  0,  0,  0,  0,  0,  0],\n",
       "        [36, 23, 22,  0,  0,  0,  0,  0,  0,  0,  0,  0,  0,  0,  0,  0],\n",
       "        [34, 30, 37,  0,  0,  0,  0,  0,  0,  0,  0,  0,  0,  0,  0,  0],\n",
       "        [31, 19, 27, 32, 38,  0,  0,  0,  0,  0,  0,  0,  0,  0,  0,  0],\n",
       "        [34, 20,  0,  0,  0,  0,  0,  0,  0,  0,  0,  0,  0,  0,  0,  0]]),\n",
       " array([[12, 34,  0,  0,  0,  0,  0,  0,  0,  0,  0,  0,  0,  0,  0,  0],\n",
       "        [10, 13,  8, 40,  0,  0,  0,  0,  0,  0,  0,  0,  0,  0,  0,  0],\n",
       "        [38, 33, 25, 25, 30, 23,  0,  0,  0,  0,  0,  0,  0,  0,  0,  0],\n",
       "        [37, 41,  0,  0,  0,  0,  0,  0,  0,  0,  0,  0,  0,  0,  0,  0]]),\n",
       " array([[ 9,  7, 10, 22, 36,  0,  0,  0,  0,  0,  0,  0,  0,  0,  0,  0],\n",
       "        [ 9, 10, 34, 38,  0,  0,  0,  0,  0,  0,  0,  0,  0,  0,  0,  0],\n",
       "        [10, 11, 31, 31,  0,  0,  0,  0,  0,  0,  0,  0,  0,  0,  0,  0],\n",
       "        [37, 29, 38,  0,  0,  0,  0,  0,  0,  0,  0,  0,  0,  0,  0,  0]]),\n",
       " array([[ 9,  7, 10,  0,  0,  0,  0,  0,  0,  0,  0,  0,  0,  0,  0,  0],\n",
       "        [21, 33, 31, 34,  0,  0,  0,  0,  0,  0,  0,  0,  0,  0,  0,  0],\n",
       "        [41, 19, 37, 26, 23, 36,  0,  0,  0,  0,  0,  0,  0,  0,  0,  0]]),\n",
       " array([[36, 23, 22,  0,  0,  0,  0,  0,  0,  0,  0,  0,  0,  0,  0,  0],\n",
       "        [34, 20,  0,  0,  0,  0,  0,  0,  0,  0,  0,  0,  0,  0,  0,  0],\n",
       "        [33, 34, 23, 36, 19, 38, 33, 36,  0,  0,  0,  0,  0,  0,  0,  0]]),\n",
       " array([[29,  5, 30, 19, 38, 26,  0,  0,  0,  0,  0,  0,  0,  0,  0,  0],\n",
       "        [37, 21, 36, 23, 41,  0,  0,  0,  0,  0,  0,  0,  0,  0,  0,  0]]),\n",
       " array([[11,  6, 13, 31,  0,  0,  0,  0,  0,  0,  0,  0,  0,  0,  0,  0],\n",
       "        [21, 19, 20, 30, 23,  0,  0,  0,  0,  0,  0,  0,  0,  0,  0,  0]]),\n",
       " array([[12, 13, 29, 40, 19,  0,  0,  0,  0,  0,  0,  0,  0,  0,  0,  0],\n",
       "        [38, 24, 31,  0,  0,  0,  0,  0,  0,  0,  0,  0,  0,  0,  0,  0]]),\n",
       " array([[12,  7,  8, 19, 41, 25,  0,  0,  0,  0,  0,  0,  0,  0,  0,  0],\n",
       "        [38, 23, 36, 31, 27, 32, 19, 30,  0,  0,  0,  0,  0,  0,  0,  0],\n",
       "        [30, 39, 25,  0,  0,  0,  0,  0,  0,  0,  0,  0,  0,  0,  0,  0]]),\n",
       " array([[16, 34,  0,  0,  0,  0,  0,  0,  0,  0,  0,  0,  0,  0,  0,  0],\n",
       "        [15, 19,  0,  0,  0,  0,  0,  0,  0,  0,  0,  0,  0,  0,  0,  0],\n",
       "        [31, 19, 30, 23,  0,  0,  0,  0,  0,  0,  0,  0,  0,  0,  0,  0],\n",
       "        [21,  7, 37, 23, 38,  0,  0,  0,  0,  0,  0,  0,  0,  0,  0,  0]]),\n",
       " array([[10,  5, 27, 32,  0,  0,  0,  0,  0,  0,  0,  0,  0,  0,  0,  0],\n",
       "        [21, 33, 32, 22,  0,  0,  0,  0,  0,  0,  0,  0,  0,  0,  0,  0],\n",
       "        [20, 33, 22, 43,  0,  0,  0,  0,  0,  0,  0,  0,  0,  0,  0,  0]]),\n",
       " array([[36, 33, 21, 29, 23, 36,  0,  0,  0,  0,  0,  0,  0,  0,  0,  0],\n",
       "        [37, 41, 27, 38, 21, 26,  0,  0,  0,  0,  0,  0,  0,  0,  0,  0]]),\n",
       " array([[11,  8,  8,  8, 36, 34, 31,  0,  0,  0,  0,  0,  0,  0,  0,  0],\n",
       "        [31, 38, 36,  0,  0,  0,  0,  0,  0,  0,  0,  0,  0,  0,  0,  0]]),\n",
       " array([[11,  8,  8,  8, 36, 34, 31,  0,  0,  0,  0,  0,  0,  0,  0,  0],\n",
       "        [31, 38, 36,  0,  0,  0,  0,  0,  0,  0,  0,  0,  0,  0,  0,  0]]),\n",
       " array([[24, 36, 37, 38, 32, 22, 25,  0,  0,  0,  0,  0,  0,  0,  0,  0],\n",
       "        [23, 32, 21, 30, 33, 37, 39, 36, 23,  0,  0,  0,  0,  0,  0,  0]]),\n",
       " array([[ 9,  7, 10,  0,  0,  0,  0,  0,  0,  0,  0,  0,  0,  0,  0,  0],\n",
       "        [14, 34, 32, 38,  0,  0,  0,  0,  0,  0,  0,  0,  0,  0,  0,  0],\n",
       "        [22, 37,  0,  0,  0,  0,  0,  0,  0,  0,  0,  0,  0,  0,  0,  0]]),\n",
       " array([[15, 19,  0,  0,  0,  0,  0,  0,  0,  0,  0,  0,  0,  0,  0,  0],\n",
       "        [21, 36, 32, 38,  0,  0,  0,  0,  0,  0,  0,  0,  0,  0,  0,  0],\n",
       "        [30, 31, 38, 25,  0,  0,  0,  0,  0,  0,  0,  0,  0,  0,  0,  0],\n",
       "        [24, 39, 37,  0,  0,  0,  0,  0,  0,  0,  0,  0,  0,  0,  0,  0]]),\n",
       " array([[10, 12,  8, 40,  0,  0,  0,  0,  0,  0,  0,  0,  0,  0,  0,  0],\n",
       "        [32,  9,  0,  0,  0,  0,  0,  0,  0,  0,  0,  0,  0,  0,  0,  0],\n",
       "        [37, 38, 36,  0,  0,  0,  0,  0,  0,  0,  0,  0,  0,  0,  0,  0]]),\n",
       " array([[ 9,  7, 12,  0,  0,  0,  0,  0,  0,  0,  0,  0,  0,  0,  0,  0],\n",
       "        [11, 15, 34, 21,  0,  0,  0,  0,  0,  0,  0,  0,  0,  0,  0,  0],\n",
       "        [37, 29, 38,  0,  0,  0,  0,  0,  0,  0,  0,  0,  0,  0,  0,  0],\n",
       "        [37, 38,  0,  0,  0,  0,  0,  0,  0,  0,  0,  0,  0,  0,  0,  0]]),\n",
       " array([[14,  8,  8,  8, 36, 34, 31,  0,  0,  0,  0,  0,  0,  0,  0,  0],\n",
       "        [31, 38, 36,  0,  0,  0,  0,  0,  0,  0,  0,  0,  0,  0,  0,  0]]),\n",
       " array([[21, 20,  0,  0,  0,  0,  0,  0,  0,  0,  0,  0,  0,  0,  0,  0],\n",
       "        [37, 26, 19, 24, 38,  0,  0,  0,  0,  0,  0,  0,  0,  0,  0,  0],\n",
       "        [26, 19, 32, 22, 30, 23,  0,  0,  0,  0,  0,  0,  0,  0,  0,  0]]),\n",
       " array([[37, 34, 30, 21,  0,  0,  0,  0,  0,  0,  0,  0,  0,  0,  0,  0]]),\n",
       " array([[ 9, 10, 13, 31, 31,  0,  0,  0,  0,  0,  0,  0,  0,  0,  0,  0],\n",
       "        [22, 27, 37,  5, 37, 41,  0,  0,  0,  0,  0,  0,  0,  0,  0,  0],\n",
       "        [26, 19, 32, 22, 30, 23,  0,  0,  0,  0,  0,  0,  0,  0,  0,  0]]),\n",
       " array([[11,  8,  8,  8, 36, 34, 31,  0,  0,  0,  0,  0,  0,  0,  0,  0],\n",
       "        [31, 38, 36,  0,  0,  0,  0,  0,  0,  0,  0,  0,  0,  0,  0,  0]]),\n",
       " array([[41, 22, 41,  0,  0,  0,  0,  0,  0,  0,  0,  0,  0,  0,  0,  0],\n",
       "        [22, 36,  0,  0,  0,  0,  0,  0,  0,  0,  0,  0,  0,  0,  0,  0],\n",
       "        [41, 27, 24, 27,  0,  0,  0,  0,  0,  0,  0,  0,  0,  0,  0,  0],\n",
       "        [21, 19, 20,  0,  0,  0,  0,  0,  0,  0,  0,  0,  0,  0,  0,  0]]),\n",
       " array([[ 9, 10, 34, 38,  0,  0,  0,  0,  0,  0,  0,  0,  0,  0,  0,  0],\n",
       "        [10, 13, 31, 31,  0,  0,  0,  0,  0,  0,  0,  0,  0,  0,  0,  0],\n",
       "        [34, 33, 30,  0,  0,  0,  0,  0,  0,  0,  0,  0,  0,  0,  0,  0],\n",
       "        [41, 36, 32,  0,  0,  0,  0,  0,  0,  0,  0,  0,  0,  0,  0,  0]]),\n",
       " array([[10, 19, 41, 25,  0,  0,  0,  0,  0,  0,  0,  0,  0,  0,  0,  0],\n",
       "        [34, 36, 23, 37, 37,  5, 33, 32,  0,  0,  0,  0,  0,  0,  0,  0],\n",
       "        [21, 33, 32, 32,  0,  0,  0,  0,  0,  0,  0,  0,  0,  0,  0,  0]]),\n",
       " array([[21, 30, 37, 21,  0,  0,  0,  0,  0,  0,  0,  0,  0,  0,  0,  0],\n",
       "        [23, 32, 21, 30,  0,  0,  0,  0,  0,  0,  0,  0,  0,  0,  0,  0],\n",
       "        [34, 30, 38,  3, 24, 31, 32, 38,  0,  0,  0,  0,  0,  0,  0,  0],\n",
       "        [38, 24, 31, 36,  0,  0,  0,  0,  0,  0,  0,  0,  0,  0,  0,  0]]),\n",
       " array([[10, 10,  7, 37, 38, 36, 22,  0,  0,  0,  0,  0,  0,  0,  0,  0],\n",
       "        [26, 29, 39, 34,  0,  0,  0,  0,  0,  0,  0,  0,  0,  0,  0,  0],\n",
       "        [41, 27, 36, 23,  0,  0,  0,  0,  0,  0,  0,  0,  0,  0,  0,  0]]),\n",
       " array([[36, 19, 21, 29,  0,  0,  0,  0,  0,  0,  0,  0,  0,  0,  0,  0],\n",
       "        [21, 19, 20,  0,  0,  0,  0,  0,  0,  0,  0,  0,  0,  0,  0,  0],\n",
       "        [19, 37, 37, 23, 31, 20, 30, 43,  0,  0,  0,  0,  0,  0,  0,  0]]),\n",
       " array([[37, 44, 10,  0,  0,  0,  0,  0,  0,  0,  0,  0,  0,  0,  0,  0],\n",
       "        [11, 34, 26,  0,  0,  0,  0,  0,  0,  0,  0,  0,  0,  0,  0,  0],\n",
       "        [36, 23, 40,  0,  0,  0,  0,  0,  0,  0,  0,  0,  0,  0,  0,  0],\n",
       "        [21, 32, 21, 38, 36,  0,  0,  0,  0,  0,  0,  0,  0,  0,  0,  0]]),\n",
       " array([[11,  7, 12,  0,  0,  0,  0,  0,  0,  0,  0,  0,  0,  0,  0,  0],\n",
       "        [21, 19, 20, 30, 23,  0,  0,  0,  0,  0,  0,  0,  0,  0,  0,  0],\n",
       "        [21, 30, 27, 34,  0,  0,  0,  0,  0,  0,  0,  0,  0,  0,  0,  0]]),\n",
       " array([[ 9, 16, 19,  0,  0,  0,  0,  0,  0,  0,  0,  0,  0,  0,  0,  0],\n",
       "        [27, 23, 21,  0,  0,  0,  0,  0,  0,  0,  0,  0,  0,  0,  0,  0],\n",
       "        [37, 38, 36,  0,  0,  0,  0,  0,  0,  0,  0,  0,  0,  0,  0,  0]]),\n",
       " array([[21, 19, 38, 13, 23,  0,  0,  0,  0,  0,  0,  0,  0,  0,  0,  0],\n",
       "        [31, 33, 22, 39, 30, 19, 36,  0,  0,  0,  0,  0,  0,  0,  0,  0],\n",
       "        [28, 19, 21, 29,  0,  0,  0,  0,  0,  0,  0,  0,  0,  0,  0,  0]]),\n",
       " array([[37, 44,  9,  6, 15, 13,  0,  0,  0,  0,  0,  0,  0,  0,  0,  0],\n",
       "        [24, 40, 32, 36,  0,  0,  0,  0,  0,  0,  0,  0,  0,  0,  0,  0],\n",
       "        [32, 12,  0,  0,  0,  0,  0,  0,  0,  0,  0,  0,  0,  0,  0,  0],\n",
       "        [37, 38, 36,  0,  0,  0,  0,  0,  0,  0,  0,  0,  0,  0,  0,  0]]),\n",
       " array([[11, 34,  0,  0,  0,  0,  0,  0,  0,  0,  0,  0,  0,  0,  0,  0],\n",
       "        [36, 23, 22,  0,  0,  0,  0,  0,  0,  0,  0,  0,  0,  0,  0,  0],\n",
       "        [23, 31, 25,  0,  0,  0,  0,  0,  0,  0,  0,  0,  0,  0,  0,  0],\n",
       "        [34, 37,  7, 34, 39, 30, 30,  0,  0,  0,  0,  0,  0,  0,  0,  0]]),\n",
       " array([[13, 24, 38,  0,  0,  0,  0,  0,  0,  0,  0,  0,  0,  0,  0,  0],\n",
       "        [34, 30, 37, 38, 21,  0,  0,  0,  0,  0,  0,  0,  0,  0,  0,  0],\n",
       "        [22, 39, 21, 38,  0,  0,  0,  0,  0,  0,  0,  0,  0,  0,  0,  0],\n",
       "        [34,  7, 24, 38,  0,  0,  0,  0,  0,  0,  0,  0,  0,  0,  0,  0]]),\n",
       " array([[23, 42, 38, 23, 32, 22, 23, 22,  0,  0,  0,  0,  0,  0,  0,  0],\n",
       "        [41, 19, 36, 36, 19, 32, 38, 43,  0,  0,  0,  0,  0,  0,  0,  0]]),\n",
       " array([[34, 33, 41, 23, 36,  0,  0,  0,  0,  0,  0,  0,  0,  0,  0,  0],\n",
       "        [31, 23, 38, 23, 36,  0,  0,  0,  0,  0,  0,  0,  0,  0,  0,  0]]),\n",
       " array([[11, 34, 26,  0,  0,  0,  0,  0,  0,  0,  0,  0,  0,  0,  0,  0],\n",
       "        [21,  5, 37, 38, 36,  0,  0,  0,  0,  0,  0,  0,  0,  0,  0,  0]]),\n",
       " array([[11, 34,  0,  0,  0,  0,  0,  0,  0,  0,  0,  0,  0,  0,  0,  0],\n",
       "        [16,  8,  8, 19,  0,  0,  0,  0,  0,  0,  0,  0,  0,  0,  0,  0],\n",
       "        [21, 29, 38,  0,  0,  0,  0,  0,  0,  0,  0,  0,  0,  0,  0,  0],\n",
       "        [20, 36, 23, 19, 29, 23, 36,  0,  0,  0,  0,  0,  0,  0,  0,  0]]),\n",
       " array([[34, 33, 41, 23, 36,  0,  0,  0,  0,  0,  0,  0,  0,  0,  0,  0],\n",
       "        [21, 19, 20, 30, 23,  0,  0,  0,  0,  0,  0,  0,  0,  0,  0,  0]]),\n",
       " array([[14,  8,  8, 40,  0,  0,  0,  0,  0,  0,  0,  0,  0,  0,  0,  0],\n",
       "        [21, 30, 19, 37, 37,  0,  0,  0,  0,  0,  0,  0,  0,  0,  0,  0],\n",
       "        [21, 21,  0,  0,  0,  0,  0,  0,  0,  0,  0,  0,  0,  0,  0,  0],\n",
       "        [24, 39, 37, 23,  0,  0,  0,  0,  0,  0,  0,  0,  0,  0,  0,  0]]),\n",
       " array([[25, 36, 22, 25,  0,  0,  0,  0,  0,  0,  0,  0,  0,  0,  0,  0],\n",
       "        [41, 19, 37, 26, 23, 36,  0,  0,  0,  0,  0,  0,  0,  0,  0,  0]]),\n",
       " array([[36, 23, 22,  0,  0,  0,  0,  0,  0,  0,  0,  0,  0,  0,  0,  0],\n",
       "        [38, 19, 34,  0,  0,  0,  0,  0,  0,  0,  0,  0,  0,  0,  0,  0],\n",
       "        [34, 30, 25,  0,  0,  0,  0,  0,  0,  0,  0,  0,  0,  0,  0,  0]]),\n",
       " array([[26, 23, 19, 38,  0,  0,  0,  0,  0,  0,  0,  0,  0,  0,  0,  0],\n",
       "        [37, 26, 36, 32, 29,  0,  0,  0,  0,  0,  0,  0,  0,  0,  0,  0],\n",
       "        [38, 39, 20, 27, 32, 25,  0,  0,  0,  0,  0,  0,  0,  0,  0,  0]]),\n",
       " array([[ 9,  0,  0,  0,  0,  0,  0,  0,  0,  0,  0,  0,  0,  0,  0,  0],\n",
       "        [ 8,  6, 16, 13,  9,  0,  0,  0,  0,  0,  0,  0,  0,  0,  0,  0],\n",
       "        [37, 30, 40,  0,  0,  0,  0,  0,  0,  0,  0,  0,  0,  0,  0,  0]]),\n",
       " array([[34, 33, 41, 23, 36, 34, 19, 21, 29,  0,  0,  0,  0,  0,  0,  0]]),\n",
       " array([[ 9,  7, 10,  0,  0,  0,  0,  0,  0,  0,  0,  0,  0,  0,  0,  0],\n",
       "        [23, 22, 25, 23,  0,  0,  0,  0,  0,  0,  0,  0,  0,  0,  0,  0],\n",
       "        [38, 43, 34, 23,  0,  0,  0,  0,  0,  0,  0,  0,  0,  0,  0,  0],\n",
       "        [21, 30, 19, 31, 34,  0,  0,  0,  0,  0,  0,  0,  0,  0,  0,  0]]),\n",
       " array([[11,  7, 16,  0,  0,  0,  0,  0,  0,  0,  0,  0,  0,  0,  0,  0],\n",
       "        [10,  0,  0,  0,  0,  0,  0,  0,  0,  0,  0,  0,  0,  0,  0,  0],\n",
       "        [33,  7, 37,  0,  0,  0,  0,  0,  0,  0,  0,  0,  0,  0,  0,  0],\n",
       "        [21, 20, 30,  0,  0,  0,  0,  0,  0,  0,  0,  0,  0,  0,  0,  0],\n",
       "        [26, 33, 36, 32,  0,  0,  0,  0,  0,  0,  0,  0,  0,  0,  0,  0]]),\n",
       " array([[12,  0,  0,  0,  0,  0,  0,  0,  0,  0,  0,  0,  0,  0,  0,  0],\n",
       "        [ 9,  5, 11,  7, 12,  0,  0,  0,  0,  0,  0,  0,  0,  0,  0,  0],\n",
       "        [34, 23, 22,  0,  0,  0,  0,  0,  0,  0,  0,  0,  0,  0,  0,  0],\n",
       "        [29, 27, 38,  0,  0,  0,  0,  0,  0,  0,  0,  0,  0,  0,  0,  0]]),\n",
       " array([[10, 12, 40,  0,  0,  0,  0,  0,  0,  0,  0,  0,  0,  0,  0,  0],\n",
       "        [11, 34,  0,  0,  0,  0,  0,  0,  0,  0,  0,  0,  0,  0,  0,  0],\n",
       "        [25, 36, 32,  0,  0,  0,  0,  0,  0,  0,  0,  0,  0,  0,  0,  0],\n",
       "        [27, 30,  0,  0,  0,  0,  0,  0,  0,  0,  0,  0,  0,  0,  0,  0],\n",
       "        [34, 37,  7, 34, 30,  0,  0,  0,  0,  0,  0,  0,  0,  0,  0,  0]]),\n",
       " array([[ 9, 34, 26,  0,  0,  0,  0,  0,  0,  0,  0,  0,  0,  0,  0,  0],\n",
       "        [38, 24, 31, 36,  0,  0,  0,  0,  0,  0,  0,  0,  0,  0,  0,  0]]),\n",
       " array([[10,  8, 19,  0,  0,  0,  0,  0,  0,  0,  0,  0,  0,  0,  0,  0],\n",
       "        [ 9, 10,  8,  7, 10, 15, 15, 40,  0,  0,  0,  0,  0,  0,  0,  0],\n",
       "        [37, 34,  5, 38, 25, 30,  0,  0,  0,  0,  0,  0,  0,  0,  0,  0],\n",
       "        [37, 41,  0,  0,  0,  0,  0,  0,  0,  0,  0,  0,  0,  0,  0,  0]]),\n",
       " array([[23, 32, 21, 30, 33, 37, 39, 36, 23,  0,  0,  0,  0,  0,  0,  0]]),\n",
       " array([[11,  7, 12,  0,  0,  0,  0,  0,  0,  0,  0,  0,  0,  0,  0,  0],\n",
       "        [33,  5, 36, 27, 32, 25,  0,  0,  0,  0,  0,  0,  0,  0,  0,  0],\n",
       "        [19, 37, 37, 23, 31, 20, 30, 43,  0,  0,  0,  0,  0,  0,  0,  0]]),\n",
       " array([[13,  5,  9, 13,  7,  9, 14,  0,  0,  0,  0,  0,  0,  0,  0,  0],\n",
       "        [38, 36, 35,  0,  0,  0,  0,  0,  0,  0,  0,  0,  0,  0,  0,  0],\n",
       "        [41, 36, 32,  0,  0,  0,  0,  0,  0,  0,  0,  0,  0,  0,  0,  0],\n",
       "        [26, 23, 19, 22,  0,  0,  0,  0,  0,  0,  0,  0,  0,  0,  0,  0]]),\n",
       " array([[25, 36, 33, 39, 32, 22,  0,  0,  0,  0,  0,  0,  0,  0,  0,  0],\n",
       "        [20, 36, 19, 27, 22,  0,  0,  0,  0,  0,  0,  0,  0,  0,  0,  0]]),\n",
       " array([[10, 12, 19, 41, 25,  0,  0,  0,  0,  0,  0,  0,  0,  0,  0,  0],\n",
       "        [21, 19, 20, 30, 23,  0,  0,  0,  0,  0,  0,  0,  0,  0,  0,  0]]),\n",
       " array([[36, 19, 32, 25, 23,  0,  0,  0,  0,  0,  0,  0,  0,  0,  0,  0],\n",
       "        [38, 19, 29, 27, 32, 25,  0,  0,  0,  0,  0,  0,  0,  0,  0,  0],\n",
       "        [21,  0,  0,  0,  0,  0,  0,  0,  0,  0,  0,  0,  0,  0,  0,  0],\n",
       "        [38, 19, 34,  0,  0,  0,  0,  0,  0,  0,  0,  0,  0,  0,  0,  0]]),\n",
       " array([[31, 19, 21, 26, 27, 32, 23,  0,  0,  0,  0,  0,  0,  0,  0,  0],\n",
       "        [20, 33, 30, 38,  0,  0,  0,  0,  0,  0,  0,  0,  0,  0,  0,  0]]),\n",
       " array([[41, 27, 36, 23,  0,  0,  0,  0,  0,  0,  0,  0,  0,  0,  0,  0],\n",
       "        [34, 39, 30, 30, 27, 32, 25,  0,  0,  0,  0,  0,  0,  0,  0,  0],\n",
       "        [25, 36, 27, 34,  0,  0,  0,  0,  0,  0,  0,  0,  0,  0,  0,  0]]),\n",
       " array([[10, 13, 26, 34,  0,  0,  0,  0,  0,  0,  0,  0,  0,  0,  0,  0],\n",
       "        [22, 36, 40,  0,  0,  0,  0,  0,  0,  0,  0,  0,  0,  0,  0,  0]]),\n",
       " array([[10,  8,  8, 19,  0,  0,  0,  0,  0,  0,  0,  0,  0,  0,  0,  0],\n",
       "        [30, 22,  5, 21, 32, 38, 36,  0,  0,  0,  0,  0,  0,  0,  0,  0]]),\n",
       " array([[11, 34,  0,  0,  0,  0,  0,  0,  0,  0,  0,  0,  0,  0,  0,  0],\n",
       "        [10, 12,  8, 40,  0,  0,  0,  0,  0,  0,  0,  0,  0,  0,  0,  0],\n",
       "        [37, 38, 36,  0,  0,  0,  0,  0,  0,  0,  0,  0,  0,  0,  0,  0]]),\n",
       " array([[10, 34,  0,  0,  0,  0,  0,  0,  0,  0,  0,  0,  0,  0,  0,  0],\n",
       "        [19, 30,  0,  0,  0,  0,  0,  0,  0,  0,  0,  0,  0,  0,  0,  0],\n",
       "        [34, 41, 36,  0,  0,  0,  0,  0,  0,  0,  0,  0,  0,  0,  0,  0],\n",
       "        [22, 27, 37, 38,  0,  0,  0,  0,  0,  0,  0,  0,  0,  0,  0,  0],\n",
       "        [20, 30, 33, 29,  0,  0,  0,  0,  0,  0,  0,  0,  0,  0,  0,  0]]),\n",
       " array([[24, 23, 31, 19, 30, 23,  0,  0,  0,  0,  0,  0,  0,  0,  0,  0],\n",
       "        [36, 23, 21, 23, 34, 38, 19, 21, 30, 23,  0,  0,  0,  0,  0,  0]]),\n",
       " array([[12, 37, 35,  0,  0,  0,  0,  0,  0,  0,  0,  0,  0,  0,  0,  0],\n",
       "        [20, 33, 42,  0,  0,  0,  0,  0,  0,  0,  0,  0,  0,  0,  0,  0]]),\n",
       " array([[12,  5, 27, 32,  0,  0,  0,  0,  0,  0,  0,  0,  0,  0,  0,  0],\n",
       "        [20, 30, 20,  0,  0,  0,  0,  0,  0,  0,  0,  0,  0,  0,  0,  0],\n",
       "        [21, 33, 32, 22, 39, 27, 38,  0,  0,  0,  0,  0,  0,  0,  0,  0],\n",
       "        [20, 33, 22, 43,  0,  0,  0,  0,  0,  0,  0,  0,  0,  0,  0,  0]]),\n",
       " array([[37, 37,  0,  0,  0,  0,  0,  0,  0,  0,  0,  0,  0,  0,  0,  0],\n",
       "        [12, 27, 32,  0,  0,  0,  0,  0,  0,  0,  0,  0,  0,  0,  0,  0],\n",
       "        [21, 20, 30,  5, 38, 36,  0,  0,  0,  0,  0,  0,  0,  0,  0,  0],\n",
       "        [30,  5, 20, 36, 21, 29, 38,  0,  0,  0,  0,  0,  0,  0,  0,  0]]),\n",
       " array([[ 9, 25,  0,  0,  0,  0,  0,  0,  0,  0,  0,  0,  0,  0,  0,  0],\n",
       "        [24, 37, 21, 19,  5, 20, 33, 42,  0,  0,  0,  0,  0,  0,  0,  0]]),\n",
       " array([[26, 27, 22,  0,  0,  0,  0,  0,  0,  0,  0,  0,  0,  0,  0,  0],\n",
       "        [24, 30, 33, 33, 22, 30, 27, 25, 26, 38,  0,  0,  0,  0,  0,  0],\n",
       "        [24, 27, 42, 38, 39, 36, 23,  0,  0,  0,  0,  0,  0,  0,  0,  0]]),\n",
       " array([[32, 23, 38, 41, 33, 36, 29,  0,  0,  0,  0,  0,  0,  0,  0,  0],\n",
       "        [30, 27, 31, 27, 38, 23, 36,  0,  0,  0,  0,  0,  0,  0,  0,  0]]),\n",
       " array([[ 9, 13,  8,  8, 36, 34, 31,  0,  0,  0,  0,  0,  0,  0,  0,  0],\n",
       "        [31, 38, 36,  0,  0,  0,  0,  0,  0,  0,  0,  0,  0,  0,  0,  0]]),\n",
       " array([[16,  8,  8, 19,  0,  0,  0,  0,  0,  0,  0,  0,  0,  0,  0,  0],\n",
       "        [11, 34,  0,  0,  0,  0,  0,  0,  0,  0,  0,  0,  0,  0,  0,  0],\n",
       "        [21, 20,  0,  0,  0,  0,  0,  0,  0,  0,  0,  0,  0,  0,  0,  0],\n",
       "        [23, 32, 21,  0,  0,  0,  0,  0,  0,  0,  0,  0,  0,  0,  0,  0]]),\n",
       " array([[11, 34,  0,  0,  0,  0,  0,  0,  0,  0,  0,  0,  0,  0,  0,  0],\n",
       "        [12, 16,  8, 40,  0,  0,  0,  0,  0,  0,  0,  0,  0,  0,  0,  0],\n",
       "        [21, 32, 21, 38, 36,  0,  0,  0,  0,  0,  0,  0,  0,  0,  0,  0]]),\n",
       " array([[10, 16,  8, 40,  0,  0,  0,  0,  0,  0,  0,  0,  0,  0,  0,  0],\n",
       "        [21, 32, 21, 38, 36,  0,  0,  0,  0,  0,  0,  0,  0,  0,  0,  0]]),\n",
       " array([[25, 36, 32,  0,  0,  0,  0,  0,  0,  0,  0,  0,  0,  0,  0,  0],\n",
       "        [22, 33, 31, 23,  0,  0,  0,  0,  0,  0,  0,  0,  0,  0,  0,  0],\n",
       "        [24,  7, 24, 20, 10,  0,  0,  0,  0,  0,  0,  0,  0,  0,  0,  0]]),\n",
       " array([[12,  8,  8, 29, 19,  0,  0,  0,  0,  0,  0,  0,  0,  0,  0,  0],\n",
       "        [37, 34, 22, 23, 40,  0,  0,  0,  0,  0,  0,  0,  0,  0,  0,  0]]),\n",
       " array([[12, 34,  0,  0,  0,  0,  0,  0,  0,  0,  0,  0,  0,  0,  0,  0],\n",
       "        [11,  8, 19,  0,  0,  0,  0,  0,  0,  0,  0,  0,  0,  0,  0,  0],\n",
       "        [21, 32, 21, 38, 36,  0,  0,  0,  0,  0,  0,  0,  0,  0,  0,  0]]),\n",
       " array([[34, 26,  5, 23,  0,  0,  0,  0,  0,  0,  0,  0,  0,  0,  0,  0],\n",
       "        [37, 23, 32,  0,  0,  0,  0,  0,  0,  0,  0,  0,  0,  0,  0,  0]]),\n",
       " array([[10,  8,  8,  8, 36, 34, 31,  0,  0,  0,  0,  0,  0,  0,  0,  0],\n",
       "        [31, 38, 36,  0,  0,  0,  0,  0,  0,  0,  0,  0,  0,  0,  0,  0]]),\n",
       " array([[15,  6, 13, 40, 19,  0,  0,  0,  0,  0,  0,  0,  0,  0,  0,  0],\n",
       "        [38, 24, 31,  0,  0,  0,  0,  0,  0,  0,  0,  0,  0,  0,  0,  0]]),\n",
       " array([[20, 30, 29,  0,  0,  0,  0,  0,  0,  0,  0,  0,  0,  0,  0,  0],\n",
       "        [21, 30, 33, 37, 39, 36, 23,  0,  0,  0,  0,  0,  0,  0,  0,  0],\n",
       "        [21, 19, 34,  0,  0,  0,  0,  0,  0,  0,  0,  0,  0,  0,  0,  0]]),\n",
       " array([[14,  8,  8,  8, 36, 34, 31,  0,  0,  0,  0,  0,  0,  0,  0,  0],\n",
       "        [31, 38, 36,  0,  0,  0,  0,  0,  0,  0,  0,  0,  0,  0,  0,  0]]),\n",
       " array([[30, 23, 22,  0,  0,  0,  0,  0,  0,  0,  0,  0,  0,  0,  0,  0],\n",
       "        [30, 38,  0,  0,  0,  0,  0,  0,  0,  0,  0,  0,  0,  0,  0,  0],\n",
       "        [24, 42,  0,  0,  0,  0,  0,  0,  0,  0,  0,  0,  0,  0,  0,  0]]),\n",
       " array([[13,  8,  5,  9, 10, 15, 40,  0,  0,  0,  0,  0,  0,  0,  0,  0],\n",
       "        [37, 39, 36, 25, 23,  0,  0,  0,  0,  0,  0,  0,  0,  0,  0,  0],\n",
       "        [37, 39, 34, 34, 36,  0,  0,  0,  0,  0,  0,  0,  0,  0,  0,  0]]),\n",
       " array([[ 9,  7, 10,  0,  0,  0,  0,  0,  0,  0,  0,  0,  0,  0,  0,  0],\n",
       "        [24, 26,  0,  0,  0,  0,  0,  0,  0,  0,  0,  0,  0,  0,  0,  0],\n",
       "        [36, 19, 38, 21, 26,  0,  0,  0,  0,  0,  0,  0,  0,  0,  0,  0],\n",
       "        [21, 33, 31, 20,  0,  0,  0,  0,  0,  0,  0,  0,  0,  0,  0,  0],\n",
       "        [41, 36, 32,  0,  0,  0,  0,  0,  0,  0,  0,  0,  0,  0,  0,  0]]),\n",
       " array([[12, 34,  0,  0,  0,  0,  0,  0,  0,  0,  0,  0,  0,  0,  0,  0],\n",
       "        [ 9, 14,  8, 19,  0,  0,  0,  0,  0,  0,  0,  0,  0,  0,  0,  0],\n",
       "        [21, 20,  0,  0,  0,  0,  0,  0,  0,  0,  0,  0,  0,  0,  0,  0]]),\n",
       " array([[10, 15, 15,  7, 12, 16,  8,  0,  0,  0,  0,  0,  0,  0,  0,  0],\n",
       "        [26,  5, 41, 27, 36, 23,  0,  0,  0,  0,  0,  0,  0,  0,  0,  0],\n",
       "        [38, 40, 37, 37,  0,  0,  0,  0,  0,  0,  0,  0,  0,  0,  0,  0]]),\n",
       " array([[ 9,  7, 10,  0,  0,  0,  0,  0,  0,  0,  0,  0,  0,  0,  0,  0],\n",
       "        [19, 30,  0,  0,  0,  0,  0,  0,  0,  0,  0,  0,  0,  0,  0,  0],\n",
       "        [42,  0,  0,  0,  0,  0,  0,  0,  0,  0,  0,  0,  0,  0,  0,  0],\n",
       "        [21, 33, 32, 22, 39, 27, 38,  0,  0,  0,  0,  0,  0,  0,  0,  0],\n",
       "        [20, 33, 22, 43,  0,  0,  0,  0,  0,  0,  0,  0,  0,  0,  0,  0]]),\n",
       " array([[17,  8, 22,  0,  0,  0,  0,  0,  0,  0,  0,  0,  0,  0,  0,  0],\n",
       "        [37, 30, 34,  0,  0,  0,  0,  0,  0,  0,  0,  0,  0,  0,  0,  0],\n",
       "        [33, 39, 38,  0,  0,  0,  0,  0,  0,  0,  0,  0,  0,  0,  0,  0],\n",
       "        [23, 30,  0,  0,  0,  0,  0,  0,  0,  0,  0,  0,  0,  0,  0,  0]]),\n",
       " array([[24, 30, 23, 42, 27, 20, 30, 23,  0,  0,  0,  0,  0,  0,  0,  0],\n",
       "        [37, 26, 19, 24, 38,  0,  0,  0,  0,  0,  0,  0,  0,  0,  0,  0],\n",
       "        [15, 24, 38,  0,  0,  0,  0,  0,  0,  0,  0,  0,  0,  0,  0,  0]]),\n",
       " array([[37, 44, 11,  0,  0,  0,  0,  0,  0,  0,  0,  0,  0,  0,  0,  0],\n",
       "        [24, 40, 32, 36,  0,  0,  0,  0,  0,  0,  0,  0,  0,  0,  0,  0],\n",
       "        [32, 12,  0,  0,  0,  0,  0,  0,  0,  0,  0,  0,  0,  0,  0,  0],\n",
       "        [37, 38, 36,  0,  0,  0,  0,  0,  0,  0,  0,  0,  0,  0,  0,  0]]),\n",
       " array([[ 9,  9, 10,  6, 13, 29, 40, 19,  0,  0,  0,  0,  0,  0,  0,  0],\n",
       "        [38, 24, 31,  0,  0,  0,  0,  0,  0,  0,  0,  0,  0,  0,  0,  0]]),\n",
       " array([[41, 27, 36, 23,  0,  0,  0,  0,  0,  0,  0,  0,  0,  0,  0,  0],\n",
       "        [31, 19, 36, 29, 27, 32, 25,  0,  0,  0,  0,  0,  0,  0,  0,  0],\n",
       "        [30, 19, 20, 23, 30,  0,  0,  0,  0,  0,  0,  0,  0,  0,  0,  0]]),\n",
       " array([[15, 13, 26, 34,  0,  0,  0,  0,  0,  0,  0,  0,  0,  0,  0,  0],\n",
       "        [22, 36, 27, 40, 23,  0,  0,  0,  0,  0,  0,  0,  0,  0,  0,  0]]),\n",
       " array([[ 9,  8,  8,  8, 29, 21, 31, 27, 30,  0,  0,  0,  0,  0,  0,  0],\n",
       "        [38, 23, 36, 31,  0,  0,  0,  0,  0,  0,  0,  0,  0,  0,  0,  0]]),\n",
       " array([[29, 23, 43, 34, 19, 22,  0,  0,  0,  0,  0,  0,  0,  0,  0,  0],\n",
       "        [26, 33, 30, 22, 23, 36,  0,  0,  0,  0,  0,  0,  0,  0,  0,  0]]),\n",
       " array([[12,  7,  8, 19, 41, 25,  0,  0,  0,  0,  0,  0,  0,  0,  0,  0],\n",
       "        [10, 26,  0,  0,  0,  0,  0,  0,  0,  0,  0,  0,  0,  0,  0,  0],\n",
       "        [30, 32, 25,  0,  0,  0,  0,  0,  0,  0,  0,  0,  0,  0,  0,  0],\n",
       "        [30, 39, 25,  0,  0,  0,  0,  0,  0,  0,  0,  0,  0,  0,  0,  0]]),\n",
       " array([[11, 34,  0,  0,  0,  0,  0,  0,  0,  0,  0,  0,  0,  0,  0,  0],\n",
       "        [10, 13,  8, 19,  0,  0,  0,  0,  0,  0,  0,  0,  0,  0,  0,  0],\n",
       "        [21, 20,  0,  0,  0,  0,  0,  0,  0,  0,  0,  0,  0,  0,  0,  0],\n",
       "        [23, 32, 21, 30,  0,  0,  0,  0,  0,  0,  0,  0,  0,  0,  0,  0]]),\n",
       " array([[23, 32, 21, 30, 22,  0,  0,  0,  0,  0,  0,  0,  0,  0,  0,  0],\n",
       "        [21, 23, 27, 30,  0,  0,  0,  0,  0,  0,  0,  0,  0,  0,  0,  0],\n",
       "        [26, 34, 37,  0,  0,  0,  0,  0,  0,  0,  0,  0,  0,  0,  0,  0],\n",
       "        [24, 42,  0,  0,  0,  0,  0,  0,  0,  0,  0,  0,  0,  0,  0,  0]]),\n",
       " array([[ 9,  8,  8, 29, 19,  0,  0,  0,  0,  0,  0,  0,  0,  0,  0,  0],\n",
       "        [37, 34, 22, 23, 40,  0,  0,  0,  0,  0,  0,  0,  0,  0,  0,  0]]),\n",
       " array([[34, 33, 41, 23, 36,  0,  0,  0,  0,  0,  0,  0,  0,  0,  0,  0],\n",
       "        [21, 19, 20, 30, 23,  0,  0,  0,  0,  0,  0,  0,  0,  0,  0,  0]]),\n",
       " array([[10,  8, 19,  0,  0,  0,  0,  0,  0,  0,  0,  0,  0,  0,  0,  0],\n",
       "        [14,  5, 10,  8, 36,  0,  0,  0,  0,  0,  0,  0,  0,  0,  0,  0],\n",
       "        [22, 34, 30, 42,  0,  0,  0,  0,  0,  0,  0,  0,  0,  0,  0,  0],\n",
       "        [36, 21, 34, 38,  0,  0,  0,  0,  0,  0,  0,  0,  0,  0,  0,  0]]),\n",
       " array([[15, 13, 26, 34,  0,  0,  0,  0,  0,  0,  0,  0,  0,  0,  0,  0],\n",
       "        [22, 36, 40,  0,  0,  0,  0,  0,  0,  0,  0,  0,  0,  0,  0,  0]]),\n",
       " array([[10, 34, 33, 37,  0,  0,  0,  0,  0,  0,  0,  0,  0,  0,  0,  0],\n",
       "        [29, 23, 43,  0,  0,  0,  0,  0,  0,  0,  0,  0,  0,  0,  0,  0],\n",
       "        [37, 23, 30,  0,  0,  0,  0,  0,  0,  0,  0,  0,  0,  0,  0,  0],\n",
       "        [37, 41,  0,  0,  0,  0,  0,  0,  0,  0,  0,  0,  0,  0,  0,  0]]),\n",
       " array([[23, 42, 38, 23, 32, 22, 23, 22,  0,  0,  0,  0,  0,  0,  0,  0],\n",
       "        [41, 19, 36, 36, 19, 32, 38, 43,  0,  0,  0,  0,  0,  0,  0,  0]]),\n",
       " array([[11, 34,  0,  0,  0,  0,  0,  0,  0,  0,  0,  0,  0,  0,  0,  0],\n",
       "        [13,  8,  8, 19,  0,  0,  0,  0,  0,  0,  0,  0,  0,  0,  0,  0],\n",
       "        [21, 20,  0,  0,  0,  0,  0,  0,  0,  0,  0,  0,  0,  0,  0,  0]]),\n",
       " array([[20, 30, 39,  0,  0,  0,  0,  0,  0,  0,  0,  0,  0,  0,  0,  0],\n",
       "        [27, 30,  0,  0,  0,  0,  0,  0,  0,  0,  0,  0,  0,  0,  0,  0],\n",
       "        [34, 37, 26, 20, 38, 32,  0,  0,  0,  0,  0,  0,  0,  0,  0,  0]]),\n",
       " array([[34, 33, 41, 23, 36,  0,  0,  0,  0,  0,  0,  0,  0,  0,  0,  0],\n",
       "        [21, 19, 20, 30, 23,  0,  0,  0,  0,  0,  0,  0,  0,  0,  0,  0]]),\n",
       " array([[26, 23, 19, 40, 43,  0,  0,  0,  0,  0,  0,  0,  0,  0,  0,  0],\n",
       "        [22, 39, 38, 43,  0,  0,  0,  0,  0,  0,  0,  0,  0,  0,  0,  0],\n",
       "        [21, 32, 38, 21, 38, 36,  0,  0,  0,  0,  0,  0,  0,  0,  0,  0]]),\n",
       " array([[27, 32, 22, 21, 38, 40,  0,  0,  0,  0,  0,  0,  0,  0,  0,  0],\n",
       "        [34, 36, 42,  0,  0,  0,  0,  0,  0,  0,  0,  0,  0,  0,  0,  0],\n",
       "        [37, 23, 32,  0,  0,  0,  0,  0,  0,  0,  0,  0,  0,  0,  0,  0]]),\n",
       " array([[30, 22,  5, 21, 38, 36,  0,  0,  0,  0,  0,  0,  0,  0,  0,  0],\n",
       "        [22, 23, 19, 22, 24, 36, 33, 32, 38,  0,  0,  0,  0,  0,  0,  0]]),\n",
       " array([[12, 16,  8, 40,  0,  0,  0,  0,  0,  0,  0,  0,  0,  0,  0,  0],\n",
       "        [21, 32, 21, 38, 36,  0,  0,  0,  0,  0,  0,  0,  0,  0,  0,  0]]),\n",
       " array([[ 9, 12,  7, 12,  0,  0,  0,  0,  0,  0,  0,  0,  0,  0,  0,  0],\n",
       "        [37, 33, 41,  0,  0,  0,  0,  0,  0,  0,  0,  0,  0,  0,  0,  0],\n",
       "        [10,  8, 24, 38,  0,  0,  0,  0,  0,  0,  0,  0,  0,  0,  0,  0],\n",
       "        [36, 23, 23, 30,  0,  0,  0,  0,  0,  0,  0,  0,  0,  0,  0,  0]]),\n",
       " array([[26, 27, 22,  0,  0,  0,  0,  0,  0,  0,  0,  0,  0,  0,  0,  0],\n",
       "        [23, 32, 21, 30,  0,  0,  0,  0,  0,  0,  0,  0,  0,  0,  0,  0],\n",
       "        [24, 30, 22, 30, 38,  0,  0,  0,  0,  0,  0,  0,  0,  0,  0,  0]]),\n",
       " array([[11,  8,  8,  8, 36, 34, 31,  0,  0,  0,  0,  0,  0,  0,  0,  0],\n",
       "        [31, 38, 36,  0,  0,  0,  0,  0,  0,  0,  0,  0,  0,  0,  0,  0]]),\n",
       " array([[37, 27, 25, 32, 19, 30,  0,  0,  0,  0,  0,  0,  0,  0,  0,  0],\n",
       "        [21, 20, 30,  0,  0,  0,  0,  0,  0,  0,  0,  0,  0,  0,  0,  0]]),\n",
       " array([[34, 33, 41, 23, 36,  0,  0,  0,  0,  0,  0,  0,  0,  0,  0,  0],\n",
       "        [30, 39, 25,  0,  0,  0,  0,  0,  0,  0,  0,  0,  0,  0,  0,  0],\n",
       "        [38, 23, 36, 31, 27, 32, 19, 30,  0,  0,  0,  0,  0,  0,  0,  0]]),\n",
       " array([[10, 27, 32,  0,  0,  0,  0,  0,  0,  0,  0,  0,  0,  0,  0,  0],\n",
       "        [34, 40, 21,  0,  0,  0,  0,  0,  0,  0,  0,  0,  0,  0,  0,  0],\n",
       "        [31, 23, 38, 23, 36,  0,  0,  0,  0,  0,  0,  0,  0,  0,  0,  0],\n",
       "        [33, 24, 24, 37, 23, 38,  0,  0,  0,  0,  0,  0,  0,  0,  0,  0]]),\n",
       " array([[36, 38, 36, 43,  0,  0,  0,  0,  0,  0,  0,  0,  0,  0,  0,  0],\n",
       "        [22, 36, 40,  0,  0,  0,  0,  0,  0,  0,  0,  0,  0,  0,  0,  0]]),\n",
       " array([[ 9,  8, 26, 34,  0,  0,  0,  0,  0,  0,  0,  0,  0,  0,  0,  0],\n",
       "        [22, 36, 40,  0,  0,  0,  0,  0,  0,  0,  0,  0,  0,  0,  0,  0]]),\n",
       " array([[16,  6, 10, 33, 26, 31,  0,  0,  0,  0,  0,  0,  0,  0,  0,  0],\n",
       "        [36, 23, 37,  0,  0,  0,  0,  0,  0,  0,  0,  0,  0,  0,  0,  0]]),\n",
       " array([[30, 38, 25,  0,  0,  0,  0,  0,  0,  0,  0,  0,  0,  0,  0,  0],\n",
       "        [23, 26,  0,  0,  0,  0,  0,  0,  0,  0,  0,  0,  0,  0,  0,  0],\n",
       "        [11,  8, 19, 23, 32, 21, 30,  9, 10,  5, 10, 15, 15,  0,  0,  0]]),\n",
       " array([[10,  8,  8, 19,  0,  0,  0,  0,  0,  0,  0,  0,  0,  0,  0,  0],\n",
       "        [21, 33, 31, 30,  0,  0,  0,  0,  0,  0,  0,  0,  0,  0,  0,  0],\n",
       "        [31, 37, 29, 38,  0,  0,  0,  0,  0,  0,  0,  0,  0,  0,  0,  0]]),\n",
       " array([[ 2, 12, 19, 41, 25,  0,  0,  0,  0,  0,  0,  0,  0,  0,  0,  0],\n",
       "        [21, 33, 32, 32,  0,  0,  0,  0,  0,  0,  0,  0,  0,  0,  0,  0]]),\n",
       " array([[11, 27, 32,  0,  0,  0,  0,  0,  0,  0,  0,  0,  0,  0,  0,  0],\n",
       "        [34, 40, 21,  0,  0,  0,  0,  0,  0,  0,  0,  0,  0,  0,  0,  0],\n",
       "        [33,  5, 36, 25,  0,  0,  0,  0,  0,  0,  0,  0,  0,  0,  0,  0],\n",
       "        [23, 42, 34, 32,  0,  0,  0,  0,  0,  0,  0,  0,  0,  0,  0,  0],\n",
       "        [28, 33, 27, 32, 38,  0,  0,  0,  0,  0,  0,  0,  0,  0,  0,  0]]),\n",
       " array([[20, 30, 32, 29,  0,  0,  0,  0,  0,  0,  0,  0,  0,  0,  0,  0],\n",
       "        [36, 21, 41, 43,  0,  0,  0,  0,  0,  0,  0,  0,  0,  0,  0,  0],\n",
       "        [21, 40, 36,  0,  0,  0,  0,  0,  0,  0,  0,  0,  0,  0,  0,  0]]),\n",
       " array([[11, 13,  8,  0,  0,  0,  0,  0,  0,  0,  0,  0,  0,  0,  0,  0],\n",
       "        [19, 30, 21, 39,  0,  0,  0,  0,  0,  0,  0,  0,  0,  0,  0,  0],\n",
       "        [ 9, 26,  0,  0,  0,  0,  0,  0,  0,  0,  0,  0,  0,  0,  0,  0],\n",
       "        [38, 23, 36, 31,  0,  0,  0,  0,  0,  0,  0,  0,  0,  0,  0,  0],\n",
       "        [30, 39, 25,  0,  0,  0,  0,  0,  0,  0,  0,  0,  0,  0,  0,  0]]),\n",
       " array([[23, 32, 21,  0,  0,  0,  0,  0,  0,  0,  0,  0,  0,  0,  0,  0],\n",
       "        [19, 30,  0,  0,  0,  0,  0,  0,  0,  0,  0,  0,  0,  0,  0,  0],\n",
       "        [21, 26, 19, 37, 37, 27, 37,  0,  0,  0,  0,  0,  0,  0,  0,  0]]),\n",
       " array([[10, 27, 32,  0,  0,  0,  0,  0,  0,  0,  0,  0,  0,  0,  0,  0],\n",
       "        [37, 38, 36, 39, 38,  0,  0,  0,  0,  0,  0,  0,  0,  0,  0,  0],\n",
       "        [21, 30, 19, 31, 34,  0,  0,  0,  0,  0,  0,  0,  0,  0,  0,  0]]),\n",
       " array([[ 8,  6, 10, 10,  5,  8,  6, 11, 10, 27, 32,  0,  0,  0,  0,  0],\n",
       "        [25, 36, 27, 34,  0,  0,  0,  0,  0,  0,  0,  0,  0,  0,  0,  0]]),\n",
       " array([[ 9, 16, 31, 31,  0,  0,  0,  0,  0,  0,  0,  0,  0,  0,  0,  0],\n",
       "        [25, 36, 32,  0,  0,  0,  0,  0,  0,  0,  0,  0,  0,  0,  0,  0],\n",
       "        [34, 30, 19, 38, 23,  0,  0,  0,  0,  0,  0,  0,  0,  0,  0,  0]]),\n",
       " array([[11,  8, 31, 31,  0,  0,  0,  0,  0,  0,  0,  0,  0,  0,  0,  0],\n",
       "        [10, 12, 40,  0,  0,  0,  0,  0,  0,  0,  0,  0,  0,  0,  0,  0],\n",
       "        [34, 20,  0,  0,  0,  0,  0,  0,  0,  0,  0,  0,  0,  0,  0,  0]]),\n",
       " array([[23, 42, 26, 19, 39, 37, 38,  0,  0,  0,  0,  0,  0,  0,  0,  0],\n",
       "        [25, 36, 27, 30, 30, 23,  0,  0,  0,  0,  0,  0,  0,  0,  0,  0]]),\n",
       " array([[11, 34,  0,  0,  0,  0,  0,  0,  0,  0,  0,  0,  0,  0,  0,  0],\n",
       "        [11, 10, 19,  0,  0,  0,  0,  0,  0,  0,  0,  0,  0,  0,  0,  0],\n",
       "        [37, 38, 36,  0,  0,  0,  0,  0,  0,  0,  0,  0,  0,  0,  0,  0]]),\n",
       " array([[33, 39, 38, 37, 27, 22, 23,  0,  0,  0,  0,  0,  0,  0,  0,  0],\n",
       "        [21, 36, 32, 36,  0,  0,  0,  0,  0,  0,  0,  0,  0,  0,  0,  0],\n",
       "        [21, 33, 32, 32,  0,  0,  0,  0,  0,  0,  0,  0,  0,  0,  0,  0]]),\n",
       " array([[10, 34,  0,  0,  0,  0,  0,  0,  0,  0,  0,  0,  0,  0,  0,  0],\n",
       "        [ 9,  8,  8, 19,  0,  0,  0,  0,  0,  0,  0,  0,  0,  0,  0,  0],\n",
       "        [21, 20,  0,  0,  0,  0,  0,  0,  0,  0,  0,  0,  0,  0,  0,  0],\n",
       "        [23, 32, 21, 30,  0,  0,  0,  0,  0,  0,  0,  0,  0,  0,  0,  0]]),\n",
       " array([[11, 34,  0,  0,  0,  0,  0,  0,  0,  0,  0,  0,  0,  0,  0,  0],\n",
       "        [10, 13,  8, 19,  0,  0,  0,  0,  0,  0,  0,  0,  0,  0,  0,  0],\n",
       "        [21, 20,  0,  0,  0,  0,  0,  0,  0,  0,  0,  0,  0,  0,  0,  0]]),\n",
       " array([[ 9,  6, 13,  5,  9, 10, 19,  0,  0,  0,  0,  0,  0,  0,  0,  0],\n",
       "        [37, 38, 36,  0,  0,  0,  0,  0,  0,  0,  0,  0,  0,  0,  0,  0]]),\n",
       " array([[11,  7, 16,  5,  9, 14,  0,  0,  0,  0,  0,  0,  0,  0,  0,  0],\n",
       "        [ 9,  0,  0,  0,  0,  0,  0,  0,  0,  0,  0,  0,  0,  0,  0,  0],\n",
       "        [21, 19, 34,  0,  0,  0,  0,  0,  0,  0,  0,  0,  0,  0,  0,  0],\n",
       "        [37, 21, 36,  0,  0,  0,  0,  0,  0,  0,  0,  0,  0,  0,  0,  0],\n",
       "        [20, 33, 30, 38,  0,  0,  0,  0,  0,  0,  0,  0,  0,  0,  0,  0]]),\n",
       " array([[11,  8,  8,  8, 36, 34, 31,  0,  0,  0,  0,  0,  0,  0,  0,  0],\n",
       "        [31, 38, 36,  0,  0,  0,  0,  0,  0,  0,  0,  0,  0,  0,  0,  0]]),\n",
       " array([[12,  8,  8, 40,  0,  0,  0,  0,  0,  0,  0,  0,  0,  0,  0,  0],\n",
       "        [30, 33, 19, 22,  0,  0,  0,  0,  0,  0,  0,  0,  0,  0,  0,  0],\n",
       "        [24, 22, 36,  0,  0,  0,  0,  0,  0,  0,  0,  0,  0,  0,  0,  0]]),\n",
       " array([[37, 33, 30,  0,  0,  0,  0,  0,  0,  0,  0,  0,  0,  0,  0,  0],\n",
       "        [32, 33,  0,  0,  0,  0,  0,  0,  0,  0,  0,  0,  0,  0,  0,  0],\n",
       "        [30, 23, 25, 23, 32, 22, 18,  0,  0,  0,  0,  0,  0,  0,  0,  0],\n",
       "        [11, 10, 15,  0,  0,  0,  0,  0,  0,  0,  0,  0,  0,  0,  0,  0]]),\n",
       " array([[12,  9, 12, 19,  0,  0,  0,  0,  0,  0,  0,  0,  0,  0,  0,  0],\n",
       "        [37, 38, 36,  0,  0,  0,  0,  0,  0,  0,  0,  0,  0,  0,  0,  0]]),\n",
       " array([[11, 34, 21,  0,  0,  0,  0,  0,  0,  0,  0,  0,  0,  0,  0,  0],\n",
       "        [34, 30, 27, 23, 36, 37,  0,  0,  0,  0,  0,  0,  0,  0,  0,  0],\n",
       "        [37, 23, 38,  0,  0,  0,  0,  0,  0,  0,  0,  0,  0,  0,  0,  0]]),\n",
       " array([[ 9,  8,  5, 11, 10,  0,  0,  0,  0,  0,  0,  0,  0,  0,  0,  0],\n",
       "        [ 9,  7, 12,  0,  0,  0,  0,  0,  0,  0,  0,  0,  0,  0,  0,  0],\n",
       "        [31,  7, 37,  0,  0,  0,  0,  0,  0,  0,  0,  0,  0,  0,  0,  0]]),\n",
       " array([[11,  8,  6, 13, 31, 31,  0,  0,  0,  0,  0,  0,  0,  0,  0,  0],\n",
       "        [34, 20,  0,  0,  0,  0,  0,  0,  0,  0,  0,  0,  0,  0,  0,  0],\n",
       "        [33, 34, 23, 36,  0,  0,  0,  0,  0,  0,  0,  0,  0,  0,  0,  0]]),\n",
       " array([[20, 39, 27, 30, 22, 27, 32, 25,  0,  0,  0,  0,  0,  0,  0,  0],\n",
       "        [41, 27, 36, 23,  0,  0,  0,  0,  0,  0,  0,  0,  0,  0,  0,  0]]),\n",
       " array([[37, 23, 32,  0,  0,  0,  0,  0,  0,  0,  0,  0,  0,  0,  0,  0],\n",
       "        [20, 39, 37, 37,  0,  0,  0,  0,  0,  0,  0,  0,  0,  0,  0,  0],\n",
       "        [26, 36, 32, 37,  0,  0,  0,  0,  0,  0,  0,  0,  0,  0,  0,  0]]),\n",
       " array([[25, 30, 19, 37, 37,  0,  0,  0,  0,  0,  0,  0,  0,  0,  0,  0],\n",
       "        [34, 30, 19, 38, 23,  0,  0,  0,  0,  0,  0,  0,  0,  0,  0,  0]]),\n",
       " array([[11,  8,  8,  8, 36, 34, 31,  0,  0,  0,  0,  0,  0,  0,  0,  0],\n",
       "        [31, 38, 36,  0,  0,  0,  0,  0,  0,  0,  0,  0,  0,  0,  0,  0]]),\n",
       " array([[41, 19, 36, 36, 19, 32, 38, 43,  0,  0,  0,  0,  0,  0,  0,  0]]),\n",
       " array([[11,  8, 31, 31,  0,  0,  0,  0,  0,  0,  0,  0,  0,  0,  0,  0],\n",
       "        [10, 12, 40,  0,  0,  0,  0,  0,  0,  0,  0,  0,  0,  0,  0,  0],\n",
       "        [34, 20,  0,  0,  0,  0,  0,  0,  0,  0,  0,  0,  0,  0,  0,  0]]),\n",
       " array([[11, 34,  0,  0,  0,  0,  0,  0,  0,  0,  0,  0,  0,  0,  0,  0],\n",
       "        [12,  8,  8, 19,  0,  0,  0,  0,  0,  0,  0,  0,  0,  0,  0,  0],\n",
       "        [21, 20,  0,  0,  0,  0,  0,  0,  0,  0,  0,  0,  0,  0,  0,  0]]),\n",
       " array([[10,  8, 19,  0,  0,  0,  0,  0,  0,  0,  0,  0,  0,  0,  0,  0],\n",
       "        [21, 33, 32, 38, 19, 21, 38, 33, 36,  0,  0,  0,  0,  0,  0,  0]]),\n",
       " array([[11, 34,  0,  0,  0,  0,  0,  0,  0,  0,  0,  0,  0,  0,  0,  0],\n",
       "        [14,  8, 19,  0,  0,  0,  0,  0,  0,  0,  0,  0,  0,  0,  0,  0],\n",
       "        [14,  8,  8, 40,  0,  0,  0,  0,  0,  0,  0,  0,  0,  0,  0,  0],\n",
       "        [21, 20,  0,  0,  0,  0,  0,  0,  0,  0,  0,  0,  0,  0,  0,  0]]),\n",
       " array([[11, 10, 19,  0,  0,  0,  0,  0,  0,  0,  0,  0,  0,  0,  0,  0],\n",
       "        [33, 30,  0,  0,  0,  0,  0,  0,  0,  0,  0,  0,  0,  0,  0,  0],\n",
       "        [36, 30, 43,  0,  0,  0,  0,  0,  0,  0,  0,  0,  0,  0,  0,  0]]),\n",
       " array([[37, 30, 22,  0,  0,  0,  0,  0,  0,  0,  0,  0,  0,  0,  0,  0],\n",
       "        [21, 40, 36,  0,  0,  0,  0,  0,  0,  0,  0,  0,  0,  0,  0,  0],\n",
       "        [10, 10,  8,  8,  8,  0,  0,  0,  0,  0,  0,  0,  0,  0,  0,  0],\n",
       "        [15,  8,  8, 31, 31,  0,  0,  0,  0,  0,  0,  0,  0,  0,  0,  0]]),\n",
       " array([[ 9,  5,  9,  7, 16,  0,  0,  0,  0,  0,  0,  0,  0,  0,  0,  0],\n",
       "        [34, 41, 36,  0,  0,  0,  0,  0,  0,  0,  0,  0,  0,  0,  0,  0],\n",
       "        [37, 34, 19, 22, 23,  0,  0,  0,  0,  0,  0,  0,  0,  0,  0,  0],\n",
       "        [20, 27, 38,  0,  0,  0,  0,  0,  0,  0,  0,  0,  0,  0,  0,  0]]),\n",
       " array([[20, 30, 29,  0,  0,  0,  0,  0,  0,  0,  0,  0,  0,  0,  0,  0],\n",
       "        [20, 19, 24, 24, 30, 23,  0,  0,  0,  0,  0,  0,  0,  0,  0,  0],\n",
       "        [38, 36, 27, 31,  0,  0,  0,  0,  0,  0,  0,  0,  0,  0,  0,  0]]),\n",
       " array([[40, 15,  6, 11,  0,  0,  0,  0,  0,  0,  0,  0,  0,  0,  0,  0],\n",
       "        [37, 24, 38, 41, 36,  0,  0,  0,  0,  0,  0,  0,  0,  0,  0,  0]]),\n",
       " array([[10, 12,  8, 40,  0,  0,  0,  0,  0,  0,  0,  0,  0,  0,  0,  0],\n",
       "        [32,  9,  0,  0,  0,  0,  0,  0,  0,  0,  0,  0,  0,  0,  0,  0],\n",
       "        [37, 38, 36,  0,  0,  0,  0,  0,  0,  0,  0,  0,  0,  0,  0,  0]]),\n",
       " array([[37,  8,  0,  0,  0,  0,  0,  0,  0,  0,  0,  0,  0,  0,  0,  0],\n",
       "        [21,  5, 37, 38, 36,  0,  0,  0,  0,  0,  0,  0,  0,  0,  0,  0],\n",
       "        [21,  7, 20,  0,  0,  0,  0,  0,  0,  0,  0,  0,  0,  0,  0,  0]]),\n",
       " array([[32, 23, 39, 38,  0,  0,  0,  0,  0,  0,  0,  0,  0,  0,  0,  0],\n",
       "        [21, 39, 36, 36,  0,  0,  0,  0,  0,  0,  0,  0,  0,  0,  0,  0],\n",
       "        [37, 23, 32,  0,  0,  0,  0,  0,  0,  0,  0,  0,  0,  0,  0,  0]]),\n",
       " array([[10, 34,  0,  0,  0,  0,  0,  0,  0,  0,  0,  0,  0,  0,  0,  0],\n",
       "        [10,  8, 19,  0,  0,  0,  0,  0,  0,  0,  0,  0,  0,  0,  0,  0],\n",
       "        [21, 20,  0,  0,  0,  0,  0,  0,  0,  0,  0,  0,  0,  0,  0,  0]]),\n",
       " array([[11, 34,  0,  0,  0,  0,  0,  0,  0,  0,  0,  0,  0,  0,  0,  0],\n",
       "        [ 9,  8,  8, 19,  0,  0,  0,  0,  0,  0,  0,  0,  0,  0,  0,  0],\n",
       "        [21, 20,  0,  0,  0,  0,  0,  0,  0,  0,  0,  0,  0,  0,  0,  0]]),\n",
       " array([[10, 34,  0,  0,  0,  0,  0,  0,  0,  0,  0,  0,  0,  0,  0,  0],\n",
       "        [13,  8, 19,  0,  0,  0,  0,  0,  0,  0,  0,  0,  0,  0,  0,  0],\n",
       "        [21, 32, 21, 38, 36,  0,  0,  0,  0,  0,  0,  0,  0,  0,  0,  0]]),\n",
       " array([[ 9, 26, 33, 30, 23,  0,  0,  0,  0,  0,  0,  0,  0,  0,  0,  0],\n",
       "        [30, 39, 25,  0,  0,  0,  0,  0,  0,  0,  0,  0,  0,  0,  0,  0],\n",
       "        [13,  7,  9, 14,  0,  0,  0,  0,  0,  0,  0,  0,  0,  0,  0,  0],\n",
       "        [12,  0,  0,  0,  0,  0,  0,  0,  0,  0,  0,  0,  0,  0,  0,  0],\n",
       "        [21, 39,  0,  0,  0,  0,  0,  0,  0,  0,  0,  0,  0,  0,  0,  0]]),\n",
       " array([[ 9, 11,  7,  9, 14,  0,  0,  0,  0,  0,  0,  0,  0,  0,  0,  0],\n",
       "        [21, 33, 31, 20,  0,  0,  0,  0,  0,  0,  0,  0,  0,  0,  0,  0],\n",
       "        [41, 36, 23, 32, 21, 26,  0,  0,  0,  0,  0,  0,  0,  0,  0,  0]]),\n",
       " array([[37, 23, 31, 27, 21, 33, 32, 22,  0,  0,  0,  0,  0,  0,  0,  0],\n",
       "        [24, 39, 37, 23,  0,  0,  0,  0,  0,  0,  0,  0,  0,  0,  0,  0]]),\n",
       " array([[ 9, 27, 32,  0,  0,  0,  0,  0,  0,  0,  0,  0,  0,  0,  0,  0],\n",
       "        [36, 33, 38, 19, 36, 43,  0,  0,  0,  0,  0,  0,  0,  0,  0,  0],\n",
       "        [26, 19, 31, 31, 23, 36,  0,  0,  0,  0,  0,  0,  0,  0,  0,  0]]),\n",
       " array([[ 9,  7, 10,  0,  0,  0,  0,  0,  0,  0,  0,  0,  0,  0,  0,  0],\n",
       "        [25, 36, 19, 43,  0,  0,  0,  0,  0,  0,  0,  0,  0,  0,  0,  0],\n",
       "        [31, 19, 30, 23,  7, 24, 23, 31, 19, 30, 23,  0,  0,  0,  0,  0],\n",
       "        [24, 38, 25,  0,  0,  0,  0,  0,  0,  0,  0,  0,  0,  0,  0,  0]]),\n",
       " array([[10, 12, 40,  0,  0,  0,  0,  0,  0,  0,  0,  0,  0,  0,  0,  0],\n",
       "        [32, 12, 42,  0,  0,  0,  0,  0,  0,  0,  0,  0,  0,  0,  0,  0],\n",
       "        [37, 38, 36,  0,  0,  0,  0,  0,  0,  0,  0,  0,  0,  0,  0,  0]]),\n",
       " array([[10,  5,  9,  7, 10, 22,  0,  0,  0,  0,  0,  0,  0,  0,  0,  0],\n",
       "        [37, 41,  0,  0,  0,  0,  0,  0,  0,  0,  0,  0,  0,  0,  0,  0],\n",
       "        [20, 33, 42,  0,  0,  0,  0,  0,  0,  0,  0,  0,  0,  0,  0,  0],\n",
       "        [ 9,  7, 10,  0,  0,  0,  0,  0,  0,  0,  0,  0,  0,  0,  0,  0],\n",
       "        [29, 33,  0,  0,  0,  0,  0,  0,  0,  0,  0,  0,  0,  0,  0,  0]]),\n",
       " array([[11, 34, 26,  0,  0,  0,  0,  0,  0,  0,  0,  0,  0,  0,  0,  0],\n",
       "        [10, 15, 15, 40,  0,  0,  0,  0,  0,  0,  0,  0,  0,  0,  0,  0],\n",
       "        [21, 32, 21, 38, 36,  0,  0,  0,  0,  0,  0,  0,  0,  0,  0,  0]]),\n",
       " array([[34, 26,  5, 23,  0,  0,  0,  0,  0,  0,  0,  0,  0,  0,  0,  0],\n",
       "        [37, 23, 32,  0,  0,  0,  0,  0,  0,  0,  0,  0,  0,  0,  0,  0],\n",
       "        [31, 38, 25,  0,  0,  0,  0,  0,  0,  0,  0,  0,  0,  0,  0,  0],\n",
       "        [21, 30, 27, 34,  0,  0,  0,  0,  0,  0,  0,  0,  0,  0,  0,  0]]),\n",
       " array([[11,  8,  8,  8, 36, 34, 31,  0,  0,  0,  0,  0,  0,  0,  0,  0],\n",
       "        [31, 38, 36,  0,  0,  0,  0,  0,  0,  0,  0,  0,  0,  0,  0,  0]]),\n",
       " array([[10, 12, 40,  0,  0,  0,  0,  0,  0,  0,  0,  0,  0,  0,  0,  0],\n",
       "        [38, 36, 19, 32, 37, 24, 33, 36, 31, 23, 36,  0,  0,  0,  0,  0]]),\n",
       " array([[ 9, 13,  7,  9, 14,  0,  0,  0,  0,  0,  0,  0,  0,  0,  0,  0],\n",
       "        [37, 38, 22,  0,  0,  0,  0,  0,  0,  0,  0,  0,  0,  0,  0,  0],\n",
       "        [20, 33, 42,  0,  0,  0,  0,  0,  0,  0,  0,  0,  0,  0,  0,  0],\n",
       "        [23, 32, 22,  0,  0,  0,  0,  0,  0,  0,  0,  0,  0,  0,  0,  0],\n",
       "        [28,  0,  0,  0,  0,  0,  0,  0,  0,  0,  0,  0,  0,  0,  0,  0]]),\n",
       " array([[24, 37,  0,  0,  0,  0,  0,  0,  0,  0,  0,  0,  0,  0,  0,  0],\n",
       "        [21, 33, 40, 23, 36,  0,  0,  0,  0,  0,  0,  0,  0,  0,  0,  0],\n",
       "        [41,  7, 41, 23, 19,  5, 34, 36, 24,  0,  0,  0,  0,  0,  0,  0]]),\n",
       " array([[11, 34,  0,  0,  0,  0,  0,  0,  0,  0,  0,  0,  0,  0,  0,  0],\n",
       "        [14,  8,  8, 19,  0,  0,  0,  0,  0,  0,  0,  0,  0,  0,  0,  0],\n",
       "        [37, 41,  0,  0,  0,  0,  0,  0,  0,  0,  0,  0,  0,  0,  0,  0]]),\n",
       " array([[20, 23, 32, 22, 23, 36,  3, 37, 26, 33, 23,  0,  0,  0,  0,  0],\n",
       "        [25, 36, 33, 39, 34,  0,  0,  0,  0,  0,  0,  0,  0,  0,  0,  0]]),\n",
       " array([[13,  8, 19,  0,  0,  0,  0,  0,  0,  0,  0,  0,  0,  0,  0,  0],\n",
       "        [27, 23, 21,  0,  0,  0,  0,  0,  0,  0,  0,  0,  0,  0,  0,  0],\n",
       "        [37, 38, 36,  0,  0,  0,  0,  0,  0,  0,  0,  0,  0,  0,  0,  0]]),\n",
       " array([[ 8,  6,  9,  5,  8,  6,  9, 14, 19,  0,  0,  0,  0,  0,  0,  0],\n",
       "        [21, 38, 36, 30, 36,  0,  0,  0,  0,  0,  0,  0,  0,  0,  0,  0]]),\n",
       " array([[11,  7, 16,  0,  0,  0,  0,  0,  0,  0,  0,  0,  0,  0,  0,  0],\n",
       "        [15, 34, 21,  0,  0,  0,  0,  0,  0,  0,  0,  0,  0,  0,  0,  0],\n",
       "        [37, 38, 39, 20, 20, 43,  0,  0,  0,  0,  0,  0,  0,  0,  0,  0],\n",
       "        [22, 36, 40, 36,  0,  0,  0,  0,  0,  0,  0,  0,  0,  0,  0,  0]]),\n",
       " array([[ 9, 10, 13, 40,  0,  0,  0,  0,  0,  0,  0,  0,  0,  0,  0,  0],\n",
       "        [36, 21, 34,  0,  0,  0,  0,  0,  0,  0,  0,  0,  0,  0,  0,  0]]),\n",
       " array([[23, 32, 22,  0,  0,  0,  0,  0,  0,  0,  0,  0,  0,  0,  0,  0],\n",
       "        [21, 19, 34,  0,  0,  0,  0,  0,  0,  0,  0,  0,  0,  0,  0,  0],\n",
       "        [24, 33, 36,  0,  0,  0,  0,  0,  0,  0,  0,  0,  0,  0,  0,  0],\n",
       "        [19,  9, 10,  8,  8,  0,  0,  0,  0,  0,  0,  0,  0,  0,  0,  0]]),\n",
       " array([[32, 19, 38,  0,  0,  0,  0,  0,  0,  0,  0,  0,  0,  0,  0,  0],\n",
       "        [21, 19, 20, 30, 23,  0,  0,  0,  0,  0,  0,  0,  0,  0,  0,  0],\n",
       "        [38, 27, 23,  0,  0,  0,  0,  0,  0,  0,  0,  0,  0,  0,  0,  0]]),\n",
       " array([[11, 34, 26,  0,  0,  0,  0,  0,  0,  0,  0,  0,  0,  0,  0,  0],\n",
       "        [21,  5, 37, 38, 36,  0,  0,  0,  0,  0,  0,  0,  0,  0,  0,  0]]),\n",
       " array([[31, 19, 32,  0,  0,  0,  0,  0,  0,  0,  0,  0,  0,  0,  0,  0],\n",
       "        [31, 38, 36,  0,  0,  0,  0,  0,  0,  0,  0,  0,  0,  0,  0,  0],\n",
       "        [21, 38, 36, 30, 36,  0,  0,  0,  0,  0,  0,  0,  0,  0,  0,  0]]),\n",
       " array([[ 9,  8, 14,  8,  8, 20, 38, 39,  0,  0,  0,  0,  0,  0,  0,  0],\n",
       "        [12, 14,  8, 40,  0,  0,  0,  0,  0,  0,  0,  0,  0,  0,  0,  0],\n",
       "        [19,  7, 21,  0,  0,  0,  0,  0,  0,  0,  0,  0,  0,  0,  0,  0]]),\n",
       " array([[30, 38, 25,  0,  0,  0,  0,  0,  0,  0,  0,  0,  0,  0,  0,  0],\n",
       "        [23, 26,  0,  0,  0,  0,  0,  0,  0,  0,  0,  0,  0,  0,  0,  0],\n",
       "        [14,  8, 19, 23, 32, 21, 30,  9, 10,  5,  9, 10,  8,  0,  0,  0]]),\n",
       " array([[21, 33, 31, 20,  0,  0,  0,  0,  0,  0,  0,  0,  0,  0,  0,  0],\n",
       "        [37, 38, 19, 36, 38, 23, 36,  0,  0,  0,  0,  0,  0,  0,  0,  0]]),\n",
       " array([[11, 34,  0,  0,  0,  0,  0,  0,  0,  0,  0,  0,  0,  0,  0,  0],\n",
       "        [10, 12, 40,  0,  0,  0,  0,  0,  0,  0,  0,  0,  0,  0,  0,  0],\n",
       "        [37, 38, 36,  0,  0,  0,  0,  0,  0,  0,  0,  0,  0,  0,  0,  0]]),\n",
       " array([[11, 34,  0,  0,  0,  0,  0,  0,  0,  0,  0,  0,  0,  0,  0,  0],\n",
       "        [11,  8, 19,  0,  0,  0,  0,  0,  0,  0,  0,  0,  0,  0,  0,  0],\n",
       "        [21, 20,  0,  0,  0,  0,  0,  0,  0,  0,  0,  0,  0,  0,  0,  0]]),\n",
       " array([[11, 34,  0,  0,  0,  0,  0,  0,  0,  0,  0,  0,  0,  0,  0,  0],\n",
       "        [14,  8,  8, 19,  0,  0,  0,  0,  0,  0,  0,  0,  0,  0,  0,  0],\n",
       "        [21, 20,  0,  0,  0,  0,  0,  0,  0,  0,  0,  0,  0,  0,  0,  0]]),\n",
       " array([[12, 13,  8,  8, 36, 34, 31,  0,  0,  0,  0,  0,  0,  0,  0,  0],\n",
       "        [31, 38, 36,  0,  0,  0,  0,  0,  0,  0,  0,  0,  0,  0,  0,  0]]),\n",
       " array([[20, 39, 27, 30, 22, 27, 32, 25,  0,  0,  0,  0,  0,  0,  0,  0],\n",
       "        [41, 27, 36, 23,  0,  0,  0,  0,  0,  0,  0,  0,  0,  0,  0,  0]]),\n",
       " array([[36, 23, 22,  0,  0,  0,  0,  0,  0,  0,  0,  0,  0,  0,  0,  0],\n",
       "        [38, 26, 36, 31, 34, 30, 37, 38,  0,  0,  0,  0,  0,  0,  0,  0],\n",
       "        [27, 21, 33, 32,  0,  0,  0,  0,  0,  0,  0,  0,  0,  0,  0,  0],\n",
       "        [27, 32, 37,  0,  0,  0,  0,  0,  0,  0,  0,  0,  0,  0,  0,  0]]),\n",
       " array([[26, 23, 42,  0,  0,  0,  0,  0,  0,  0,  0,  0,  0,  0,  0,  0],\n",
       "        [26, 23, 19, 22,  0,  0,  0,  0,  0,  0,  0,  0,  0,  0,  0,  0]]),\n",
       " array([[12, 16,  8, 40, 36, 21, 34,  0,  0,  0,  0,  0,  0,  0,  0,  0]]),\n",
       " array([[10,  6, 13, 17, 29, 41,  0,  0,  0,  0,  0,  0,  0,  0,  0,  0],\n",
       "        [31, 38, 36,  0,  0,  0,  0,  0,  0,  0,  0,  0,  0,  0,  0,  0]]),\n",
       " array([[21, 39,  0,  0,  0,  0,  0,  0,  0,  0,  0,  0,  0,  0,  0,  0],\n",
       "        [21, 19, 20, 30, 23,  0,  0,  0,  0,  0,  0,  0,  0,  0,  0,  0]]),\n",
       " array([[32, 23, 38, 41, 33, 36, 29,  0,  0,  0,  0,  0,  0,  0,  0,  0],\n",
       "        [21, 19, 31, 23, 36, 19,  0,  0,  0,  0,  0,  0,  0,  0,  0,  0]]),\n",
       " array([[13,  8, 34, 21,  0,  0,  0,  0,  0,  0,  0,  0,  0,  0,  0,  0],\n",
       "        [36, 26, 22,  0,  0,  0,  0,  0,  0,  0,  0,  0,  0,  0,  0,  0],\n",
       "        [37, 21, 36,  0,  0,  0,  0,  0,  0,  0,  0,  0,  0,  0,  0,  0],\n",
       "        [24, 30,  0,  0,  0,  0,  0,  0,  0,  0,  0,  0,  0,  0,  0,  0],\n",
       "        [32, 39, 38,  0,  0,  0,  0,  0,  0,  0,  0,  0,  0,  0,  0,  0]]),\n",
       " array([[34, 33, 41, 23, 36,  0,  0,  0,  0,  0,  0,  0,  0,  0,  0,  0],\n",
       "        [21, 19, 20, 30, 23,  0,  0,  0,  0,  0,  0,  0,  0,  0,  0,  0]]),\n",
       " array([[10,  8, 19,  0,  0,  0,  0,  0,  0,  0,  0,  0,  0,  0,  0,  0],\n",
       "        [21, 26, 36, 25, 36,  0,  0,  0,  0,  0,  0,  0,  0,  0,  0,  0],\n",
       "        [ 3,  0,  0,  0,  0,  0,  0,  0,  0,  0,  0,  0,  0,  0,  0,  0],\n",
       "        [36, 21, 34, 38,  0,  0,  0,  0,  0,  0,  0,  0,  0,  0,  0,  0]]),\n",
       " array([[12,  8,  8, 40,  0,  0,  0,  0,  0,  0,  0,  0,  0,  0,  0,  0],\n",
       "        [21, 32, 21, 38, 36,  0,  0,  0,  0,  0,  0,  0,  0,  0,  0,  0]]),\n",
       " array([[37, 21, 36, 23, 41,  7, 41, 19, 37, 26, 23, 36,  0,  0,  0,  0]]),\n",
       " array([[10,  8,  8,  8, 36, 34, 31,  0,  0,  0,  0,  0,  0,  0,  0,  0],\n",
       "        [31, 38, 36,  0,  0,  0,  0,  0,  0,  0,  0,  0,  0,  0,  0,  0]]),\n",
       " array([[14,  8, 19,  0,  0,  0,  0,  0,  0,  0,  0,  0,  0,  0,  0,  0],\n",
       "        [12, 16,  8, 40,  0,  0,  0,  0,  0,  0,  0,  0,  0,  0,  0,  0],\n",
       "        [24, 39, 37, 23,  0,  0,  0,  0,  0,  0,  0,  0,  0,  0,  0,  0],\n",
       "        [20, 30, 33, 21, 29,  0,  0,  0,  0,  0,  0,  0,  0,  0,  0,  0]]),\n",
       " array([[41, 27, 36, 27, 32, 25,  0,  0,  0,  0,  0,  0,  0,  0,  0,  0],\n",
       "        [22, 39, 21, 38,  0,  0,  0,  0,  0,  0,  0,  0,  0,  0,  0,  0]]),\n",
       " array([[19, 36, 31, 22,  0,  0,  0,  0,  0,  0,  0,  0,  0,  0,  0,  0],\n",
       "        [21, 33, 32, 32,  5, 32, 23, 31, 19,  9,  8,  5, 10,  8, 36,  0]]),\n",
       " array([[37, 37,  0,  0,  0,  0,  0,  0,  0,  0,  0,  0,  0,  0,  0,  0],\n",
       "        [ 9, 22, 34, 30, 42,  0,  0,  0,  0,  0,  0,  0,  0,  0,  0,  0],\n",
       "        [ 9, 37, 41,  0,  0,  0,  0,  0,  0,  0,  0,  0,  0,  0,  0,  0],\n",
       "        [34, 30, 38,  0,  0,  0,  0,  0,  0,  0,  0,  0,  0,  0,  0,  0]]),\n",
       " array([[13,  5, 27, 32,  0,  0,  0,  0,  0,  0,  0,  0,  0,  0,  0,  0],\n",
       "        [30, 20, 22,  0,  0,  0,  0,  0,  0,  0,  0,  0,  0,  0,  0,  0],\n",
       "        [21, 33, 32, 22,  0,  0,  0,  0,  0,  0,  0,  0,  0,  0,  0,  0],\n",
       "        [20, 33, 22, 43,  0,  0,  0,  0,  0,  0,  0,  0,  0,  0,  0,  0]]),\n",
       " array([[10, 34, 33, 37,  0,  0,  0,  0,  0,  0,  0,  0,  0,  0,  0,  0],\n",
       "        [37, 41, 27, 38, 21, 26,  0,  0,  0,  0,  0,  0,  0,  0,  0,  0]]),\n",
       " array([[ 9, 16,  5,  9, 12,  0,  0,  0,  0,  0,  0,  0,  0,  0,  0,  0],\n",
       "        [27, 32, 37,  0,  0,  0,  0,  0,  0,  0,  0,  0,  0,  0,  0,  0],\n",
       "        [36, 27, 32, 25,  0,  0,  0,  0,  0,  0,  0,  0,  0,  0,  0,  0],\n",
       "        [38, 23, 36, 31,  0,  0,  0,  0,  0,  0,  0,  0,  0,  0,  0,  0]]),\n",
       " array([[39, 32, 30, 22,  0,  0,  0,  0,  0,  0,  0,  0,  0,  0,  0,  0],\n",
       "        [36, 29, 31, 32, 38,  0,  0,  0,  0,  0,  0,  0,  0,  0,  0,  0],\n",
       "        [34, 19, 32, 23, 30,  0,  0,  0,  0,  0,  0,  0,  0,  0,  0,  0]]),\n",
       " array([[11,  8,  8,  8, 36, 34, 31,  0,  0,  0,  0,  0,  0,  0,  0,  0],\n",
       "        [37, 36, 40,  0,  0,  0,  0,  0,  0,  0,  0,  0,  0,  0,  0,  0],\n",
       "        [31, 33, 38, 33, 36,  0,  0,  0,  0,  0,  0,  0,  0,  0,  0,  0]]),\n",
       " array([[12, 13,  8,  8, 36, 34, 31,  0,  0,  0,  0,  0,  0,  0,  0,  0],\n",
       "        [31, 38, 36,  0,  0,  0,  0,  0,  0,  0,  0,  0,  0,  0,  0,  0]]),\n",
       " array([[15,  6, 13, 29, 41,  0,  0,  0,  0,  0,  0,  0,  0,  0,  0,  0],\n",
       "        [21, 32, 21, 38, 36,  0,  0,  0,  0,  0,  0,  0,  0,  0,  0,  0]]),\n",
       " array([[41, 27, 36, 23,  0,  0,  0,  0,  0,  0,  0,  0,  0,  0,  0,  0],\n",
       "        [31, 36, 29, 36,  0,  0,  0,  0,  0,  0,  0,  0,  0,  0,  0,  0],\n",
       "        [37, 30, 40,  0,  0,  0,  0,  0,  0,  0,  0,  0,  0,  0,  0,  0]]),\n",
       " array([[ 9, 27, 32,  0,  0,  0,  0,  0,  0,  0,  0,  0,  0,  0,  0,  0],\n",
       "        [28,  5, 26, 33, 33, 29,  0,  0,  0,  0,  0,  0,  0,  0,  0,  0]]),\n",
       " array([[40, 27, 22, 23, 33,  0,  0,  0,  0,  0,  0,  0,  0,  0,  0,  0],\n",
       "        [36, 23, 21, 33, 36, 22, 23, 36,  0,  0,  0,  0,  0,  0,  0,  0]]),\n",
       " array([[11,  7, 16,  0,  0,  0,  0,  0,  0,  0,  0,  0,  0,  0,  0,  0],\n",
       "        [37, 38, 36, 19, 34,  0,  0,  0,  0,  0,  0,  0,  0,  0,  0,  0],\n",
       "        [26, 19, 32, 25, 23, 36,  0,  0,  0,  0,  0,  0,  0,  0,  0,  0]]),\n",
       " array([[12, 13,  8,  8, 36, 34, 31,  0,  0,  0,  0,  0,  0,  0,  0,  0],\n",
       "        [31, 38, 36,  0,  0,  0,  0,  0,  0,  0,  0,  0,  0,  0,  0,  0]]),\n",
       " array([[15, 10, 19,  0,  0,  0,  0,  0,  0,  0,  0,  0,  0,  0,  0,  0],\n",
       "        [27, 23, 21,  0,  0,  0,  0,  0,  0,  0,  0,  0,  0,  0,  0,  0],\n",
       "        [37, 38, 36,  0,  0,  0,  0,  0,  0,  0,  0,  0,  0,  0,  0,  0]]),\n",
       " array([[11,  8,  8,  8, 36, 34, 31,  0,  0,  0,  0,  0,  0,  0,  0,  0],\n",
       "        [31, 38, 36,  0,  0,  0,  0,  0,  0,  0,  0,  0,  0,  0,  0,  0]]),\n",
       " array([[10, 12, 40,  0,  0,  0,  0,  0,  0,  0,  0,  0,  0,  0,  0,  0],\n",
       "        [21, 32, 21, 38, 36,  0,  0,  0,  0,  0,  0,  0,  0,  0,  0,  0]]),\n",
       " array([[34, 36, 38, 38, 40,  0,  0,  0,  0,  0,  0,  0,  0,  0,  0,  0],\n",
       "        [36, 23, 30, 19, 43,  0,  0,  0,  0,  0,  0,  0,  0,  0,  0,  0]]),\n",
       " array([[25, 24, 21, 27,  0,  0,  0,  0,  0,  0,  0,  0,  0,  0,  0,  0],\n",
       "        [22, 34, 30, 42,  0,  0,  0,  0,  0,  0,  0,  0,  0,  0,  0,  0],\n",
       "        [13,  5, 10,  8, 36,  0,  0,  0,  0,  0,  0,  0,  0,  0,  0,  0]]),\n",
       " array([[10,  8,  8, 19,  0,  0,  0,  0,  0,  0,  0,  0,  0,  0,  0,  0],\n",
       "        [12, 16,  8, 40,  0,  0,  0,  0,  0,  0,  0,  0,  0,  0,  0,  0],\n",
       "        [27, 32, 30,  0,  0,  0,  0,  0,  0,  0,  0,  0,  0,  0,  0,  0]]),\n",
       " array([[10, 14, 19, 12, 14,  8, 40,  0,  0,  0,  0,  0,  0,  0,  0,  0],\n",
       "        [37, 24, 38, 37, 38, 36,  0,  0,  0,  0,  0,  0,  0,  0,  0,  0]]),\n",
       " array([[19, 30, 21, 39,  0,  0,  0,  0,  0,  0,  0,  0,  0,  0,  0,  0],\n",
       "        [10, 26,  0,  0,  0,  0,  0,  0,  0,  0,  0,  0,  0,  0,  0,  0],\n",
       "        [21, 33, 31, 34,  0,  0,  0,  0,  0,  0,  0,  0,  0,  0,  0,  0],\n",
       "        [30, 39, 25,  0,  0,  0,  0,  0,  0,  0,  0,  0,  0,  0,  0,  0]]),\n",
       " array([[ 9,  5,  9,  7, 10,  0,  0,  0,  0,  0,  0,  0,  0,  0,  0,  0],\n",
       "        [24, 23, 31,  7, 24, 23, 31,  0,  0,  0,  0,  0,  0,  0,  0,  0],\n",
       "        [34, 39, 30, 30,  0,  0,  0,  0,  0,  0,  0,  0,  0,  0,  0,  0],\n",
       "        [23, 30, 30,  0,  0,  0,  0,  0,  0,  0,  0,  0,  0,  0,  0,  0]]),\n",
       " array([[ 9,  7, 10, 22, 36, 40,  0,  0,  0,  0,  0,  0,  0,  0,  0,  0],\n",
       "        [ 9, 12, 31, 31,  0,  0,  0,  0,  0,  0,  0,  0,  0,  0,  0,  0],\n",
       "        [14, 34, 38,  0,  0,  0,  0,  0,  0,  0,  0,  0,  0,  0,  0,  0],\n",
       "        [37, 29, 38,  0,  0,  0,  0,  0,  0,  0,  0,  0,  0,  0,  0,  0]]),\n",
       " array([[37, 39, 20, 31, 33, 22,  0,  0,  0,  0,  0,  0,  0,  0,  0,  0]]),\n",
       " array([[34, 33, 41, 23, 36,  0,  0,  0,  0,  0,  0,  0,  0,  0,  0,  0],\n",
       "        [31, 33, 22,  0,  0,  0,  0,  0,  0,  0,  0,  0,  0,  0,  0,  0]]),\n",
       " array([[10, 12,  8, 40,  0,  0,  0,  0,  0,  0,  0,  0,  0,  0,  0,  0],\n",
       "        [36, 23, 22,  0,  0,  0,  0,  0,  0,  0,  0,  0,  0,  0,  0,  0],\n",
       "        [34, 30,  0,  0,  0,  0,  0,  0,  0,  0,  0,  0,  0,  0,  0,  0],\n",
       "        [30, 23, 32, 37,  0,  0,  0,  0,  0,  0,  0,  0,  0,  0,  0,  0]]),\n",
       " array([[37, 38, 19, 27, 32, 30, 23, 37, 37,  0,  0,  0,  0,  0,  0,  0],\n",
       "        [23, 32, 21, 30, 33, 37, 39, 36, 23,  0,  0,  0,  0,  0,  0,  0]]),\n",
       " array([[37, 41, 27, 38, 21, 26,  0,  0,  0,  0,  0,  0,  0,  0,  0,  0],\n",
       "        [34, 39, 37, 26, 20, 39, 38, 38, 33, 32,  0,  0,  0,  0,  0,  0]]),\n",
       " array([[ 9,  9,  6, 15, 29, 41,  0,  0,  0,  0,  0,  0,  0,  0,  0,  0],\n",
       "        [31, 38, 36,  0,  0,  0,  0,  0,  0,  0,  0,  0,  0,  0,  0,  0]]),\n",
       " array([[11, 34,  0,  0,  0,  0,  0,  0,  0,  0,  0,  0,  0,  0,  0,  0],\n",
       "        [14,  8,  8, 19,  0,  0,  0,  0,  0,  0,  0,  0,  0,  0,  0,  0],\n",
       "        [37, 41,  0,  0,  0,  0,  0,  0,  0,  0,  0,  0,  0,  0,  0,  0]]),\n",
       " array([[27, 32, 37, 34, 23, 21, 38, 27, 33, 32,  0,  0,  0,  0,  0,  0],\n",
       "        [31, 27, 36, 36, 33, 36,  0,  0,  0,  0,  0,  0,  0,  0,  0,  0]]),\n",
       " array([[11, 34,  0,  0,  0,  0,  0,  0,  0,  0,  0,  0,  0,  0,  0,  0],\n",
       "        [10,  8,  8, 19,  0,  0,  0,  0,  0,  0,  0,  0,  0,  0,  0,  0],\n",
       "        [21, 20,  0,  0,  0,  0,  0,  0,  0,  0,  0,  0,  0,  0,  0,  0]]),\n",
       " array([[ 9, 10, 19,  0,  0,  0,  0,  0,  0,  0,  0,  0,  0,  0,  0,  0],\n",
       "        [31, 38, 36,  0,  0,  0,  0,  0,  0,  0,  0,  0,  0,  0,  0,  0],\n",
       "        [21, 38, 36, 30, 36,  0,  0,  0,  0,  0,  0,  0,  0,  0,  0,  0]]),\n",
       " array([[19, 22, 19, 34, 38, 23, 36,  0,  0,  0,  0,  0,  0,  0,  0,  0],\n",
       "        [37, 26, 33, 23,  0,  0,  0,  0,  0,  0,  0,  0,  0,  0,  0,  0]]),\n",
       " array([[11,  8,  8,  8, 36, 34, 31,  0,  0,  0,  0,  0,  0,  0,  0,  0],\n",
       "        [31, 38, 36,  0,  0,  0,  0,  0,  0,  0,  0,  0,  0,  0,  0,  0]]),\n",
       " array([[12,  8, 19,  0,  0,  0,  0,  0,  0,  0,  0,  0,  0,  0,  0,  0],\n",
       "        [21, 32, 21, 38, 36,  0,  0,  0,  0,  0,  0,  0,  0,  0,  0,  0]]),\n",
       " array([[11,  8,  8,  8, 36, 34, 31,  0,  0,  0,  0,  0,  0,  0,  0,  0],\n",
       "        [31, 38, 36,  0,  0,  0,  0,  0,  0,  0,  0,  0,  0,  0,  0,  0]]),\n",
       " array([[ 9,  7,  9, 14,  0,  0,  0,  0,  0,  0,  0,  0,  0,  0,  0,  0],\n",
       "        [20, 30, 39,  0,  0,  0,  0,  0,  0,  0,  0,  0,  0,  0,  0,  0],\n",
       "        [26, 38,  0,  0,  0,  0,  0,  0,  0,  0,  0,  0,  0,  0,  0,  0],\n",
       "        [37, 26, 36, 29,  0,  0,  0,  0,  0,  0,  0,  0,  0,  0,  0,  0],\n",
       "        [38, 20, 25,  0,  0,  0,  0,  0,  0,  0,  0,  0,  0,  0,  0,  0]]),\n",
       " array([[11,  8,  8,  8, 36, 34, 31,  0,  0,  0,  0,  0,  0,  0,  0,  0],\n",
       "        [31, 38, 36,  0,  0,  0,  0,  0,  0,  0,  0,  0,  0,  0,  0,  0]]),\n",
       " array([[12, 34,  0,  0,  0,  0,  0,  0,  0,  0,  0,  0,  0,  0,  0,  0],\n",
       "        [10, 10, 13, 19,  0,  0,  0,  0,  0,  0,  0,  0,  0,  0,  0,  0],\n",
       "        [21, 20,  0,  0,  0,  0,  0,  0,  0,  0,  0,  0,  0,  0,  0,  0]]),\n",
       " array([[10,  5, 27, 32,  0,  0,  0,  0,  0,  0,  0,  0,  0,  0,  0,  0],\n",
       "        [25, 39, 19, 38,  0,  0,  0,  0,  0,  0,  0,  0,  0,  0,  0,  0],\n",
       "        [21, 33, 32, 22,  0,  0,  0,  0,  0,  0,  0,  0,  0,  0,  0,  0],\n",
       "        [20, 22, 43,  3, 21, 40, 36,  0,  0,  0,  0,  0,  0,  0,  0,  0]]),\n",
       " array([[14,  8, 26, 34,  0,  0,  0,  0,  0,  0,  0,  0,  0,  0,  0,  0],\n",
       "        [22, 36, 40,  0,  0,  0,  0,  0,  0,  0,  0,  0,  0,  0,  0,  0]]),\n",
       " array([[14,  8,  8,  8, 36, 34, 31,  0,  0,  0,  0,  0,  0,  0,  0,  0],\n",
       "        [31, 38, 36,  0,  0,  0,  0,  0,  0,  0,  0,  0,  0,  0,  0,  0]]),\n",
       " array([[12, 31,  0,  0,  0,  0,  0,  0,  0,  0,  0,  0,  0,  0,  0,  0],\n",
       "        [21, 19, 20, 30, 23,  0,  0,  0,  0,  0,  0,  0,  0,  0,  0,  0]]),\n",
       " array([[21, 33, 32, 32, 23, 21, 38, 27, 32, 25,  0,  0,  0,  0,  0,  0],\n",
       "        [37, 38, 36, 19, 34,  0,  0,  0,  0,  0,  0,  0,  0,  0,  0,  0],\n",
       "        [29, 27, 38,  0,  0,  0,  0,  0,  0,  0,  0,  0,  0,  0,  0,  0]]),\n",
       " array([[34, 19, 32, 23, 30,  0,  0,  0,  0,  0,  0,  0,  0,  0,  0,  0],\n",
       "        [33, 32, 30, 43,  0,  0,  0,  0,  0,  0,  0,  0,  0,  0,  0,  0]]),\n",
       " array([[11, 34, 26,  0,  0,  0,  0,  0,  0,  0,  0,  0,  0,  0,  0,  0],\n",
       "        [21,  5, 37, 38, 36,  0,  0,  0,  0,  0,  0,  0,  0,  0,  0,  0]]),\n",
       " array([[14, 40,  0,  0,  0,  0,  0,  0,  0,  0,  0,  0,  0,  0,  0,  0],\n",
       "        [25, 36, 32,  0,  0,  0,  0,  0,  0,  0,  0,  0,  0,  0,  0,  0],\n",
       "        [34, 30, 37,  0,  0,  0,  0,  0,  0,  0,  0,  0,  0,  0,  0,  0],\n",
       "        [24, 40, 38, 25,  0,  0,  0,  0,  0,  0,  0,  0,  0,  0,  0,  0],\n",
       "        [34,  7, 30,  0,  0,  0,  0,  0,  0,  0,  0,  0,  0,  0,  0,  0]]),\n",
       " array([[ 9, 10,  8,  8,  8, 24, 38,  5, 30, 20, 37,  0,  0,  0,  0,  0],\n",
       "        [38, 33, 36, 35,  0,  0,  0,  0,  0,  0,  0,  0,  0,  0,  0,  0],\n",
       "        [31, 30, 38, 34, 30, 36,  0,  0,  0,  0,  0,  0,  0,  0,  0,  0]]),\n",
       " array([[10, 34,  0,  0,  0,  0,  0,  0,  0,  0,  0,  0,  0,  0,  0,  0],\n",
       "        [19, 30,  0,  0,  0,  0,  0,  0,  0,  0,  0,  0,  0,  0,  0,  0],\n",
       "        [22, 27, 37, 38,  0,  0,  0,  0,  0,  0,  0,  0,  0,  0,  0,  0],\n",
       "        [20, 30, 33, 29,  0,  0,  0,  0,  0,  0,  0,  0,  0,  0,  0,  0]]),\n",
       " array([[27, 23, 21,  0,  0,  0,  0,  0,  0,  0,  0,  0,  0,  0,  0,  0],\n",
       "        [25, 36, 33, 39, 32, 22,  0,  0,  0,  0,  0,  0,  0,  0,  0,  0],\n",
       "        [26, 39, 20,  0,  0,  0,  0,  0,  0,  0,  0,  0,  0,  0,  0,  0]]),\n",
       " array([[36, 23, 22, 39, 21, 23, 36,  0,  0,  0,  0,  0,  0,  0,  0,  0],\n",
       "        [34, 19, 32, 23, 30,  0,  0,  0,  0,  0,  0,  0,  0,  0,  0,  0]]),\n",
       " array([[11, 34,  0,  0,  0,  0,  0,  0,  0,  0,  0,  0,  0,  0,  0,  0],\n",
       "        [11,  8, 19,  0,  0,  0,  0,  0,  0,  0,  0,  0,  0,  0,  0,  0],\n",
       "        [21, 20,  0,  0,  0,  0,  0,  0,  0,  0,  0,  0,  0,  0,  0,  0]]),\n",
       " array([[ 9, 10,  8, 40,  0,  0,  0,  0,  0,  0,  0,  0,  0,  0,  0,  0],\n",
       "        [21, 32, 21, 38, 36,  0,  0,  0,  0,  0,  0,  0,  0,  0,  0,  0]]),\n",
       " array([[31, 19, 21, 26, 27, 32, 23,  0,  0,  0,  0,  0,  0,  0,  0,  0],\n",
       "        [20, 33, 30, 38,  0,  0,  0,  0,  0,  0,  0,  0,  0,  0,  0,  0]]),\n",
       " array([[10,  8,  8,  8, 36, 34, 31,  0,  0,  0,  0,  0,  0,  0,  0,  0],\n",
       "        [31, 38, 36,  0,  0,  0,  0,  0,  0,  0,  0,  0,  0,  0,  0,  0]]),\n",
       " array([[11,  5,  9, 10, 19,  0,  0,  0,  0,  0,  0,  0,  0,  0,  0,  0],\n",
       "        [10, 12,  8,  7, 12, 16,  8, 40,  0,  0,  0,  0,  0,  0,  0,  0],\n",
       "        [37, 38, 36,  0,  0,  0,  0,  0,  0,  0,  0,  0,  0,  0,  0,  0]]),\n",
       " array([[11, 34, 26,  0,  0,  0,  0,  0,  0,  0,  0,  0,  0,  0,  0,  0],\n",
       "        [21,  5, 37, 38, 36,  0,  0,  0,  0,  0,  0,  0,  0,  0,  0,  0]]),\n",
       " array([[21, 33, 31, 20,  0,  0,  0,  0,  0,  0,  0,  0,  0,  0,  0,  0],\n",
       "        [37, 38, 19, 36, 38, 23, 36,  0,  0,  0,  0,  0,  0,  0,  0,  0]]),\n",
       " array([[23, 39,  0,  0,  0,  0,  0,  0,  0,  0,  0,  0,  0,  0,  0,  0],\n",
       "        [34, 41, 36,  0,  0,  0,  0,  0,  0,  0,  0,  0,  0,  0,  0,  0],\n",
       "        [37, 34, 30, 43,  0,  0,  0,  0,  0,  0,  0,  0,  0,  0,  0,  0]]),\n",
       " array([[36, 39, 20,  0,  0,  0,  0,  0,  0,  0,  0,  0,  0,  0,  0,  0],\n",
       "        [34, 30, 39, 25,  5, 32, 23, 31, 19, 13,  5, 11,  8, 34,  0,  0]]),\n",
       " array([[10,  5,  9, 13,  7,  9, 14,  0,  0,  0,  0,  0,  0,  0,  0,  0],\n",
       "        [26, 19, 31, 31, 23, 36,  0,  0,  0,  0,  0,  0,  0,  0,  0,  0],\n",
       "        [41, 36, 23, 32, 21, 26,  0,  0,  0,  0,  0,  0,  0,  0,  0,  0]]),\n",
       " array([[11, 25,  0,  0,  0,  0,  0,  0,  0,  0,  0,  0,  0,  0,  0,  0],\n",
       "        [20, 30, 19, 32, 29,  0,  0,  0,  0,  0,  0,  0,  0,  0,  0,  0],\n",
       "        [22, 23, 40, 27, 21, 23,  0,  0,  0,  0,  0,  0,  0,  0,  0,  0],\n",
       "        [34, 30, 19, 38, 23,  0,  0,  0,  0,  0,  0,  0,  0,  0,  0,  0]]),\n",
       " array([[ 9, 10,  8, 40,  0,  0,  0,  0,  0,  0,  0,  0,  0,  0,  0,  0],\n",
       "        [32, 12, 42,  0,  0,  0,  0,  0,  0,  0,  0,  0,  0,  0,  0,  0],\n",
       "        [37, 38, 36,  0,  0,  0,  0,  0,  0,  0,  0,  0,  0,  0,  0,  0]]),\n",
       " array([[27, 37, 33, 30,  0,  0,  0,  0,  0,  0,  0,  0,  0,  0,  0,  0],\n",
       "        [38, 24, 31, 36,  0,  0,  0,  0,  0,  0,  0,  0,  0,  0,  0,  0]]),\n",
       " array([[10, 41,  0,  0,  0,  0,  0,  0,  0,  0,  0,  0,  0,  0,  0,  0],\n",
       "        [15, 19,  0,  0,  0,  0,  0,  0,  0,  0,  0,  0,  0,  0,  0,  0],\n",
       "        [37, 30, 22,  0,  0,  0,  0,  0,  0,  0,  0,  0,  0,  0,  0,  0],\n",
       "        [22, 31, 36,  0,  0,  0,  0,  0,  0,  0,  0,  0,  0,  0,  0,  0],\n",
       "        [37, 41,  0,  0,  0,  0,  0,  0,  0,  0,  0,  0,  0,  0,  0,  0]]),\n",
       " array([[34, 30, 43, 21, 36, 20,  0,  0,  0,  0,  0,  0,  0,  0,  0,  0],\n",
       "        [23, 32, 21,  0,  0,  0,  0,  0,  0,  0,  0,  0,  0,  0,  0,  0]]),\n",
       " array([[37, 27, 25, 32, 19, 30,  0,  0,  0,  0,  0,  0,  0,  0,  0,  0],\n",
       "        [21, 19, 20, 30, 23,  0,  0,  0,  0,  0,  0,  0,  0,  0,  0,  0]]),\n",
       " array([[40, 27, 22, 23, 33,  7, 19, 39, 22,  0,  0,  0,  0,  0,  0,  0],\n",
       "        [31, 33, 22,  0,  0,  0,  0,  0,  0,  0,  0,  0,  0,  0,  0,  0],\n",
       "        [34, 30, 38,  0,  0,  0,  0,  0,  0,  0,  0,  0,  0,  0,  0,  0]]),\n",
       " array([[34, 36, 38, 38, 40,  0,  0,  0,  0,  0,  0,  0,  0,  0,  0,  0],\n",
       "        [36, 23, 30, 19, 43,  0,  0,  0,  0,  0,  0,  0,  0,  0,  0,  0]]),\n",
       " array([[13, 16, 19,  0,  0,  0,  0,  0,  0,  0,  0,  0,  0,  0,  0,  0],\n",
       "        [21, 31, 20, 33,  0,  0,  0,  0,  0,  0,  0,  0,  0,  0,  0,  0],\n",
       "        [31, 38, 36,  0,  0,  0,  0,  0,  0,  0,  0,  0,  0,  0,  0,  0],\n",
       "        [21, 38, 36, 30, 36,  0,  0,  0,  0,  0,  0,  0,  0,  0,  0,  0]]),\n",
       " array([[41, 36, 23,  0,  0,  0,  0,  0,  0,  0,  0,  0,  0,  0,  0,  0],\n",
       "        [31, 36, 29, 25,  0,  0,  0,  0,  0,  0,  0,  0,  0,  0,  0,  0],\n",
       "        [37, 30, 40,  0,  0,  0,  0,  0,  0,  0,  0,  0,  0,  0,  0,  0]]),\n",
       " array([[24, 36, 23, 35, 39, 23, 32, 21, 43,  0,  0,  0,  0,  0,  0,  0],\n",
       "        [27, 32, 40, 23, 36, 38, 23, 36,  0,  0,  0,  0,  0,  0,  0,  0]]),\n",
       " array([[10, 25, 24, 21, 27,  0,  0,  0,  0,  0,  0,  0,  0,  0,  0,  0],\n",
       "        [36, 21, 34, 38,  0,  0,  0,  0,  0,  0,  0,  0,  0,  0,  0,  0],\n",
       "        [34, 30, 19, 38, 23,  0,  0,  0,  0,  0,  0,  0,  0,  0,  0,  0]]),\n",
       " array([[12, 37, 35,  0,  0,  0,  0,  0,  0,  0,  0,  0,  0,  0,  0,  0],\n",
       "        [11,  7, 12, 22,  0,  0,  0,  0,  0,  0,  0,  0,  0,  0,  0,  0],\n",
       "        [34, 30, 19, 37,  0,  0,  0,  0,  0,  0,  0,  0,  0,  0,  0,  0],\n",
       "        [36, 27, 32, 25,  0,  0,  0,  0,  0,  0,  0,  0,  0,  0,  0,  0]]),\n",
       " array([[10, 10,  5,  9,  7, 10, 22,  0,  0,  0,  0,  0,  0,  0,  0,  0],\n",
       "        [41, 27, 36, 23, 41, 19, 43,  0,  0,  0,  0,  0,  0,  0,  0,  0],\n",
       "        [23, 30, 30,  0,  0,  0,  0,  0,  0,  0,  0,  0,  0,  0,  0,  0]]),\n",
       " array([[10,  8,  8,  8, 36, 34, 31,  0,  0,  0,  0,  0,  0,  0,  0,  0],\n",
       "        [31, 38, 36,  0,  0,  0,  0,  0,  0,  0,  0,  0,  0,  0,  0,  0]]),\n",
       " array([[12, 27, 32,  0,  0,  0,  0,  0,  0,  0,  0,  0,  0,  0,  0,  0],\n",
       "        [12,  5, 41, 34, 36, 33, 42,  0,  0,  0,  0,  0,  0,  0,  0,  0],\n",
       "        [37, 32, 37,  0,  0,  0,  0,  0,  0,  0,  0,  0,  0,  0,  0,  0]]),\n",
       " array([[11, 34,  0,  0,  0,  0,  0,  0,  0,  0,  0,  0,  0,  0,  0,  0],\n",
       "        [16,  8,  8, 19,  0,  0,  0,  0,  0,  0,  0,  0,  0,  0,  0,  0],\n",
       "        [21, 20,  0,  0,  0,  0,  0,  0,  0,  0,  0,  0,  0,  0,  0,  0],\n",
       "        [23, 32, 21,  0,  0,  0,  0,  0,  0,  0,  0,  0,  0,  0,  0,  0]]),\n",
       " array([[25, 36, 27, 34,  0,  0,  0,  0,  0,  0,  0,  0,  0,  0,  0,  0],\n",
       "        [21, 30, 23, 40, 27, 37,  0,  0,  0,  0,  0,  0,  0,  0,  0,  0]]),\n",
       " array([[10,  8,  8, 26, 34,  0,  0,  0,  0,  0,  0,  0,  0,  0,  0,  0],\n",
       "        [12, 16,  8, 40,  0,  0,  0,  0,  0,  0,  0,  0,  0,  0,  0,  0],\n",
       "        [22, 36, 40,  0,  0,  0,  0,  0,  0,  0,  0,  0,  0,  0,  0,  0]]),\n",
       " array([[10, 25,  0,  0,  0,  0,  0,  0,  0,  0,  0,  0,  0,  0,  0,  0],\n",
       "        [21, 33, 31, 20,  0,  0,  0,  0,  0,  0,  0,  0,  0,  0,  0,  0],\n",
       "        [36, 21, 34, 38,  0,  0,  0,  0,  0,  0,  0,  0,  0,  0,  0,  0],\n",
       "        [21, 40, 36,  0,  0,  0,  0,  0,  0,  0,  0,  0,  0,  0,  0,  0]]),\n",
       " array([[11, 26, 34,  0,  0,  0,  0,  0,  0,  0,  0,  0,  0,  0,  0,  0],\n",
       "        [32,  9,  0,  0,  0,  0,  0,  0,  0,  0,  0,  0,  0,  0,  0,  0],\n",
       "        [22, 36, 40,  0,  0,  0,  0,  0,  0,  0,  0,  0,  0,  0,  0,  0]]),\n",
       " array([[ 9, 10,  5, 11,  9,  7, 14, 12,  0,  0,  0,  0,  0,  0,  0,  0],\n",
       "        [20, 33, 42,  0,  0,  0,  0,  0,  0,  0,  0,  0,  0,  0,  0,  0],\n",
       "        [41, 36, 32,  0,  0,  0,  0,  0,  0,  0,  0,  0,  0,  0,  0,  0]]),\n",
       " array([[34, 27, 34, 23,  0,  0,  0,  0,  0,  0,  0,  0,  0,  0,  0,  0],\n",
       "        [37, 38, 36, 19, 34,  0,  0,  0,  0,  0,  0,  0,  0,  0,  0,  0]]),\n",
       " array([[ 9,  7, 10,  0,  0,  0,  0,  0,  0,  0,  0,  0,  0,  0,  0,  0],\n",
       "        [34, 27, 34, 23,  0,  0,  0,  0,  0,  0,  0,  0,  0,  0,  0,  0],\n",
       "        [21, 30, 31, 34,  0,  0,  0,  0,  0,  0,  0,  0,  0,  0,  0,  0]]),\n",
       " array([[14,  0,  0,  0,  0,  0,  0,  0,  0,  0,  0,  0,  0,  0,  0,  0],\n",
       "        [ 9, 10,  8,  0,  0,  0,  0,  0,  0,  0,  0,  0,  0,  0,  0,  0],\n",
       "        [41, 27, 36, 23, 41, 19, 43,  0,  0,  0,  0,  0,  0,  0,  0,  0],\n",
       "        [37, 23, 21, 38,  0,  0,  0,  0,  0,  0,  0,  0,  0,  0,  0,  0]]),\n",
       " array([[ 9,  7, 12,  0,  0,  0,  0,  0,  0,  0,  0,  0,  0,  0,  0,  0],\n",
       "        [34, 27, 34, 23,  0,  0,  0,  0,  0,  0,  0,  0,  0,  0,  0,  0],\n",
       "        [21, 30, 31, 34,  0,  0,  0,  0,  0,  0,  0,  0,  0,  0,  0,  0]]),\n",
       " array([[20, 23, 19, 31,  0,  0,  0,  0,  0,  0,  0,  0,  0,  0,  0,  0],\n",
       "        [21, 30, 19, 31, 34,  0,  0,  0,  0,  0,  0,  0,  0,  0,  0,  0],\n",
       "        [ 9,  7, 10,  5,  9, 11, 38, 19, 34, 34, 23, 22,  0,  0,  0,  0]]),\n",
       " array([[32, 31,  9,  0,  0,  0,  0,  0,  0,  0,  0,  0,  0,  0,  0,  0],\n",
       "        [37, 21, 36,  0,  0,  0,  0,  0,  0,  0,  0,  0,  0,  0,  0,  0],\n",
       "        [21, 40, 36,  0,  0,  0,  0,  0,  0,  0,  0,  0,  0,  0,  0,  0],\n",
       "        [23, 32, 21, 30,  0,  0,  0,  0,  0,  0,  0,  0,  0,  0,  0,  0]]),\n",
       " array([[10, 13, 26, 34,  0,  0,  0,  0,  0,  0,  0,  0,  0,  0,  0,  0],\n",
       "        [19, 21,  0,  0,  0,  0,  0,  0,  0,  0,  0,  0,  0,  0,  0,  0],\n",
       "        [22, 36, 40,  0,  0,  0,  0,  0,  0,  0,  0,  0,  0,  0,  0,  0]]),\n",
       " array([[10, 12, 40,  0,  0,  0,  0,  0,  0,  0,  0,  0,  0,  0,  0,  0],\n",
       "        [21, 32, 21, 38, 36,  0,  0,  0,  0,  0,  0,  0,  0,  0,  0,  0]]),\n",
       " array([[22, 36, 40,  0,  0,  0,  0,  0,  0,  0,  0,  0,  0,  0,  0,  0],\n",
       "        [20, 39, 37,  0,  0,  0,  0,  0,  0,  0,  0,  0,  0,  0,  0,  0],\n",
       "        [21, 20, 30,  0,  0,  0,  0,  0,  0,  0,  0,  0,  0,  0,  0,  0]]),\n",
       " array([[21, 32, 22,  0,  0,  0,  0,  0,  0,  0,  0,  0,  0,  0,  0,  0],\n",
       "        [36, 37, 36,  0,  0,  0,  0,  0,  0,  0,  0,  0,  0,  0,  0,  0],\n",
       "        [25, 36, 34,  0,  0,  0,  0,  0,  0,  0,  0,  0,  0,  0,  0,  0]]),\n",
       " array([[11, 34,  0,  0,  0,  0,  0,  0,  0,  0,  0,  0,  0,  0,  0,  0],\n",
       "        [10, 13,  8, 19,  0,  0,  0,  0,  0,  0,  0,  0,  0,  0,  0,  0],\n",
       "        [21, 20,  0,  0,  0,  0,  0,  0,  0,  0,  0,  0,  0,  0,  0,  0]]),\n",
       " array([[21, 30, 37, 21,  0,  0,  0,  0,  0,  0,  0,  0,  0,  0,  0,  0],\n",
       "        [30, 41,  0,  0,  0,  0,  0,  0,  0,  0,  0,  0,  0,  0,  0,  0],\n",
       "        [34, 41, 36,  0,  0,  0,  0,  0,  0,  0,  0,  0,  0,  0,  0,  0],\n",
       "        [34, 30, 38,  3, 24, 31, 32, 38,  0,  0,  0,  0,  0,  0,  0,  0],\n",
       "        [38, 24, 31,  0,  0,  0,  0,  0,  0,  0,  0,  0,  0,  0,  0,  0]]),\n",
       " array([[11, 10, 19,  0,  0,  0,  0,  0,  0,  0,  0,  0,  0,  0,  0,  0],\n",
       "        [27, 23, 21,  0,  0,  0,  0,  0,  0,  0,  0,  0,  0,  0,  0,  0],\n",
       "        [37, 38, 36,  0,  0,  0,  0,  0,  0,  0,  0,  0,  0,  0,  0,  0]]),\n",
       " array([[11, 34, 26,  0,  0,  0,  0,  0,  0,  0,  0,  0,  0,  0,  0,  0],\n",
       "        [15, 13, 29, 40, 19,  0,  0,  0,  0,  0,  0,  0,  0,  0,  0,  0],\n",
       "        [38, 24, 31,  0,  0,  0,  0,  0,  0,  0,  0,  0,  0,  0,  0,  0]]),\n",
       " array([[19, 32, 37, 41, 23, 36, 27, 32, 25,  0,  0,  0,  0,  0,  0,  0],\n",
       "        [39, 32, 27, 38,  0,  0,  0,  0,  0,  0,  0,  0,  0,  0,  0,  0]]),\n",
       " array([[10, 13,  8, 40,  0,  0,  0,  0,  0,  0,  0,  0,  0,  0,  0,  0],\n",
       "        [22, 37, 14,  8, 19,  0,  0,  0,  0,  0,  0,  0,  0,  0,  0,  0],\n",
       "        [24, 23, 31,  0,  0,  0,  0,  0,  0,  0,  0,  0,  0,  0,  0,  0],\n",
       "        [36, 21, 34, 38,  0,  0,  0,  0,  0,  0,  0,  0,  0,  0,  0,  0]]),\n",
       " array([[30, 33, 19, 22,  0,  0,  0,  0,  0,  0,  0,  0,  0,  0,  0,  0],\n",
       "        [24, 23, 23, 22, 23, 36,  0,  0,  0,  0,  0,  0,  0,  0,  0,  0]]),\n",
       " array([[10,  8,  8,  8, 36, 34, 31,  0,  0,  0,  0,  0,  0,  0,  0,  0],\n",
       "        [31, 38, 36,  0,  0,  0,  0,  0,  0,  0,  0,  0,  0,  0,  0,  0]]),\n",
       " array([[20, 30, 29,  0,  0,  0,  0,  0,  0,  0,  0,  0,  0,  0,  0,  0],\n",
       "        [20, 33, 33, 38,  0,  0,  0,  0,  0,  0,  0,  0,  0,  0,  0,  0]]),\n",
       " array([[21, 20, 30,  0,  0,  0,  0,  0,  0,  0,  0,  0,  0,  0,  0,  0],\n",
       "        [23, 42, 38,  0,  0,  0,  0,  0,  0,  0,  0,  0,  0,  0,  0,  0]]),\n",
       " array([[30,  5, 25, 36, 43,  0,  0,  0,  0,  0,  0,  0,  0,  0,  0,  0],\n",
       "        [38, 21, 26,  5, 39, 34,  0,  0,  0,  0,  0,  0,  0,  0,  0,  0],\n",
       "        [34, 32, 38,  0,  0,  0,  0,  0,  0,  0,  0,  0,  0,  0,  0,  0]]),\n",
       " array([[ 9,  8,  8, 26, 34,  0,  0,  0,  0,  0,  0,  0,  0,  0,  0,  0],\n",
       "        [22, 36, 40,  0,  0,  0,  0,  0,  0,  0,  0,  0,  0,  0,  0,  0]]),\n",
       " array([[12,  8, 26, 34,  0,  0,  0,  0,  0,  0,  0,  0,  0,  0,  0,  0],\n",
       "        [22, 36, 40,  0,  0,  0,  0,  0,  0,  0,  0,  0,  0,  0,  0,  0]]),\n",
       " array([[36, 21, 34,  0,  0,  0,  0,  0,  0,  0,  0,  0,  0,  0,  0,  0]]),\n",
       " array([[10, 12, 40, 22, 21,  0,  0,  0,  0,  0,  0,  0,  0,  0,  0,  0],\n",
       "        [20, 30, 39,  0,  0,  0,  0,  0,  0,  0,  0,  0,  0,  0,  0,  0],\n",
       "        [37, 38, 36, 33, 20, 23,  0,  0,  0,  0,  0,  0,  0,  0,  0,  0],\n",
       "        [30, 38,  0,  0,  0,  0,  0,  0,  0,  0,  0,  0,  0,  0,  0,  0]]),\n",
       " array([[37, 33, 30, 27, 22,  0,  0,  0,  0,  0,  0,  0,  0,  0,  0,  0],\n",
       "        [37, 27, 22, 23,  0,  0,  0,  0,  0,  0,  0,  0,  0,  0,  0,  0],\n",
       "        [10,  8,  8,  8,  0,  0,  0,  0,  0,  0,  0,  0,  0,  0,  0,  0],\n",
       "        [14,  8,  8, 31, 31,  0,  0,  0,  0,  0,  0,  0,  0,  0,  0,  0]]),\n",
       " array([[ 9, 14, 19, 41, 25,  0,  0,  0,  0,  0,  0,  0,  0,  0,  0,  0],\n",
       "        [26, 29, 39, 34,  0,  0,  0,  0,  0,  0,  0,  0,  0,  0,  0,  0],\n",
       "        [41, 27, 36, 23,  0,  0,  0,  0,  0,  0,  0,  0,  0,  0,  0,  0]]),\n",
       " array([[11, 34, 26,  0,  0,  0,  0,  0,  0,  0,  0,  0,  0,  0,  0,  0],\n",
       "        [21,  5, 37, 38, 36,  0,  0,  0,  0,  0,  0,  0,  0,  0,  0,  0]]),\n",
       " array([[12,  6, 10, 13,  0,  0,  0,  0,  0,  0,  0,  0,  0,  0,  0,  0],\n",
       "        [21, 20, 30,  0,  0,  0,  0,  0,  0,  0,  0,  0,  0,  0,  0,  0],\n",
       "        [38, 36, 19, 43,  0,  0,  0,  0,  0,  0,  0,  0,  0,  0,  0,  0]]),\n",
       " array([[10, 13, 29, 41,  0,  0,  0,  0,  0,  0,  0,  0,  0,  0,  0,  0],\n",
       "        [31, 38, 36,  0,  0,  0,  0,  0,  0,  0,  0,  0,  0,  0,  0,  0]]),\n",
       " array([[ 9, 10,  8,  0,  0,  0,  0,  0,  0,  0,  0,  0,  0,  0,  0,  0],\n",
       "        [11, 34,  0,  0,  0,  0,  0,  0,  0,  0,  0,  0,  0,  0,  0,  0],\n",
       "        [21, 30, 36,  0,  0,  0,  0,  0,  0,  0,  0,  0,  0,  0,  0,  0],\n",
       "        [27, 30,  0,  0,  0,  0,  0,  0,  0,  0,  0,  0,  0,  0,  0,  0],\n",
       "        [34, 37,  7, 34, 30,  0,  0,  0,  0,  0,  0,  0,  0,  0,  0,  0]]),\n",
       " array([[20, 39, 27, 30, 22, 27, 32, 25,  0,  0,  0,  0,  0,  0,  0,  0],\n",
       "        [41, 27, 36, 23,  0,  0,  0,  0,  0,  0,  0,  0,  0,  0,  0,  0]]),\n",
       " array([[10, 19, 41, 25,  0,  0,  0,  0,  0,  0,  0,  0,  0,  0,  0,  0],\n",
       "        [21, 33, 34,  0,  0,  0,  0,  0,  0,  0,  0,  0,  0,  0,  0,  0],\n",
       "        [ 9, 26,  0,  0,  0,  0,  0,  0,  0,  0,  0,  0,  0,  0,  0,  0],\n",
       "        [30, 39, 25,  0,  0,  0,  0,  0,  0,  0,  0,  0,  0,  0,  0,  0]]),\n",
       " array([[12, 34, 13, 41,  0,  0,  0,  0,  0,  0,  0,  0,  0,  0,  0,  0],\n",
       "        [ 9,  8,  8, 19,  0,  0,  0,  0,  0,  0,  0,  0,  0,  0,  0,  0],\n",
       "        [34,  3, 37,  0,  0,  0,  0,  0,  0,  0,  0,  0,  0,  0,  0,  0],\n",
       "        [21, 33, 32, 32,  0,  0,  0,  0,  0,  0,  0,  0,  0,  0,  0,  0]]),\n",
       " array([[12, 34,  0,  0,  0,  0,  0,  0,  0,  0,  0,  0,  0,  0,  0,  0],\n",
       "        [10,  8,  8, 19,  0,  0,  0,  0,  0,  0,  0,  0,  0,  0,  0,  0],\n",
       "        [21, 32, 21, 38, 36,  0,  0,  0,  0,  0,  0,  0,  0,  0,  0,  0]]),\n",
       " array([[31, 19, 37, 38, 23, 36,  0,  0,  0,  0,  0,  0,  0,  0,  0,  0],\n",
       "        [37, 23, 38,  0,  0,  0,  0,  0,  0,  0,  0,  0,  0,  0,  0,  0],\n",
       "        [41,  7, 38, 33, 33, 30, 20, 33, 42,  0,  0,  0,  0,  0,  0,  0]]),\n",
       " array([[10,  8,  8,  8, 36, 34, 31,  0,  0,  0,  0,  0,  0,  0,  0,  0],\n",
       "        [31, 38, 36,  0,  0,  0,  0,  0,  0,  0,  0,  0,  0,  0,  0,  0]]),\n",
       " array([[10, 26, 34,  0,  0,  0,  0,  0,  0,  0,  0,  0,  0,  0,  0,  0],\n",
       "        [32,  9, 10,  0,  0,  0,  0,  0,  0,  0,  0,  0,  0,  0,  0,  0],\n",
       "        [22, 36, 40,  0,  0,  0,  0,  0,  0,  0,  0,  0,  0,  0,  0,  0]]),\n",
       " array([[41, 35, 40,  0,  0,  0,  0,  0,  0,  0,  0,  0,  0,  0,  0,  0],\n",
       "        [ 9,  8,  7, 11,  0,  0,  0,  0,  0,  0,  0,  0,  0,  0,  0,  0]]),\n",
       " array([[21, 30, 23, 40, 27, 37,  0,  0,  0,  0,  0,  0,  0,  0,  0,  0],\n",
       "        [26, 19, 32, 25, 23, 36,  0,  0,  0,  0,  0,  0,  0,  0,  0,  0]]),\n",
       " array([[11, 34,  0,  0,  0,  0,  0,  0,  0,  0,  0,  0,  0,  0,  0,  0],\n",
       "        [12,  8,  8, 19,  0,  0,  0,  0,  0,  0,  0,  0,  0,  0,  0,  0],\n",
       "        [21, 20,  0,  0,  0,  0,  0,  0,  0,  0,  0,  0,  0,  0,  0,  0]]),\n",
       " array([[37, 21,  9, 13,  8,  5, 39, 39,  0,  0,  0,  0,  0,  0,  0,  0],\n",
       "        [22, 20, 30,  0,  0,  0,  0,  0,  0,  0,  0,  0,  0,  0,  0,  0],\n",
       "        [23, 43, 23,  0,  0,  0,  0,  0,  0,  0,  0,  0,  0,  0,  0,  0],\n",
       "        [25, 36, 27, 34,  0,  0,  0,  0,  0,  0,  0,  0,  0,  0,  0,  0]]),\n",
       " array([[11, 34,  0,  0,  0,  0,  0,  0,  0,  0,  0,  0,  0,  0,  0,  0],\n",
       "        [17,  8, 19,  0,  0,  0,  0,  0,  0,  0,  0,  0,  0,  0,  0,  0],\n",
       "        [21, 20,  0,  0,  0,  0,  0,  0,  0,  0,  0,  0,  0,  0,  0,  0]]),\n",
       " array([[ 9, 25,  0,  0,  0,  0,  0,  0,  0,  0,  0,  0,  0,  0,  0,  0],\n",
       "        [19, 30,  0,  0,  0,  0,  0,  0,  0,  0,  0,  0,  0,  0,  0,  0],\n",
       "        [24, 37,  0,  0,  0,  0,  0,  0,  0,  0,  0,  0,  0,  0,  0,  0],\n",
       "        [20, 30, 19, 32, 29,  0,  0,  0,  0,  0,  0,  0,  0,  0,  0,  0],\n",
       "        [21, 33, 40, 23, 36,  0,  0,  0,  0,  0,  0,  0,  0,  0,  0,  0]]),\n",
       " array([[11, 34,  0,  0,  0,  0,  0,  0,  0,  0,  0,  0,  0,  0,  0,  0],\n",
       "        [27, 23, 21,  0,  0,  0,  0,  0,  0,  0,  0,  0,  0,  0,  0,  0],\n",
       "        [21, 32, 21, 38, 36,  0,  0,  0,  0,  0,  0,  0,  0,  0,  0,  0]]),\n",
       " array([[10, 12, 40, 22, 21,  0,  0,  0,  0,  0,  0,  0,  0,  0,  0,  0],\n",
       "        [27, 32, 21, 19, 32, 22,  0,  0,  0,  0,  0,  0,  0,  0,  0,  0],\n",
       "        [30, 19, 31, 34,  0,  0,  0,  0,  0,  0,  0,  0,  0,  0,  0,  0]]),\n",
       " array([[12, 19,  0,  0,  0,  0,  0,  0,  0,  0,  0,  0,  0,  0,  0,  0],\n",
       "        [11,  8,  8, 40,  0,  0,  0,  0,  0,  0,  0,  0,  0,  0,  0,  0],\n",
       "        [36, 23, 21, 23, 34, 38, 19, 21, 30, 23,  0,  0,  0,  0,  0,  0]]),\n",
       " array([[ 9, 26, 34,  0,  0,  0,  0,  0,  0,  0,  0,  0,  0,  0,  0,  0],\n",
       "        [22, 36, 40,  0,  0,  0,  0,  0,  0,  0,  0,  0,  0,  0,  0,  0]]),\n",
       " array([[10, 30, 38,  0,  0,  0,  0,  0,  0,  0,  0,  0,  0,  0,  0,  0],\n",
       "        [15, 13, 41,  0,  0,  0,  0,  0,  0,  0,  0,  0,  0,  0,  0,  0],\n",
       "        [21, 30, 37,  0,  0,  0,  0,  0,  0,  0,  0,  0,  0,  0,  0,  0],\n",
       "        [21, 23, 27, 30,  0,  0,  0,  0,  0,  0,  0,  0,  0,  0,  0,  0],\n",
       "        [30, 25, 38,  0,  0,  0,  0,  0,  0,  0,  0,  0,  0,  0,  0,  0]]),\n",
       " array([[13, 26, 34,  0,  0,  0,  0,  0,  0,  0,  0,  0,  0,  0,  0,  0],\n",
       "        [22, 36, 40,  0,  0,  0,  0,  0,  0,  0,  0,  0,  0,  0,  0,  0]]),\n",
       " array([[ 9, 10,  8, 40, 19, 21,  7,  9, 13, 19,  0,  0,  0,  0,  0,  0],\n",
       "        [34, 19, 32, 23, 30,  0,  0,  0,  0,  0,  0,  0,  0,  0,  0,  0]]),\n",
       " array([[34, 39, 30, 30, 23, 36,  0,  0,  0,  0,  0,  0,  0,  0,  0,  0],\n",
       "        [26, 23, 42,  0,  0,  0,  0,  0,  0,  0,  0,  0,  0,  0,  0,  0],\n",
       "        [32, 39, 38,  0,  0,  0,  0,  0,  0,  0,  0,  0,  0,  0,  0,  0]]),\n",
       " array([[11,  7, 16,  0,  0,  0,  0,  0,  0,  0,  0,  0,  0,  0,  0,  0],\n",
       "        [ 9, 10,  0,  0,  0,  0,  0,  0,  0,  0,  0,  0,  0,  0,  0,  0],\n",
       "        [39, 32, 27, 40,  0,  0,  0,  0,  0,  0,  0,  0,  0,  0,  0,  0],\n",
       "        [37, 29, 38,  0,  0,  0,  0,  0,  0,  0,  0,  0,  0,  0,  0,  0]]),\n",
       " array([[ 9, 34,  0,  0,  0,  0,  0,  0,  0,  0,  0,  0,  0,  0,  0,  0],\n",
       "        [12,  8, 19,  0,  0,  0,  0,  0,  0,  0,  0,  0,  0,  0,  0,  0],\n",
       "        [34, 30, 39, 25,  5, 33, 32,  0,  0,  0,  0,  0,  0,  0,  0,  0],\n",
       "        [21, 20,  0,  0,  0,  0,  0,  0,  0,  0,  0,  0,  0,  0,  0,  0]]),\n",
       " array([[21, 19, 31, 23, 36, 19,  0,  0,  0,  0,  0,  0,  0,  0,  0,  0],\n",
       "        [41, 19, 30, 30,  0,  0,  0,  0,  0,  0,  0,  0,  0,  0,  0,  0],\n",
       "        [20, 36, 19, 21, 29, 23, 38,  0,  0,  0,  0,  0,  0,  0,  0,  0]]),\n",
       " array([[11, 34, 26,  0,  0,  0,  0,  0,  0,  0,  0,  0,  0,  0,  0,  0],\n",
       "        [21,  5, 37, 38, 36,  0,  0,  0,  0,  0,  0,  0,  0,  0,  0,  0]]),\n",
       " array([[10, 34, 33, 37,  0,  0,  0,  0,  0,  0,  0,  0,  0,  0,  0,  0],\n",
       "        [37, 41, 27, 38, 21, 26,  0,  0,  0,  0,  0,  0,  0,  0,  0,  0]]),\n",
       " array([[32, 31,  9,  0,  0,  0,  0,  0,  0,  0,  0,  0,  0,  0,  0,  0],\n",
       "        [26, 32, 25,  7, 37, 21,  0,  0,  0,  0,  0,  0,  0,  0,  0,  0],\n",
       "        [41, 41, 43,  0,  0,  0,  0,  0,  0,  0,  0,  0,  0,  0,  0,  0]]),\n",
       " array([[ 9,  8,  5, 27, 32,  0,  0,  0,  0,  0,  0,  0,  0,  0,  0,  0],\n",
       "        [25, 33, 32, 25,  0,  0,  0,  0,  0,  0,  0,  0,  0,  0,  0,  0],\n",
       "        [19, 37, 37, 23, 31, 20, 30, 43,  0,  0,  0,  0,  0,  0,  0,  0]]),\n",
       " array([[14, 19, 41, 25,  0,  0,  0,  0,  0,  0,  0,  0,  0,  0,  0,  0],\n",
       "        [21, 30, 19, 31, 34,  0,  0,  0,  0,  0,  0,  0,  0,  0,  0,  0]]),\n",
       " array([[31, 23, 22,  0,  0,  0,  0,  0,  0,  0,  0,  0,  0,  0,  0,  0],\n",
       "        [40, 33, 30, 38,  0,  0,  0,  0,  0,  0,  0,  0,  0,  0,  0,  0],\n",
       "        [24, 39, 37, 23,  0,  0,  0,  0,  0,  0,  0,  0,  0,  0,  0,  0]]),\n",
       " array([[13,  8,  8, 41,  0,  0,  0,  0,  0,  0,  0,  0,  0,  0,  0,  0],\n",
       "        [ 9, 10,  8, 40,  0,  0,  0,  0,  0,  0,  0,  0,  0,  0,  0,  0],\n",
       "        [41, 26, 38,  0,  0,  0,  0,  0,  0,  0,  0,  0,  0,  0,  0,  0],\n",
       "        [24, 30, 36,  0,  0,  0,  0,  0,  0,  0,  0,  0,  0,  0,  0,  0],\n",
       "        [26, 38, 36,  0,  0,  0,  0,  0,  0,  0,  0,  0,  0,  0,  0,  0]]),\n",
       " array([[35, 20,  0,  0,  0,  0,  0,  0,  0,  0,  0,  0,  0,  0,  0,  0],\n",
       "        [19, 21, 21, 43,  0,  0,  0,  0,  0,  0,  0,  0,  0,  0,  0,  0],\n",
       "        [37, 38, 22,  0,  0,  0,  0,  0,  0,  0,  0,  0,  0,  0,  0,  0],\n",
       "        [37, 34, 19, 36, 23,  0,  0,  0,  0,  0,  0,  0,  0,  0,  0,  0],\n",
       "        [29, 23, 43,  0,  0,  0,  0,  0,  0,  0,  0,  0,  0,  0,  0,  0]]),\n",
       " array([[13,  8, 19,  0,  0,  0,  0,  0,  0,  0,  0,  0,  0,  0,  0,  0],\n",
       "        [21, 32, 21, 38, 36,  0,  0,  0,  0,  0,  0,  0,  0,  0,  0,  0]]),\n",
       " array([[27, 32, 38, 23, 36, 32, 19, 30,  0,  0,  0,  0,  0,  0,  0,  0],\n",
       "        [23, 30, 20, 33, 41,  0,  0,  0,  0,  0,  0,  0,  0,  0,  0,  0]]),\n",
       " array([[12, 13,  8,  8, 36, 34, 31,  0,  0,  0,  0,  0,  0,  0,  0,  0],\n",
       "        [31, 38, 36,  0,  0,  0,  0,  0,  0,  0,  0,  0,  0,  0,  0,  0]]),\n",
       " array([[26, 19, 32, 22, 30, 19, 31, 34,  0,  0,  0,  0,  0,  0,  0,  0],\n",
       "        [41,  7, 37, 41, 27, 38, 21, 26,  0,  0,  0,  0,  0,  0,  0,  0]]),\n",
       " array([[36, 23, 22, 39, 21, 23, 36,  0,  0,  0,  0,  0,  0,  0,  0,  0]]),\n",
       " array([[12, 13,  8,  8, 36, 34, 31,  0,  0,  0,  0,  0,  0,  0,  0,  0],\n",
       "        [31, 38, 36,  0,  0,  0,  0,  0,  0,  0,  0,  0,  0,  0,  0,  0]]),\n",
       " array([[ 9,  5, 13,  7, 16,  0,  0,  0,  0,  0,  0,  0,  0,  0,  0,  0],\n",
       "        [22, 36, 40,  0,  0,  0,  0,  0,  0,  0,  0,  0,  0,  0,  0,  0],\n",
       "        [27, 31, 34, 19, 21, 38,  0,  0,  0,  0,  0,  0,  0,  0,  0,  0],\n",
       "        [37, 33, 21, 29, 23, 38,  0,  0,  0,  0,  0,  0,  0,  0,  0,  0]]),\n",
       " array([[10, 15, 15, 40,  0,  0,  0,  0,  0,  0,  0,  0,  0,  0,  0,  0],\n",
       "        [32, 12,  0,  0,  0,  0,  0,  0,  0,  0,  0,  0,  0,  0,  0,  0],\n",
       "        [37, 38, 36,  0,  0,  0,  0,  0,  0,  0,  0,  0,  0,  0,  0,  0]]),\n",
       " array([[10,  8, 26, 34,  0,  0,  0,  0,  0,  0,  0,  0,  0,  0,  0,  0],\n",
       "        [19, 21,  0,  0,  0,  0,  0,  0,  0,  0,  0,  0,  0,  0,  0,  0],\n",
       "        [22, 36, 40,  0,  0,  0,  0,  0,  0,  0,  0,  0,  0,  0,  0,  0]]),\n",
       " array([[11,  8,  8, 40, 19,  0,  0,  0,  0,  0,  0,  0,  0,  0,  0,  0],\n",
       "        [38, 24, 31,  0,  0,  0,  0,  0,  0,  0,  0,  0,  0,  0,  0,  0]]),\n",
       " array([[12, 16, 27, 32,  0,  0,  0,  0,  0,  0,  0,  0,  0,  0,  0,  0],\n",
       "        [19, 30, 39, 31,  0,  0,  0,  0,  0,  0,  0,  0,  0,  0,  0,  0],\n",
       "        [26,  5, 22,  0,  0,  0,  0,  0,  0,  0,  0,  0,  0,  0,  0,  0],\n",
       "        [34, 27, 34, 23,  0,  0,  0,  0,  0,  0,  0,  0,  0,  0,  0,  0],\n",
       "        [41, 36, 23, 32, 21, 26,  0,  0,  0,  0,  0,  0,  0,  0,  0,  0]]),\n",
       " array([[ 9, 14, 31, 31,  0,  0,  0,  0,  0,  0,  0,  0,  0,  0,  0,  0],\n",
       "        [36, 19, 38, 21, 26, 23, 38, 27, 32, 25,  0,  0,  0,  0,  0,  0],\n",
       "        [41, 36, 23, 32, 21, 26,  0,  0,  0,  0,  0,  0,  0,  0,  0,  0]]),\n",
       " array([[12,  6, 15, 11,  0,  0,  0,  0,  0,  0,  0,  0,  0,  0,  0,  0],\n",
       "        [11,  6, 11,  0,  0,  0,  0,  0,  0,  0,  0,  0,  0,  0,  0,  0],\n",
       "        [ 9,  6,  9, 10,  0,  0,  0,  0,  0,  0,  0,  0,  0,  0,  0,  0],\n",
       "        [23, 32, 21,  0,  0,  0,  0,  0,  0,  0,  0,  0,  0,  0,  0,  0]]),\n",
       " array([[21, 33, 32, 38, 19, 21, 38, 33, 36,  0,  0,  0,  0,  0,  0,  0],\n",
       "        [19, 22, 28, 25,  0,  0,  0,  0,  0,  0,  0,  0,  0,  0,  0,  0],\n",
       "        [34, 27, 32,  0,  0,  0,  0,  0,  0,  0,  0,  0,  0,  0,  0,  0]]),\n",
       " array([[10, 12,  8, 40,  0,  0,  0,  0,  0,  0,  0,  0,  0,  0,  0,  0],\n",
       "        [34, 39, 31, 34,  0,  0,  0,  0,  0,  0,  0,  0,  0,  0,  0,  0],\n",
       "        [34, 19, 32, 23, 30,  0,  0,  0,  0,  0,  0,  0,  0,  0,  0,  0]]),\n",
       " array([[10,  8, 40,  0,  0,  0,  0,  0,  0,  0,  0,  0,  0,  0,  0,  0],\n",
       "        [36, 33, 38, 19, 36, 43,  0,  0,  0,  0,  0,  0,  0,  0,  0,  0],\n",
       "        [30, 19, 37, 23, 36,  0,  0,  0,  0,  0,  0,  0,  0,  0,  0,  0]]),\n",
       " array([[ 9,  6, 16,  9, 10,  5,  9,  6, 17, 11, 15, 27, 32,  0,  0,  0],\n",
       "        [21,  7, 25,  0,  0,  0,  0,  0,  0,  0,  0,  0,  0,  0,  0,  0]]),\n",
       " array([[ 9, 13,  8, 26, 34,  0,  0,  0,  0,  0,  0,  0,  0,  0,  0,  0],\n",
       "        [22, 36, 40,  0,  0,  0,  0,  0,  0,  0,  0,  0,  0,  0,  0,  0]]),\n",
       " array([[36, 23, 22,  0,  0,  0,  0,  0,  0,  0,  0,  0,  0,  0,  0,  0],\n",
       "        [21, 33, 32, 32,  0,  0,  0,  0,  0,  0,  0,  0,  0,  0,  0,  0]]),\n",
       " array([[12, 29, 41,  0,  0,  0,  0,  0,  0,  0,  0,  0,  0,  0,  0,  0],\n",
       "        [27, 32, 40, 36, 38,  0,  0,  0,  0,  0,  0,  0,  0,  0,  0,  0]]),\n",
       " array([[31, 27, 32, 27,  0,  0,  0,  0,  0,  0,  0,  0,  0,  0,  0,  0],\n",
       "        [19, 39, 22, 27, 33,  0,  0,  0,  0,  0,  0,  0,  0,  0,  0,  0],\n",
       "        [38, 36, 19, 32, 37, 24, 33, 36, 31, 23, 36,  0,  0,  0,  0,  0]]),\n",
       " array([[11, 34, 26,  0,  0,  0,  0,  0,  0,  0,  0,  0,  0,  0,  0,  0],\n",
       "        [21,  5, 37, 38, 36,  0,  0,  0,  0,  0,  0,  0,  0,  0,  0,  0]]),\n",
       " array([[38, 33, 36, 35, 39, 23,  0,  0,  0,  0,  0,  0,  0,  0,  0,  0],\n",
       "        [41, 36, 23, 32, 21, 26,  0,  0,  0,  0,  0,  0,  0,  0,  0,  0]]),\n",
       " array([[19, 20, 36, 19, 37, 27, 40, 23,  0,  0,  0,  0,  0,  0,  0,  0],\n",
       "        [41, 26, 23, 23, 30,  0,  0,  0,  0,  0,  0,  0,  0,  0,  0,  0]]),\n",
       " array([[13, 26, 34,  0,  0,  0,  0,  0,  0,  0,  0,  0,  0,  0,  0,  0],\n",
       "        [19, 21,  0,  0,  0,  0,  0,  0,  0,  0,  0,  0,  0,  0,  0,  0],\n",
       "        [22, 36, 40,  0,  0,  0,  0,  0,  0,  0,  0,  0,  0,  0,  0,  0]]),\n",
       " array([[32,  9, 10,  0,  0,  0,  0,  0,  0,  0,  0,  0,  0,  0,  0,  0],\n",
       "        [21, 33, 31, 20,  0,  0,  0,  0,  0,  0,  0,  0,  0,  0,  0,  0],\n",
       "        [37, 38, 36, 38, 36,  0,  0,  0,  0,  0,  0,  0,  0,  0,  0,  0]]),\n",
       " array([[11, 12, 31,  0,  0,  0,  0,  0,  0,  0,  0,  0,  0,  0,  0,  0],\n",
       "        [37, 27, 25,  0,  0,  0,  0,  0,  0,  0,  0,  0,  0,  0,  0,  0],\n",
       "        [21, 20, 30,  0,  0,  0,  0,  0,  0,  0,  0,  0,  0,  0,  0,  0]]),\n",
       " array([[ 9, 11,  7,  9, 14,  0,  0,  0,  0,  0,  0,  0,  0,  0,  0,  0],\n",
       "        [22, 36, 27, 40, 23,  0,  0,  0,  0,  0,  0,  0,  0,  0,  0,  0],\n",
       "        [37, 33, 21, 29, 23, 38,  0,  0,  0,  0,  0,  0,  0,  0,  0,  0]]),\n",
       " array([[ 9, 15, 31,  0,  0,  0,  0,  0,  0,  0,  0,  0,  0,  0,  0,  0],\n",
       "        [21, 20, 30,  0,  0,  0,  0,  0,  0,  0,  0,  0,  0,  0,  0,  0]]),\n",
       " array([[44,  5, 34, 30, 38, 22,  0,  0,  0,  0,  0,  0,  0,  0,  0,  0],\n",
       "        [37, 38, 30,  0,  0,  0,  0,  0,  0,  0,  0,  0,  0,  0,  0,  0],\n",
       "        [21, 33, 32, 32,  0,  0,  0,  0,  0,  0,  0,  0,  0,  0,  0,  0]]),\n",
       " array([[34, 41, 36,  0,  0,  0,  0,  0,  0,  0,  0,  0,  0,  0,  0,  0],\n",
       "        [21, 20, 30,  0,  0,  0,  0,  0,  0,  0,  0,  0,  0,  0,  0,  0]]),\n",
       " array([[21, 36, 27, 31, 34,  0,  0,  0,  0,  0,  0,  0,  0,  0,  0,  0],\n",
       "        [38, 33, 33, 30,  0,  0,  0,  0,  0,  0,  0,  0,  0,  0,  0,  0]]),\n",
       " array([[10, 12,  8, 40,  0,  0,  0,  0,  0,  0,  0,  0,  0,  0,  0,  0],\n",
       "        [32,  9,  0,  0,  0,  0,  0,  0,  0,  0,  0,  0,  0,  0,  0,  0],\n",
       "        [37, 38, 36,  0,  0,  0,  0,  0,  0,  0,  0,  0,  0,  0,  0,  0]]),\n",
       " array([[11, 34,  0,  0,  0,  0,  0,  0,  0,  0,  0,  0,  0,  0,  0,  0],\n",
       "        [11, 13, 19,  0,  0,  0,  0,  0,  0,  0,  0,  0,  0,  0,  0,  0],\n",
       "        [21, 20,  0,  0,  0,  0,  0,  0,  0,  0,  0,  0,  0,  0,  0,  0]]),\n",
       " array([[11,  8, 29, 40, 19,  0,  0,  0,  0,  0,  0,  0,  0,  0,  0,  0],\n",
       "        [38, 24, 31,  0,  0,  0,  0,  0,  0,  0,  0,  0,  0,  0,  0,  0]]),\n",
       " array([[21, 36, 27, 31, 34, 27, 32, 25,  0,  0,  0,  0,  0,  0,  0,  0],\n",
       "        [30, 39, 25,  0,  0,  0,  0,  0,  0,  0,  0,  0,  0,  0,  0,  0]]),\n",
       " array([[37, 33, 30,  0,  0,  0,  0,  0,  0,  0,  0,  0,  0,  0,  0,  0],\n",
       "        [32, 33,  0,  0,  0,  0,  0,  0,  0,  0,  0,  0,  0,  0,  0,  0],\n",
       "        [30, 23, 25, 23, 32, 22, 18,  0,  0,  0,  0,  0,  0,  0,  0,  0],\n",
       "        [11,  8, 13,  0,  0,  0,  0,  0,  0,  0,  0,  0,  0,  0,  0,  0]]),\n",
       " array([[13, 13, 36, 34, 31,  0,  0,  0,  0,  0,  0,  0,  0,  0,  0,  0],\n",
       "        [31, 38, 36,  0,  0,  0,  0,  0,  0,  0,  0,  0,  0,  0,  0,  0]]),\n",
       " array([[ 9, 12, 13, 19, 10, 11,  8, 40,  0,  0,  0,  0,  0,  0,  0,  0],\n",
       "        [37, 24, 38, 37, 38, 36,  0,  0,  0,  0,  0,  0,  0,  0,  0,  0]]),\n",
       " array([[14,  5, 11,  8,  8,  0,  0,  0,  0,  0,  0,  0,  0,  0,  0,  0],\n",
       "        [19, 30, 21, 39,  0,  0,  0,  0,  0,  0,  0,  0,  0,  0,  0,  0],\n",
       "        [37, 21, 36,  0,  0,  0,  0,  0,  0,  0,  0,  0,  0,  0,  0,  0],\n",
       "        [30, 39, 25,  0,  0,  0,  0,  0,  0,  0,  0,  0,  0,  0,  0,  0]]),\n",
       " array([[36, 23, 22,  0,  0,  0,  0,  0,  0,  0,  0,  0,  0,  0,  0,  0],\n",
       "        [30, 23, 22,  0,  0,  0,  0,  0,  0,  0,  0,  0,  0,  0,  0,  0],\n",
       "        [34, 27, 30, 33, 38,  0,  0,  0,  0,  0,  0,  0,  0,  0,  0,  0],\n",
       "        [30, 25, 38,  0,  0,  0,  0,  0,  0,  0,  0,  0,  0,  0,  0,  0]]),\n",
       " array([[11,  8,  8,  8, 36, 34, 31,  0,  0,  0,  0,  0,  0,  0,  0,  0],\n",
       "        [31, 38, 36,  0,  0,  0,  0,  0,  0,  0,  0,  0,  0,  0,  0,  0]]),\n",
       " array([[12, 12,  8, 40,  0,  0,  0,  0,  0,  0,  0,  0,  0,  0,  0,  0],\n",
       "        [21, 32, 38, 30,  0,  0,  0,  0,  0,  0,  0,  0,  0,  0,  0,  0],\n",
       "        [36, 30, 43,  0,  0,  0,  0,  0,  0,  0,  0,  0,  0,  0,  0,  0]]),\n",
       " array([[21, 20,  0,  0,  0,  0,  0,  0,  0,  0,  0,  0,  0,  0,  0,  0],\n",
       "        [37, 26, 39, 32, 38,  0,  0,  0,  0,  0,  0,  0,  0,  0,  0,  0],\n",
       "        [36, 23, 30,  0,  0,  0,  0,  0,  0,  0,  0,  0,  0,  0,  0,  0]]),\n",
       " array([[11, 34,  0,  0,  0,  0,  0,  0,  0,  0,  0,  0,  0,  0,  0,  0],\n",
       "        [14,  8, 19,  0,  0,  0,  0,  0,  0,  0,  0,  0,  0,  0,  0,  0],\n",
       "        [14,  8,  8, 40,  0,  0,  0,  0,  0,  0,  0,  0,  0,  0,  0,  0],\n",
       "        [21, 20,  0,  0,  0,  0,  0,  0,  0,  0,  0,  0,  0,  0,  0,  0]]),\n",
       " array([[ 9, 26, 30,  0,  0,  0,  0,  0,  0,  0,  0,  0,  0,  0,  0,  0],\n",
       "        [21, 39,  0,  0,  0,  0,  0,  0,  0,  0,  0,  0,  0,  0,  0,  0],\n",
       "        [21, 33, 31, 34,  0,  0,  0,  0,  0,  0,  0,  0,  0,  0,  0,  0],\n",
       "        [38, 23, 36, 31, 27, 32, 19, 30,  0,  0,  0,  0,  0,  0,  0,  0]]),\n",
       " array([[12, 25, 20,  0,  0,  0,  0,  0,  0,  0,  0,  0,  0,  0,  0,  0],\n",
       "        [21, 31, 34, 38, 36,  0,  0,  0,  0,  0,  0,  0,  0,  0,  0,  0]]),\n",
       " array([[ 9, 11,  6, 13, 31,  0,  0,  0,  0,  0,  0,  0,  0,  0,  0,  0],\n",
       "        [21, 19, 20, 30, 23,  0,  0,  0,  0,  0,  0,  0,  0,  0,  0,  0]]),\n",
       " array([[19, 22, 19, 34, 38, 23, 36,  0,  0,  0,  0,  0,  0,  0,  0,  0],\n",
       "        [37, 33, 21, 29, 23, 38,  0,  0,  0,  0,  0,  0,  0,  0,  0,  0]]),\n",
       " array([[11,  7, 16,  0,  0,  0,  0,  0,  0,  0,  0,  0,  0,  0,  0,  0],\n",
       "        [12,  0,  0,  0,  0,  0,  0,  0,  0,  0,  0,  0,  0,  0,  0,  0],\n",
       "        [38, 33, 25, 25, 30, 23,  0,  0,  0,  0,  0,  0,  0,  0,  0,  0],\n",
       "        [20, 33, 30, 38,  0,  0,  0,  0,  0,  0,  0,  0,  0,  0,  0,  0]]),\n",
       " array([[10,  8, 26, 34,  0,  0,  0,  0,  0,  0,  0,  0,  0,  0,  0,  0],\n",
       "        [22, 36, 40,  0,  0,  0,  0,  0,  0,  0,  0,  0,  0,  0,  0,  0]]),\n",
       " array([[24, 37,  0,  0,  0,  0,  0,  0,  0,  0,  0,  0,  0,  0,  0,  0],\n",
       "        [32, 23, 31, 19,  0,  0,  0,  0,  0,  0,  0,  0,  0,  0,  0,  0],\n",
       "        [37, 44,  0,  0,  0,  0,  0,  0,  0,  0,  0,  0,  0,  0,  0,  0],\n",
       "        [ 8,  8,  0,  0,  0,  0,  0,  0,  0,  0,  0,  0,  0,  0,  0,  0],\n",
       "        [23, 32, 21, 30,  0,  0,  0,  0,  0,  0,  0,  0,  0,  0,  0,  0]]),\n",
       " array([[ 9,  9, 29, 41,  0,  0,  0,  0,  0,  0,  0,  0,  0,  0,  0,  0],\n",
       "        [31, 38, 36,  0,  0,  0,  0,  0,  0,  0,  0,  0,  0,  0,  0,  0]]),\n",
       " array([[34, 37,  0,  0,  0,  0,  0,  0,  0,  0,  0,  0,  0,  0,  0,  0],\n",
       "        [34, 33, 41, 23, 36,  0,  0,  0,  0,  0,  0,  0,  0,  0,  0,  0],\n",
       "        [21, 33, 32, 32,  0,  0,  0,  0,  0,  0,  0,  0,  0,  0,  0,  0],\n",
       "        [21, 20, 30,  0,  0,  0,  0,  0,  0,  0,  0,  0,  0,  0,  0,  0],\n",
       "        [13, 34, 29,  0,  0,  0,  0,  0,  0,  0,  0,  0,  0,  0,  0,  0]]),\n",
       " array([[20, 23, 30, 30, 23, 22,  0,  0,  0,  0,  0,  0,  0,  0,  0,  0],\n",
       "        [30, 39, 25,  5, 12, 13,  8, 24, 30, 23, 42,  0,  0,  0,  0,  0]]),\n",
       " array([[12, 27, 32,  0,  0,  0,  0,  0,  0,  0,  0,  0,  0,  0,  0,  0],\n",
       "        [37, 38, 30,  0,  0,  0,  0,  0,  0,  0,  0,  0,  0,  0,  0,  0],\n",
       "        [32, 33,  0,  0,  0,  0,  0,  0,  0,  0,  0,  0,  0,  0,  0,  0],\n",
       "        [38, 26, 22,  0,  0,  0,  0,  0,  0,  0,  0,  0,  0,  0,  0,  0],\n",
       "        [21, 34, 30, 25,  0,  0,  0,  0,  0,  0,  0,  0,  0,  0,  0,  0]]),\n",
       " array([[10, 34,  0,  0,  0,  0,  0,  0,  0,  0,  0,  0,  0,  0,  0,  0],\n",
       "        [10,  8,  8, 19,  0,  0,  0,  0,  0,  0,  0,  0,  0,  0,  0,  0],\n",
       "        [14,  8,  8, 40,  0,  0,  0,  0,  0,  0,  0,  0,  0,  0,  0,  0],\n",
       "        [21, 20,  0,  0,  0,  0,  0,  0,  0,  0,  0,  0,  0,  0,  0,  0]]),\n",
       " array([[10, 29, 40, 19,  0,  0,  0,  0,  0,  0,  0,  0,  0,  0,  0,  0],\n",
       "        [38, 24, 31,  0,  0,  0,  0,  0,  0,  0,  0,  0,  0,  0,  0,  0]]),\n",
       " array([[ 9,  5, 27, 32,  0,  0,  0,  0,  0,  0,  0,  0,  0,  0,  0,  0],\n",
       "        [19, 30,  0,  0,  0,  0,  0,  0,  0,  0,  0,  0,  0,  0,  0,  0],\n",
       "        [38,  0,  0,  0,  0,  0,  0,  0,  0,  0,  0,  0,  0,  0,  0,  0],\n",
       "        [21, 33, 32, 22,  0,  0,  0,  0,  0,  0,  0,  0,  0,  0,  0,  0],\n",
       "        [20, 33, 22, 43,  0,  0,  0,  0,  0,  0,  0,  0,  0,  0,  0,  0]]),\n",
       " array([[12,  8,  8, 40,  0,  0,  0,  0,  0,  0,  0,  0,  0,  0,  0,  0],\n",
       "        [21, 32, 21, 38, 36,  0,  0,  0,  0,  0,  0,  0,  0,  0,  0,  0]]),\n",
       " array([[10,  8, 16, 40,  0,  0,  0,  0,  0,  0,  0,  0,  0,  0,  0,  0],\n",
       "        [11, 26, 34,  0,  0,  0,  0,  0,  0,  0,  0,  0,  0,  0,  0,  0],\n",
       "        [22, 36, 40,  0,  0,  0,  0,  0,  0,  0,  0,  0,  0,  0,  0,  0]]),\n",
       " array([[15, 13, 26, 34,  0,  0,  0,  0,  0,  0,  0,  0,  0,  0,  0,  0],\n",
       "        [22, 36, 40,  0,  0,  0,  0,  0,  0,  0,  0,  0,  0,  0,  0,  0]]),\n",
       " array([[36, 23, 34, 19, 27, 36,  0,  0,  0,  0,  0,  0,  0,  0,  0,  0],\n",
       "        [37, 30, 23, 23, 40, 23,  0,  0,  0,  0,  0,  0,  0,  0,  0,  0]]),\n",
       " array([[11,  7, 16,  0,  0,  0,  0,  0,  0,  0,  0,  0,  0,  0,  0,  0],\n",
       "        [38, 37, 38,  0,  0,  0,  0,  0,  0,  0,  0,  0,  0,  0,  0,  0],\n",
       "        [19, 22, 34,  0,  0,  0,  0,  0,  0,  0,  0,  0,  0,  0,  0,  0]]),\n",
       " array([[15,  6, 13, 26, 34,  0,  0,  0,  0,  0,  0,  0,  0,  0,  0,  0],\n",
       "        [22, 36, 40,  0,  0,  0,  0,  0,  0,  0,  0,  0,  0,  0,  0,  0]]),\n",
       " array([[11, 34, 26,  0,  0,  0,  0,  0,  0,  0,  0,  0,  0,  0,  0,  0],\n",
       "        [10, 15, 15, 40,  0,  0,  0,  0,  0,  0,  0,  0,  0,  0,  0,  0],\n",
       "        [37, 38, 36,  0,  0,  0,  0,  0,  0,  0,  0,  0,  0,  0,  0,  0]]),\n",
       " array([[11, 10, 19,  0,  0,  0,  0,  0,  0,  0,  0,  0,  0,  0,  0,  0],\n",
       "        [12, 14,  8, 40,  0,  0,  0,  0,  0,  0,  0,  0,  0,  0,  0,  0],\n",
       "        [37, 24, 38,  0,  0,  0,  0,  0,  0,  0,  0,  0,  0,  0,  0,  0],\n",
       "        [37, 38, 36,  0,  0,  0,  0,  0,  0,  0,  0,  0,  0,  0,  0,  0]]),\n",
       " array([[11, 34,  0,  0,  0,  0,  0,  0,  0,  0,  0,  0,  0,  0,  0,  0],\n",
       "        [10,  8,  8, 19,  0,  0,  0,  0,  0,  0,  0,  0,  0,  0,  0,  0],\n",
       "        [21, 20,  0,  0,  0,  0,  0,  0,  0,  0,  0,  0,  0,  0,  0,  0]]),\n",
       " array([[23, 42, 38, 23, 36, 32, 19, 30,  0,  0,  0,  0,  0,  0,  0,  0],\n",
       "        [23, 30, 20, 33, 41,  0,  0,  0,  0,  0,  0,  0,  0,  0,  0,  0]]),\n",
       " array([[11, 34,  0,  0,  0,  0,  0,  0,  0,  0,  0,  0,  0,  0,  0,  0],\n",
       "        [12, 16,  8, 40,  0,  0,  0,  0,  0,  0,  0,  0,  0,  0,  0,  0],\n",
       "        [21, 32, 21, 38, 36,  0,  0,  0,  0,  0,  0,  0,  0,  0,  0,  0]]),\n",
       " array([[ 9, 25, 34,  0,  0,  0,  0,  0,  0,  0,  0,  0,  0,  0,  0,  0],\n",
       "        [26, 19, 44,  0,  0,  0,  0,  0,  0,  0,  0,  0,  0,  0,  0,  0],\n",
       "        [30, 33, 21,  0,  0,  0,  0,  0,  0,  0,  0,  0,  0,  0,  0,  0],\n",
       "        [23, 32, 21,  0,  0,  0,  0,  0,  0,  0,  0,  0,  0,  0,  0,  0]]),\n",
       " array([[24, 36, 23, 35, 39, 23, 32, 21, 43,  0,  0,  0,  0,  0,  0,  0],\n",
       "        [27, 32, 40, 23, 36, 38, 23, 36,  0,  0,  0,  0,  0,  0,  0,  0]]),\n",
       " array([[ 2,  9, 10,  5,  9,  8,  5,  9, 14,  5,  9, 12,  0,  0,  0,  0],\n",
       "        [37, 34, 30, 21,  0,  0,  0,  0,  0,  0,  0,  0,  0,  0,  0,  0]]),\n",
       " array([[ 9, 13,  8,  8, 36, 34, 31,  0,  0,  0,  0,  0,  0,  0,  0,  0],\n",
       "        [31, 38, 36,  0,  0,  0,  0,  0,  0,  0,  0,  0,  0,  0,  0,  0]]),\n",
       " array([[ 9, 10,  8, 40, 19, 21,  0,  0,  0,  0,  0,  0,  0,  0,  0,  0],\n",
       "        [37, 38, 22, 43,  0,  0,  0,  0,  0,  0,  0,  0,  0,  0,  0,  0],\n",
       "        [20, 23, 19, 21, 32,  0,  0,  0,  0,  0,  0,  0,  0,  0,  0,  0]]),\n",
       " array([[ 9,  7, 10,  0,  0,  0,  0,  0,  0,  0,  0,  0,  0,  0,  0,  0],\n",
       "        [30, 33, 32, 25,  0,  0,  0,  0,  0,  0,  0,  0,  0,  0,  0,  0],\n",
       "        [37, 26, 27, 34,  0,  0,  0,  0,  0,  0,  0,  0,  0,  0,  0,  0],\n",
       "        [19, 39, 25, 23, 36,  0,  0,  0,  0,  0,  0,  0,  0,  0,  0,  0]]),\n",
       " array([[16, 31, 31,  0,  0,  0,  0,  0,  0,  0,  0,  0,  0,  0,  0,  0],\n",
       "        [34, 36, 42,  0,  0,  0,  0,  0,  0,  0,  0,  0,  0,  0,  0,  0],\n",
       "        [37, 23, 32,  0,  0,  0,  0,  0,  0,  0,  0,  0,  0,  0,  0,  0]]),\n",
       " array([[38, 36, 19, 32, 37, 27, 38, 27, 33, 32,  0,  0,  0,  0,  0,  0],\n",
       "        [24, 27, 38, 38, 27, 32, 25,  0,  0,  0,  0,  0,  0,  0,  0,  0]]),\n",
       " array([[20, 30, 39,  0,  0,  0,  0,  0,  0,  0,  0,  0,  0,  0,  0,  0],\n",
       "        [30, 23, 22,  0,  0,  0,  0,  0,  0,  0,  0,  0,  0,  0,  0,  0],\n",
       "        [27, 32, 22,  0,  0,  0,  0,  0,  0,  0,  0,  0,  0,  0,  0,  0],\n",
       "        [30, 38,  0,  0,  0,  0,  0,  0,  0,  0,  0,  0,  0,  0,  0,  0]]),\n",
       " array([[14,  8, 26, 34,  0,  0,  0,  0,  0,  0,  0,  0,  0,  0,  0,  0],\n",
       "        [22, 36, 40,  0,  0,  0,  0,  0,  0,  0,  0,  0,  0,  0,  0,  0]]),\n",
       " array([[ 9,  8,  8, 19,  5, 14,  8,  8, 40,  5, 11, 34, 32, 24,  0,  0],\n",
       "        [37, 41,  0,  0,  0,  0,  0,  0,  0,  0,  0,  0,  0,  0,  0,  0]]),\n",
       " array([[36, 23, 22,  0,  0,  0,  0,  0,  0,  0,  0,  0,  0,  0,  0,  0],\n",
       "        [32,  5, 27, 30, 39, 31,  0,  0,  0,  0,  0,  0,  0,  0,  0,  0],\n",
       "        [34, 20,  0,  0,  0,  0,  0,  0,  0,  0,  0,  0,  0,  0,  0,  0]]),\n",
       " array([[25, 36, 32,  0,  0,  0,  0,  0,  0,  0,  0,  0,  0,  0,  0,  0],\n",
       "        [30, 23, 22,  0,  0,  0,  0,  0,  0,  0,  0,  0,  0,  0,  0,  0],\n",
       "        [23, 42, 27, 38,  0,  0,  0,  0,  0,  0,  0,  0,  0,  0,  0,  0],\n",
       "        [37, 27, 25, 32,  0,  0,  0,  0,  0,  0,  0,  0,  0,  0,  0,  0]]),\n",
       " array([[10,  8, 16, 40,  0,  0,  0,  0,  0,  0,  0,  0,  0,  0,  0,  0],\n",
       "        [ 9, 26, 34,  0,  0,  0,  0,  0,  0,  0,  0,  0,  0,  0,  0,  0],\n",
       "        [22, 36, 40,  0,  0,  0,  0,  0,  0,  0,  0,  0,  0,  0,  0,  0]]),\n",
       " array([[43, 23, 30,  0,  0,  0,  0,  0,  0,  0,  0,  0,  0,  0,  0,  0],\n",
       "        [20, 33, 33, 38,  0,  0,  0,  0,  0,  0,  0,  0,  0,  0,  0,  0],\n",
       "        [24, 33, 36,  0,  0,  0,  0,  0,  0,  0,  0,  0,  0,  0,  0,  0],\n",
       "        [21, 33, 32, 32,  0,  0,  0,  0,  0,  0,  0,  0,  0,  0,  0,  0]]),\n",
       " array([[11, 34,  0,  0,  0,  0,  0,  0,  0,  0,  0,  0,  0,  0,  0,  0],\n",
       "        [16,  8, 19,  0,  0,  0,  0,  0,  0,  0,  0,  0,  0,  0,  0,  0],\n",
       "        [10, 12,  8, 40,  0,  0,  0,  0,  0,  0,  0,  0,  0,  0,  0,  0],\n",
       "        [34, 30, 39, 25,  5, 27, 32,  0,  0,  0,  0,  0,  0,  0,  0,  0],\n",
       "        [21, 20,  0,  0,  0,  0,  0,  0,  0,  0,  0,  0,  0,  0,  0,  0]]),\n",
       " array([[ 9, 10,  8, 40,  0,  0,  0,  0,  0,  0,  0,  0,  0,  0,  0,  0],\n",
       "        [25, 36, 32,  0,  0,  0,  0,  0,  0,  0,  0,  0,  0,  0,  0,  0],\n",
       "        [27, 30, 30,  0,  0,  0,  0,  0,  0,  0,  0,  0,  0,  0,  0,  0],\n",
       "        [34, 20,  0,  0,  0,  0,  0,  0,  0,  0,  0,  0,  0,  0,  0,  0]]),\n",
       " array([[ 8,  6, 16, 10, 29, 41,  0,  0,  0,  0,  0,  0,  0,  0,  0,  0],\n",
       "        [31, 33, 38, 33, 36,  0,  0,  0,  0,  0,  0,  0,  0,  0,  0,  0]]),\n",
       " array([[21, 33, 32, 38, 19, 21, 38, 33, 36,  0,  0,  0,  0,  0,  0,  0]]),\n",
       " array([[21, 33, 32, 22, 23, 32, 37, 19, 38, 23,  0,  0,  0,  0,  0,  0],\n",
       "        [31, 25, 36,  0,  0,  0,  0,  0,  0,  0,  0,  0,  0,  0,  0,  0]]),\n",
       " array([[13,  5, 27, 32,  0,  0,  0,  0,  0,  0,  0,  0,  0,  0,  0,  0],\n",
       "        [24, 23, 31,  7, 31, 19, 30, 23,  0,  0,  0,  0,  0,  0,  0,  0],\n",
       "        [39, 32, 27, 33, 32,  0,  0,  0,  0,  0,  0,  0,  0,  0,  0,  0]]),\n",
       " array([[11, 34,  0,  0,  0,  0,  0,  0,  0,  0,  0,  0,  0,  0,  0,  0],\n",
       "        [10, 10, 13, 19,  0,  0,  0,  0,  0,  0,  0,  0,  0,  0,  0,  0],\n",
       "        [21, 20,  0,  0,  0,  0,  0,  0,  0,  0,  0,  0,  0,  0,  0,  0]]),\n",
       " array([[11,  8,  6, 13, 31, 31,  0,  0,  0,  0,  0,  0,  0,  0,  0,  0],\n",
       "        [37, 37, 41,  0,  0,  0,  0,  0,  0,  0,  0,  0,  0,  0,  0,  0]]),\n",
       " array([[36, 19, 21, 29,  0,  0,  0,  0,  0,  0,  0,  0,  0,  0,  0,  0],\n",
       "        [27, 37, 33, 30, 19, 38, 27, 33, 32,  0,  0,  0,  0,  0,  0,  0],\n",
       "        [29, 27, 38,  0,  0,  0,  0,  0,  0,  0,  0,  0,  0,  0,  0,  0]]),\n",
       " array([[13,  6, 13,  5, 10, 10, 19,  0,  0,  0,  0,  0,  0,  0,  0,  0],\n",
       "        [32,  9, 10,  7, 11, 36,  0,  0,  0,  0,  0,  0,  0,  0,  0,  0],\n",
       "        [37, 38, 36,  0,  0,  0,  0,  0,  0,  0,  0,  0,  0,  0,  0,  0]]),\n",
       " array([[14,  8,  8,  8, 36, 34, 31,  0,  0,  0,  0,  0,  0,  0,  0,  0],\n",
       "        [31, 38, 36,  0,  0,  0,  0,  0,  0,  0,  0,  0,  0,  0,  0,  0]]),\n",
       " array([[11,  7, 12,  0,  0,  0,  0,  0,  0,  0,  0,  0,  0,  0,  0,  0],\n",
       "        [ 9, 16,  0,  0,  0,  0,  0,  0,  0,  0,  0,  0,  0,  0,  0,  0],\n",
       "        [24, 30, 23, 42,  0,  0,  0,  0,  0,  0,  0,  0,  0,  0,  0,  0],\n",
       "        [21, 34, 30, 25,  0,  0,  0,  0,  0,  0,  0,  0,  0,  0,  0,  0]]),\n",
       " array([[11, 34, 26,  0,  0,  0,  0,  0,  0,  0,  0,  0,  0,  0,  0,  0],\n",
       "        [21,  5, 37, 38, 36,  0,  0,  0,  0,  0,  0,  0,  0,  0,  0,  0]]),\n",
       " array([[40, 15,  6, 11,  0,  0,  0,  0,  0,  0,  0,  0,  0,  0,  0,  0],\n",
       "        [37, 24, 38, 41, 36,  0,  0,  0,  0,  0,  0,  0,  0,  0,  0,  0]]),\n",
       " array([[12, 13, 22,  0,  0,  0,  0,  0,  0,  0,  0,  0,  0,  0,  0,  0],\n",
       "        [25, 19, 30, 40,  0,  0,  0,  0,  0,  0,  0,  0,  0,  0,  0,  0],\n",
       "        [23, 30, 20, 33, 41,  0,  0,  0,  0,  0,  0,  0,  0,  0,  0,  0]]),\n",
       " array([[10, 34,  0,  0,  0,  0,  0,  0,  0,  0,  0,  0,  0,  0,  0,  0],\n",
       "        [10,  8,  8, 19,  0,  0,  0,  0,  0,  0,  0,  0,  0,  0,  0,  0],\n",
       "        [21, 29, 38,  0,  0,  0,  0,  0,  0,  0,  0,  0,  0,  0,  0,  0],\n",
       "        [20, 36, 29, 36,  0,  0,  0,  0,  0,  0,  0,  0,  0,  0,  0,  0]]),\n",
       " array([[ 9, 12,  8,  8,  7,  9, 14,  8,  8, 20, 38, 39,  0,  0,  0,  0],\n",
       "        [19,  7, 21,  0,  0,  0,  0,  0,  0,  0,  0,  0,  0,  0,  0,  0]]),\n",
       " array([[19, 23,  0,  0,  0,  0,  0,  0,  0,  0,  0,  0,  0,  0,  0,  0],\n",
       "        [37, 37,  0,  0,  0,  0,  0,  0,  0,  0,  0,  0,  0,  0,  0,  0],\n",
       "        [32, 31, 19, 12, 42,  0,  0,  0,  0,  0,  0,  0,  0,  0,  0,  0],\n",
       "        [21, 31, 34, 21, 38,  0,  0,  0,  0,  0,  0,  0,  0,  0,  0,  0],\n",
       "        [23, 32, 21, 30,  0,  0,  0,  0,  0,  0,  0,  0,  0,  0,  0,  0]]),\n",
       " array([[23, 21, 33, 32,  0,  0,  0,  0,  0,  0,  0,  0,  0,  0,  0,  0],\n",
       "        [37, 34, 27, 30, 30,  0,  0,  0,  0,  0,  0,  0,  0,  0,  0,  0],\n",
       "        [29, 27, 38,  0,  0,  0,  0,  0,  0,  0,  0,  0,  0,  0,  0,  0]]),\n",
       " array([[12, 29, 41,  0,  0,  0,  0,  0,  0,  0,  0,  0,  0,  0,  0,  0],\n",
       "        [22, 36, 27, 40, 23,  0,  0,  0,  0,  0,  0,  0,  0,  0,  0,  0]]),\n",
       " array([[ 9,  7, 10,  0,  0,  0,  0,  0,  0,  0,  0,  0,  0,  0,  0,  0],\n",
       "        [13,  0,  0,  0,  0,  0,  0,  0,  0,  0,  0,  0,  0,  0,  0,  0],\n",
       "        [27, 32, 37, 22,  0,  0,  0,  0,  0,  0,  0,  0,  0,  0,  0,  0],\n",
       "        [32, 38,  5, 22, 36, 40, 36,  0,  0,  0,  0,  0,  0,  0,  0,  0]]),\n",
       " array([[11, 34, 26,  0,  0,  0,  0,  0,  0,  0,  0,  0,  0,  0,  0,  0],\n",
       "        [21,  5, 37, 38, 36,  0,  0,  0,  0,  0,  0,  0,  0,  0,  0,  0]]),\n",
       " array([[10, 12, 31,  0,  0,  0,  0,  0,  0,  0,  0,  0,  0,  0,  0,  0],\n",
       "        [21, 19, 20, 30, 23,  0,  0,  0,  0,  0,  0,  0,  0,  0,  0,  0]]),\n",
       " array([[11, 34, 26,  0,  0,  0,  0,  0,  0,  0,  0,  0,  0,  0,  0,  0],\n",
       "        [21,  5, 37, 38, 36,  0,  0,  0,  0,  0,  0,  0,  0,  0,  0,  0]]),\n",
       " array([[41, 26, 38,  0,  0,  0,  0,  0,  0,  0,  0,  0,  0,  0,  0,  0],\n",
       "        [19, 30, 30,  0,  0,  0,  0,  0,  0,  0,  0,  0,  0,  0,  0,  0],\n",
       "        [34, 39, 36, 34, 33, 37, 23,  0,  0,  0,  0,  0,  0,  0,  0,  0],\n",
       "        [41, 27, 34, 23,  0,  0,  0,  0,  0,  0,  0,  0,  0,  0,  0,  0]]),\n",
       " array([[10, 10, 13, 19,  0,  0,  0,  0,  0,  0,  0,  0,  0,  0,  0,  0],\n",
       "        [15,  8,  8, 40,  0,  0,  0,  0,  0,  0,  0,  0,  0,  0,  0,  0],\n",
       "        [24, 39, 37,  0,  0,  0,  0,  0,  0,  0,  0,  0,  0,  0,  0,  0]]),\n",
       " array([[21, 32, 21, 38, 36,  0,  0,  0,  0,  0,  0,  0,  0,  0,  0,  0],\n",
       "        [19, 37, 43,  0,  0,  0,  0,  0,  0,  0,  0,  0,  0,  0,  0,  0]]),\n",
       " array([[38, 26, 23, 36, 31, 19, 30,  0,  0,  0,  0,  0,  0,  0,  0,  0],\n",
       "        [38, 19, 25,  0,  0,  0,  0,  0,  0,  0,  0,  0,  0,  0,  0,  0],\n",
       "        [36, 30, 10, 13,  8,  8,  0,  0,  0,  0,  0,  0,  0,  0,  0,  0]]),\n",
       " array([[30, 40,  0,  0,  0,  0,  0,  0,  0,  0,  0,  0,  0,  0,  0,  0],\n",
       "        [34, 21,  0,  0,  0,  0,  0,  0,  0,  0,  0,  0,  0,  0,  0,  0],\n",
       "        [20, 33, 19, 36, 22,  0,  0,  0,  0,  0,  0,  0,  0,  0,  0,  0],\n",
       "        [30, 33, 41,  0,  0,  0,  0,  0,  0,  0,  0,  0,  0,  0,  0,  0],\n",
       "        [34, 36, 33, 24, 27, 30, 23,  0,  0,  0,  0,  0,  0,  0,  0,  0]]),\n",
       " array([[11, 34,  0,  0,  0,  0,  0,  0,  0,  0,  0,  0,  0,  0,  0,  0],\n",
       "        [11,  8, 19,  0,  0,  0,  0,  0,  0,  0,  0,  0,  0,  0,  0,  0],\n",
       "        [21, 20,  0,  0,  0,  0,  0,  0,  0,  0,  0,  0,  0,  0,  0,  0]]),\n",
       " array([[ 9,  8, 19,  0,  0,  0,  0,  0,  0,  0,  0,  0,  0,  0,  0,  0],\n",
       "        [10, 13,  8, 40,  0,  0,  0,  0,  0,  0,  0,  0,  0,  0,  0,  0],\n",
       "        [36, 29, 36, 37, 41,  0,  0,  0,  0,  0,  0,  0,  0,  0,  0,  0]]),\n",
       " array([[11, 34,  0,  0,  0,  0,  0,  0,  0,  0,  0,  0,  0,  0,  0,  0],\n",
       "        [12,  8, 19,  0,  0,  0,  0,  0,  0,  0,  0,  0,  0,  0,  0,  0],\n",
       "        [21, 20,  0,  0,  0,  0,  0,  0,  0,  0,  0,  0,  0,  0,  0,  0]]),\n",
       " array([[34, 20,  0,  0,  0,  0,  0,  0,  0,  0,  0,  0,  0,  0,  0,  0],\n",
       "        [37, 38, 19, 38, 27, 33, 32,  0,  0,  0,  0,  0,  0,  0,  0,  0]]),\n",
       " array([[ 9,  8,  0,  0,  0,  0,  0,  0,  0,  0,  0,  0,  0,  0,  0,  0],\n",
       "        [14,  0,  0,  0,  0,  0,  0,  0,  0,  0,  0,  0,  0,  0,  0,  0],\n",
       "        [32,  9, 10, 28, 27, 21, 20, 33, 42,  3, 34, 32, 30,  0,  0,  0]]),\n",
       " array([[34, 20,  0,  0,  0,  0,  0,  0,  0,  0,  0,  0,  0,  0,  0,  0],\n",
       "        [19, 21, 38,  0,  0,  0,  0,  0,  0,  0,  0,  0,  0,  0,  0,  0]]),\n",
       " array([[37, 38, 30,  0,  0,  0,  0,  0,  0,  0,  0,  0,  0,  0,  0,  0],\n",
       "        [21, 33, 40, 23, 36,  0,  0,  0,  0,  0,  0,  0,  0,  0,  0,  0]]),\n",
       " array([[14,  8,  8,  8, 36, 34, 31,  0,  0,  0,  0,  0,  0,  0,  0,  0],\n",
       "        [31, 38, 36,  0,  0,  0,  0,  0,  0,  0,  0,  0,  0,  0,  0,  0]]),\n",
       " array([[ 9,  7, 10,  0,  0,  0,  0,  0,  0,  0,  0,  0,  0,  0,  0,  0],\n",
       "        [31, 19, 30, 30,  0,  0,  0,  0,  0,  0,  0,  0,  0,  0,  0,  0],\n",
       "        [37, 35, 44,  0,  0,  0,  0,  0,  0,  0,  0,  0,  0,  0,  0,  0],\n",
       "        [24, 30, 23, 42,  0,  0,  0,  0,  0,  0,  0,  0,  0,  0,  0,  0],\n",
       "        [21, 33, 32, 32,  0,  0,  0,  0,  0,  0,  0,  0,  0,  0,  0,  0]]),\n",
       " array([[20, 39, 27, 30, 22, 27, 32, 25,  0,  0,  0,  0,  0,  0,  0,  0],\n",
       "        [41, 27, 36, 23,  0,  0,  0,  0,  0,  0,  0,  0,  0,  0,  0,  0]]),\n",
       " array([[11, 34,  0,  0,  0,  0,  0,  0,  0,  0,  0,  0,  0,  0,  0,  0],\n",
       "        [11, 10, 19,  0,  0,  0,  0,  0,  0,  0,  0,  0,  0,  0,  0,  0],\n",
       "        [37, 38, 36,  0,  0,  0,  0,  0,  0,  0,  0,  0,  0,  0,  0,  0]]),\n",
       " array([[38, 23, 36, 31,  0,  0,  0,  0,  0,  0,  0,  0,  0,  0,  0,  0],\n",
       "        [34, 30, 39, 25,  0,  0,  0,  0,  0,  0,  0,  0,  0,  0,  0,  0],\n",
       "        [41,  7, 33, 37,  0,  0,  0,  0,  0,  0,  0,  0,  0,  0,  0,  0],\n",
       "        [34, 27, 32,  0,  0,  0,  0,  0,  0,  0,  0,  0,  0,  0,  0,  0]]),\n",
       " array([[11, 34,  0,  0,  0,  0,  0,  0,  0,  0,  0,  0,  0,  0,  0,  0],\n",
       "        [10, 13, 19,  0,  0,  0,  0,  0,  0,  0,  0,  0,  0,  0,  0,  0],\n",
       "        [21, 32, 21, 38, 36,  0,  0,  0,  0,  0,  0,  0,  0,  0,  0,  0]]),\n",
       " array([[37, 23, 19, 30,  0,  0,  0,  0,  0,  0,  0,  0,  0,  0,  0,  0],\n",
       "        [26, 39, 20,  0,  0,  0,  0,  0,  0,  0,  0,  0,  0,  0,  0,  0]]),\n",
       " array([[11, 34,  0,  0,  0,  0,  0,  0,  0,  0,  0,  0,  0,  0,  0,  0],\n",
       "        [ 9,  8,  8, 19,  0,  0,  0,  0,  0,  0,  0,  0,  0,  0,  0,  0],\n",
       "        [21, 20,  0,  0,  0,  0,  0,  0,  0,  0,  0,  0,  0,  0,  0,  0]]),\n",
       " array([[ 9,  0,  0,  0,  0,  0,  0,  0,  0,  0,  0,  0,  0,  0,  0,  0],\n",
       "        [ 8,  6, 16, 13,  9,  0,  0,  0,  0,  0,  0,  0,  0,  0,  0,  0],\n",
       "        [37, 30, 40,  0,  0,  0,  0,  0,  0,  0,  0,  0,  0,  0,  0,  0]]),\n",
       " array([[ 9, 14,  8,  8,  0,  0,  0,  0,  0,  0,  0,  0,  0,  0,  0,  0],\n",
       "        [14,  8,  8,  0,  0,  0,  0,  0,  0,  0,  0,  0,  0,  0,  0,  0],\n",
       "        [13,  8,  8,  0,  0,  0,  0,  0,  0,  0,  0,  0,  0,  0,  0,  0],\n",
       "        [ 9,  5, 22, 36,  0,  0,  0,  0,  0,  0,  0,  0,  0,  0,  0,  0],\n",
       "        [23, 32, 21, 30,  0,  0,  0,  0,  0,  0,  0,  0,  0,  0,  0,  0]]),\n",
       " array([[25, 36, 33, 39, 32, 22,  0,  0,  0,  0,  0,  0,  0,  0,  0,  0],\n",
       "        [36, 33, 22,  0,  0,  0,  0,  0,  0,  0,  0,  0,  0,  0,  0,  0],\n",
       "        [21, 30, 19, 31, 34,  0,  0,  0,  0,  0,  0,  0,  0,  0,  0,  0]]),\n",
       " array([[31, 33, 22,  0,  0,  0,  0,  0,  0,  0,  0,  0,  0,  0,  0,  0],\n",
       "        [21, 32, 37, 30,  0,  0,  0,  0,  0,  0,  0,  0,  0,  0,  0,  0],\n",
       "        [37, 43, 37,  0,  0,  0,  0,  0,  0,  0,  0,  0,  0,  0,  0,  0],\n",
       "        [34, 30, 27, 32, 38, 26,  0,  0,  0,  0,  0,  0,  0,  0,  0,  0]]),\n",
       " array([[10,  8,  8, 19,  0,  0,  0,  0,  0,  0,  0,  0,  0,  0,  0,  0],\n",
       "        [36, 21, 34, 38,  0,  0,  0,  0,  0,  0,  0,  0,  0,  0,  0,  0],\n",
       "        [27, 32, 38,  0,  0,  0,  0,  0,  0,  0,  0,  0,  0,  0,  0,  0],\n",
       "        [19, 37, 37, 43,  0,  0,  0,  0,  0,  0,  0,  0,  0,  0,  0,  0]]),\n",
       " array([[ 9,  7, 10, 22, 36,  0,  0,  0,  0,  0,  0,  0,  0,  0,  0,  0],\n",
       "        [14, 34,  0,  0,  0,  0,  0,  0,  0,  0,  0,  0,  0,  0,  0,  0],\n",
       "        [ 9, 27, 32,  0,  0,  0,  0,  0,  0,  0,  0,  0,  0,  0,  0,  0],\n",
       "        [22, 34,  0,  0,  0,  0,  0,  0,  0,  0,  0,  0,  0,  0,  0,  0],\n",
       "        [37, 29, 38,  0,  0,  0,  0,  0,  0,  0,  0,  0,  0,  0,  0,  0]]),\n",
       " array([[ 9, 10,  8,  8, 19,  0,  0,  0,  0,  0,  0,  0,  0,  0,  0,  0],\n",
       "        [11, 34,  0,  0,  0,  0,  0,  0,  0,  0,  0,  0,  0,  0,  0,  0],\n",
       "        [31, 30, 22,  0,  0,  0,  0,  0,  0,  0,  0,  0,  0,  0,  0,  0],\n",
       "        [21, 37,  0,  0,  0,  0,  0,  0,  0,  0,  0,  0,  0,  0,  0,  0],\n",
       "        [21, 20,  0,  0,  0,  0,  0,  0,  0,  0,  0,  0,  0,  0,  0,  0]]),\n",
       " array([[15,  6, 13, 26, 34,  0,  0,  0,  0,  0,  0,  0,  0,  0,  0,  0],\n",
       "        [22, 36, 40,  0,  0,  0,  0,  0,  0,  0,  0,  0,  0,  0,  0,  0]]),\n",
       " array([[ 9, 13,  0,  0,  0,  0,  0,  0,  0,  0,  0,  0,  0,  0,  0,  0],\n",
       "        [ 9, 15,  0,  0,  0,  0,  0,  0,  0,  0,  0,  0,  0,  0,  0,  0],\n",
       "        [41, 36, 32,  0,  0,  0,  0,  0,  0,  0,  0,  0,  0,  0,  0,  0]]),\n",
       " array([[10,  5, 21, 22, 36,  0,  0,  0,  0,  0,  0,  0,  0,  0,  0,  0],\n",
       "        [10,  8, 19, 41, 25,  0,  0,  0,  0,  0,  0,  0,  0,  0,  0,  0],\n",
       "        [21, 20, 30,  0,  0,  0,  0,  0,  0,  0,  0,  0,  0,  0,  0,  0]]),\n",
       " array([[34, 33, 41, 23, 36,  0,  0,  0,  0,  0,  0,  0,  0,  0,  0,  0],\n",
       "        [21, 19, 20, 30, 23,  0,  0,  0,  0,  0,  0,  0,  0,  0,  0,  0]]),\n",
       " array([[31, 33, 30, 22, 23, 22,  0,  0,  0,  0,  0,  0,  0,  0,  0,  0],\n",
       "        [28, 39, 32, 21, 38, 27, 33, 32,  0,  0,  0,  0,  0,  0,  0,  0],\n",
       "        [20, 33, 42,  0,  0,  0,  0,  0,  0,  0,  0,  0,  0,  0,  0,  0]]),\n",
       " array([[31, 19, 25,  0,  0,  0,  0,  0,  0,  0,  0,  0,  0,  0,  0,  0],\n",
       "        [37, 41, 27, 38, 21, 26,  0,  0,  0,  0,  0,  0,  0,  0,  0,  0],\n",
       "        [21, 33, 32, 38, 19, 21, 38,  0,  0,  0,  0,  0,  0,  0,  0,  0]]),\n",
       " array([[10,  8,  8,  8, 36, 34, 31,  0,  0,  0,  0,  0,  0,  0,  0,  0],\n",
       "        [31, 38, 36,  0,  0,  0,  0,  0,  0,  0,  0,  0,  0,  0,  0,  0]]),\n",
       " array([[ 9, 34, 26,  0,  0,  0,  0,  0,  0,  0,  0,  0,  0,  0,  0,  0],\n",
       "        [12, 16,  8, 40,  0,  0,  0,  0,  0,  0,  0,  0,  0,  0,  0,  0],\n",
       "        [21, 32, 21, 38, 36,  0,  0,  0,  0,  0,  0,  0,  0,  0,  0,  0]]),\n",
       " array([[17, 13, 19,  0,  0,  0,  0,  0,  0,  0,  0,  0,  0,  0,  0,  0],\n",
       "        [27, 23, 21,  0,  0,  0,  0,  0,  0,  0,  0,  0,  0,  0,  0,  0],\n",
       "        [37, 38, 36,  0,  0,  0,  0,  0,  0,  0,  0,  0,  0,  0,  0,  0]]),\n",
       " array([[11, 34,  0,  0,  0,  0,  0,  0,  0,  0,  0,  0,  0,  0,  0,  0],\n",
       "        [10, 13, 19,  0,  0,  0,  0,  0,  0,  0,  0,  0,  0,  0,  0,  0],\n",
       "        [21, 32, 21, 38, 36,  0,  0,  0,  0,  0,  0,  0,  0,  0,  0,  0]]),\n",
       " array([[22, 27, 23,  0,  0,  0,  0,  0,  0,  0,  0,  0,  0,  0,  0,  0]]),\n",
       " array([[14,  8,  8, 40,  0,  0,  0,  0,  0,  0,  0,  0,  0,  0,  0,  0],\n",
       "        [31,  0,  0,  0,  0,  0,  0,  0,  0,  0,  0,  0,  0,  0,  0,  0],\n",
       "        [27, 32, 30,  0,  0,  0,  0,  0,  0,  0,  0,  0,  0,  0,  0,  0]]),\n",
       " array([[34, 26,  5, 23,  0,  0,  0,  0,  0,  0,  0,  0,  0,  0,  0,  0],\n",
       "        [37, 23, 32,  0,  0,  0,  0,  0,  0,  0,  0,  0,  0,  0,  0,  0]]),\n",
       " array([[10, 13, 19,  0,  0,  0,  0,  0,  0,  0,  0,  0,  0,  0,  0,  0],\n",
       "        [32, 11, 12, 15, 17,  0,  0,  0,  0,  0,  0,  0,  0,  0,  0,  0],\n",
       "        [31, 19, 32,  0,  0,  0,  0,  0,  0,  0,  0,  0,  0,  0,  0,  0],\n",
       "        [37, 41, 27, 38, 21, 26,  0,  0,  0,  0,  0,  0,  0,  0,  0,  0]]),\n",
       " array([[10, 13, 24, 38,  0,  0,  0,  0,  0,  0,  0,  0,  0,  0,  0,  0],\n",
       "        [21, 33, 36, 22,  0,  0,  0,  0,  0,  0,  0,  0,  0,  0,  0,  0],\n",
       "        [37, 23, 38,  0,  0,  0,  0,  0,  0,  0,  0,  0,  0,  0,  0,  0]]),\n",
       " array([[32,  9, 10,  0,  0,  0,  0,  0,  0,  0,  0,  0,  0,  0,  0,  0],\n",
       "        [21, 33, 31, 20,  0,  0,  0,  0,  0,  0,  0,  0,  0,  0,  0,  0],\n",
       "        [37, 38, 19, 36, 38, 23, 36,  0,  0,  0,  0,  0,  0,  0,  0,  0]]),\n",
       " array([[10,  0,  0,  0,  0,  0,  0,  0,  0,  0,  0,  0,  0,  0,  0,  0],\n",
       "        [ 9,  6, 14, 14,  0,  0,  0,  0,  0,  0,  0,  0,  0,  0,  0,  0],\n",
       "        [37, 30, 40,  0,  0,  0,  0,  0,  0,  0,  0,  0,  0,  0,  0,  0]]),\n",
       " array([[ 9, 16,  8,  8,  0,  0,  0,  0,  0,  0,  0,  0,  0,  0,  0,  0],\n",
       "        [12,  8,  8,  0,  0,  0,  0,  0,  0,  0,  0,  0,  0,  0,  0,  0],\n",
       "        [37, 39, 20, 34, 19, 32, 23, 30,  0,  0,  0,  0,  0,  0,  0,  0]]),\n",
       " array([[40, 32, 38, 22,  0,  0,  0,  0,  0,  0,  0,  0,  0,  0,  0,  0],\n",
       "        [37, 26, 30, 24,  0,  0,  0,  0,  0,  0,  0,  0,  0,  0,  0,  0]]),\n",
       " array([[23, 42, 38, 23, 32, 22, 23, 22,  0,  0,  0,  0,  0,  0,  0,  0],\n",
       "        [41, 19, 36, 36, 19, 32, 38, 43,  0,  0,  0,  0,  0,  0,  0,  0]]),\n",
       " array([[12,  7, 33, 21, 38,  0,  0,  0,  0,  0,  0,  0,  0,  0,  0,  0],\n",
       "        [ 9,  5,  9,  7, 10, 22,  0,  0,  0,  0,  0,  0,  0,  0,  0,  0],\n",
       "        [32, 31, 21,  0,  0,  0,  0,  0,  0,  0,  0,  0,  0,  0,  0,  0],\n",
       "        [20, 33, 42,  0,  0,  0,  0,  0,  0,  0,  0,  0,  0,  0,  0,  0]]),\n",
       " array([[22, 36, 13,  8, 19,  0,  0,  0,  0,  0,  0,  0,  0,  0,  0,  0],\n",
       "        [27, 32, 30, 23, 38,  0,  0,  0,  0,  0,  0,  0,  0,  0,  0,  0]]),\n",
       " array([[38, 37,  0,  0,  0,  0,  0,  0,  0,  0,  0,  0,  0,  0,  0,  0],\n",
       "        [37, 30, 33, 38, 38, 23, 22,  0,  0,  0,  0,  0,  0,  0,  0,  0]]),\n",
       " array([[20, 39, 27, 30, 22, 27, 32, 25,  0,  0,  0,  0,  0,  0,  0,  0],\n",
       "        [41, 27, 36, 23,  0,  0,  0,  0,  0,  0,  0,  0,  0,  0,  0,  0]]),\n",
       " array([[12, 27, 32,  0,  0,  0,  0,  0,  0,  0,  0,  0,  0,  0,  0,  0],\n",
       "        [26, 42, 37, 34, 25,  0,  0,  0,  0,  0,  0,  0,  0,  0,  0,  0],\n",
       "        [31, 30, 22,  0,  0,  0,  0,  0,  0,  0,  0,  0,  0,  0,  0,  0],\n",
       "        [20, 23, 30, 30,  0,  0,  0,  0,  0,  0,  0,  0,  0,  0,  0,  0],\n",
       "        [23, 32, 22,  0,  0,  0,  0,  0,  0,  0,  0,  0,  0,  0,  0,  0]]),\n",
       " array([[21, 33, 32, 38, 21, 38,  0,  0,  0,  0,  0,  0,  0,  0,  0,  0],\n",
       "        [20, 30, 33, 21, 29,  0,  0,  0,  0,  0,  0,  0,  0,  0,  0,  0],\n",
       "        [38, 19, 34, 23,  0,  0,  0,  0,  0,  0,  0,  0,  0,  0,  0,  0],\n",
       "        [37, 23, 19, 30,  0,  0,  0,  0,  0,  0,  0,  0,  0,  0,  0,  0]]),\n",
       " array([[31, 19, 21, 26, 27, 32, 23,  0,  0,  0,  0,  0,  0,  0,  0,  0],\n",
       "        [38, 33, 33, 30,  0,  0,  0,  0,  0,  0,  0,  0,  0,  0,  0,  0],\n",
       "        [41, 27, 36, 23,  0,  0,  0,  0,  0,  0,  0,  0,  0,  0,  0,  0]]),\n",
       " array([[32, 23, 31, 19,  9,  0,  0,  0,  0,  0,  0,  0,  0,  0,  0,  0],\n",
       "        [37, 21, 36,  0,  0,  0,  0,  0,  0,  0,  0,  0,  0,  0,  0,  0],\n",
       "        [21, 40, 36,  0,  0,  0,  0,  0,  0,  0,  0,  0,  0,  0,  0,  0],\n",
       "        [41, 41, 43,  0,  0,  0,  0,  0,  0,  0,  0,  0,  0,  0,  0,  0]]),\n",
       " array([[11,  8,  6, 13, 31, 31,  0,  0,  0,  0,  0,  0,  0,  0,  0,  0],\n",
       "        [34, 20,  0,  0,  0,  0,  0,  0,  0,  0,  0,  0,  0,  0,  0,  0]]),\n",
       " array([[ 8,  6, 10, 13,  5,  9, 19,  0,  0,  0,  0,  0,  0,  0,  0,  0],\n",
       "        [ 9, 10,  8, 40,  0,  0,  0,  0,  0,  0,  0,  0,  0,  0,  0,  0],\n",
       "        [37, 38, 36,  0,  0,  0,  0,  0,  0,  0,  0,  0,  0,  0,  0,  0]]),\n",
       " array([[32, 43, 30,  0,  0,  0,  0,  0,  0,  0,  0,  0,  0,  0,  0,  0],\n",
       "        [27, 32, 37, 39, 30,  0,  0,  0,  0,  0,  0,  0,  0,  0,  0,  0],\n",
       "        [38, 23, 36, 31,  0,  0,  0,  0,  0,  0,  0,  0,  0,  0,  0,  0]]),\n",
       " array([[32, 19, 40, 43,  0,  0,  0,  0,  0,  0,  0,  0,  0,  0,  0,  0],\n",
       "        [21, 20,  0,  0,  0,  0,  0,  0,  0,  0,  0,  0,  0,  0,  0,  0],\n",
       "        [41,  7, 19, 39, 42,  0,  0,  0,  0,  0,  0,  0,  0,  0,  0,  0],\n",
       "        [37, 41,  0,  0,  0,  0,  0,  0,  0,  0,  0,  0,  0,  0,  0,  0],\n",
       "        [30, 26,  0,  0,  0,  0,  0,  0,  0,  0,  0,  0,  0,  0,  0,  0]]),\n",
       " array([[11,  7, 12,  0,  0,  0,  0,  0,  0,  0,  0,  0,  0,  0,  0,  0],\n",
       "        [27, 32, 37, 38, 31,  0,  0,  0,  0,  0,  0,  0,  0,  0,  0,  0],\n",
       "        [26, 37, 25,  0,  0,  0,  0,  0,  0,  0,  0,  0,  0,  0,  0,  0]]),\n",
       " array([[10,  8,  8,  8, 36, 34, 31,  0,  0,  0,  0,  0,  0,  0,  0,  0],\n",
       "        [31, 38, 36,  0,  0,  0,  0,  0,  0,  0,  0,  0,  0,  0,  0,  0]]),\n",
       " array([[32, 31,  9,  0,  0,  0,  0,  0,  0,  0,  0,  0,  0,  0,  0,  0],\n",
       "        [30, 19, 43,  5, 27, 32,  0,  0,  0,  0,  0,  0,  0,  0,  0,  0],\n",
       "        [41, 27, 36, 23, 41, 43,  5, 32, 33,  0,  0,  0,  0,  0,  0,  0],\n",
       "        [29,  0,  0,  0,  0,  0,  0,  0,  0,  0,  0,  0,  0,  0,  0,  0]]),\n",
       " array([[ 9, 13, 29, 40, 19,  0,  0,  0,  0,  0,  0,  0,  0,  0,  0,  0],\n",
       "        [38, 24, 31,  0,  0,  0,  0,  0,  0,  0,  0,  0,  0,  0,  0,  0]]),\n",
       " array([[ 9, 10,  5, 27, 32,  0,  0,  0,  0,  0,  0,  0,  0,  0,  0,  0],\n",
       "        [ 9,  7, 14, 26, 34,  0,  0,  0,  0,  0,  0,  0,  0,  0,  0,  0],\n",
       "        [ 9, 34, 26,  0,  0,  0,  0,  0,  0,  0,  0,  0,  0,  0,  0,  0],\n",
       "        [24, 19, 32,  0,  0,  0,  0,  0,  0,  0,  0,  0,  0,  0,  0,  0]]),\n",
       " array([[19, 22, 40, 19, 32, 21, 23, 22,  0,  0,  0,  0,  0,  0,  0,  0],\n",
       "        [24, 30, 23, 42, 27, 20, 30, 23, 20, 19, 36,  0,  0,  0,  0,  0]]),\n",
       " array([[34, 36, 38, 20, 30, 23,  0,  0,  0,  0,  0,  0,  0,  0,  0,  0],\n",
       "        [34, 36, 32, 38, 36,  0,  0,  0,  0,  0,  0,  0,  0,  0,  0,  0],\n",
       "        [30, 20, 30,  0,  0,  0,  0,  0,  0,  0,  0,  0,  0,  0,  0,  0]]),\n",
       " array([[23, 42, 34, 39, 30, 37, 27, 33, 32,  0,  0,  0,  0,  0,  0,  0],\n",
       "        [24, 39, 37, 23,  0,  0,  0,  0,  0,  0,  0,  0,  0,  0,  0,  0],\n",
       "        [39, 32, 38,  0,  0,  0,  0,  0,  0,  0,  0,  0,  0,  0,  0,  0]]),\n",
       " array([[12,  7,  8,  0,  0,  0,  0,  0,  0,  0,  0,  0,  0,  0,  0,  0],\n",
       "        [37, 33, 21, 29, 23, 38,  0,  0,  0,  0,  0,  0,  0,  0,  0,  0],\n",
       "        [ 3,  0,  0,  0,  0,  0,  0,  0,  0,  0,  0,  0,  0,  0,  0,  0],\n",
       "        [32, 39, 38,  0,  0,  0,  0,  0,  0,  0,  0,  0,  0,  0,  0,  0],\n",
       "        [19, 37, 37, 23, 31,  0,  0,  0,  0,  0,  0,  0,  0,  0,  0,  0]]),\n",
       " array([[15, 27, 32,  0,  0,  0,  0,  0,  0,  0,  0,  0,  0,  0,  0,  0],\n",
       "        [24, 30, 19, 34,  0,  0,  0,  0,  0,  0,  0,  0,  0,  0,  0,  0],\n",
       "        [22, 27, 37, 21,  0,  0,  0,  0,  0,  0,  0,  0,  0,  0,  0,  0]]),\n",
       " array([[26, 23, 19, 40, 43,  0,  0,  0,  0,  0,  0,  0,  0,  0,  0,  0],\n",
       "        [22, 39, 38, 43,  0,  0,  0,  0,  0,  0,  0,  0,  0,  0,  0,  0],\n",
       "        [21, 32, 38, 21, 38, 36,  0,  0,  0,  0,  0,  0,  0,  0,  0,  0]]),\n",
       " array([[ 9,  5,  9,  7, 10,  0,  0,  0,  0,  0,  0,  0,  0,  0,  0,  0],\n",
       "        [ 9,  7, 10,  0,  0,  0,  0,  0,  0,  0,  0,  0,  0,  0,  0,  0],\n",
       "        [36, 23, 22,  0,  0,  0,  0,  0,  0,  0,  0,  0,  0,  0,  0,  0]]),\n",
       " array([[34, 32, 30, 20, 22,  0,  0,  0,  0,  0,  0,  0,  0,  0,  0,  0],\n",
       "        [21, 33, 32, 32,  0,  0,  0,  0,  0,  0,  0,  0,  0,  0,  0,  0],\n",
       "        [29, 38,  0,  0,  0,  0,  0,  0,  0,  0,  0,  0,  0,  0,  0,  0]]),\n",
       " array([[10,  5, 24, 10,  8, 38,  9, 10, 34, 26,  0,  0,  0,  0,  0,  0],\n",
       "        [ 9, 10,  8, 40,  0,  0,  0,  0,  0,  0,  0,  0,  0,  0,  0,  0],\n",
       "        [20, 19, 30,  0,  0,  0,  0,  0,  0,  0,  0,  0,  0,  0,  0,  0]]),\n",
       " array([[27, 32, 22, 39, 21, 38, 27, 40, 23,  0,  0,  0,  0,  0,  0,  0],\n",
       "        [34, 36, 42,  0,  0,  0,  0,  0,  0,  0,  0,  0,  0,  0,  0,  0],\n",
       "        [37, 23, 32,  0,  0,  0,  0,  0,  0,  0,  0,  0,  0,  0,  0,  0]]),\n",
       " array([[21, 36, 27, 31, 34, 27, 32, 25,  0,  0,  0,  0,  0,  0,  0,  0],\n",
       "        [38, 33, 33, 30,  0,  0,  0,  0,  0,  0,  0,  0,  0,  0,  0,  0],\n",
       "        [22, 27, 23,  0,  0,  0,  0,  0,  0,  0,  0,  0,  0,  0,  0,  0]]),\n",
       " array([[17,  8, 22,  0,  0,  0,  0,  0,  0,  0,  0,  0,  0,  0,  0,  0],\n",
       "        [34, 40, 21,  0,  0,  0,  0,  0,  0,  0,  0,  0,  0,  0,  0,  0],\n",
       "        [36, 21, 34, 38,  0,  0,  0,  0,  0,  0,  0,  0,  0,  0,  0,  0]]),\n",
       " array([[10, 13, 19,  0,  0,  0,  0,  0,  0,  0,  0,  0,  0,  0,  0,  0],\n",
       "        [27, 23, 21,  0,  0,  0,  0,  0,  0,  0,  0,  0,  0,  0,  0,  0],\n",
       "        [37, 38, 36,  0,  0,  0,  0,  0,  0,  0,  0,  0,  0,  0,  0,  0]]),\n",
       " array([[11, 34, 26,  0,  0,  0,  0,  0,  0,  0,  0,  0,  0,  0,  0,  0],\n",
       "        [31, 19, 32,  0,  0,  0,  0,  0,  0,  0,  0,  0,  0,  0,  0,  0],\n",
       "        [33, 34, 36, 38, 22,  0,  0,  0,  0,  0,  0,  0,  0,  0,  0,  0],\n",
       "        [37, 38, 36, 38, 36,  0,  0,  0,  0,  0,  0,  0,  0,  0,  0,  0]]),\n",
       " array([[40, 19, 21,  0,  0,  0,  0,  0,  0,  0,  0,  0,  0,  0,  0,  0],\n",
       "        [21, 30, 23, 19, 32, 23, 36,  0,  0,  0,  0,  0,  0,  0,  0,  0]]),\n",
       " array([[14,  8,  8, 40,  0,  0,  0,  0,  0,  0,  0,  0,  0,  0,  0,  0],\n",
       "        [20, 30, 39,  0,  0,  0,  0,  0,  0,  0,  0,  0,  0,  0,  0,  0],\n",
       "        [34, 30, 37,  0,  0,  0,  0,  0,  0,  0,  0,  0,  0,  0,  0,  0],\n",
       "        [38, 24, 31,  0,  0,  0,  0,  0,  0,  0,  0,  0,  0,  0,  0,  0],\n",
       "        [34, 30,  0,  0,  0,  0,  0,  0,  0,  0,  0,  0,  0,  0,  0,  0]]),\n",
       " array([[11, 36,  0,  0,  0,  0,  0,  0,  0,  0,  0,  0,  0,  0,  0,  0],\n",
       "        [10, 12,  0,  0,  0,  0,  0,  0,  0,  0,  0,  0,  0,  0,  0,  0],\n",
       "        [ 9, 10,  0,  0,  0,  0,  0,  0,  0,  0,  0,  0,  0,  0,  0,  0],\n",
       "        [14,  0,  0,  0,  0,  0,  0,  0,  0,  0,  0,  0,  0,  0,  0,  0],\n",
       "        [37, 21, 36,  0,  0,  0,  0,  0,  0,  0,  0,  0,  0,  0,  0,  0],\n",
       "        [21, 40, 36,  0,  0,  0,  0,  0,  0,  0,  0,  0,  0,  0,  0,  0]]),\n",
       " array([[10, 27, 32,  0,  0,  0,  0,  0,  0,  0,  0,  0,  0,  0,  0,  0],\n",
       "        [11,  8, 22,  0,  0,  0,  0,  0,  0,  0,  0,  0,  0,  0,  0,  0],\n",
       "        [23, 31, 38,  0,  0,  0,  0,  0,  0,  0,  0,  0,  0,  0,  0,  0],\n",
       "        [23, 30,  0,  0,  0,  0,  0,  0,  0,  0,  0,  0,  0,  0,  0,  0]]),\n",
       " array([[22, 36, 27, 40, 23,  0,  0,  0,  0,  0,  0,  0,  0,  0,  0,  0],\n",
       "        [31, 33, 38, 33, 36,  0,  0,  0,  0,  0,  0,  0,  0,  0,  0,  0]]),\n",
       " array([[11, 34, 26,  0,  0,  0,  0,  0,  0,  0,  0,  0,  0,  0,  0,  0],\n",
       "        [21,  5, 37, 38, 36,  0,  0,  0,  0,  0,  0,  0,  0,  0,  0,  0]]),\n",
       " array([[37, 23, 40, 23, 36, 23,  0,  0,  0,  0,  0,  0,  0,  0,  0,  0],\n",
       "        [22, 39, 38, 43,  0,  0,  0,  0,  0,  0,  0,  0,  0,  0,  0,  0],\n",
       "        [31, 33, 38, 33, 36,  0,  0,  0,  0,  0,  0,  0,  0,  0,  0,  0]]),\n",
       " array([[11,  5,  9,  7, 11,  0,  0,  0,  0,  0,  0,  0,  0,  0,  0,  0],\n",
       "        [37,  7, 22,  0,  0,  0,  0,  0,  0,  0,  0,  0,  0,  0,  0,  0]]),\n",
       " array([[10, 34,  0,  0,  0,  0,  0,  0,  0,  0,  0,  0,  0,  0,  0,  0],\n",
       "        [15,  8, 19,  0,  0,  0,  0,  0,  0,  0,  0,  0,  0,  0,  0,  0],\n",
       "        [10, 12,  8, 40,  0,  0,  0,  0,  0,  0,  0,  0,  0,  0,  0,  0],\n",
       "        [21, 20,  0,  0,  0,  0,  0,  0,  0,  0,  0,  0,  0,  0,  0,  0]]),\n",
       " array([[41, 26, 38,  0,  0,  0,  0,  0,  0,  0,  0,  0,  0,  0,  0,  0],\n",
       "        [27, 32, 37, 23, 36, 38,  0,  0,  0,  0,  0,  0,  0,  0,  0,  0]]),\n",
       " array([[36, 23, 40, 23, 36, 37, 27, 32, 25,  0,  0,  0,  0,  0,  0,  0],\n",
       "        [26,  7, 22,  0,  0,  0,  0,  0,  0,  0,  0,  0,  0,  0,  0,  0],\n",
       "        [21, 32, 38, 21,  0,  0,  0,  0,  0,  0,  0,  0,  0,  0,  0,  0]]),\n",
       " array([[19, 27, 36, 21, 36, 24, 38,  0,  0,  0,  0,  0,  0,  0,  0,  0],\n",
       "        [31, 19, 27, 32, 38,  0,  0,  0,  0,  0,  0,  0,  0,  0,  0,  0],\n",
       "        [37, 23, 38,  0,  0,  0,  0,  0,  0,  0,  0,  0,  0,  0,  0,  0]]),\n",
       " array([[27, 40,  0,  0,  0,  0,  0,  0,  0,  0,  0,  0,  0,  0,  0,  0],\n",
       "        [12, 41, 43,  0,  0,  0,  0,  0,  0,  0,  0,  0,  0,  0,  0,  0],\n",
       "        [30, 38, 22,  0,  0,  0,  0,  0,  0,  0,  0,  0,  0,  0,  0,  0],\n",
       "        [19, 21,  0,  0,  0,  0,  0,  0,  0,  0,  0,  0,  0,  0,  0,  0],\n",
       "        [34, 20,  0,  0,  0,  0,  0,  0,  0,  0,  0,  0,  0,  0,  0,  0],\n",
       "        [37, 41,  0,  0,  0,  0,  0,  0,  0,  0,  0,  0,  0,  0,  0,  0]]),\n",
       " array([[ 9,  7, 10,  0,  0,  0,  0,  0,  0,  0,  0,  0,  0,  0,  0,  0],\n",
       "        [ 9,  7, 12,  0,  0,  0,  0,  0,  0,  0,  0,  0,  0,  0,  0,  0],\n",
       "        [36, 23, 22,  0,  0,  0,  0,  0,  0,  0,  0,  0,  0,  0,  0,  0]]),\n",
       " array([[25, 36, 43,  0,  0,  0,  0,  0,  0,  0,  0,  0,  0,  0,  0,  0],\n",
       "        [22, 23, 40, 27, 21, 23,  0,  0,  0,  0,  0,  0,  0,  0,  0,  0],\n",
       "        [31, 38, 25,  0,  0,  0,  0,  0,  0,  0,  0,  0,  0,  0,  0,  0],\n",
       "        [34, 30, 19, 38, 23,  0,  0,  0,  0,  0,  0,  0,  0,  0,  0,  0]]),\n",
       " array([[26, 32, 25,  0,  0,  0,  0,  0,  0,  0,  0,  0,  0,  0,  0,  0],\n",
       "        [34, 32, 30,  0,  0,  0,  0,  0,  0,  0,  0,  0,  0,  0,  0,  0],\n",
       "        [36, 19, 27, 30,  0,  0,  0,  0,  0,  0,  0,  0,  0,  0,  0,  0],\n",
       "        [22, 33, 33, 36,  0,  0,  0,  0,  0,  0,  0,  0,  0,  0,  0,  0]]),\n",
       " array([[32, 23, 31, 19,  0,  0,  0,  0,  0,  0,  0,  0,  0,  0,  0,  0],\n",
       "        [30,  9, 12,  5, 11,  8, 34,  0,  0,  0,  0,  0,  0,  0,  0,  0],\n",
       "        [34, 30, 39, 25,  0,  0,  0,  0,  0,  0,  0,  0,  0,  0,  0,  0]]),\n",
       " array([[14, 13, 19,  0,  0,  0,  0,  0,  0,  0,  0,  0,  0,  0,  0,  0],\n",
       "        [27, 23, 21,  0,  0,  0,  0,  0,  0,  0,  0,  0,  0,  0,  0,  0],\n",
       "        [37, 38, 36,  0,  0,  0,  0,  0,  0,  0,  0,  0,  0,  0,  0,  0]]),\n",
       " array([[15,  7, 16,  0,  0,  0,  0,  0,  0,  0,  0,  0,  0,  0,  0,  0],\n",
       "        [37, 33, 21, 29, 23, 38,  0,  0,  0,  0,  0,  0,  0,  0,  0,  0]]),\n",
       " array([[ 9, 13,  8, 29, 40, 19,  0,  0,  0,  0,  0,  0,  0,  0,  0,  0],\n",
       "        [38, 24, 31,  0,  0,  0,  0,  0,  0,  0,  0,  0,  0,  0,  0,  0]]),\n",
       " array([[31, 27, 32, 27,  0,  0,  0,  0,  0,  0,  0,  0,  0,  0,  0,  0],\n",
       "        [19, 39, 22, 27, 33,  0,  0,  0,  0,  0,  0,  0,  0,  0,  0,  0],\n",
       "        [38, 36, 19, 32, 37, 24, 33, 36, 31, 23, 36,  0,  0,  0,  0,  0]]),\n",
       " array([[11, 34,  0,  0,  0,  0,  0,  0,  0,  0,  0,  0,  0,  0,  0,  0],\n",
       "        [ 9, 15, 13, 19,  0,  0,  0,  0,  0,  0,  0,  0,  0,  0,  0,  0],\n",
       "        [10, 12,  8, 40,  0,  0,  0,  0,  0,  0,  0,  0,  0,  0,  0,  0],\n",
       "        [21, 20,  0,  0,  0,  0,  0,  0,  0,  0,  0,  0,  0,  0,  0,  0]]),\n",
       " array([[34, 33, 41, 23, 36,  0,  0,  0,  0,  0,  0,  0,  0,  0,  0,  0],\n",
       "        [31, 33, 22,  0,  0,  0,  0,  0,  0,  0,  0,  0,  0,  0,  0,  0]]),\n",
       " array([[11,  7, 12,  0,  0,  0,  0,  0,  0,  0,  0,  0,  0,  0,  0,  0],\n",
       "        [38, 20,  0,  0,  0,  0,  0,  0,  0,  0,  0,  0,  0,  0,  0,  0],\n",
       "        [21, 33, 32, 22, 39, 27, 38,  0,  0,  0,  0,  0,  0,  0,  0,  0],\n",
       "        [20, 33, 22, 43,  0,  0,  0,  0,  0,  0,  0,  0,  0,  0,  0,  0]]),\n",
       " array([[32,  9,  0,  0,  0,  0,  0,  0,  0,  0,  0,  0,  0,  0,  0,  0],\n",
       "        [23, 32, 21, 30,  0,  0,  0,  0,  0,  0,  0,  0,  0,  0,  0,  0],\n",
       "        [11, 14,  0,  0,  0,  0,  0,  0,  0,  0,  0,  0,  0,  0,  0,  0],\n",
       "        [11,  8,  0,  0,  0,  0,  0,  0,  0,  0,  0,  0,  0,  0,  0,  0],\n",
       "        [16,  6, 14, 10, 13,  0,  0,  0,  0,  0,  0,  0,  0,  0,  0,  0]]),\n",
       " array([[11, 34, 26,  0,  0,  0,  0,  0,  0,  0,  0,  0,  0,  0,  0,  0],\n",
       "        [21,  5, 37, 38, 36,  0,  0,  0,  0,  0,  0,  0,  0,  0,  0,  0]]),\n",
       " array([[10,  0,  0,  0,  0,  0,  0,  0,  0,  0,  0,  0,  0,  0,  0,  0],\n",
       "        [12,  0,  0,  0,  0,  0,  0,  0,  0,  0,  0,  0,  0,  0,  0,  0],\n",
       "        [30, 38, 25,  0,  0,  0,  0,  0,  0,  0,  0,  0,  0,  0,  0,  0],\n",
       "        [30, 23, 32, 37,  0,  0,  0,  0,  0,  0,  0,  0,  0,  0,  0,  0]]),\n",
       " array([[10, 25, 20,  0,  0,  0,  0,  0,  0,  0,  0,  0,  0,  0,  0,  0],\n",
       "        [21, 31, 34, 38, 36,  0,  0,  0,  0,  0,  0,  0,  0,  0,  0,  0]]),\n",
       " array([[10, 34,  0,  0,  0,  0,  0,  0,  0,  0,  0,  0,  0,  0,  0,  0],\n",
       "        [ 9,  8,  8, 19,  0,  0,  0,  0,  0,  0,  0,  0,  0,  0,  0,  0],\n",
       "        [21, 20,  0,  0,  0,  0,  0,  0,  0,  0,  0,  0,  0,  0,  0,  0]]),\n",
       " array([[10, 12, 40,  0,  0,  0,  0,  0,  0,  0,  0,  0,  0,  0,  0,  0],\n",
       "        [32,  9,  0,  0,  0,  0,  0,  0,  0,  0,  0,  0,  0,  0,  0,  0],\n",
       "        [37, 38, 36,  0,  0,  0,  0,  0,  0,  0,  0,  0,  0,  0,  0,  0]]),\n",
       " array([[34, 19, 32, 23, 30,  0,  0,  0,  0,  0,  0,  0,  0,  0,  0,  0],\n",
       "        [33, 32, 30, 43,  0,  0,  0,  0,  0,  0,  0,  0,  0,  0,  0,  0]]),\n",
       " array([[14,  5, 13,  7, 16, 22,  0,  0,  0,  0,  0,  0,  0,  0,  0,  0],\n",
       "        [32, 31, 19,  9,  0,  0,  0,  0,  0,  0,  0,  0,  0,  0,  0,  0],\n",
       "        [23, 32, 21, 30,  0,  0,  0,  0,  0,  0,  0,  0,  0,  0,  0,  0]]),\n",
       " array([[11,  6, 13, 27, 32,  0,  0,  0,  0,  0,  0,  0,  0,  0,  0,  0],\n",
       "        [31, 36, 29, 25,  0,  0,  0,  0,  0,  0,  0,  0,  0,  0,  0,  0],\n",
       "        [38, 19, 34, 23,  0,  0,  0,  0,  0,  0,  0,  0,  0,  0,  0,  0]]),\n",
       " array([[16, 16, 27, 32,  0,  0,  0,  0,  0,  0,  0,  0,  0,  0,  0,  0],\n",
       "        [37, 23, 38,  0,  0,  0,  0,  0,  0,  0,  0,  0,  0,  0,  0,  0],\n",
       "        [21, 33, 40, 23, 36,  0,  0,  0,  0,  0,  0,  0,  0,  0,  0,  0]]),\n",
       " array([[23, 31, 38,  0,  0,  0,  0,  0,  0,  0,  0,  0,  0,  0,  0,  0],\n",
       "        [21, 30, 19, 31, 34,  0,  0,  0,  0,  0,  0,  0,  0,  0,  0,  0]]),\n",
       " array([[14,  8,  8, 19,  0,  0,  0,  0,  0,  0,  0,  0,  0,  0,  0,  0],\n",
       "        [34, 32, 30, 20, 22,  0,  0,  0,  0,  0,  0,  0,  0,  0,  0,  0],\n",
       "        [37, 41,  0,  0,  0,  0,  0,  0,  0,  0,  0,  0,  0,  0,  0,  0],\n",
       "        [21, 33, 32, 32,  0,  0,  0,  0,  0,  0,  0,  0,  0,  0,  0,  0]]),\n",
       " array([[24, 30, 23, 42,  0,  0,  0,  0,  0,  0,  0,  0,  0,  0,  0,  0],\n",
       "        [29, 23, 43,  0,  0,  0,  0,  0,  0,  0,  0,  0,  0,  0,  0,  0]]),\n",
       " array([[11,  8,  8,  8, 36, 34, 31,  0,  0,  0,  0,  0,  0,  0,  0,  0],\n",
       "        [37, 36, 40,  0,  0,  0,  0,  0,  0,  0,  0,  0,  0,  0,  0,  0],\n",
       "        [31, 33, 38, 33, 36,  0,  0,  0,  0,  0,  0,  0,  0,  0,  0,  0]]),\n",
       " array([[21, 33, 32, 22, 39, 27, 38,  0,  0,  0,  0,  0,  0,  0,  0,  0],\n",
       "        [23, 30, 20, 33, 41,  0,  0,  0,  0,  0,  0,  0,  0,  0,  0,  0]]),\n",
       " array([[16,  8, 19,  0,  0,  0,  0,  0,  0,  0,  0,  0,  0,  0,  0,  0],\n",
       "        [21, 32, 21, 38, 36,  0,  0,  0,  0,  0,  0,  0,  0,  0,  0,  0]]),\n",
       " array([[11, 34, 26,  0,  0,  0,  0,  0,  0,  0,  0,  0,  0,  0,  0,  0],\n",
       "        [21,  5, 37, 38, 36,  0,  0,  0,  0,  0,  0,  0,  0,  0,  0,  0]]),\n",
       " array([[11, 41,  5, 10, 34,  0,  0,  0,  0,  0,  0,  0,  0,  0,  0,  0],\n",
       "        [36, 21, 34, 38,  0,  0,  0,  0,  0,  0,  0,  0,  0,  0,  0,  0],\n",
       "        [21, 33, 40, 23, 36,  0,  0,  0,  0,  0,  0,  0,  0,  0,  0,  0]]),\n",
       " array([[32, 23, 38, 41, 33, 36, 29,  0,  0,  0,  0,  0,  0,  0,  0,  0],\n",
       "        [21, 19, 31, 23, 36, 19,  0,  0,  0,  0,  0,  0,  0,  0,  0,  0]]),\n",
       " array([[13, 38, 26,  0,  0,  0,  0,  0,  0,  0,  0,  0,  0,  0,  0,  0],\n",
       "        [38, 23, 36, 31, 27, 32, 19, 30,  0,  0,  0,  0,  0,  0,  0,  0],\n",
       "        [29, 27, 38,  0,  0,  0,  0,  0,  0,  0,  0,  0,  0,  0,  0,  0]]),\n",
       " array([[34, 33, 41, 23, 36,  0,  0,  0,  0,  0,  0,  0,  0,  0,  0,  0],\n",
       "        [21, 19, 20, 30, 23,  0,  0,  0,  0,  0,  0,  0,  0,  0,  0,  0]]),\n",
       " array([[12, 16, 40,  0,  0,  0,  0,  0,  0,  0,  0,  0,  0,  0,  0,  0],\n",
       "        [25, 36, 33, 39, 32, 22,  3, 38, 23, 37, 38,  0,  0,  0,  0,  0],\n",
       "        [22, 23, 40,  0,  0,  0,  0,  0,  0,  0,  0,  0,  0,  0,  0,  0]]),\n",
       " array([[19, 31, 20,  0,  0,  0,  0,  0,  0,  0,  0,  0,  0,  0,  0,  0],\n",
       "        [27, 32, 22, 27, 21, 19, 38, 33, 36,  0,  0,  0,  0,  0,  0,  0],\n",
       "        [30, 38,  0,  0,  0,  0,  0,  0,  0,  0,  0,  0,  0,  0,  0,  0]]),\n",
       " array([[17, 29, 40, 19,  0,  0,  0,  0,  0,  0,  0,  0,  0,  0,  0,  0],\n",
       "        [38, 24, 31,  0,  0,  0,  0,  0,  0,  0,  0,  0,  0,  0,  0,  0]]),\n",
       " array([[11,  8,  8,  8, 36, 34, 31,  0,  0,  0,  0,  0,  0,  0,  0,  0],\n",
       "        [31, 38, 36,  0,  0,  0,  0,  0,  0,  0,  0,  0,  0,  0,  0,  0]]),\n",
       " array([[26, 31, 21, 34,  0,  0,  0,  0,  0,  0,  0,  0,  0,  0,  0,  0],\n",
       "        [11, 34,  0,  0,  0,  0,  0,  0,  0,  0,  0,  0,  0,  0,  0,  0],\n",
       "        [ 9, 13,  8, 19,  0,  0,  0,  0,  0,  0,  0,  0,  0,  0,  0,  0],\n",
       "        [30, 30,  0,  0,  0,  0,  0,  0,  0,  0,  0,  0,  0,  0,  0,  0]]),\n",
       " array([[34, 22, 39,  0,  0,  0,  0,  0,  0,  0,  0,  0,  0,  0,  0,  0]]),\n",
       " array([[ 9,  7, 10,  0,  0,  0,  0,  0,  0,  0,  0,  0,  0,  0,  0,  0],\n",
       "        [ 9, 25,  0,  0,  0,  0,  0,  0,  0,  0,  0,  0,  0,  0,  0,  0],\n",
       "        [23, 30, 23, 21, 38, 36, 33, 30, 23, 38,  0,  0,  0,  0,  0,  0]]),\n",
       " array([[13,  8,  8, 31, 21, 31,  0,  0,  0,  0,  0,  0,  0,  0,  0,  0],\n",
       "        [37, 34, 30, 27, 38,  0,  0,  0,  0,  0,  0,  0,  0,  0,  0,  0],\n",
       "        [20, 33, 30, 38, 21, 33, 32, 32,  0,  0,  0,  0,  0,  0,  0,  0]]),\n",
       " array([[24, 37,  0,  0,  0,  0,  0,  0,  0,  0,  0,  0,  0,  0,  0,  0],\n",
       "        [32, 23, 31, 19,  0,  0,  0,  0,  0,  0,  0,  0,  0,  0,  0,  0],\n",
       "        [37, 44,  0,  0,  0,  0,  0,  0,  0,  0,  0,  0,  0,  0,  0,  0],\n",
       "        [ 9,  0,  0,  0,  0,  0,  0,  0,  0,  0,  0,  0,  0,  0,  0,  0],\n",
       "        [23, 32, 21, 30,  0,  0,  0,  0,  0,  0,  0,  0,  0,  0,  0,  0]]),\n",
       " array([[17,  8, 22, 23, 25,  0,  0,  0,  0,  0,  0,  0,  0,  0,  0,  0],\n",
       "        [31,  0,  0,  0,  0,  0,  0,  0,  0,  0,  0,  0,  0,  0,  0,  0],\n",
       "        [21, 33, 32,  0,  0,  0,  0,  0,  0,  0,  0,  0,  0,  0,  0,  0],\n",
       "        [34, 30, 39, 25,  0,  0,  0,  0,  0,  0,  0,  0,  0,  0,  0,  0]]),\n",
       " array([[10, 25, 17, 34, 33, 36, 38,  0,  0,  0,  0,  0,  0,  0,  0,  0],\n",
       "        [41, 19, 30, 30,  0,  0,  0,  0,  0,  0,  0,  0,  0,  0,  0,  0],\n",
       "        [34, 30, 19, 38, 23,  0,  0,  0,  0,  0,  0,  0,  0,  0,  0,  0]]),\n",
       " array([[41, 38,  0,  0,  0,  0,  0,  0,  0,  0,  0,  0,  0,  0,  0,  0],\n",
       "        [27, 32, 37, 39, 30, 25, 36, 27, 34,  0,  0,  0,  0,  0,  0,  0],\n",
       "        [36, 21, 34, 38,  0,  0,  0,  0,  0,  0,  0,  0,  0,  0,  0,  0]]),\n",
       " array([[20, 39, 27, 30, 22, 27, 32, 25,  0,  0,  0,  0,  0,  0,  0,  0],\n",
       "        [41, 27, 36, 23,  0,  0,  0,  0,  0,  0,  0,  0,  0,  0,  0,  0]]),\n",
       " array([[ 9,  6, 13, 26, 34,  0,  0,  0,  0,  0,  0,  0,  0,  0,  0,  0],\n",
       "        [22, 36, 40,  0,  0,  0,  0,  0,  0,  0,  0,  0,  0,  0,  0,  0]]),\n",
       " array([[21, 26, 32,  0,  0,  0,  0,  0,  0,  0,  0,  0,  0,  0,  0,  0],\n",
       "        [32, 37,  0,  0,  0,  0,  0,  0,  0,  0,  0,  0,  0,  0,  0,  0],\n",
       "        [34, 30, 36, 37,  0,  0,  0,  0,  0,  0,  0,  0,  0,  0,  0,  0],\n",
       "        [21, 26,  0,  0,  0,  0,  0,  0,  0,  0,  0,  0,  0,  0,  0,  0],\n",
       "        [25, 36, 34,  0,  0,  0,  0,  0,  0,  0,  0,  0,  0,  0,  0,  0],\n",
       "        [14,  5, 11,  7, 12,  0,  0,  0,  0,  0,  0,  0,  0,  0,  0,  0]]),\n",
       " array([[ 9,  8,  8, 41,  0,  0,  0,  0,  0,  0,  0,  0,  0,  0,  0,  0],\n",
       "        [38, 36, 19, 32, 37, 24, 33, 36, 31, 23, 36,  0,  0,  0,  0,  0]]),\n",
       " array([[34, 33, 41, 23, 36,  0,  0,  0,  0,  0,  0,  0,  0,  0,  0,  0],\n",
       "        [21, 19, 20, 30, 23,  0,  0,  0,  0,  0,  0,  0,  0,  0,  0,  0]]),\n",
       " array([[11,  8,  8,  8, 36, 34, 31,  0,  0,  0,  0,  0,  0,  0,  0,  0],\n",
       "        [31, 38, 36,  0,  0,  0,  0,  0,  0,  0,  0,  0,  0,  0,  0,  0]]),\n",
       " array([[34, 33, 41, 23, 36,  0,  0,  0,  0,  0,  0,  0,  0,  0,  0,  0],\n",
       "        [21, 20, 30,  0,  0,  0,  0,  0,  0,  0,  0,  0,  0,  0,  0,  0]]),\n",
       " array([[10, 11,  8,  7, 10, 10,  8, 40,  0,  0,  0,  0,  0,  0,  0,  0],\n",
       "        [21, 38, 36, 30,  0,  0,  0,  0,  0,  0,  0,  0,  0,  0,  0,  0],\n",
       "        [36, 30, 43,  0,  0,  0,  0,  0,  0,  0,  0,  0,  0,  0,  0,  0]]),\n",
       " array([[14,  0,  0,  0,  0,  0,  0,  0,  0,  0,  0,  0,  0,  0,  0,  0],\n",
       "        [ 9,  8, 13, 31, 31,  0,  0,  0,  0,  0,  0,  0,  0,  0,  0,  0],\n",
       "        [37, 23, 30,  0,  0,  0,  0,  0,  0,  0,  0,  0,  0,  0,  0,  0],\n",
       "        [26, 19, 32, 22, 30, 23,  0,  0,  0,  0,  0,  0,  0,  0,  0,  0]]),\n",
       " array([[11,  7, 12,  0,  0,  0,  0,  0,  0,  0,  0,  0,  0,  0,  0,  0],\n",
       "        [20, 36, 32, 44,  0,  0,  0,  0,  0,  0,  0,  0,  0,  0,  0,  0],\n",
       "        [25, 36, 32, 22,  0,  0,  0,  0,  0,  0,  0,  0,  0,  0,  0,  0],\n",
       "        [36, 33, 22,  0,  0,  0,  0,  0,  0,  0,  0,  0,  0,  0,  0,  0],\n",
       "        [21, 30, 19, 31, 34,  0,  0,  0,  0,  0,  0,  0,  0,  0,  0,  0]]),\n",
       " array([[12,  8,  8, 19,  0,  0,  0,  0,  0,  0,  0,  0,  0,  0,  0,  0],\n",
       "        [36, 23, 22,  0,  0,  0,  0,  0,  0,  0,  0,  0,  0,  0,  0,  0],\n",
       "        [31, 30,  0,  0,  0,  0,  0,  0,  0,  0,  0,  0,  0,  0,  0,  0],\n",
       "        [34, 30, 39, 25,  0,  0,  0,  0,  0,  0,  0,  0,  0,  0,  0,  0]]),\n",
       " array([[10,  8,  8,  8, 36, 34, 31,  0,  0,  0,  0,  0,  0,  0,  0,  0],\n",
       "        [31, 38, 36,  0,  0,  0,  0,  0,  0,  0,  0,  0,  0,  0,  0,  0]]),\n",
       " array([[ 9,  8, 26, 34,  0,  0,  0,  0,  0,  0,  0,  0,  0,  0,  0,  0],\n",
       "        [22, 36, 40,  0,  0,  0,  0,  0,  0,  0,  0,  0,  0,  0,  0,  0]]),\n",
       " array([[10,  8,  8,  8, 36, 34, 31,  0,  0,  0,  0,  0,  0,  0,  0,  0],\n",
       "        [31, 38, 36,  0,  0,  0,  0,  0,  0,  0,  0,  0,  0,  0,  0,  0]]),\n",
       " array([[12, 16,  8, 41,  0,  0,  0,  0,  0,  0,  0,  0,  0,  0,  0,  0],\n",
       "        [34, 33, 41, 23, 36,  0,  0,  0,  0,  0,  0,  0,  0,  0,  0,  0],\n",
       "        [37, 39, 34, 34, 30, 43,  0,  0,  0,  0,  0,  0,  0,  0,  0,  0]]),\n",
       " ...]"
      ]
     },
     "execution_count": 39,
     "metadata": {},
     "output_type": "execute_result"
    }
   ],
   "source": [
    "X_char_data"
   ]
  },
  {
   "cell_type": "code",
   "execution_count": 40,
   "metadata": {
    "colab": {
     "base_uri": "https://localhost:8080/"
    },
    "id": "fvbZZ4pV7jkl",
    "outputId": "391f3308-a184-475f-ca14-1d41fdf5a812"
   },
   "outputs": [
    {
     "name": "stdout",
     "output_type": "stream",
     "text": [
      "['diversibit', 'kit']\n"
     ]
    }
   ],
   "source": [
    "# 정수 인코딩 이전의 기존 문장\n",
    "print(sentences[0])"
   ]
  },
  {
   "cell_type": "code",
   "execution_count": 41,
   "metadata": {
    "colab": {
     "base_uri": "https://localhost:8080/"
    },
    "id": "424UcyumBi2Y",
    "outputId": "3df91d58-1b7c-4ec5-b270-75aae206449f"
   },
   "outputs": [
    {
     "name": "stdout",
     "output_type": "stream",
     "text": [
      "[2328   32    0    0    0    0    0]\n"
     ]
    }
   ],
   "source": [
    "print(X_data[0])"
   ]
  },
  {
   "cell_type": "code",
   "execution_count": 42,
   "metadata": {
    "colab": {
     "base_uri": "https://localhost:8080/"
    },
    "id": "HuSVDOHhD8Ec",
    "outputId": "cdc10751-ee00-4dc4-9109-c263318c5a5d"
   },
   "outputs": [
    {
     "name": "stdout",
     "output_type": "stream",
     "text": [
      "[[22 27 40 23 36 37 27 20 27 38  0  0  0  0  0  0]\n",
      " [29 27 38  0  0  0  0  0  0  0  0  0  0  0  0  0]]\n"
     ]
    }
   ],
   "source": [
    "print(X_char_data[0])"
   ]
  },
  {
   "cell_type": "code",
   "execution_count": 43,
   "metadata": {
    "id": "ZUuaNklnEHzN"
   },
   "outputs": [],
   "source": [
    "X_char_data = pad_sequences(X_char_data, maxlen=max_len, padding='post', value = 0)"
   ]
  },
  {
   "cell_type": "code",
   "execution_count": 44,
   "metadata": {
    "id": "dC9agARj6uCa"
   },
   "outputs": [],
   "source": [
    "X_char_train, X_char_test, _, _ = train_test_split(X_char_data, y_data, test_size=.2, random_state=777)"
   ]
  },
  {
   "cell_type": "code",
   "execution_count": 45,
   "metadata": {
    "id": "_ukEbj2tBc5r"
   },
   "outputs": [],
   "source": [
    "X_char_train = np.array(X_char_train)\n",
    "X_char_test = np.array(X_char_test)"
   ]
  },
  {
   "cell_type": "code",
   "execution_count": 46,
   "metadata": {
    "colab": {
     "base_uri": "https://localhost:8080/"
    },
    "id": "Odl26mVdEfPm",
    "outputId": "fbb72c9f-a8a3-4fc3-9055-50088b01a4be"
   },
   "outputs": [
    {
     "name": "stdout",
     "output_type": "stream",
     "text": [
      "[2098 1031   97    0    0    0    0]\n"
     ]
    }
   ],
   "source": [
    "print(X_train[0])"
   ]
  },
  {
   "cell_type": "code",
   "execution_count": 47,
   "metadata": {
    "colab": {
     "base_uri": "https://localhost:8080/"
    },
    "id": "_5zCFvf58Q1b",
    "outputId": "e103740a-6aad-4326-e1db-bb15e39ee195"
   },
   "outputs": [
    {
     "name": "stdout",
     "output_type": "stream",
     "text": [
      "door\n"
     ]
    }
   ],
   "source": [
    "print(index_to_word[150])"
   ]
  },
  {
   "cell_type": "code",
   "execution_count": 48,
   "metadata": {
    "colab": {
     "base_uri": "https://localhost:8080/"
    },
    "id": "NIGaJI-_RCA7",
    "outputId": "aa88bf51-2b1b-47e1-a9df-9ccdf321aea8"
   },
   "outputs": [
    {
     "name": "stdout",
     "output_type": "stream",
     "text": [
      "[[24 30 32 25 22  0  0  0  0  0  0  0  0  0  0  0]\n",
      " [30 27 22  0  0  0  0  0  0  0  0  0  0  0  0  0]\n",
      " [23 32 21 30 33 37 39 36 23  0  0  0  0  0  0  0]\n",
      " [ 0  0  0  0  0  0  0  0  0  0  0  0  0  0  0  0]\n",
      " [ 0  0  0  0  0  0  0  0  0  0  0  0  0  0  0  0]\n",
      " [ 0  0  0  0  0  0  0  0  0  0  0  0  0  0  0  0]\n",
      " [ 0  0  0  0  0  0  0  0  0  0  0  0  0  0  0  0]]\n"
     ]
    }
   ],
   "source": [
    "print(X_char_train[0])"
   ]
  },
  {
   "cell_type": "code",
   "execution_count": 49,
   "metadata": {
    "colab": {
     "base_uri": "https://localhost:8080/"
    },
    "id": "EdeauTKoRIqT",
    "outputId": "f2acf438-9606-43a7-9b59-7dfde7896a83"
   },
   "outputs": [
    {
     "name": "stdout",
     "output_type": "stream",
     "text": [
      "[24 30 32 25 22  0  0  0  0  0  0  0  0  0  0  0]\n"
     ]
    }
   ],
   "source": [
    "print(X_char_train[0][0])"
   ]
  },
  {
   "cell_type": "code",
   "execution_count": 50,
   "metadata": {
    "colab": {
     "base_uri": "https://localhost:8080/"
    },
    "id": "2nvdylKuE0_Z",
    "outputId": "e7457b33-ff98-4c42-d972-3bafc98963d1"
   },
   "outputs": [
    {
     "name": "stdout",
     "output_type": "stream",
     "text": [
      "f l n g d PAD PAD PAD PAD PAD PAD PAD PAD PAD PAD PAD\n"
     ]
    }
   ],
   "source": [
    "print(' '.join([index_to_char[index] for index in X_char_train[0][0]]))"
   ]
  },
  {
   "cell_type": "code",
   "execution_count": 51,
   "metadata": {
    "colab": {
     "base_uri": "https://localhost:8080/"
    },
    "id": "QgBR0y8mFWmn",
    "outputId": "e7294bc7-0522-4829-c74b-d6856ede6d31"
   },
   "outputs": [
    {
     "name": "stdout",
     "output_type": "stream",
     "text": [
      "훈련 샘플 문장의 크기 : (8000, 7)\n",
      "훈련 샘플 레이블의 크기 : (8000, 7, 51)\n",
      "훈련 샘플 char 데이터의 크기 : (8000, 7, 16)\n",
      "테스트 샘플 문장의 크기 : (2000, 7)\n",
      "테스트 샘플 레이블의 크기 : (2000, 7, 51)\n"
     ]
    }
   ],
   "source": [
    "print('훈련 샘플 문장의 크기 : {}'.format(X_train.shape))\n",
    "print('훈련 샘플 레이블의 크기 : {}'.format(y_train.shape))\n",
    "print('훈련 샘플 char 데이터의 크기 : {}'.format(X_char_train.shape))\n",
    "print('테스트 샘플 문장의 크기 : {}'.format(X_test.shape))\n",
    "print('테스트 샘플 레이블의 크기 : {}'.format(y_test.shape))"
   ]
  },
  {
   "cell_type": "markdown",
   "metadata": {
    "id": "M5HlLxZEV7kn"
   },
   "source": [
    "# BiLSTM을 이용한 개체명 인식"
   ]
  },
  {
   "cell_type": "markdown",
   "metadata": {
    "id": "8P0QOs4KOayO"
   },
   "source": [
    "## 모델링"
   ]
  },
  {
   "cell_type": "code",
   "execution_count": 52,
   "metadata": {
    "id": "cwvOg6XiWDCO"
   },
   "outputs": [],
   "source": [
    "from tensorflow.keras.models import Sequential\n",
    "from tensorflow.keras.layers import Dense, LSTM, InputLayer, Bidirectional, TimeDistributed, Embedding\n",
    "from tensorflow.keras.optimizers import Adam"
   ]
  },
  {
   "cell_type": "code",
   "execution_count": 53,
   "metadata": {
    "id": "pKE60YszWD-e"
   },
   "outputs": [],
   "source": [
    "embedding_dim = 128\n",
    "hidden_units = 256\n",
    "\n",
    "model = Sequential()\n",
    "model.add(Embedding(vocab_size, embedding_dim, mask_zero=True))\n",
    "model.add(Bidirectional(LSTM(hidden_units, return_sequences=True)))\n",
    "model.add(TimeDistributed(Dense(tag_size, activation=('softmax'))))\n",
    "model.compile(loss='categorical_crossentropy', optimizer=Adam(0.001), metrics=['accuracy'])"
   ]
  },
  {
   "cell_type": "code",
   "execution_count": 54,
   "metadata": {
    "colab": {
     "base_uri": "https://localhost:8080/"
    },
    "id": "tQJb-y9ab0pg",
    "outputId": "aed0db35-3e34-43f6-cfb3-3323a207cd24"
   },
   "outputs": [
    {
     "name": "stdout",
     "output_type": "stream",
     "text": [
      "Model: \"sequential\"\n",
      "_________________________________________________________________\n",
      " Layer (type)                Output Shape              Param #   \n",
      "=================================================================\n",
      " embedding (Embedding)       (None, None, 128)         638336    \n",
      "                                                                 \n",
      " bidirectional (Bidirectiona  (None, None, 512)        788480    \n",
      " l)                                                              \n",
      "                                                                 \n",
      " time_distributed (TimeDistr  (None, None, 51)         26163     \n",
      " ibuted)                                                         \n",
      "                                                                 \n",
      "=================================================================\n",
      "Total params: 1,452,979\n",
      "Trainable params: 1,452,979\n",
      "Non-trainable params: 0\n",
      "_________________________________________________________________\n"
     ]
    }
   ],
   "source": [
    "model.summary()"
   ]
  },
  {
   "cell_type": "code",
   "execution_count": 55,
   "metadata": {
    "colab": {
     "base_uri": "https://localhost:8080/"
    },
    "id": "WRAKp9mSWF5J",
    "outputId": "25a0ad6e-8988-427f-fd0d-f02928266a48"
   },
   "outputs": [
    {
     "name": "stdout",
     "output_type": "stream",
     "text": [
      "Epoch 1/6\n",
      "57/57 [==============================] - 8s 76ms/step - loss: 1.2112 - accuracy: 0.4655 - val_loss: 0.8212 - val_accuracy: 0.5236\n",
      "Epoch 2/6\n",
      "57/57 [==============================] - 3s 50ms/step - loss: 0.7271 - accuracy: 0.5469 - val_loss: 0.6737 - val_accuracy: 0.5889\n",
      "Epoch 3/6\n",
      "57/57 [==============================] - 3s 50ms/step - loss: 0.5736 - accuracy: 0.6444 - val_loss: 0.5968 - val_accuracy: 0.6148\n",
      "Epoch 4/6\n",
      "57/57 [==============================] - 3s 49ms/step - loss: 0.4837 - accuracy: 0.6886 - val_loss: 0.5469 - val_accuracy: 0.6501\n",
      "Epoch 5/6\n",
      "57/57 [==============================] - 3s 48ms/step - loss: 0.4143 - accuracy: 0.7236 - val_loss: 0.5014 - val_accuracy: 0.6768\n",
      "Epoch 6/6\n",
      "57/57 [==============================] - 3s 49ms/step - loss: 0.3503 - accuracy: 0.7623 - val_loss: 0.4799 - val_accuracy: 0.6965\n"
     ]
    }
   ],
   "source": [
    "history = model.fit(X_train, y_train, batch_size=128, epochs=6, validation_split=0.1)"
   ]
  },
  {
   "cell_type": "code",
   "execution_count": 56,
   "metadata": {
    "id": "5qE4zaXuWI_M"
   },
   "outputs": [],
   "source": [
    "model.save('bilstm.h5')"
   ]
  },
  {
   "cell_type": "code",
   "execution_count": 57,
   "metadata": {
    "colab": {
     "base_uri": "https://localhost:8080/"
    },
    "id": "lEyHvNZ4WXE9",
    "outputId": "24a9c94c-ac86-4247-ea9c-0f198e5d14d1"
   },
   "outputs": [
    {
     "name": "stdout",
     "output_type": "stream",
     "text": [
      "1/1 [==============================] - 1s 1s/step\n",
      "단어             |실제값  |예측값\n",
      "-----------------------------------\n",
      "24v              : Other   Other\n",
      "motor            : Other   Type\n",
      "oprtr            : Other   Other\n"
     ]
    }
   ],
   "source": [
    "i = 13 # 확인하고 싶은 테스트용 샘플의 인덱스.\n",
    "y_predicted = model.predict(np.array([X_test[i]])) # 입력한 테스트용 샘플에 대해서 예측 y를 리턴\n",
    "y_predicted = np.argmax(y_predicted, axis=-1) # 확률 벡터를 정수 인코딩으로 변경함.\n",
    "true = np.argmax(y_test[i], -1) # 원-핫 인코딩을 다시 정수 인코딩으로 변경함.\n",
    "\n",
    "print(\"{:15}|{:5}|{}\".format(\"단어\", \"실제값\", \"예측값\"))\n",
    "print(35 * \"-\")\n",
    "\n",
    "for word, tag, pred in zip(X_test[i], true, y_predicted[0]):\n",
    "    if word != 0: # PAD값은 제외함.\n",
    "        print(\"{:17}: {:7} {}\".format(index_to_word[word], index_to_ner[tag], index_to_ner[pred]))"
   ]
  },
  {
   "cell_type": "code",
   "execution_count": 58,
   "metadata": {
    "colab": {
     "base_uri": "https://localhost:8080/",
     "height": 295
    },
    "id": "ubLZsdeAWcM5",
    "outputId": "9c6ce50f-1461-453c-9864-89359ec62e85"
   },
   "outputs": [
    {
     "data": {
      "image/png": "[encoded data removed]",
      "text/plain": [
       "<Figure size 432x288 with 1 Axes>"
      ]
     },
     "metadata": {
      "needs_background": "light"
     },
     "output_type": "display_data"
    }
   ],
   "source": [
    "epochs = range(1, len(history.history['val_loss']) + 1)\n",
    "plt.plot(epochs, history.history['loss'])\n",
    "plt.plot(epochs, history.history['val_loss'])\n",
    "plt.title('model loss')\n",
    "plt.ylabel('loss')\n",
    "plt.xlabel('epoch')\n",
    "plt.legend(['train', 'val'], loc='upper left')\n",
    "plt.show()"
   ]
  },
  {
   "cell_type": "code",
   "execution_count": 59,
   "metadata": {
    "id": "sTq2LfgZ9RAt"
   },
   "outputs": [],
   "source": [
    "from seqeval.metrics import f1_score, classification_report"
   ]
  },
  {
   "cell_type": "code",
   "execution_count": 60,
   "metadata": {
    "id": "4cpU0SDGWerH"
   },
   "outputs": [],
   "source": [
    "def sequences_to_tag(sequences): # 예측값을 index_to_ner를 사용하여 태깅 정보로 변경하는 함수.\n",
    "    result = []\n",
    "    for sequence in sequences: # 전체 시퀀스로부터 시퀀스를 하나씩 꺼낸다.\n",
    "        temp = []\n",
    "        for pred in sequence: # 시퀀스로부터 예측값을 하나씩 꺼낸다.\n",
    "            pred_index = np.argmax(pred) # 예를 들어 [0, 0, 1, 0 ,0]라면 1의 인덱스인 2를 리턴한다.\n",
    "            temp.append(index_to_ner[pred_index].replace(\"PAD\", \"O\")) # 'PAD'는 'O'로 변경\n",
    "        result.append(temp)\n",
    "    return result"
   ]
  },
  {
   "cell_type": "code",
   "execution_count": 61,
   "metadata": {
    "id": "JHhSt-loWhc-"
   },
   "outputs": [
    {
     "name": "stdout",
     "output_type": "stream",
     "text": [
      "63/63 [==============================] - 2s 8ms/step\n"
     ]
    }
   ],
   "source": [
    "y_predicted = model.predict([X_test])\n",
    "pred_tags = sequences_to_tag(y_predicted)\n",
    "test_tags = sequences_to_tag(y_test)"
   ]
  },
  {
   "cell_type": "code",
   "execution_count": 62,
   "metadata": {
    "colab": {
     "base_uri": "https://localhost:8080/"
    },
    "id": "1djczWAQWlSH",
    "outputId": "876fc212-d8ef-433e-c3b8-83309995a3eb"
   },
   "outputs": [
    {
     "name": "stderr",
     "output_type": "stream",
     "text": [
      "C:\\Users\\xx07230\\Anaconda3\\envs\\smart_warehouse\\lib\\site-packages\\seqeval\\metrics\\sequence_labeling.py:171: UserWarning: Other seems not to be NE tag.\n",
      "  warnings.warn('{} seems not to be NE tag.'.format(chunk))\n",
      "C:\\Users\\xx07230\\Anaconda3\\envs\\smart_warehouse\\lib\\site-packages\\seqeval\\metrics\\sequence_labeling.py:171: UserWarning: Material seems not to be NE tag.\n",
      "  warnings.warn('{} seems not to be NE tag.'.format(chunk))\n",
      "C:\\Users\\xx07230\\Anaconda3\\envs\\smart_warehouse\\lib\\site-packages\\seqeval\\metrics\\sequence_labeling.py:171: UserWarning: Type seems not to be NE tag.\n",
      "  warnings.warn('{} seems not to be NE tag.'.format(chunk))\n",
      "C:\\Users\\xx07230\\Anaconda3\\envs\\smart_warehouse\\lib\\site-packages\\seqeval\\metrics\\sequence_labeling.py:171: UserWarning: Voltage seems not to be NE tag.\n",
      "  warnings.warn('{} seems not to be NE tag.'.format(chunk))\n",
      "C:\\Users\\xx07230\\Anaconda3\\envs\\smart_warehouse\\lib\\site-packages\\seqeval\\metrics\\sequence_labeling.py:171: UserWarning: Color seems not to be NE tag.\n",
      "  warnings.warn('{} seems not to be NE tag.'.format(chunk))\n",
      "C:\\Users\\xx07230\\Anaconda3\\envs\\smart_warehouse\\lib\\site-packages\\seqeval\\metrics\\sequence_labeling.py:171: UserWarning: Trade Size seems not to be NE tag.\n",
      "  warnings.warn('{} seems not to be NE tag.'.format(chunk))\n",
      "C:\\Users\\xx07230\\Anaconda3\\envs\\smart_warehouse\\lib\\site-packages\\seqeval\\metrics\\sequence_labeling.py:171: UserWarning: Size seems not to be NE tag.\n",
      "  warnings.warn('{} seems not to be NE tag.'.format(chunk))\n",
      "C:\\Users\\xx07230\\Anaconda3\\envs\\smart_warehouse\\lib\\site-packages\\seqeval\\metrics\\sequence_labeling.py:171: UserWarning: Length seems not to be NE tag.\n",
      "  warnings.warn('{} seems not to be NE tag.'.format(chunk))\n",
      "C:\\Users\\xx07230\\Anaconda3\\envs\\smart_warehouse\\lib\\site-packages\\seqeval\\metrics\\sequence_labeling.py:171: UserWarning: Application seems not to be NE tag.\n",
      "  warnings.warn('{} seems not to be NE tag.'.format(chunk))\n",
      "C:\\Users\\xx07230\\Anaconda3\\envs\\smart_warehouse\\lib\\site-packages\\seqeval\\metrics\\sequence_labeling.py:171: UserWarning: Phase seems not to be NE tag.\n",
      "  warnings.warn('{} seems not to be NE tag.'.format(chunk))\n",
      "C:\\Users\\xx07230\\Anaconda3\\envs\\smart_warehouse\\lib\\site-packages\\seqeval\\metrics\\sequence_labeling.py:171: UserWarning: 3 Phase Drive Horsepower Rating seems not to be NE tag.\n",
      "  warnings.warn('{} seems not to be NE tag.'.format(chunk))\n",
      "C:\\Users\\xx07230\\Anaconda3\\envs\\smart_warehouse\\lib\\site-packages\\seqeval\\metrics\\sequence_labeling.py:171: UserWarning: Amps seems not to be NE tag.\n",
      "  warnings.warn('{} seems not to be NE tag.'.format(chunk))\n",
      "C:\\Users\\xx07230\\Anaconda3\\envs\\smart_warehouse\\lib\\site-packages\\seqeval\\metrics\\sequence_labeling.py:171: UserWarning: Drive seems not to be NE tag.\n",
      "  warnings.warn('{} seems not to be NE tag.'.format(chunk))\n",
      "C:\\Users\\xx07230\\Anaconda3\\envs\\smart_warehouse\\lib\\site-packages\\seqeval\\metrics\\sequence_labeling.py:171: UserWarning: Point seems not to be NE tag.\n",
      "  warnings.warn('{} seems not to be NE tag.'.format(chunk))\n",
      "C:\\Users\\xx07230\\Anaconda3\\envs\\smart_warehouse\\lib\\site-packages\\seqeval\\metrics\\sequence_labeling.py:171: UserWarning: Height seems not to be NE tag.\n",
      "  warnings.warn('{} seems not to be NE tag.'.format(chunk))\n",
      "C:\\Users\\xx07230\\Anaconda3\\envs\\smart_warehouse\\lib\\site-packages\\seqeval\\metrics\\sequence_labeling.py:171: UserWarning: Depth seems not to be NE tag.\n",
      "  warnings.warn('{} seems not to be NE tag.'.format(chunk))\n",
      "C:\\Users\\xx07230\\Anaconda3\\envs\\smart_warehouse\\lib\\site-packages\\seqeval\\metrics\\sequence_labeling.py:171: UserWarning: NEMA seems not to be NE tag.\n",
      "  warnings.warn('{} seems not to be NE tag.'.format(chunk))\n",
      "C:\\Users\\xx07230\\Anaconda3\\envs\\smart_warehouse\\lib\\site-packages\\seqeval\\metrics\\sequence_labeling.py:171: UserWarning: Coil Voltage seems not to be NE tag.\n",
      "  warnings.warn('{} seems not to be NE tag.'.format(chunk))\n",
      "C:\\Users\\xx07230\\Anaconda3\\envs\\smart_warehouse\\lib\\site-packages\\seqeval\\metrics\\sequence_labeling.py:171: UserWarning: Number of Poles seems not to be NE tag.\n",
      "  warnings.warn('{} seems not to be NE tag.'.format(chunk))\n",
      "C:\\Users\\xx07230\\Anaconda3\\envs\\smart_warehouse\\lib\\site-packages\\seqeval\\metrics\\sequence_labeling.py:171: UserWarning: Stud Holes seems not to be NE tag.\n",
      "  warnings.warn('{} seems not to be NE tag.'.format(chunk))\n",
      "C:\\Users\\xx07230\\Anaconda3\\envs\\smart_warehouse\\lib\\site-packages\\seqeval\\metrics\\sequence_labeling.py:171: UserWarning: Installation seems not to be NE tag.\n",
      "  warnings.warn('{} seems not to be NE tag.'.format(chunk))\n",
      "C:\\Users\\xx07230\\Anaconda3\\envs\\smart_warehouse\\lib\\site-packages\\seqeval\\metrics\\sequence_labeling.py:171: UserWarning: Width seems not to be NE tag.\n",
      "  warnings.warn('{} seems not to be NE tag.'.format(chunk))\n",
      "C:\\Users\\xx07230\\Anaconda3\\envs\\smart_warehouse\\lib\\site-packages\\seqeval\\metrics\\sequence_labeling.py:171: UserWarning: Diameter seems not to be NE tag.\n",
      "  warnings.warn('{} seems not to be NE tag.'.format(chunk))\n",
      "C:\\Users\\xx07230\\Anaconda3\\envs\\smart_warehouse\\lib\\site-packages\\seqeval\\metrics\\sequence_labeling.py:171: UserWarning: Speed Rating seems not to be NE tag.\n",
      "  warnings.warn('{} seems not to be NE tag.'.format(chunk))\n",
      "C:\\Users\\xx07230\\Anaconda3\\envs\\smart_warehouse\\lib\\site-packages\\seqeval\\metrics\\sequence_labeling.py:171: UserWarning: Voltage Maximum seems not to be NE tag.\n",
      "  warnings.warn('{} seems not to be NE tag.'.format(chunk))\n",
      "C:\\Users\\xx07230\\Anaconda3\\envs\\smart_warehouse\\lib\\site-packages\\seqeval\\metrics\\sequence_labeling.py:171: UserWarning: Assembly Type seems not to be NE tag.\n",
      "  warnings.warn('{} seems not to be NE tag.'.format(chunk))\n",
      "C:\\Users\\xx07230\\Anaconda3\\envs\\smart_warehouse\\lib\\site-packages\\seqeval\\metrics\\sequence_labeling.py:171: UserWarning: Cable Type seems not to be NE tag.\n",
      "  warnings.warn('{} seems not to be NE tag.'.format(chunk))\n",
      "C:\\Users\\xx07230\\Anaconda3\\envs\\smart_warehouse\\lib\\site-packages\\seqeval\\metrics\\sequence_labeling.py:171: UserWarning: Conductor Count seems not to be NE tag.\n",
      "  warnings.warn('{} seems not to be NE tag.'.format(chunk))\n",
      "C:\\Users\\xx07230\\Anaconda3\\envs\\smart_warehouse\\lib\\site-packages\\seqeval\\metrics\\sequence_labeling.py:171: UserWarning: Socket Depth seems not to be NE tag.\n",
      "  warnings.warn('{} seems not to be NE tag.'.format(chunk))\n",
      "C:\\Users\\xx07230\\Anaconda3\\envs\\smart_warehouse\\lib\\site-packages\\seqeval\\metrics\\sequence_labeling.py:171: UserWarning: Connector Type seems not to be NE tag.\n",
      "  warnings.warn('{} seems not to be NE tag.'.format(chunk))\n",
      "C:\\Users\\xx07230\\Anaconda3\\envs\\smart_warehouse\\lib\\site-packages\\seqeval\\metrics\\sequence_labeling.py:171: UserWarning: Use With seems not to be NE tag.\n",
      "  warnings.warn('{} seems not to be NE tag.'.format(chunk))\n",
      "C:\\Users\\xx07230\\Anaconda3\\envs\\smart_warehouse\\lib\\site-packages\\seqeval\\metrics\\sequence_labeling.py:171: UserWarning: Label Width seems not to be NE tag.\n",
      "  warnings.warn('{} seems not to be NE tag.'.format(chunk))\n",
      "C:\\Users\\xx07230\\Anaconda3\\envs\\smart_warehouse\\lib\\site-packages\\seqeval\\metrics\\sequence_labeling.py:171: UserWarning: Edge Thickness seems not to be NE tag.\n",
      "  warnings.warn('{} seems not to be NE tag.'.format(chunk))\n",
      "C:\\Users\\xx07230\\Anaconda3\\envs\\smart_warehouse\\lib\\site-packages\\seqeval\\metrics\\sequence_labeling.py:171: UserWarning: Mounting Size seems not to be NE tag.\n",
      "  warnings.warn('{} seems not to be NE tag.'.format(chunk))\n",
      "C:\\Users\\xx07230\\Anaconda3\\envs\\smart_warehouse\\lib\\site-packages\\seqeval\\metrics\\sequence_labeling.py:171: UserWarning: Overload Relay seems not to be NE tag.\n",
      "  warnings.warn('{} seems not to be NE tag.'.format(chunk))\n",
      "C:\\Users\\xx07230\\Anaconda3\\envs\\smart_warehouse\\lib\\site-packages\\seqeval\\metrics\\sequence_labeling.py:171: UserWarning: Conductor Type seems not to be NE tag.\n",
      "  warnings.warn('{} seems not to be NE tag.'.format(chunk))\n",
      "C:\\Users\\xx07230\\Anaconda3\\envs\\smart_warehouse\\lib\\site-packages\\seqeval\\metrics\\sequence_labeling.py:171: UserWarning: Drive Size seems not to be NE tag.\n",
      "  warnings.warn('{} seems not to be NE tag.'.format(chunk))\n",
      "C:\\Users\\xx07230\\Anaconda3\\envs\\smart_warehouse\\lib\\site-packages\\seqeval\\metrics\\sequence_labeling.py:171: UserWarning: Lamp Type seems not to be NE tag.\n",
      "  warnings.warn('{} seems not to be NE tag.'.format(chunk))\n",
      "C:\\Users\\xx07230\\Anaconda3\\envs\\smart_warehouse\\lib\\site-packages\\seqeval\\metrics\\sequence_labeling.py:171: UserWarning: Capacity seems not to be NE tag.\n",
      "  warnings.warn('{} seems not to be NE tag.'.format(chunk))\n",
      "C:\\Users\\xx07230\\Anaconda3\\envs\\smart_warehouse\\lib\\site-packages\\seqeval\\metrics\\sequence_labeling.py:171: UserWarning: Watts seems not to be NE tag.\n",
      "  warnings.warn('{} seems not to be NE tag.'.format(chunk))\n",
      "C:\\Users\\xx07230\\Anaconda3\\envs\\smart_warehouse\\lib\\site-packages\\seqeval\\metrics\\sequence_labeling.py:171: UserWarning: Fixture Type seems not to be NE tag.\n",
      "  warnings.warn('{} seems not to be NE tag.'.format(chunk))\n",
      "C:\\Users\\xx07230\\Anaconda3\\envs\\smart_warehouse\\lib\\site-packages\\seqeval\\metrics\\sequence_labeling.py:171: UserWarning: Category seems not to be NE tag.\n",
      "  warnings.warn('{} seems not to be NE tag.'.format(chunk))\n",
      "C:\\Users\\xx07230\\Anaconda3\\envs\\smart_warehouse\\lib\\site-packages\\seqeval\\metrics\\sequence_labeling.py:171: UserWarning: Grade seems not to be NE tag.\n",
      "  warnings.warn('{} seems not to be NE tag.'.format(chunk))\n",
      "C:\\Users\\xx07230\\Anaconda3\\envs\\smart_warehouse\\lib\\site-packages\\seqeval\\metrics\\sequence_labeling.py:171: UserWarning: For Use With seems not to be NE tag.\n",
      "  warnings.warn('{} seems not to be NE tag.'.format(chunk))\n",
      "C:\\Users\\xx07230\\Anaconda3\\envs\\smart_warehouse\\lib\\site-packages\\seqeval\\metrics\\sequence_labeling.py:171: UserWarning: Legend - Number seems not to be NE tag.\n",
      "  warnings.warn('{} seems not to be NE tag.'.format(chunk))\n",
      "C:\\Users\\xx07230\\Anaconda3\\envs\\smart_warehouse\\lib\\site-packages\\seqeval\\metrics\\v1.py:57: UndefinedMetricWarning: Precision and F-score are ill-defined and being set to 0.0 in labels with no predicted samples. Use `zero_division` parameter to control this behavior.\n",
      "  _warn_prf(average, modifier, msg_start, len(result))\n"
     ]
    },
    {
     "name": "stdout",
     "output_type": "stream",
     "text": [
      "                                precision    recall  f1-score   support\n",
      "\n",
      "                        Number       0.33      0.33      0.33         3\n",
      " Phase Drive Horsepower Rating       0.93      0.91      0.92        74\n",
      "                           EMA       0.00      0.00      0.00        46\n",
      "                    abel Width       0.00      0.00      0.00         4\n",
      "                     able Type       0.00      0.03      0.00        31\n",
      "                      amp Type       0.00      0.00      0.00        16\n",
      "                       apacity       0.00      0.00      0.00         5\n",
      "                       ategory       0.00      0.00      0.00         5\n",
      "                       aterial       0.36      0.29      0.32       103\n",
      "                          atts       0.00      0.00      0.00        10\n",
      "                 dge Thickness       0.00      0.00      0.00         1\n",
      "                         eight       0.18      0.16      0.17        31\n",
      "                         ength       0.57      0.06      0.11        66\n",
      "                          epth       0.35      0.35      0.35        31\n",
      "                          hase       1.00      0.84      0.91        74\n",
      "                       iameter       0.00      0.00      0.00        13\n",
      "                          idth       0.20      0.15      0.17        20\n",
      "                   ixture Type       0.00      0.00      0.00         9\n",
      "                           ize       0.48      0.45      0.46        69\n",
      "                           mps       0.79      0.68      0.73       145\n",
      "                   nstallation       0.00      0.00      0.00        24\n",
      "                   ocket Depth       0.36      0.26      0.30        19\n",
      "                   oil Voltage       0.73      0.67      0.70        69\n",
      "                          oint       0.24      0.22      0.23        23\n",
      "                          olor       0.33      0.01      0.03        71\n",
      "                        oltage       0.67      0.37      0.47       101\n",
      "                oltage Maximum       0.54      0.81      0.65        77\n",
      "                onductor Count       0.00      0.00      0.00         4\n",
      "                 onductor Type       0.00      0.00      0.00        10\n",
      "                 onnector Type       0.00      0.00      0.00        20\n",
      "                   or Use With       0.00      0.00      0.00         1\n",
      "                  ounting Size       0.00      0.00      0.00         1\n",
      "                   peed Rating       0.70      0.96      0.81        51\n",
      "                    pplication       0.00      0.00      0.00        44\n",
      "                          rade       0.00      0.00      0.00         4\n",
      "                     rade Size       0.60      0.56      0.58        57\n",
      "                          rive       0.52      0.49      0.50        35\n",
      "                     rive Size       0.44      0.30      0.36        27\n",
      "                       se With       0.00      0.00      0.00         1\n",
      "                  ssembly Type       0.25      0.06      0.10        16\n",
      "                     tud Holes       0.00      0.00      0.00        12\n",
      "                umber of Poles       0.78      0.92      0.84       120\n",
      "                           ype       0.58      0.61      0.59      1145\n",
      "\n",
      "                     micro avg       0.32      0.51      0.40      2688\n",
      "                     macro avg       0.28      0.24      0.25      2688\n",
      "                  weighted avg       0.54      0.51      0.51      2688\n",
      "\n"
     ]
    }
   ],
   "source": [
    "print(classification_report(test_tags, pred_tags))"
   ]
  },
  {
   "cell_type": "markdown",
   "metadata": {
    "id": "FbQE34bSOdhP"
   },
   "source": [
    "## 성능"
   ]
  },
  {
   "cell_type": "code",
   "execution_count": 63,
   "metadata": {
    "colab": {
     "base_uri": "https://localhost:8080/"
    },
    "id": "M00m3njrWoNd",
    "outputId": "96a098f5-9e3e-44ec-dc91-414cec2ea45c"
   },
   "outputs": [
    {
     "name": "stdout",
     "output_type": "stream",
     "text": [
      "F1-score: 39.6%\n"
     ]
    }
   ],
   "source": [
    "print(\"F1-score: {:.1%}\".format(f1_score(test_tags, pred_tags)))"
   ]
  },
  {
   "cell_type": "markdown",
   "metadata": {
    "id": "MJIMCtl9Acxp"
   },
   "source": [
    "# BiLSTM-CRF를 이용한 개체명인식"
   ]
  },
  {
   "cell_type": "markdown",
   "metadata": {
    "id": "o9Xi26XHOhbv"
   },
   "source": [
    "## 모델링"
   ]
  },
  {
   "cell_type": "code",
   "execution_count": 64,
   "metadata": {
    "id": "ccSUZlLYGga1"
   },
   "outputs": [],
   "source": [
    "import tensorflow as tf\n",
    "from tensorflow.keras import Model\n",
    "from tensorflow.keras.layers import Dense, LSTM, Input, Bidirectional, TimeDistributed, Embedding, Dropout\n",
    "from tensorflow.keras.callbacks import EarlyStopping, ModelCheckpoint\n",
    "from keras_crf import CRFModel\n",
    "from seqeval.metrics import f1_score, classification_report"
   ]
  },
  {
   "cell_type": "code",
   "execution_count": 65,
   "metadata": {
    "colab": {
     "base_uri": "https://localhost:8080/"
    },
    "id": "CVvgFVt3llwU",
    "outputId": "97fb67ef-d6fa-4787-cc10-5d171a4f8ab2"
   },
   "outputs": [
    {
     "name": "stdout",
     "output_type": "stream",
     "text": [
      "Model: \"crf_model\"\n",
      "__________________________________________________________________________________________________\n",
      " Layer (type)                   Output Shape         Param #     Connected to                     \n",
      "==================================================================================================\n",
      " sequence_input (InputLayer)    [(None, 7)]          0           []                               \n",
      "                                                                                                  \n",
      " embedding_1 (Embedding)        (None, 7, 128)       638336      ['sequence_input[0][0]']         \n",
      "                                                                                                  \n",
      " bidirectional_1 (Bidirectional  (None, 7, 128)      98816       ['embedding_1[0][0]']            \n",
      " )                                                                                                \n",
      "                                                                                                  \n",
      " time_distributed_1 (TimeDistri  (None, 7, 128)      0           ['bidirectional_1[0][0]']        \n",
      " buted)                                                                                           \n",
      "                                                                                                  \n",
      " time_distributed_2 (TimeDistri  (None, 7, 51)       6579        ['time_distributed_1[0][0]']     \n",
      " buted)                                                                                           \n",
      "                                                                                                  \n",
      " crf (CRF)                      [(None, 7),          5355        ['time_distributed_2[0][0]']     \n",
      "                                 (None, 7, 51),                                                   \n",
      "                                 (None,),                                                         \n",
      "                                 (51, 51)]                                                        \n",
      "                                                                                                  \n",
      " decode_sequence (Lambda)       (None, 7)            0           ['crf[0][0]']                    \n",
      "                                                                                                  \n",
      " potentials (Lambda)            (None, 7, 51)        0           ['crf[0][1]']                    \n",
      "                                                                                                  \n",
      " sequence_length (Lambda)       (None,)              0           ['crf[0][2]']                    \n",
      "                                                                                                  \n",
      " kernel (Lambda)                (51, 51)             0           ['crf[0][3]']                    \n",
      "                                                                                                  \n",
      "==================================================================================================\n",
      "Total params: 749,086\n",
      "Trainable params: 749,086\n",
      "Non-trainable params: 0\n",
      "__________________________________________________________________________________________________\n"
     ]
    }
   ],
   "source": [
    "embedding_dim = 128\n",
    "hidden_units = 64\n",
    "dropout_ratio = 0.3\n",
    "\n",
    "sequence_input = Input(shape=(max_len,),dtype=tf.int32, name='sequence_input')\n",
    "\n",
    "model_embedding = Embedding(input_dim=vocab_size,\n",
    "                            output_dim=embedding_dim,\n",
    "                            input_length=max_len)(sequence_input)\n",
    "\n",
    "model_bilstm = Bidirectional(LSTM(units=hidden_units, return_sequences=True))(model_embedding)\n",
    "\n",
    "model_dropout = TimeDistributed(Dropout(dropout_ratio))(model_bilstm)\n",
    "\n",
    "model_dense = TimeDistributed(Dense(tag_size, activation='relu'))(model_dropout)\n",
    "\n",
    "base = Model(inputs=sequence_input, outputs=model_dense)\n",
    "model = CRFModel(base, tag_size)\n",
    "model.compile(optimizer=tf.keras.optimizers.Adam(0.001), metrics='accuracy')\n",
    "model.summary()"
   ]
  },
  {
   "cell_type": "code",
   "execution_count": 66,
   "metadata": {
    "id": "jv3m451klwxt"
   },
   "outputs": [],
   "source": [
    "es = EarlyStopping(monitor='val_loss', mode='min', verbose=1, patience=4)\n",
    "mc = ModelCheckpoint('bilstm_crf/cp.ckpt', monitor='val_decode_sequence_accuracy', mode='max', verbose=1, save_best_only=True, save_weights_only=True)"
   ]
  },
  {
   "cell_type": "code",
   "execution_count": 67,
   "metadata": {
    "colab": {
     "base_uri": "https://localhost:8080/"
    },
    "id": "NYUs5NYDl4_x",
    "outputId": "427eb8e8-f721-4c14-a79c-1d9312b08496"
   },
   "outputs": [
    {
     "name": "stdout",
     "output_type": "stream",
     "text": [
      "Epoch 1/15\n",
      "55/57 [===========================>..] - ETA: 0s - decode_sequence_accuracy: 0.6158 - loss: 16.1751\n",
      "Epoch 1: val_decode_sequence_accuracy improved from -inf to 0.75946, saving model to bilstm_crf\\cp.ckpt\n",
      "57/57 [==============================] - 6s 40ms/step - decode_sequence_accuracy: 0.6183 - loss: 15.7585 - val_decode_sequence_accuracy: 0.7595 - val_loss: 7.0782\n",
      "Epoch 2/15\n",
      "55/57 [===========================>..] - ETA: 0s - decode_sequence_accuracy: 0.7781 - loss: 6.1269\n",
      "Epoch 2: val_decode_sequence_accuracy improved from 0.75946 to 0.79607, saving model to bilstm_crf\\cp.ckpt\n",
      "57/57 [==============================] - 1s 26ms/step - decode_sequence_accuracy: 0.7785 - loss: 6.1052 - val_decode_sequence_accuracy: 0.7961 - val_loss: 6.0539\n",
      "Epoch 3/15\n",
      "57/57 [==============================] - ETA: 0s - decode_sequence_accuracy: 0.8136 - loss: 5.3287\n",
      "Epoch 3: val_decode_sequence_accuracy improved from 0.79607 to 0.80571, saving model to bilstm_crf\\cp.ckpt\n",
      "57/57 [==============================] - 1s 26ms/step - decode_sequence_accuracy: 0.8136 - loss: 5.3365 - val_decode_sequence_accuracy: 0.8057 - val_loss: 5.4254\n",
      "Epoch 4/15\n",
      "57/57 [==============================] - ETA: 0s - decode_sequence_accuracy: 0.8344 - loss: 4.6416\n",
      "Epoch 4: val_decode_sequence_accuracy improved from 0.80571 to 0.82000, saving model to bilstm_crf\\cp.ckpt\n",
      "57/57 [==============================] - 1s 26ms/step - decode_sequence_accuracy: 0.8344 - loss: 4.6406 - val_decode_sequence_accuracy: 0.8200 - val_loss: 4.8038\n",
      "Epoch 5/15\n",
      "57/57 [==============================] - ETA: 0s - decode_sequence_accuracy: 0.8486 - loss: 4.0266\n",
      "Epoch 5: val_decode_sequence_accuracy improved from 0.82000 to 0.82946, saving model to bilstm_crf\\cp.ckpt\n",
      "57/57 [==============================] - 1s 26ms/step - decode_sequence_accuracy: 0.8486 - loss: 4.0261 - val_decode_sequence_accuracy: 0.8295 - val_loss: 4.3049\n",
      "Epoch 6/15\n",
      "56/57 [============================>.] - ETA: 0s - decode_sequence_accuracy: 0.8621 - loss: 3.6027\n",
      "Epoch 6: val_decode_sequence_accuracy improved from 0.82946 to 0.83393, saving model to bilstm_crf\\cp.ckpt\n",
      "57/57 [==============================] - 1s 26ms/step - decode_sequence_accuracy: 0.8621 - loss: 3.5843 - val_decode_sequence_accuracy: 0.8339 - val_loss: 3.9387\n",
      "Epoch 7/15\n",
      "57/57 [==============================] - ETA: 0s - decode_sequence_accuracy: 0.8694 - loss: 3.2953\n",
      "Epoch 7: val_decode_sequence_accuracy improved from 0.83393 to 0.84375, saving model to bilstm_crf\\cp.ckpt\n",
      "57/57 [==============================] - 1s 26ms/step - decode_sequence_accuracy: 0.8694 - loss: 3.2902 - val_decode_sequence_accuracy: 0.8438 - val_loss: 3.8204\n",
      "Epoch 8/15\n",
      "55/57 [===========================>..] - ETA: 0s - decode_sequence_accuracy: 0.8750 - loss: 3.0602\n",
      "Epoch 8: val_decode_sequence_accuracy improved from 0.84375 to 0.84500, saving model to bilstm_crf\\cp.ckpt\n",
      "57/57 [==============================] - 2s 27ms/step - decode_sequence_accuracy: 0.8751 - loss: 3.0784 - val_decode_sequence_accuracy: 0.8450 - val_loss: 3.6003\n",
      "Epoch 9/15\n",
      "56/57 [============================>.] - ETA: 0s - decode_sequence_accuracy: 0.8825 - loss: 2.8198\n",
      "Epoch 9: val_decode_sequence_accuracy improved from 0.84500 to 0.85446, saving model to bilstm_crf\\cp.ckpt\n",
      "57/57 [==============================] - 1s 26ms/step - decode_sequence_accuracy: 0.8827 - loss: 2.8016 - val_decode_sequence_accuracy: 0.8545 - val_loss: 3.4497\n",
      "Epoch 10/15\n",
      "56/57 [============================>.] - ETA: 0s - decode_sequence_accuracy: 0.8933 - loss: 2.5617\n",
      "Epoch 10: val_decode_sequence_accuracy improved from 0.85446 to 0.86089, saving model to bilstm_crf\\cp.ckpt\n",
      "57/57 [==============================] - 1s 26ms/step - decode_sequence_accuracy: 0.8934 - loss: 2.5471 - val_decode_sequence_accuracy: 0.8609 - val_loss: 3.3024\n",
      "Epoch 11/15\n",
      "56/57 [============================>.] - ETA: 0s - decode_sequence_accuracy: 0.9009 - loss: 2.3156\n",
      "Epoch 11: val_decode_sequence_accuracy improved from 0.86089 to 0.86500, saving model to bilstm_crf\\cp.ckpt\n",
      "57/57 [==============================] - 1s 26ms/step - decode_sequence_accuracy: 0.9010 - loss: 2.3168 - val_decode_sequence_accuracy: 0.8650 - val_loss: 3.2914\n",
      "Epoch 12/15\n",
      "56/57 [============================>.] - ETA: 0s - decode_sequence_accuracy: 0.9104 - loss: 2.0835\n",
      "Epoch 12: val_decode_sequence_accuracy improved from 0.86500 to 0.86750, saving model to bilstm_crf\\cp.ckpt\n",
      "57/57 [==============================] - 1s 26ms/step - decode_sequence_accuracy: 0.9105 - loss: 2.0564 - val_decode_sequence_accuracy: 0.8675 - val_loss: 3.1888\n",
      "Epoch 13/15\n",
      "56/57 [============================>.] - ETA: 0s - decode_sequence_accuracy: 0.9176 - loss: 1.8903\n",
      "Epoch 13: val_decode_sequence_accuracy improved from 0.86750 to 0.87179, saving model to bilstm_crf\\cp.ckpt\n",
      "57/57 [==============================] - 1s 26ms/step - decode_sequence_accuracy: 0.9176 - loss: 1.8934 - val_decode_sequence_accuracy: 0.8718 - val_loss: 3.2897\n",
      "Epoch 14/15\n",
      "55/57 [===========================>..] - ETA: 0s - decode_sequence_accuracy: 0.9252 - loss: 1.7175\n",
      "Epoch 14: val_decode_sequence_accuracy improved from 0.87179 to 0.87500, saving model to bilstm_crf\\cp.ckpt\n",
      "57/57 [==============================] - 1s 26ms/step - decode_sequence_accuracy: 0.9252 - loss: 1.7195 - val_decode_sequence_accuracy: 0.8750 - val_loss: 3.2621\n",
      "Epoch 15/15\n",
      "55/57 [===========================>..] - ETA: 0s - decode_sequence_accuracy: 0.9306 - loss: 1.5814\n",
      "Epoch 15: val_decode_sequence_accuracy improved from 0.87500 to 0.87696, saving model to bilstm_crf\\cp.ckpt\n",
      "57/57 [==============================] - 1s 26ms/step - decode_sequence_accuracy: 0.9303 - loss: 1.5931 - val_decode_sequence_accuracy: 0.8770 - val_loss: 3.2908\n"
     ]
    }
   ],
   "source": [
    "history = model.fit(X_train, y_train_int, batch_size=128, epochs=15, validation_split=0.1, callbacks=[mc, es])"
   ]
  },
  {
   "cell_type": "code",
   "execution_count": 68,
   "metadata": {
    "colab": {
     "base_uri": "https://localhost:8080/"
    },
    "id": "p5UqeRqwre2t",
    "outputId": "c7d80748-85d5-437c-88cd-adb01a57f344"
   },
   "outputs": [
    {
     "data": {
      "text/plain": [
       "<tensorflow.python.checkpoint.checkpoint.CheckpointLoadStatus at 0x238f58c2f70>"
      ]
     },
     "execution_count": 68,
     "metadata": {},
     "output_type": "execute_result"
    }
   ],
   "source": [
    "model.load_weights('bilstm_crf/cp.ckpt')"
   ]
  },
  {
   "cell_type": "code",
   "execution_count": 69,
   "metadata": {
    "colab": {
     "base_uri": "https://localhost:8080/"
    },
    "id": "y2ojsYdHH4vA",
    "outputId": "852855be-e993-41a2-bb00-5778d7bebfa6"
   },
   "outputs": [
    {
     "name": "stdout",
     "output_type": "stream",
     "text": [
      "1/1 [==============================] - 1s 592ms/step\n",
      "단어             |실제값  |예측값\n",
      "-----------------------------------\n",
      "24v              : Other   Other\n",
      "motor            : Other   Other\n",
      "oprtr            : Other   Other\n"
     ]
    }
   ],
   "source": [
    "i = 13 # 확인하고 싶은 테스트용 샘플의 인덱스.\n",
    "y_predicted = model.predict(np.array([X_test[i]]))[0] # 입력한 테스트용 샘플에 대해서 예측 y를 리턴\n",
    "true = np.argmax(y_test[i], -1) # 원-핫 인코딩을 다시 정수 인코딩으로 변경함.\n",
    "\n",
    "print(\"{:15}|{:5}|{}\".format(\"단어\", \"실제값\", \"예측값\"))\n",
    "print(35 * \"-\")\n",
    "\n",
    "for word, tag, pred in zip(X_test[i], true, y_predicted[0]):\n",
    "    if word != 0: # PAD값은 제외함.\n",
    "        print(\"{:17}: {:7} {}\".format(index_to_word[word], index_to_ner[tag], index_to_ner[pred]))"
   ]
  },
  {
   "cell_type": "code",
   "execution_count": 70,
   "metadata": {
    "id": "QyrXGm8sm9Xl"
   },
   "outputs": [
    {
     "name": "stdout",
     "output_type": "stream",
     "text": [
      "63/63 [==============================] - 0s 3ms/step\n"
     ]
    }
   ],
   "source": [
    "y_predicted = model.predict(X_test)[0]"
   ]
  },
  {
   "cell_type": "code",
   "execution_count": 71,
   "metadata": {
    "id": "fz3ataXrnFNj"
   },
   "outputs": [],
   "source": [
    "def sequences_to_tag(sequences): # 예측값을 index_to_ner를 사용하여 태깅 정보로 변경하는 함수.\n",
    "    result = []\n",
    "    for sequence in sequences: # 전체 시퀀스로부터 시퀀스를 하나씩 꺼낸다.\n",
    "        temp = []\n",
    "        for pred in sequence: # 시퀀스로부터 예측값을 하나씩 꺼낸다.\n",
    "            pred_index = np.argmax(pred) # 예를 들어 [0, 0, 1, 0 ,0]라면 1의 인덱스인 2를 리턴한다.\n",
    "            temp.append(index_to_ner[pred_index].replace(\"PAD\", \"O\")) # 'PAD'는 'O'로 변경\n",
    "        result.append(temp)\n",
    "    return result"
   ]
  },
  {
   "cell_type": "code",
   "execution_count": 72,
   "metadata": {
    "id": "UHgc7HhZm-cs"
   },
   "outputs": [],
   "source": [
    "def sequences_to_tag_for_crf(sequences): # 예측값을 index_to_ner를 사용하여 태깅 정보로 변경하는 함수.\n",
    "    result = []\n",
    "    for sequence in sequences: # 전체 시퀀스로부터 시퀀스를 하나씩 꺼낸다.\n",
    "        temp = []\n",
    "        for pred in sequence: # 시퀀스로부터 예측값을 하나씩 꺼낸다.\n",
    "            # pred_index = np.argmax(pred) # 예를 들어 [0, 0, 1, 0 ,0]라면 1의 인덱스인 2를 리턴한다.\n",
    "            pred_index = pred\n",
    "            temp.append(index_to_ner[pred_index].replace(\"PAD\", \"O\")) # 'PAD'는 'O'로 변경\n",
    "        result.append(temp)\n",
    "    return result"
   ]
  },
  {
   "cell_type": "code",
   "execution_count": 73,
   "metadata": {
    "id": "GRjWgGwVm_y7"
   },
   "outputs": [],
   "source": [
    "pred_tags = sequences_to_tag_for_crf(y_predicted)\n",
    "test_tags = sequences_to_tag(y_test)"
   ]
  },
  {
   "cell_type": "code",
   "execution_count": 74,
   "metadata": {
    "colab": {
     "base_uri": "https://localhost:8080/"
    },
    "id": "J62vAVj-nBmP",
    "outputId": "565a8fea-6764-4c09-e331-88eee5c4e6ad"
   },
   "outputs": [
    {
     "name": "stdout",
     "output_type": "stream",
     "text": [
      "                                precision    recall  f1-score   support\n",
      "\n",
      "                        Number       0.00      0.00      0.00         3\n",
      " Phase Drive Horsepower Rating       0.89      0.95      0.92        74\n",
      "                           EMA       0.61      0.30      0.41        46\n",
      "                    abel Width       0.00      0.00      0.00         4\n",
      "                     able Type       0.76      0.61      0.68        31\n",
      "                      amp Type       0.00      0.00      0.00        16\n",
      "                       apacity       0.00      0.00      0.00         5\n",
      "                       ategory       1.00      0.60      0.75         5\n",
      "                       aterial       0.41      0.36      0.38       103\n",
      "                          atts       0.00      0.00      0.00        10\n",
      "                 dge Thickness       0.00      0.00      0.00         1\n",
      "                         eight       0.54      0.45      0.49        31\n",
      "                         ength       0.47      0.41      0.44        66\n",
      "                          epth       0.38      0.26      0.31        31\n",
      "                          hase       0.75      0.88      0.81        74\n",
      "                       iameter       0.00      0.00      0.00        13\n",
      "                          idth       0.47      0.35      0.40        20\n",
      "                   ixture Type       0.00      0.00      0.00         9\n",
      "                           ize       0.55      0.54      0.54        69\n",
      "                           mps       0.80      0.72      0.76       145\n",
      "                   nstallation       0.50      0.12      0.20        24\n",
      "                   ocket Depth       0.33      0.47      0.39        19\n",
      "                   oil Voltage       0.81      0.74      0.77        69\n",
      "                          oint       0.46      0.48      0.47        23\n",
      "                          olor       0.53      0.24      0.33        71\n",
      "                        oltage       0.72      0.52      0.61       101\n",
      "                oltage Maximum       0.60      0.84      0.70        77\n",
      "                onductor Count       0.00      0.00      0.00         4\n",
      "                 onductor Type       0.00      0.00      0.00        10\n",
      "                 onnector Type       0.18      0.10      0.13        20\n",
      "                   or Use With       0.00      0.00      0.00         1\n",
      "                  ounting Size       0.00      0.00      0.00         1\n",
      "                   peed Rating       0.86      0.96      0.91        51\n",
      "                    pplication       0.50      0.14      0.21        44\n",
      "                          rade       0.00      0.00      0.00         4\n",
      "                     rade Size       0.65      0.72      0.68        57\n",
      "                          rive       0.71      0.71      0.71        35\n",
      "                     rive Size       0.56      0.19      0.28        27\n",
      "                       se With       0.00      0.00      0.00         1\n",
      "                  ssembly Type       0.91      0.62      0.74        16\n",
      "                     tud Holes       1.00      0.08      0.15        12\n",
      "                umber of Poles       0.77      0.93      0.84       120\n",
      "                           ype       0.60      0.59      0.59      1145\n",
      "\n",
      "                     micro avg       0.63      0.57      0.60      2688\n",
      "                     macro avg       0.43      0.35      0.36      2688\n",
      "                  weighted avg       0.61      0.57      0.58      2688\n",
      "\n"
     ]
    }
   ],
   "source": [
    "print(classification_report(test_tags, pred_tags))"
   ]
  },
  {
   "cell_type": "markdown",
   "metadata": {
    "id": "pY8rEL_tOjCe"
   },
   "source": [
    "## 성능"
   ]
  },
  {
   "cell_type": "code",
   "execution_count": 75,
   "metadata": {
    "colab": {
     "base_uri": "https://localhost:8080/"
    },
    "id": "7Udxj7vLnHGe",
    "outputId": "56638477-3a13-404b-9633-4cd160dd1f38"
   },
   "outputs": [
    {
     "name": "stdout",
     "output_type": "stream",
     "text": [
      "F1-score: 60.1%\n"
     ]
    }
   ],
   "source": [
    "print(\"F1-score: {:.1%}\".format(f1_score(test_tags, pred_tags)))"
   ]
  },
  {
   "cell_type": "markdown",
   "metadata": {
    "id": "BSiCMNSs7ynl"
   },
   "source": [
    "# BiLSTM-CNN을 이용한 개체명인식"
   ]
  },
  {
   "cell_type": "markdown",
   "metadata": {
    "id": "HWUVra7SOfLk"
   },
   "source": [
    "## 모델링"
   ]
  },
  {
   "cell_type": "code",
   "execution_count": 76,
   "metadata": {
    "id": "OsijEbzI99sN"
   },
   "outputs": [],
   "source": [
    "from tensorflow.keras.layers import Embedding, Input, TimeDistributed, Dropout, concatenate, Bidirectional, LSTM, Conv1D, Dense, MaxPooling1D, Flatten\n",
    "from tensorflow.keras import Model\n",
    "from tensorflow.keras.initializers import RandomUniform\n",
    "from tensorflow.keras.callbacks import EarlyStopping, ModelCheckpoint\n",
    "from tensorflow.keras.models import load_model\n",
    "from seqeval.metrics import f1_score, classification_report"
   ]
  },
  {
   "cell_type": "code",
   "execution_count": 77,
   "metadata": {
    "colab": {
     "base_uri": "https://localhost:8080/"
    },
    "id": "Cl_f3LMS-IzV",
    "outputId": "149bc6f4-931f-4588-ad27-120584df180f"
   },
   "outputs": [
    {
     "name": "stdout",
     "output_type": "stream",
     "text": [
      "Model: \"model_1\"\n",
      "__________________________________________________________________________________________________\n",
      " Layer (type)                   Output Shape         Param #     Connected to                     \n",
      "==================================================================================================\n",
      " char_input (InputLayer)        [(None, None, 16)]   0           []                               \n",
      "                                                                                                  \n",
      " char_embedding (TimeDistribute  (None, None, 16, 64  2880       ['char_input[0][0]']             \n",
      " d)                             )                                                                 \n",
      "                                                                                                  \n",
      " dropout_1 (Dropout)            (None, None, 16, 64  0           ['char_embedding[0][0]']         \n",
      "                                )                                                                 \n",
      "                                                                                                  \n",
      " time_distributed_3 (TimeDistri  (None, None, 16, 30  5790       ['dropout_1[0][0]']              \n",
      " buted)                         )                                                                 \n",
      "                                                                                                  \n",
      " time_distributed_4 (TimeDistri  (None, None, 1, 30)  0          ['time_distributed_3[0][0]']     \n",
      " buted)                                                                                           \n",
      "                                                                                                  \n",
      " words_input (InputLayer)       [(None, None)]       0           []                               \n",
      "                                                                                                  \n",
      " time_distributed_5 (TimeDistri  (None, None, 30)    0           ['time_distributed_4[0][0]']     \n",
      " buted)                                                                                           \n",
      "                                                                                                  \n",
      " embedding_2 (Embedding)        (None, None, 128)    638336      ['words_input[0][0]']            \n",
      "                                                                                                  \n",
      " dropout_2 (Dropout)            (None, None, 30)     0           ['time_distributed_5[0][0]']     \n",
      "                                                                                                  \n",
      " concatenate (Concatenate)      (None, None, 158)    0           ['embedding_2[0][0]',            \n",
      "                                                                  'dropout_2[0][0]']              \n",
      "                                                                                                  \n",
      " bidirectional_2 (Bidirectional  (None, None, 512)   849920      ['concatenate[0][0]']            \n",
      " )                                                                                                \n",
      "                                                                                                  \n",
      " time_distributed_6 (TimeDistri  (None, None, 51)    26163       ['bidirectional_2[0][0]']        \n",
      " buted)                                                                                           \n",
      "                                                                                                  \n",
      "==================================================================================================\n",
      "Total params: 1,523,089\n",
      "Trainable params: 1,523,089\n",
      "Non-trainable params: 0\n",
      "__________________________________________________________________________________________________\n"
     ]
    }
   ],
   "source": [
    "embedding_dim = 128\n",
    "char_embedding_dim = 64\n",
    "dropout_ratio = 0.5\n",
    "hidden_units = 256\n",
    "num_filters = 30\n",
    "kernel_size = 3\n",
    "\n",
    "# 단어 임베딩\n",
    "words_input = Input(shape=(None,),dtype='int32',name='words_input')\n",
    "words = Embedding(input_dim=vocab_size, output_dim=embedding_dim)(words_input)\n",
    "\n",
    "# char 임베딩\n",
    "character_input = Input(shape=(None, max_len_char,),name='char_input')\n",
    "embed_char_out = TimeDistributed(Embedding(len(char_to_index), char_embedding_dim, embeddings_initializer=RandomUniform(minval=-0.5, maxval=0.5)), name='char_embedding')(character_input)\n",
    "dropout = Dropout(dropout_ratio)(embed_char_out)\n",
    "\n",
    "# char 임베딩에 대해서는 Conv1D 수행\n",
    "conv1d_out= TimeDistributed(Conv1D(kernel_size=kernel_size, filters=num_filters, padding='same', activation='tanh', strides=1))(dropout)\n",
    "maxpool_out=TimeDistributed(MaxPooling1D(max_len_char))(conv1d_out)\n",
    "char = TimeDistributed(Flatten())(maxpool_out)\n",
    "char = Dropout(dropout_ratio)(char)\n",
    "\n",
    "# char 임베딩을 Conv1D 수행한 뒤에 단어 임베딩과 연결\n",
    "output = concatenate([words, char])\n",
    "\n",
    "# 연결한 벡터를 가지고 문장의 길이만큼 LSTM을 수행\n",
    "output = Bidirectional(LSTM(hidden_units, return_sequences=True, dropout=dropout_ratio))(output)\n",
    "\n",
    "# 출력층\n",
    "output = TimeDistributed(Dense(tag_size, activation='softmax'))(output)\n",
    "\n",
    "model = Model(inputs=[words_input, character_input], outputs=[output])\n",
    "model.compile(loss='categorical_crossentropy', optimizer='nadam',  metrics=['acc'])\n",
    "model.summary()"
   ]
  },
  {
   "cell_type": "code",
   "execution_count": 78,
   "metadata": {
    "id": "iNxMCvYYYzYm"
   },
   "outputs": [],
   "source": [
    "es = EarlyStopping(monitor='val_loss', mode='min', verbose=1, patience=4)\n",
    "mc = ModelCheckpoint('bilstm_cnn.h5', monitor='val_acc', mode='max', verbose=1, save_best_only=True)"
   ]
  },
  {
   "cell_type": "code",
   "execution_count": 79,
   "metadata": {
    "colab": {
     "base_uri": "https://localhost:8080/"
    },
    "id": "ywZ-xsUHBGn9",
    "outputId": "234b5eaa-c629-49ec-a56a-703e6043b044"
   },
   "outputs": [
    {
     "name": "stdout",
     "output_type": "stream",
     "text": [
      "Epoch 1/15\n",
      "56/57 [============================>.] - ETA: 0s - loss: 1.2040 - acc: 0.7144\n",
      "Epoch 1: val_acc improved from -inf to 0.77018, saving model to bilstm_cnn.h5\n",
      "57/57 [==============================] - 9s 109ms/step - loss: 1.2028 - acc: 0.7145 - val_loss: 0.8186 - val_acc: 0.7702\n",
      "Epoch 2/15\n",
      "56/57 [============================>.] - ETA: 0s - loss: 0.7463 - acc: 0.7968\n",
      "Epoch 2: val_acc improved from 0.77018 to 0.81000, saving model to bilstm_cnn.h5\n",
      "57/57 [==============================] - 6s 106ms/step - loss: 0.7456 - acc: 0.7969 - val_loss: 0.6745 - val_acc: 0.8100\n",
      "Epoch 3/15\n",
      "56/57 [============================>.] - ETA: 0s - loss: 0.5956 - acc: 0.8381\n",
      "Epoch 3: val_acc improved from 0.81000 to 0.84321, saving model to bilstm_cnn.h5\n",
      "57/57 [==============================] - 6s 107ms/step - loss: 0.5958 - acc: 0.8380 - val_loss: 0.5760 - val_acc: 0.8432\n",
      "Epoch 4/15\n",
      "56/57 [============================>.] - ETA: 0s - loss: 0.5060 - acc: 0.8630\n",
      "Epoch 4: val_acc improved from 0.84321 to 0.84946, saving model to bilstm_cnn.h5\n",
      "57/57 [==============================] - 6s 106ms/step - loss: 0.5055 - acc: 0.8631 - val_loss: 0.5252 - val_acc: 0.8495\n",
      "Epoch 5/15\n",
      "56/57 [============================>.] - ETA: 0s - loss: 0.4460 - acc: 0.8751\n",
      "Epoch 5: val_acc improved from 0.84946 to 0.85321, saving model to bilstm_cnn.h5\n",
      "57/57 [==============================] - 6s 106ms/step - loss: 0.4453 - acc: 0.8754 - val_loss: 0.4898 - val_acc: 0.8532\n",
      "Epoch 6/15\n",
      "56/57 [============================>.] - ETA: 0s - loss: 0.3971 - acc: 0.8845\n",
      "Epoch 6: val_acc improved from 0.85321 to 0.86054, saving model to bilstm_cnn.h5\n",
      "57/57 [==============================] - 6s 106ms/step - loss: 0.3973 - acc: 0.8845 - val_loss: 0.4597 - val_acc: 0.8605\n",
      "Epoch 7/15\n",
      "56/57 [============================>.] - ETA: 0s - loss: 0.3565 - acc: 0.8936\n",
      "Epoch 7: val_acc improved from 0.86054 to 0.86732, saving model to bilstm_cnn.h5\n",
      "57/57 [==============================] - 6s 107ms/step - loss: 0.3564 - acc: 0.8937 - val_loss: 0.4371 - val_acc: 0.8673\n",
      "Epoch 8/15\n",
      "56/57 [============================>.] - ETA: 0s - loss: 0.3236 - acc: 0.9011\n",
      "Epoch 8: val_acc improved from 0.86732 to 0.87000, saving model to bilstm_cnn.h5\n",
      "57/57 [==============================] - 6s 106ms/step - loss: 0.3233 - acc: 0.9012 - val_loss: 0.4216 - val_acc: 0.8700\n",
      "Epoch 9/15\n",
      "56/57 [============================>.] - ETA: 0s - loss: 0.2963 - acc: 0.9074\n",
      "Epoch 9: val_acc improved from 0.87000 to 0.87018, saving model to bilstm_cnn.h5\n",
      "57/57 [==============================] - 6s 106ms/step - loss: 0.2962 - acc: 0.9075 - val_loss: 0.4150 - val_acc: 0.8702\n",
      "Epoch 10/15\n",
      "56/57 [============================>.] - ETA: 0s - loss: 0.2727 - acc: 0.9140\n",
      "Epoch 10: val_acc improved from 0.87018 to 0.87911, saving model to bilstm_cnn.h5\n",
      "57/57 [==============================] - 6s 106ms/step - loss: 0.2726 - acc: 0.9140 - val_loss: 0.3980 - val_acc: 0.8791\n",
      "Epoch 11/15\n",
      "56/57 [============================>.] - ETA: 0s - loss: 0.2529 - acc: 0.9179\n",
      "Epoch 11: val_acc did not improve from 0.87911\n",
      "57/57 [==============================] - 6s 108ms/step - loss: 0.2531 - acc: 0.9177 - val_loss: 0.4067 - val_acc: 0.8784\n",
      "Epoch 12/15\n",
      "56/57 [============================>.] - ETA: 0s - loss: 0.2316 - acc: 0.9262\n",
      "Epoch 12: val_acc did not improve from 0.87911\n",
      "57/57 [==============================] - 6s 111ms/step - loss: 0.2318 - acc: 0.9261 - val_loss: 0.4091 - val_acc: 0.8727\n",
      "Epoch 13/15\n",
      "57/57 [==============================] - ETA: 0s - loss: 0.2154 - acc: 0.9304\n",
      "Epoch 13: val_acc improved from 0.87911 to 0.88143, saving model to bilstm_cnn.h5\n",
      "57/57 [==============================] - 7s 117ms/step - loss: 0.2154 - acc: 0.9304 - val_loss: 0.3935 - val_acc: 0.8814\n",
      "Epoch 14/15\n",
      "57/57 [==============================] - ETA: 0s - loss: 0.2014 - acc: 0.9351\n",
      "Epoch 14: val_acc did not improve from 0.88143\n",
      "57/57 [==============================] - 7s 117ms/step - loss: 0.2014 - acc: 0.9351 - val_loss: 0.3943 - val_acc: 0.8796\n",
      "Epoch 15/15\n",
      "57/57 [==============================] - ETA: 0s - loss: 0.1878 - acc: 0.9388\n",
      "Epoch 15: val_acc improved from 0.88143 to 0.88375, saving model to bilstm_cnn.h5\n",
      "57/57 [==============================] - 7s 125ms/step - loss: 0.1878 - acc: 0.9388 - val_loss: 0.4003 - val_acc: 0.8838\n"
     ]
    }
   ],
   "source": [
    "history = model.fit([X_train, X_char_train], y_train, batch_size=128, epochs=15, validation_split=0.1, verbose=1, callbacks=[es, mc])"
   ]
  },
  {
   "cell_type": "code",
   "execution_count": 80,
   "metadata": {
    "id": "r6BxnS62znhV"
   },
   "outputs": [],
   "source": [
    "model = load_model('bilstm_cnn.h5')"
   ]
  },
  {
   "cell_type": "code",
   "execution_count": 81,
   "metadata": {
    "colab": {
     "base_uri": "https://localhost:8080/"
    },
    "id": "ZBNL0dX-C6Bd",
    "outputId": "43cc52cc-40ba-4e53-c609-fd1942290217"
   },
   "outputs": [
    {
     "name": "stdout",
     "output_type": "stream",
     "text": [
      "1/1 [==============================] - 0s 471ms/step\n",
      "단어             |실제값  |예측값\n",
      "-----------------------------------\n",
      "24v              : Other   Other\n",
      "motor            : Other   Other\n",
      "oprtr            : Other   Other\n"
     ]
    }
   ],
   "source": [
    "i = 13 # 확인하고 싶은 테스트용 샘플의 인덱스.\n",
    "\n",
    "# 입력한 테스트용 샘플에 대해서 예측 y를 리턴\n",
    "y_predicted = model.predict([np.array([X_test[i]]), np.array([X_char_test[i]])])\n",
    "y_predicted = np.argmax(y_predicted, axis=-1) # 확률 벡터를 정수 인코딩으로 변경함.\n",
    "true = np.argmax(y_test[i], -1) # 원-핫 인코딩을 다시 정수 인코딩으로 변경함.\n",
    "\n",
    "print(\"{:15}|{:5}|{}\".format(\"단어\", \"실제값\", \"예측값\"))\n",
    "print(35 * \"-\")\n",
    "\n",
    "for word, tag, pred in zip(X_test[i], true, y_predicted[0]):\n",
    "    if word != 0: # PAD값은 제외함.\n",
    "        print(\"{:17}: {:7} {}\".format(index_to_word[word], index_to_ner[tag], index_to_ner[pred]))"
   ]
  },
  {
   "cell_type": "code",
   "execution_count": 82,
   "metadata": {
    "colab": {
     "base_uri": "https://localhost:8080/",
     "height": 295
    },
    "id": "alMyDhYJDhU5",
    "outputId": "6095dfd7-2206-4f2f-ab38-66181b1e8d98"
   },
   "outputs": [
    {
     "data": {
      "image/png": "[encoded data removed]",
      "text/plain": [
       "<Figure size 432x288 with 1 Axes>"
      ]
     },
     "metadata": {
      "needs_background": "light"
     },
     "output_type": "display_data"
    }
   ],
   "source": [
    "epochs = range(1, len(history.history['val_loss']) + 1)\n",
    "plt.plot(epochs, history.history['loss'])\n",
    "plt.plot(epochs, history.history['val_loss'])\n",
    "plt.title('model loss')\n",
    "plt.ylabel('loss')\n",
    "plt.xlabel('epoch')\n",
    "plt.legend(['train', 'val'], loc='upper left')\n",
    "plt.show()"
   ]
  },
  {
   "cell_type": "code",
   "execution_count": 83,
   "metadata": {
    "id": "wFKpmE9cQIdW"
   },
   "outputs": [],
   "source": [
    "def sequences_to_tag(sequences): # 예측값을 index_to_ner를 사용하여 태깅 정보로 변경하는 함수.\n",
    "    result = []\n",
    "    for sequence in sequences: # 전체 시퀀스로부터 시퀀스를 하나씩 꺼낸다.\n",
    "        temp = []\n",
    "        for pred in sequence: # 시퀀스로부터 예측값을 하나씩 꺼낸다.\n",
    "            pred_index = np.argmax(pred) # 예를 들어 [0, 0, 1, 0 ,0]라면 1의 인덱스인 2를 리턴한다.\n",
    "            temp.append(index_to_ner[pred_index].replace(\"PAD\", \"O\")) # 'PAD'는 'O'로 변경\n",
    "        result.append(temp)\n",
    "    return result"
   ]
  },
  {
   "cell_type": "code",
   "execution_count": 84,
   "metadata": {
    "id": "bzEfiWsQQJ0n"
   },
   "outputs": [
    {
     "name": "stdout",
     "output_type": "stream",
     "text": [
      "63/63 [==============================] - 1s 11ms/step\n"
     ]
    }
   ],
   "source": [
    "y_predicted = model.predict([X_test, X_char_test])\n",
    "pred_tags = sequences_to_tag(y_predicted)\n",
    "test_tags = sequences_to_tag(y_test)"
   ]
  },
  {
   "cell_type": "code",
   "execution_count": 85,
   "metadata": {
    "colab": {
     "base_uri": "https://localhost:8080/"
    },
    "id": "YxHz40WFP3T7",
    "outputId": "1341cdae-38d4-4603-d77d-3c4f7b5ed5af"
   },
   "outputs": [
    {
     "name": "stdout",
     "output_type": "stream",
     "text": [
      "                                precision    recall  f1-score   support\n",
      "\n",
      "                        Number       1.00      1.00      1.00         3\n",
      " Phase Drive Horsepower Rating       0.92      0.93      0.93        74\n",
      "                           EMA       0.65      0.37      0.47        46\n",
      "                    abel Width       1.00      0.50      0.67         4\n",
      "                     able Type       0.80      0.65      0.71        31\n",
      "                      amp Type       0.00      0.00      0.00        16\n",
      "                       apacity       0.67      0.40      0.50         5\n",
      "                       ategory       1.00      1.00      1.00         5\n",
      "                       aterial       0.43      0.43      0.43       103\n",
      "                          atts       0.00      0.00      0.00        10\n",
      "                 dge Thickness       0.00      0.00      0.00         1\n",
      "                         eight       0.37      0.35      0.36        31\n",
      "                         ength       0.64      0.35      0.45        66\n",
      "                          epth       0.50      0.13      0.21        31\n",
      "                          hase       0.81      0.93      0.87        74\n",
      "                       iameter       1.00      0.15      0.27        13\n",
      "                          idth       0.33      0.25      0.29        20\n",
      "                   ixture Type       0.50      0.11      0.18         9\n",
      "                           ize       0.45      0.67      0.53        69\n",
      "                           mps       0.78      0.79      0.79       145\n",
      "                   nstallation       0.75      0.12      0.21        24\n",
      "                   ocket Depth       0.45      0.53      0.49        19\n",
      "                   oil Voltage       0.69      0.84      0.76        69\n",
      "                          oint       0.52      0.57      0.54        23\n",
      "                          olor       0.57      0.28      0.38        71\n",
      "                        oltage       0.68      0.51      0.59       101\n",
      "                oltage Maximum       0.58      0.79      0.67        77\n",
      "                onductor Count       0.00      0.00      0.00         4\n",
      "                 onductor Type       1.00      0.50      0.67        10\n",
      "                 onnector Type       0.29      0.10      0.15        20\n",
      "                   or Use With       0.00      0.00      0.00         1\n",
      "                  ounting Size       0.00      0.00      0.00         1\n",
      "                   peed Rating       0.86      0.96      0.91        51\n",
      "                    pplication       0.44      0.43      0.44        44\n",
      "                          rade       0.00      0.00      0.00         4\n",
      "                     rade Size       0.88      0.67      0.76        57\n",
      "                          rive       0.76      0.74      0.75        35\n",
      "                     rive Size       0.40      0.44      0.42        27\n",
      "                       se With       0.00      0.00      0.00         1\n",
      "                  ssembly Type       0.92      0.75      0.83        16\n",
      "                     tud Holes       0.88      0.58      0.70        12\n",
      "                umber of Poles       0.79      0.96      0.87       120\n",
      "                           ype       0.65      0.61      0.63      1145\n",
      "\n",
      "                     micro avg       0.66      0.61      0.63      2688\n",
      "                     macro avg       0.56      0.45      0.47      2688\n",
      "                  weighted avg       0.65      0.61      0.62      2688\n",
      "\n"
     ]
    }
   ],
   "source": [
    "print(classification_report(test_tags, pred_tags))"
   ]
  },
  {
   "cell_type": "markdown",
   "metadata": {
    "id": "jIXoMhZsOgmI"
   },
   "source": [
    "## 성능"
   ]
  },
  {
   "cell_type": "code",
   "execution_count": 86,
   "metadata": {
    "colab": {
     "base_uri": "https://localhost:8080/"
    },
    "id": "qC1_wjJSQcdr",
    "outputId": "902727e9-3884-4a67-9241-d1ba6d61ba2c"
   },
   "outputs": [
    {
     "name": "stdout",
     "output_type": "stream",
     "text": [
      "F1-score: 63.2%\n"
     ]
    }
   ],
   "source": [
    "print(\"F1-score: {:.1%}\".format(f1_score(test_tags, pred_tags)))"
   ]
  },
  {
   "cell_type": "markdown",
   "metadata": {
    "id": "o3UN2XvynYrD"
   },
   "source": [
    "#BiLSTM-CNN-CRF를 이용한 개체명인식"
   ]
  },
  {
   "cell_type": "markdown",
   "metadata": {
    "id": "pIIC5YkUOle8"
   },
   "source": [
    "## 모델링"
   ]
  },
  {
   "cell_type": "code",
   "execution_count": 87,
   "metadata": {
    "id": "0n534tvi9h4S"
   },
   "outputs": [],
   "source": [
    "import tensorflow as tf\n",
    "from keras_crf import CRFModel"
   ]
  },
  {
   "cell_type": "code",
   "execution_count": 88,
   "metadata": {
    "colab": {
     "base_uri": "https://localhost:8080/"
    },
    "id": "XhNyGVb2nf4J",
    "outputId": "2c2f38e6-a80c-4984-90dd-feb9305db788"
   },
   "outputs": [
    {
     "name": "stdout",
     "output_type": "stream",
     "text": [
      "Model: \"crf_model_1\"\n",
      "__________________________________________________________________________________________________\n",
      " Layer (type)                   Output Shape         Param #     Connected to                     \n",
      "==================================================================================================\n",
      " char_input (InputLayer)        [(None, None, 16)]   0           []                               \n",
      "                                                                                                  \n",
      " char_embedding (TimeDistribute  (None, None, 16, 64  2880       ['char_input[0][0]']             \n",
      " d)                             )                                                                 \n",
      "                                                                                                  \n",
      " dropout_3 (Dropout)            (None, None, 16, 64  0           ['char_embedding[0][0]']         \n",
      "                                )                                                                 \n",
      "                                                                                                  \n",
      " time_distributed_7 (TimeDistri  (None, None, 16, 30  5790       ['dropout_3[0][0]']              \n",
      " buted)                         )                                                                 \n",
      "                                                                                                  \n",
      " time_distributed_8 (TimeDistri  (None, None, 1, 30)  0          ['time_distributed_7[0][0]']     \n",
      " buted)                                                                                           \n",
      "                                                                                                  \n",
      " words_input (InputLayer)       [(None, None)]       0           []                               \n",
      "                                                                                                  \n",
      " time_distributed_9 (TimeDistri  (None, None, 30)    0           ['time_distributed_8[0][0]']     \n",
      " buted)                                                                                           \n",
      "                                                                                                  \n",
      " embedding_4 (Embedding)        (None, None, 128)    638336      ['words_input[0][0]']            \n",
      "                                                                                                  \n",
      " dropout_4 (Dropout)            (None, None, 30)     0           ['time_distributed_9[0][0]']     \n",
      "                                                                                                  \n",
      " concatenate_1 (Concatenate)    (None, None, 158)    0           ['embedding_4[0][0]',            \n",
      "                                                                  'dropout_4[0][0]']              \n",
      "                                                                                                  \n",
      " bidirectional_3 (Bidirectional  (None, None, 512)   849920      ['concatenate_1[0][0]']          \n",
      " )                                                                                                \n",
      "                                                                                                  \n",
      " time_distributed_10 (TimeDistr  (None, None, 51)    26163       ['bidirectional_3[0][0]']        \n",
      " ibuted)                                                                                          \n",
      "                                                                                                  \n",
      " crf_1 (CRF)                    [(None, None),       5355        ['time_distributed_10[0][0]']    \n",
      "                                 (None, None, 51),                                                \n",
      "                                 (None,),                                                         \n",
      "                                 (51, 51)]                                                        \n",
      "                                                                                                  \n",
      " decode_sequence (Lambda)       (None, None)         0           ['crf_1[0][0]']                  \n",
      "                                                                                                  \n",
      " potentials (Lambda)            (None, None, 51)     0           ['crf_1[0][1]']                  \n",
      "                                                                                                  \n",
      " sequence_length (Lambda)       (None,)              0           ['crf_1[0][2]']                  \n",
      "                                                                                                  \n",
      " kernel (Lambda)                (51, 51)             0           ['crf_1[0][3]']                  \n",
      "                                                                                                  \n",
      "==================================================================================================\n",
      "Total params: 1,528,444\n",
      "Trainable params: 1,528,444\n",
      "Non-trainable params: 0\n",
      "__________________________________________________________________________________________________\n"
     ]
    }
   ],
   "source": [
    "embedding_dim = 128\n",
    "char_embedding_dim = 64\n",
    "dropout_ratio = 0.5\n",
    "hidden_units = 256\n",
    "num_filters = 30\n",
    "kernel_size = 3\n",
    "\n",
    "# 단어 임베딩\n",
    "words_input = Input(shape=(None,),dtype='int32',name='words_input')\n",
    "words = Embedding(input_dim=vocab_size, output_dim=embedding_dim)(words_input)\n",
    "\n",
    "# char 임베딩\n",
    "character_input = Input(shape=(None, max_len_char,),name='char_input')\n",
    "embed_char_out = TimeDistributed(Embedding(len(char_to_index), char_embedding_dim, embeddings_initializer=RandomUniform(minval=-0.5, maxval=0.5)), name='char_embedding')(character_input)\n",
    "dropout = Dropout(dropout_ratio)(embed_char_out)\n",
    "\n",
    "# char 임베딩에 대해서는 Conv1D 수행\n",
    "conv1d_out= TimeDistributed(Conv1D(kernel_size=kernel_size, filters=num_filters, padding='same',activation='tanh', strides=1))(dropout)\n",
    "maxpool_out=TimeDistributed(MaxPooling1D(max_len_char))(conv1d_out)\n",
    "char = TimeDistributed(Flatten())(maxpool_out)\n",
    "char = Dropout(dropout_ratio)(char)\n",
    "\n",
    "# char 임베딩을 Conv1D 수행한 뒤에 단어 임베딩과 연결\n",
    "output = concatenate([words, char])\n",
    "\n",
    "# 연결한 벡터를 가지고 문장의 길이만큼 LSTM을 수행\n",
    "output = Bidirectional(LSTM(hidden_units, return_sequences=True, dropout=dropout_ratio))(output)\n",
    "\n",
    "# 출력층\n",
    "output = TimeDistributed(Dense(tag_size, activation='relu'))(output)\n",
    "\n",
    "base = Model(inputs=[words_input, character_input], outputs=[output])\n",
    "model = CRFModel(base, tag_size)\n",
    "model.compile(optimizer=tf.keras.optimizers.Adam(0.001), metrics='accuracy')\n",
    "model.summary()"
   ]
  },
  {
   "cell_type": "code",
   "execution_count": 89,
   "metadata": {
    "id": "sCEFX2WR-Far"
   },
   "outputs": [],
   "source": [
    "es = EarlyStopping(monitor='val_loss', mode='min', verbose=1, patience=4)\n",
    "mc = ModelCheckpoint('bilstm_cnn_crf/cp.ckpt', monitor='val_decode_sequence_accuracy', mode='max', verbose=1, save_best_only=True, save_weights_only=True)"
   ]
  },
  {
   "cell_type": "code",
   "execution_count": 90,
   "metadata": {
    "colab": {
     "base_uri": "https://localhost:8080/"
    },
    "id": "bMIECQqU-MOR",
    "outputId": "ad94afa2-0218-481d-edd3-0858bc28efc7"
   },
   "outputs": [
    {
     "name": "stdout",
     "output_type": "stream",
     "text": [
      "Epoch 1/15\n",
      "57/57 [==============================] - ETA: 0s - decode_sequence_accuracy: 0.6998 - loss: 9.0727\n",
      "Epoch 1: val_decode_sequence_accuracy improved from -inf to 0.77107, saving model to bilstm_cnn_crf\\cp.ckpt\n",
      "57/57 [==============================] - 13s 156ms/step - decode_sequence_accuracy: 0.6998 - loss: 9.0115 - val_decode_sequence_accuracy: 0.7711 - val_loss: 6.4336\n",
      "Epoch 2/15\n",
      "57/57 [==============================] - ETA: 0s - decode_sequence_accuracy: 0.7985 - loss: 5.5023\n",
      "Epoch 2: val_decode_sequence_accuracy improved from 0.77107 to 0.81054, saving model to bilstm_cnn_crf\\cp.ckpt\n",
      "57/57 [==============================] - 9s 150ms/step - decode_sequence_accuracy: 0.7985 - loss: 5.4920 - val_decode_sequence_accuracy: 0.8105 - val_loss: 5.5045\n",
      "Epoch 3/15\n",
      "57/57 [==============================] - ETA: 0s - decode_sequence_accuracy: 0.8326 - loss: 4.6089\n",
      "Epoch 3: val_decode_sequence_accuracy improved from 0.81054 to 0.82768, saving model to bilstm_cnn_crf\\cp.ckpt\n",
      "57/57 [==============================] - 9s 150ms/step - decode_sequence_accuracy: 0.8326 - loss: 4.6227 - val_decode_sequence_accuracy: 0.8277 - val_loss: 4.6092\n",
      "Epoch 4/15\n",
      "57/57 [==============================] - ETA: 0s - decode_sequence_accuracy: 0.8555 - loss: 3.8589\n",
      "Epoch 4: val_decode_sequence_accuracy improved from 0.82768 to 0.83786, saving model to bilstm_cnn_crf\\cp.ckpt\n",
      "57/57 [==============================] - 9s 151ms/step - decode_sequence_accuracy: 0.8555 - loss: 3.8636 - val_decode_sequence_accuracy: 0.8379 - val_loss: 3.8227\n",
      "Epoch 5/15\n",
      "57/57 [==============================] - ETA: 0s - decode_sequence_accuracy: 0.8693 - loss: 3.3568\n",
      "Epoch 5: val_decode_sequence_accuracy improved from 0.83786 to 0.84357, saving model to bilstm_cnn_crf\\cp.ckpt\n",
      "57/57 [==============================] - 9s 159ms/step - decode_sequence_accuracy: 0.8693 - loss: 3.3547 - val_decode_sequence_accuracy: 0.8436 - val_loss: 3.3625\n",
      "Epoch 6/15\n",
      "57/57 [==============================] - ETA: 0s - decode_sequence_accuracy: 0.8780 - loss: 2.9894\n",
      "Epoch 6: val_decode_sequence_accuracy improved from 0.84357 to 0.85071, saving model to bilstm_cnn_crf\\cp.ckpt\n",
      "57/57 [==============================] - 9s 158ms/step - decode_sequence_accuracy: 0.8780 - loss: 2.9976 - val_decode_sequence_accuracy: 0.8507 - val_loss: 3.1517\n",
      "Epoch 7/15\n",
      "57/57 [==============================] - ETA: 0s - decode_sequence_accuracy: 0.8845 - loss: 2.7026\n",
      "Epoch 7: val_decode_sequence_accuracy improved from 0.85071 to 0.85804, saving model to bilstm_cnn_crf\\cp.ckpt\n",
      "57/57 [==============================] - 9s 156ms/step - decode_sequence_accuracy: 0.8845 - loss: 2.7007 - val_decode_sequence_accuracy: 0.8580 - val_loss: 2.7780\n",
      "Epoch 8/15\n",
      "57/57 [==============================] - ETA: 0s - decode_sequence_accuracy: 0.8929 - loss: 2.4524\n",
      "Epoch 8: val_decode_sequence_accuracy improved from 0.85804 to 0.86214, saving model to bilstm_cnn_crf\\cp.ckpt\n",
      "57/57 [==============================] - 9s 157ms/step - decode_sequence_accuracy: 0.8929 - loss: 2.4573 - val_decode_sequence_accuracy: 0.8621 - val_loss: 2.6532\n",
      "Epoch 9/15\n",
      "57/57 [==============================] - ETA: 0s - decode_sequence_accuracy: 0.8984 - loss: 2.2434\n",
      "Epoch 9: val_decode_sequence_accuracy did not improve from 0.86214\n",
      "57/57 [==============================] - 10s 180ms/step - decode_sequence_accuracy: 0.8984 - loss: 2.2382 - val_decode_sequence_accuracy: 0.8591 - val_loss: 2.6953\n",
      "Epoch 10/15\n",
      "57/57 [==============================] - ETA: 0s - decode_sequence_accuracy: 0.9063 - loss: 2.0447\n",
      "Epoch 10: val_decode_sequence_accuracy improved from 0.86214 to 0.86964, saving model to bilstm_cnn_crf\\cp.ckpt\n",
      "57/57 [==============================] - 12s 214ms/step - decode_sequence_accuracy: 0.9063 - loss: 2.0478 - val_decode_sequence_accuracy: 0.8696 - val_loss: 2.5134\n",
      "Epoch 11/15\n",
      "57/57 [==============================] - ETA: 0s - decode_sequence_accuracy: 0.9137 - loss: 1.8728\n",
      "Epoch 11: val_decode_sequence_accuracy did not improve from 0.86964\n",
      "57/57 [==============================] - 13s 237ms/step - decode_sequence_accuracy: 0.9137 - loss: 1.8965 - val_decode_sequence_accuracy: 0.8679 - val_loss: 2.5502\n",
      "Epoch 12/15\n",
      "57/57 [==============================] - ETA: 0s - decode_sequence_accuracy: 0.9222 - loss: 1.6903\n",
      "Epoch 12: val_decode_sequence_accuracy improved from 0.86964 to 0.87250, saving model to bilstm_cnn_crf\\cp.ckpt\n",
      "57/57 [==============================] - 14s 236ms/step - decode_sequence_accuracy: 0.9222 - loss: 1.6937 - val_decode_sequence_accuracy: 0.8725 - val_loss: 2.3439\n",
      "Epoch 13/15\n",
      "57/57 [==============================] - ETA: 0s - decode_sequence_accuracy: 0.9285 - loss: 1.5372\n",
      "Epoch 13: val_decode_sequence_accuracy did not improve from 0.87250\n",
      "57/57 [==============================] - 13s 234ms/step - decode_sequence_accuracy: 0.9285 - loss: 1.5362 - val_decode_sequence_accuracy: 0.8700 - val_loss: 2.6722\n",
      "Epoch 14/15\n",
      "57/57 [==============================] - ETA: 0s - decode_sequence_accuracy: 0.9334 - loss: 1.4211\n",
      "Epoch 14: val_decode_sequence_accuracy improved from 0.87250 to 0.87661, saving model to bilstm_cnn_crf\\cp.ckpt\n",
      "57/57 [==============================] - 11s 192ms/step - decode_sequence_accuracy: 0.9334 - loss: 1.4306 - val_decode_sequence_accuracy: 0.8766 - val_loss: 2.5576\n",
      "Epoch 15/15\n",
      "57/57 [==============================] - ETA: 0s - decode_sequence_accuracy: 0.9383 - loss: 1.3130\n",
      "Epoch 15: val_decode_sequence_accuracy improved from 0.87661 to 0.88107, saving model to bilstm_cnn_crf\\cp.ckpt\n",
      "57/57 [==============================] - 10s 178ms/step - decode_sequence_accuracy: 0.9383 - loss: 1.3035 - val_decode_sequence_accuracy: 0.8811 - val_loss: 2.5368\n"
     ]
    }
   ],
   "source": [
    "history = model.fit([X_train, X_char_train], y_train_int, batch_size=128, epochs=15, validation_split=0.1, callbacks=[mc, es])"
   ]
  },
  {
   "cell_type": "code",
   "execution_count": 91,
   "metadata": {
    "colab": {
     "base_uri": "https://localhost:8080/"
    },
    "id": "2UGaqpkrHozN",
    "outputId": "929a1aa5-5d46-4a3d-d4dd-bb64c7663a29"
   },
   "outputs": [
    {
     "data": {
      "text/plain": [
       "<tensorflow.python.checkpoint.checkpoint.CheckpointLoadStatus at 0x238d50de130>"
      ]
     },
     "execution_count": 91,
     "metadata": {},
     "output_type": "execute_result"
    }
   ],
   "source": [
    "model.load_weights('bilstm_cnn_crf/cp.ckpt')"
   ]
  },
  {
   "cell_type": "code",
   "execution_count": 92,
   "metadata": {
    "colab": {
     "base_uri": "https://localhost:8080/"
    },
    "id": "rXYnKtBgHq6g",
    "outputId": "06ef2cb2-8b7b-4c97-c22e-3be2e024d251"
   },
   "outputs": [
    {
     "name": "stdout",
     "output_type": "stream",
     "text": [
      "1/1 [==============================] - 1s 760ms/step\n",
      "단어             |실제값  |예측값\n",
      "-----------------------------------\n",
      "24v              : Other   Other\n",
      "motor            : Other   Other\n",
      "oprtr            : Other   Other\n"
     ]
    }
   ],
   "source": [
    "i = 13 # 확인하고 싶은 테스트용 샘플의 인덱스.\n",
    "\n",
    "# 입력한 테스트용 샘플에 대해서 예측 y를 리턴\n",
    "y_predicted = model.predict([np.array([X_test[i]]), np.array([X_char_test[i]])])[0] \n",
    "true = np.argmax(y_test[i], -1) # 원-핫 벡터를 정수 인코딩으로 변경.\n",
    "\n",
    "print(\"{:15}|{:5}|{}\".format(\"단어\", \"실제값\", \"예측값\"))\n",
    "print(35 * \"-\")\n",
    "\n",
    "for word, tag, pred in zip(X_test[i], true, y_predicted[0]):\n",
    "    if word != 0: # PAD값은 제외함.\n",
    "        print(\"{:17}: {:7} {}\".format(index_to_word[word], index_to_ner[tag], index_to_ner[pred]))"
   ]
  },
  {
   "cell_type": "code",
   "execution_count": 93,
   "metadata": {
    "colab": {
     "base_uri": "https://localhost:8080/",
     "height": 295
    },
    "id": "W3WPtK5HIZsz",
    "outputId": "4f290d21-1f66-4a34-b10e-702b568990cb"
   },
   "outputs": [
    {
     "data": {
      "image/png": "[encoded data removed]",
      "text/plain": [
       "<Figure size 432x288 with 1 Axes>"
      ]
     },
     "metadata": {
      "needs_background": "light"
     },
     "output_type": "display_data"
    }
   ],
   "source": [
    "epochs = range(1, len(history.history['val_loss']) + 1)\n",
    "plt.plot(epochs, history.history['loss'])\n",
    "plt.plot(epochs, history.history['val_loss'])\n",
    "plt.title('model loss')\n",
    "plt.ylabel('loss')\n",
    "plt.xlabel('epoch')\n",
    "plt.legend(['train', 'val'], loc='upper left')\n",
    "plt.show()"
   ]
  },
  {
   "cell_type": "code",
   "execution_count": 94,
   "metadata": {
    "id": "YNAv4VRvIcuh"
   },
   "outputs": [
    {
     "name": "stdout",
     "output_type": "stream",
     "text": [
      "63/63 [==============================] - 1s 14ms/step\n"
     ]
    }
   ],
   "source": [
    "y_predicted = model.predict([X_test, X_char_test])[0]\n",
    "pred_tags = sequences_to_tag_for_crf(y_predicted)\n",
    "test_tags = sequences_to_tag(y_test)"
   ]
  },
  {
   "cell_type": "code",
   "execution_count": 95,
   "metadata": {
    "colab": {
     "base_uri": "https://localhost:8080/"
    },
    "id": "x0IAko4RtUQJ",
    "outputId": "ae6b29e1-fa9c-4210-f124-bcbc98a011af"
   },
   "outputs": [
    {
     "name": "stdout",
     "output_type": "stream",
     "text": [
      "                                precision    recall  f1-score   support\n",
      "\n",
      "                        Number       0.00      0.00      0.00         3\n",
      " Phase Drive Horsepower Rating       0.93      0.92      0.93        74\n",
      "                           EMA       0.69      0.39      0.50        46\n",
      "                    abel Width       0.00      0.00      0.00         4\n",
      "                     able Type       0.80      0.65      0.71        31\n",
      "                      amp Type       0.33      0.06      0.11        16\n",
      "                       apacity       0.00      0.00      0.00         5\n",
      "                       ategory       1.00      0.80      0.89         5\n",
      "                       aterial       0.49      0.42      0.45       103\n",
      "                          atts       0.20      0.10      0.13        10\n",
      "                 dge Thickness       0.00      0.00      0.00         1\n",
      "                         eight       0.64      0.45      0.53        31\n",
      "                         ength       0.47      0.32      0.38        66\n",
      "                          epth       0.67      0.26      0.37        31\n",
      "                          hase       0.99      0.89      0.94        74\n",
      "                       iameter       0.75      0.23      0.35        13\n",
      "                          idth       0.44      0.40      0.42        20\n",
      "                   ixture Type       1.00      0.22      0.36         9\n",
      "                           ize       0.52      0.54      0.53        69\n",
      "                           mps       0.84      0.78      0.81       145\n",
      "                   nstallation       0.43      0.38      0.40        24\n",
      "                   ocket Depth       0.53      0.53      0.53        19\n",
      "                   oil Voltage       0.78      0.75      0.76        69\n",
      "                          oint       0.77      0.74      0.76        23\n",
      "                          olor       0.51      0.37      0.43        71\n",
      "                        oltage       0.70      0.56      0.62       101\n",
      "                oltage Maximum       0.61      0.83      0.70        77\n",
      "                onductor Count       0.00      0.00      0.00         4\n",
      "                 onductor Type       1.00      0.40      0.57        10\n",
      "                 onnector Type       0.17      0.05      0.08        20\n",
      "                   or Use With       0.00      0.00      0.00         1\n",
      "                  ounting Size       0.00      0.00      0.00         1\n",
      "                   peed Rating       0.88      0.96      0.92        51\n",
      "                    pplication       0.56      0.41      0.47        44\n",
      "                          rade       0.00      0.00      0.00         4\n",
      "                     rade Size       0.61      0.77      0.68        57\n",
      "                          rive       0.65      0.69      0.67        35\n",
      "                     rive Size       0.41      0.33      0.37        27\n",
      "                       se With       0.00      0.00      0.00         1\n",
      "                  ssembly Type       1.00      0.75      0.86        16\n",
      "                     tud Holes       0.75      0.25      0.38        12\n",
      "                umber of Poles       0.81      0.94      0.87       120\n",
      "                           ype       0.64      0.62      0.63      1145\n",
      "\n",
      "                     micro avg       0.67      0.61      0.64      2688\n",
      "                     macro avg       0.52      0.41      0.44      2688\n",
      "                  weighted avg       0.66      0.61      0.63      2688\n",
      "\n"
     ]
    }
   ],
   "source": [
    "print(classification_report(test_tags, pred_tags))"
   ]
  },
  {
   "cell_type": "markdown",
   "metadata": {
    "id": "3g-LplBROnDt"
   },
   "source": [
    "## 성능"
   ]
  },
  {
   "cell_type": "code",
   "execution_count": 96,
   "metadata": {
    "colab": {
     "base_uri": "https://localhost:8080/"
    },
    "id": "fToBbGDztaGI",
    "outputId": "6fde94cc-3c4a-4fef-dba1-7bda0f039dfe"
   },
   "outputs": [
    {
     "name": "stdout",
     "output_type": "stream",
     "text": [
      "F1-score: 64.0%\n"
     ]
    }
   ],
   "source": [
    "print(\"F1-score: {:.1%}\".format(f1_score(test_tags, pred_tags)))"
   ]
  },
  {
   "cell_type": "markdown",
   "metadata": {
    "id": "UN97GyqEw8oG"
   },
   "source": [
    "# BiLSTM-BiLSTM-CRF을 이용한 개체명 인식"
   ]
  },
  {
   "cell_type": "markdown",
   "metadata": {
    "id": "utbrWJnSOp5s"
   },
   "source": [
    "## 모델링"
   ]
  },
  {
   "cell_type": "code",
   "execution_count": 97,
   "metadata": {
    "colab": {
     "base_uri": "https://localhost:8080/"
    },
    "id": "Mif6bSyT5OXS",
    "outputId": "676a62f6-3502-4bbb-b76a-c670f3daef36"
   },
   "outputs": [
    {
     "name": "stdout",
     "output_type": "stream",
     "text": [
      "Model: \"crf_model_2\"\n",
      "__________________________________________________________________________________________________\n",
      " Layer (type)                   Output Shape         Param #     Connected to                     \n",
      "==================================================================================================\n",
      " char_input (InputLayer)        [(None, None, None)  0           []                               \n",
      "                                ]                                                                 \n",
      "                                                                                                  \n",
      " word_input (InputLayer)        [(None, None)]       0           []                               \n",
      "                                                                                                  \n",
      " char_embedding (Embedding)     (None, None, None,   2880        ['char_input[0][0]']             \n",
      "                                64)                                                               \n",
      "                                                                                                  \n",
      " word_embedding (Embedding)     (None, None, 128)    638336      ['word_input[0][0]']             \n",
      "                                                                                                  \n",
      " time_distributed_11 (TimeDistr  (None, None, 128)   66048       ['char_embedding[0][0]']         \n",
      " ibuted)                                                                                          \n",
      "                                                                                                  \n",
      " concatenate_2 (Concatenate)    (None, None, 256)    0           ['word_embedding[0][0]',         \n",
      "                                                                  'time_distributed_11[0][0]']    \n",
      "                                                                                                  \n",
      " dropout_5 (Dropout)            (None, None, 256)    0           ['concatenate_2[0][0]']          \n",
      "                                                                                                  \n",
      " bidirectional_5 (Bidirectional  (None, None, 128)   164352      ['dropout_5[0][0]']              \n",
      " )                                                                                                \n",
      "                                                                                                  \n",
      " time_distributed_12 (TimeDistr  (None, None, 51)    6579        ['bidirectional_5[0][0]']        \n",
      " ibuted)                                                                                          \n",
      "                                                                                                  \n",
      " crf_2 (CRF)                    [(None, None),       5355        ['time_distributed_12[0][0]']    \n",
      "                                 (None, None, 51),                                                \n",
      "                                 (None,),                                                         \n",
      "                                 (51, 51)]                                                        \n",
      "                                                                                                  \n",
      " decode_sequence (Lambda)       (None, None)         0           ['crf_2[0][0]']                  \n",
      "                                                                                                  \n",
      " potentials (Lambda)            (None, None, 51)     0           ['crf_2[0][1]']                  \n",
      "                                                                                                  \n",
      " sequence_length (Lambda)       (None,)              0           ['crf_2[0][2]']                  \n",
      "                                                                                                  \n",
      " kernel (Lambda)                (51, 51)             0           ['crf_2[0][3]']                  \n",
      "                                                                                                  \n",
      "==================================================================================================\n",
      "Total params: 883,550\n",
      "Trainable params: 883,550\n",
      "Non-trainable params: 0\n",
      "__________________________________________________________________________________________________\n"
     ]
    }
   ],
   "source": [
    "embedding_dim = 128\n",
    "char_embedding_dim = 64\n",
    "dropout_ratio = 0.3\n",
    "hidden_units = 64\n",
    "\n",
    "word_ids = Input(batch_shape=(None, None), dtype='int32', name='word_input')\n",
    "word_embeddings = Embedding(input_dim=vocab_size,\n",
    "                                        output_dim=embedding_dim,\n",
    "                                        name='word_embedding')(word_ids)\n",
    "\n",
    "char_ids = Input(batch_shape=(None, None, None), dtype='int32', name='char_input')\n",
    "char_embeddings = Embedding(input_dim=(len(char_to_index)),\n",
    "                                        output_dim=char_embedding_dim,\n",
    "                                        embeddings_initializer=RandomUniform(minval=-0.5, maxval=0.5),\n",
    "                                        name='char_embedding')(char_ids)\n",
    "\n",
    "char_embeddings = TimeDistributed(Bidirectional(LSTM(hidden_units)))(char_embeddings)\n",
    "word_embeddings = concatenate([word_embeddings, char_embeddings])\n",
    "\n",
    "word_embeddings = Dropout(dropout_ratio)(word_embeddings)\n",
    "output = Bidirectional(LSTM(units=hidden_units, return_sequences=True))(word_embeddings)\n",
    "output = TimeDistributed(Dense(tag_size, activation='relu'))(output)\n",
    "\n",
    "base = Model(inputs=[word_ids, char_ids], outputs=[output])\n",
    "model = CRFModel(base, tag_size)\n",
    "model.compile(optimizer=tf.keras.optimizers.Adam(0.001), metrics='accuracy')\n",
    "\n",
    "model.summary()"
   ]
  },
  {
   "cell_type": "code",
   "execution_count": 98,
   "metadata": {
    "id": "D1RNtqNNK6Th"
   },
   "outputs": [],
   "source": [
    "es = EarlyStopping(monitor='val_loss', mode='min', verbose=1, patience=4)\n",
    "mc = ModelCheckpoint('bilstm_bilstm_crf/cp.ckpt', monitor='val_decode_sequence_accuracy', mode='max', verbose=1, save_best_only=True, save_weights_only=True)"
   ]
  },
  {
   "cell_type": "code",
   "execution_count": 99,
   "metadata": {
    "colab": {
     "base_uri": "https://localhost:8080/"
    },
    "id": "Wl9dIPsIzW-m",
    "outputId": "0c25dd64-984d-49cd-873a-ed6b6db68d44"
   },
   "outputs": [
    {
     "name": "stdout",
     "output_type": "stream",
     "text": [
      "Epoch 1/15\n",
      "57/57 [==============================] - ETA: 0s - decode_sequence_accuracy: 0.6825 - loss: 10.3233\n",
      "Epoch 1: val_decode_sequence_accuracy improved from -inf to 0.77179, saving model to bilstm_bilstm_crf\\cp.ckpt\n",
      "57/57 [==============================] - 17s 193ms/step - decode_sequence_accuracy: 0.6825 - loss: 10.2567 - val_decode_sequence_accuracy: 0.7718 - val_loss: 6.5270\n",
      "Epoch 2/15\n",
      "57/57 [==============================] - ETA: 0s - decode_sequence_accuracy: 0.7939 - loss: 5.6512\n",
      "Epoch 2: val_decode_sequence_accuracy improved from 0.77179 to 0.80839, saving model to bilstm_bilstm_crf\\cp.ckpt\n",
      "57/57 [==============================] - 10s 175ms/step - decode_sequence_accuracy: 0.7939 - loss: 5.6709 - val_decode_sequence_accuracy: 0.8084 - val_loss: 5.5390\n",
      "Epoch 3/15\n",
      "57/57 [==============================] - ETA: 0s - decode_sequence_accuracy: 0.8271 - loss: 4.8142\n",
      "Epoch 3: val_decode_sequence_accuracy improved from 0.80839 to 0.82018, saving model to bilstm_bilstm_crf\\cp.ckpt\n",
      "57/57 [==============================] - 10s 178ms/step - decode_sequence_accuracy: 0.8271 - loss: 4.8005 - val_decode_sequence_accuracy: 0.8202 - val_loss: 4.6209\n",
      "Epoch 4/15\n",
      "57/57 [==============================] - ETA: 0s - decode_sequence_accuracy: 0.8515 - loss: 4.0289\n",
      "Epoch 4: val_decode_sequence_accuracy improved from 0.82018 to 0.84036, saving model to bilstm_bilstm_crf\\cp.ckpt\n",
      "57/57 [==============================] - 10s 177ms/step - decode_sequence_accuracy: 0.8515 - loss: 4.0249 - val_decode_sequence_accuracy: 0.8404 - val_loss: 3.8157\n",
      "Epoch 5/15\n",
      "57/57 [==============================] - ETA: 0s - decode_sequence_accuracy: 0.8701 - loss: 3.3500\n",
      "Epoch 5: val_decode_sequence_accuracy improved from 0.84036 to 0.84696, saving model to bilstm_bilstm_crf\\cp.ckpt\n",
      "57/57 [==============================] - 10s 179ms/step - decode_sequence_accuracy: 0.8701 - loss: 3.3548 - val_decode_sequence_accuracy: 0.8470 - val_loss: 3.1524\n",
      "Epoch 6/15\n",
      "57/57 [==============================] - ETA: 0s - decode_sequence_accuracy: 0.8792 - loss: 2.8847\n",
      "Epoch 6: val_decode_sequence_accuracy improved from 0.84696 to 0.85304, saving model to bilstm_bilstm_crf\\cp.ckpt\n",
      "57/57 [==============================] - 10s 180ms/step - decode_sequence_accuracy: 0.8792 - loss: 2.8799 - val_decode_sequence_accuracy: 0.8530 - val_loss: 2.7539\n",
      "Epoch 7/15\n",
      "57/57 [==============================] - ETA: 0s - decode_sequence_accuracy: 0.8912 - loss: 2.5141\n",
      "Epoch 7: val_decode_sequence_accuracy improved from 0.85304 to 0.85964, saving model to bilstm_bilstm_crf\\cp.ckpt\n",
      "57/57 [==============================] - 10s 182ms/step - decode_sequence_accuracy: 0.8912 - loss: 2.5178 - val_decode_sequence_accuracy: 0.8596 - val_loss: 2.5010\n",
      "Epoch 8/15\n",
      "57/57 [==============================] - ETA: 0s - decode_sequence_accuracy: 0.8998 - loss: 2.2458\n",
      "Epoch 8: val_decode_sequence_accuracy improved from 0.85964 to 0.86196, saving model to bilstm_bilstm_crf\\cp.ckpt\n",
      "57/57 [==============================] - 10s 179ms/step - decode_sequence_accuracy: 0.8998 - loss: 2.2491 - val_decode_sequence_accuracy: 0.8620 - val_loss: 2.4800\n",
      "Epoch 9/15\n",
      "57/57 [==============================] - ETA: 0s - decode_sequence_accuracy: 0.9098 - loss: 1.9781\n",
      "Epoch 9: val_decode_sequence_accuracy improved from 0.86196 to 0.86446, saving model to bilstm_bilstm_crf\\cp.ckpt\n",
      "57/57 [==============================] - 10s 178ms/step - decode_sequence_accuracy: 0.9098 - loss: 1.9657 - val_decode_sequence_accuracy: 0.8645 - val_loss: 2.4969\n",
      "Epoch 10/15\n",
      "57/57 [==============================] - ETA: 0s - decode_sequence_accuracy: 0.9189 - loss: 1.7949\n",
      "Epoch 10: val_decode_sequence_accuracy improved from 0.86446 to 0.86714, saving model to bilstm_bilstm_crf\\cp.ckpt\n",
      "57/57 [==============================] - 10s 179ms/step - decode_sequence_accuracy: 0.9189 - loss: 1.8014 - val_decode_sequence_accuracy: 0.8671 - val_loss: 2.5805\n",
      "Epoch 11/15\n",
      "57/57 [==============================] - ETA: 0s - decode_sequence_accuracy: 0.9246 - loss: 1.6248\n",
      "Epoch 11: val_decode_sequence_accuracy improved from 0.86714 to 0.87143, saving model to bilstm_bilstm_crf\\cp.ckpt\n",
      "57/57 [==============================] - 11s 185ms/step - decode_sequence_accuracy: 0.9246 - loss: 1.6244 - val_decode_sequence_accuracy: 0.8714 - val_loss: 2.4892\n",
      "Epoch 12/15\n",
      "57/57 [==============================] - ETA: 0s - decode_sequence_accuracy: 0.9305 - loss: 1.4887\n",
      "Epoch 12: val_decode_sequence_accuracy improved from 0.87143 to 0.87625, saving model to bilstm_bilstm_crf\\cp.ckpt\n",
      "57/57 [==============================] - 10s 179ms/step - decode_sequence_accuracy: 0.9305 - loss: 1.4799 - val_decode_sequence_accuracy: 0.8763 - val_loss: 2.3666\n",
      "Epoch 13/15\n",
      "57/57 [==============================] - ETA: 0s - decode_sequence_accuracy: 0.9350 - loss: 1.3693\n",
      "Epoch 13: val_decode_sequence_accuracy did not improve from 0.87625\n",
      "57/57 [==============================] - 10s 178ms/step - decode_sequence_accuracy: 0.9350 - loss: 1.3666 - val_decode_sequence_accuracy: 0.8746 - val_loss: 2.3385\n",
      "Epoch 14/15\n",
      "57/57 [==============================] - ETA: 0s - decode_sequence_accuracy: 0.9377 - loss: 1.2738\n",
      "Epoch 14: val_decode_sequence_accuracy improved from 0.87625 to 0.87696, saving model to bilstm_bilstm_crf\\cp.ckpt\n",
      "57/57 [==============================] - 11s 192ms/step - decode_sequence_accuracy: 0.9377 - loss: 1.2694 - val_decode_sequence_accuracy: 0.8770 - val_loss: 2.3669\n",
      "Epoch 15/15\n",
      "57/57 [==============================] - ETA: 0s - decode_sequence_accuracy: 0.9418 - loss: 1.2049\n",
      "Epoch 15: val_decode_sequence_accuracy did not improve from 0.87696\n",
      "57/57 [==============================] - 10s 177ms/step - decode_sequence_accuracy: 0.9418 - loss: 1.2088 - val_decode_sequence_accuracy: 0.8766 - val_loss: 2.5601\n"
     ]
    }
   ],
   "source": [
    "history = model.fit([X_train, X_char_train], y_train_int, batch_size=128, epochs=15, validation_split=0.1, callbacks=[mc, es])"
   ]
  },
  {
   "cell_type": "code",
   "execution_count": 100,
   "metadata": {
    "colab": {
     "base_uri": "https://localhost:8080/"
    },
    "id": "DZcu-pPrNqpz",
    "outputId": "b14ea385-0598-47de-8ef4-6d9e09258b24"
   },
   "outputs": [
    {
     "data": {
      "text/plain": [
       "<tensorflow.python.checkpoint.checkpoint.CheckpointLoadStatus at 0x238de85af10>"
      ]
     },
     "execution_count": 100,
     "metadata": {},
     "output_type": "execute_result"
    }
   ],
   "source": [
    "model.load_weights('bilstm_bilstm_crf/cp.ckpt')"
   ]
  },
  {
   "cell_type": "code",
   "execution_count": 101,
   "metadata": {
    "colab": {
     "base_uri": "https://localhost:8080/"
    },
    "id": "T_ECUaJ2Nuoj",
    "outputId": "e33f23f1-52fd-45a5-b547-52d321aa9b85"
   },
   "outputs": [
    {
     "name": "stdout",
     "output_type": "stream",
     "text": [
      "1/1 [==============================] - 1s 1s/step\n",
      "단어             |실제값  |예측값\n",
      "-----------------------------------\n",
      "24v              : Other   Other\n",
      "motor            : Other   Type\n",
      "oprtr            : Other   Other\n"
     ]
    }
   ],
   "source": [
    "i = 13 # 확인하고 싶은 테스트용 샘플의 인덱스.\n",
    "\n",
    "# 입력한 테스트용 샘플에 대해서 예측 y를 리턴\n",
    "y_predicted = model.predict([np.array([X_test[i]]), np.array([X_char_test[i]])])[0]\n",
    "true = np.argmax(y_test[i], -1) # 원-핫 벡터를 정수 인코딩으로 변경.\n",
    "\n",
    "print(\"{:15}|{:5}|{}\".format(\"단어\", \"실제값\", \"예측값\"))\n",
    "print(35 * \"-\")\n",
    "\n",
    "for word, tag, pred in zip(X_test[i], true, y_predicted[0]):\n",
    "    if word != 0: # PAD값은 제외함.\n",
    "        print(\"{:17}: {:7} {}\".format(index_to_word[word], index_to_ner[tag], index_to_ner[pred]))"
   ]
  },
  {
   "cell_type": "code",
   "execution_count": 102,
   "metadata": {
    "colab": {
     "base_uri": "https://localhost:8080/",
     "height": 295
    },
    "id": "3JeErjaCNyp6",
    "outputId": "d3dd1345-0925-4b55-c43b-cf2a6ebafbb0"
   },
   "outputs": [
    {
     "data": {
      "image/png": "[encoded data removed]",
      "text/plain": [
       "<Figure size 432x288 with 1 Axes>"
      ]
     },
     "metadata": {
      "needs_background": "light"
     },
     "output_type": "display_data"
    }
   ],
   "source": [
    "epochs = range(1, len(history.history['val_loss']) + 1)\n",
    "plt.plot(epochs, history.history['loss'])\n",
    "plt.plot(epochs, history.history['val_loss'])\n",
    "plt.title('model loss')\n",
    "plt.ylabel('loss')\n",
    "plt.xlabel('epoch')\n",
    "plt.legend(['train', 'val'], loc='upper left')\n",
    "plt.show()"
   ]
  },
  {
   "cell_type": "code",
   "execution_count": 103,
   "metadata": {
    "id": "hX3VzmGeN2Ay"
   },
   "outputs": [
    {
     "name": "stdout",
     "output_type": "stream",
     "text": [
      "63/63 [==============================] - 1s 23ms/step\n"
     ]
    }
   ],
   "source": [
    "y_predicted = model.predict([X_test, X_char_test])[0]\n",
    "pred_tags = sequences_to_tag_for_crf(y_predicted)\n",
    "test_tags = sequences_to_tag(y_test)"
   ]
  },
  {
   "cell_type": "code",
   "execution_count": 106,
   "metadata": {},
   "outputs": [],
   "source": [
    "from sklearn.metrics import classification_report, confusion_matrix\n",
    "from sklearn.preprocessing import LabelBinarizer\n",
    "from itertools import chain\n",
    "def tags_classification_report(y_true, y_pred):\n",
    "    \n",
    "    lb = LabelBinarizer()\n",
    "    y_true_combined = lb.fit_transform(list(chain.from_iterable(y_true)))\n",
    "    y_pred_combined = lb.transform(list(chain.from_iterable(y_pred)))\n",
    "        \n",
    "    tagset = set(lb.classes_) - {'O', 'PAD'}\n",
    "    tagset = sorted(tagset, key=lambda tag: tag.split('-', 1)[::-1])\n",
    "    class_indices = {cls: idx for idx, cls in enumerate(lb.classes_)}\n",
    "    \n",
    "    return classification_report(\n",
    "        y_true_combined,\n",
    "        y_pred_combined,\n",
    "        labels = [class_indices[cls] for cls in tagset],\n",
    "        target_names = tagset,\n",
    "    )\n",
    "    lb = LabelBinarizer()\n",
    "    y_true_combined = lb.fit_transform(list(chain.from_iterable(y_true)))\n",
    "    y_pred_combined = lb.transform(list(chain.from_iterable(y_pred)))\n",
    "        \n",
    "    tagset = set(lb.classes_) - {'O'}\n",
    "    tagset = sorted(tagset, key=lambda tag: tag.split('-', 1)[::-1])\n",
    "    class_indices = {cls: idx for idx, cls in enumerate(lb.classes_)}\n",
    "    \n",
    "    return classification_report(\n",
    "        y_true_combined,\n",
    "        y_pred_combined,\n",
    "        labels = [class_indices[cls] for cls in tagset],\n",
    "        target_names = tagset,\n",
    "    )"
   ]
  },
  {
   "cell_type": "code",
   "execution_count": 107,
   "metadata": {},
   "outputs": [
    {
     "name": "stdout",
     "output_type": "stream",
     "text": [
      "                                 precision    recall  f1-score   support\n",
      "\n",
      "                Legend - Number       1.00      0.83      0.91         6\n",
      "3 Phase Drive Horsepower Rating       0.96      0.96      0.96        77\n",
      "                           Amps       0.82      0.78      0.80       145\n",
      "                    Application       0.66      0.35      0.45        55\n",
      "                  Assembly Type       0.93      0.72      0.81        18\n",
      "                     Cable Type       0.84      0.73      0.78        49\n",
      "                       Capacity       0.00      0.00      0.00         5\n",
      "                       Category       1.00      1.00      1.00         5\n",
      "                   Coil Voltage       0.87      0.85      0.86        73\n",
      "                          Color       0.48      0.41      0.44        71\n",
      "                Conductor Count       0.00      0.00      0.00         4\n",
      "                 Conductor Type       0.88      0.70      0.78        10\n",
      "                 Connector Type       0.64      0.23      0.33        31\n",
      "                          Depth       0.52      0.48      0.50        31\n",
      "                       Diameter       0.50      0.15      0.24        13\n",
      "                          Drive       0.78      0.82      0.80        39\n",
      "                     Drive Size       0.56      0.48      0.52        31\n",
      "                 Edge Thickness       0.00      0.00      0.00         1\n",
      "                   Fixture Type       0.67      0.18      0.29        11\n",
      "                   For Use With       0.00      0.00      0.00         1\n",
      "                          Grade       0.50      0.25      0.33         4\n",
      "                         Height       0.64      0.56      0.60        32\n",
      "                   Installation       0.64      0.36      0.46        25\n",
      "                    Label Width       0.00      0.00      0.00         4\n",
      "                      Lamp Type       0.73      0.50      0.59        16\n",
      "                         Length       0.56      0.46      0.51        67\n",
      "                       Material       0.56      0.46      0.51       112\n",
      "                  Mounting Size       0.00      0.00      0.00         1\n",
      "                           NEMA       0.68      0.41      0.51        46\n",
      "                Number of Poles       0.82      0.93      0.87       121\n",
      "                          Other       0.74      0.79      0.76      2829\n",
      "                 Overload Relay       0.60      0.75      0.67        12\n",
      "                          Phase       0.81      0.88      0.84        77\n",
      "                          Point       0.84      0.81      0.82        26\n",
      "                           Size       0.71      0.52      0.60        69\n",
      "                   Socket Depth       0.89      0.42      0.57        19\n",
      "                   Speed Rating       0.88      0.96      0.92        51\n",
      "                     Stud Holes       0.78      0.58      0.67        12\n",
      "                     Trade Size       0.68      0.58      0.62        59\n",
      "                           Type       0.73      0.74      0.74      1545\n",
      "                       Use With       0.00      0.00      0.00         1\n",
      "                        Voltage       0.79      0.54      0.64       107\n",
      "                Voltage Maximum       0.66      0.94      0.78        99\n",
      "                          Watts       0.00      0.00      0.00        10\n",
      "                          Width       0.62      0.40      0.48        20\n",
      "\n",
      "                      micro avg       0.74      0.74      0.74      6040\n",
      "                      macro avg       0.60      0.50      0.53      6040\n",
      "                   weighted avg       0.73      0.74      0.73      6040\n",
      "                    samples avg       0.32      0.32      0.32      6040\n",
      "\n"
     ]
    },
    {
     "name": "stderr",
     "output_type": "stream",
     "text": [
      "C:\\Users\\xx07230\\Anaconda3\\envs\\smart_warehouse\\lib\\site-packages\\sklearn\\metrics\\_classification.py:1334: UndefinedMetricWarning: Precision and F-score are ill-defined and being set to 0.0 in labels with no predicted samples. Use `zero_division` parameter to control this behavior.\n",
      "  _warn_prf(average, modifier, msg_start, len(result))\n",
      "C:\\Users\\xx07230\\Anaconda3\\envs\\smart_warehouse\\lib\\site-packages\\sklearn\\metrics\\_classification.py:1334: UndefinedMetricWarning: Precision and F-score are ill-defined and being set to 0.0 in samples with no predicted labels. Use `zero_division` parameter to control this behavior.\n",
      "  _warn_prf(average, modifier, msg_start, len(result))\n",
      "C:\\Users\\xx07230\\Anaconda3\\envs\\smart_warehouse\\lib\\site-packages\\sklearn\\metrics\\_classification.py:1334: UndefinedMetricWarning: Recall and F-score are ill-defined and being set to 0.0 in samples with no true labels. Use `zero_division` parameter to control this behavior.\n",
      "  _warn_prf(average, modifier, msg_start, len(result))\n"
     ]
    }
   ],
   "source": [
    "print(tags_classification_report(test_tags, pred_tags))"
   ]
  },
  {
   "cell_type": "markdown",
   "metadata": {
    "id": "gadtb_rmOrcf"
   },
   "source": [
    "## 성능"
   ]
  },
  {
   "cell_type": "code",
   "execution_count": 108,
   "metadata": {
    "colab": {
     "base_uri": "https://localhost:8080/"
    },
    "id": "aP1jPe10AIqb",
    "outputId": "b799effa-f85f-4d5d-96b2-4dabf8219c19"
   },
   "outputs": [
    {
     "name": "stdout",
     "output_type": "stream",
     "text": [
      "F1-score: 65.1%\n"
     ]
    },
    {
     "name": "stderr",
     "output_type": "stream",
     "text": [
      "C:\\Users\\xx07230\\Anaconda3\\envs\\smart_warehouse\\lib\\site-packages\\seqeval\\metrics\\sequence_labeling.py:171: UserWarning: Other seems not to be NE tag.\n",
      "  warnings.warn('{} seems not to be NE tag.'.format(chunk))\n",
      "C:\\Users\\xx07230\\Anaconda3\\envs\\smart_warehouse\\lib\\site-packages\\seqeval\\metrics\\sequence_labeling.py:171: UserWarning: Material seems not to be NE tag.\n",
      "  warnings.warn('{} seems not to be NE tag.'.format(chunk))\n",
      "C:\\Users\\xx07230\\Anaconda3\\envs\\smart_warehouse\\lib\\site-packages\\seqeval\\metrics\\sequence_labeling.py:171: UserWarning: Type seems not to be NE tag.\n",
      "  warnings.warn('{} seems not to be NE tag.'.format(chunk))\n",
      "C:\\Users\\xx07230\\Anaconda3\\envs\\smart_warehouse\\lib\\site-packages\\seqeval\\metrics\\sequence_labeling.py:171: UserWarning: Voltage seems not to be NE tag.\n",
      "  warnings.warn('{} seems not to be NE tag.'.format(chunk))\n",
      "C:\\Users\\xx07230\\Anaconda3\\envs\\smart_warehouse\\lib\\site-packages\\seqeval\\metrics\\sequence_labeling.py:171: UserWarning: Color seems not to be NE tag.\n",
      "  warnings.warn('{} seems not to be NE tag.'.format(chunk))\n",
      "C:\\Users\\xx07230\\Anaconda3\\envs\\smart_warehouse\\lib\\site-packages\\seqeval\\metrics\\sequence_labeling.py:171: UserWarning: Trade Size seems not to be NE tag.\n",
      "  warnings.warn('{} seems not to be NE tag.'.format(chunk))\n",
      "C:\\Users\\xx07230\\Anaconda3\\envs\\smart_warehouse\\lib\\site-packages\\seqeval\\metrics\\sequence_labeling.py:171: UserWarning: Size seems not to be NE tag.\n",
      "  warnings.warn('{} seems not to be NE tag.'.format(chunk))\n",
      "C:\\Users\\xx07230\\Anaconda3\\envs\\smart_warehouse\\lib\\site-packages\\seqeval\\metrics\\sequence_labeling.py:171: UserWarning: Length seems not to be NE tag.\n",
      "  warnings.warn('{} seems not to be NE tag.'.format(chunk))\n",
      "C:\\Users\\xx07230\\Anaconda3\\envs\\smart_warehouse\\lib\\site-packages\\seqeval\\metrics\\sequence_labeling.py:171: UserWarning: Application seems not to be NE tag.\n",
      "  warnings.warn('{} seems not to be NE tag.'.format(chunk))\n",
      "C:\\Users\\xx07230\\Anaconda3\\envs\\smart_warehouse\\lib\\site-packages\\seqeval\\metrics\\sequence_labeling.py:171: UserWarning: Phase seems not to be NE tag.\n",
      "  warnings.warn('{} seems not to be NE tag.'.format(chunk))\n",
      "C:\\Users\\xx07230\\Anaconda3\\envs\\smart_warehouse\\lib\\site-packages\\seqeval\\metrics\\sequence_labeling.py:171: UserWarning: 3 Phase Drive Horsepower Rating seems not to be NE tag.\n",
      "  warnings.warn('{} seems not to be NE tag.'.format(chunk))\n",
      "C:\\Users\\xx07230\\Anaconda3\\envs\\smart_warehouse\\lib\\site-packages\\seqeval\\metrics\\sequence_labeling.py:171: UserWarning: Amps seems not to be NE tag.\n",
      "  warnings.warn('{} seems not to be NE tag.'.format(chunk))\n",
      "C:\\Users\\xx07230\\Anaconda3\\envs\\smart_warehouse\\lib\\site-packages\\seqeval\\metrics\\sequence_labeling.py:171: UserWarning: Drive seems not to be NE tag.\n",
      "  warnings.warn('{} seems not to be NE tag.'.format(chunk))\n",
      "C:\\Users\\xx07230\\Anaconda3\\envs\\smart_warehouse\\lib\\site-packages\\seqeval\\metrics\\sequence_labeling.py:171: UserWarning: Point seems not to be NE tag.\n",
      "  warnings.warn('{} seems not to be NE tag.'.format(chunk))\n",
      "C:\\Users\\xx07230\\Anaconda3\\envs\\smart_warehouse\\lib\\site-packages\\seqeval\\metrics\\sequence_labeling.py:171: UserWarning: Height seems not to be NE tag.\n",
      "  warnings.warn('{} seems not to be NE tag.'.format(chunk))\n",
      "C:\\Users\\xx07230\\Anaconda3\\envs\\smart_warehouse\\lib\\site-packages\\seqeval\\metrics\\sequence_labeling.py:171: UserWarning: Depth seems not to be NE tag.\n",
      "  warnings.warn('{} seems not to be NE tag.'.format(chunk))\n",
      "C:\\Users\\xx07230\\Anaconda3\\envs\\smart_warehouse\\lib\\site-packages\\seqeval\\metrics\\sequence_labeling.py:171: UserWarning: NEMA seems not to be NE tag.\n",
      "  warnings.warn('{} seems not to be NE tag.'.format(chunk))\n",
      "C:\\Users\\xx07230\\Anaconda3\\envs\\smart_warehouse\\lib\\site-packages\\seqeval\\metrics\\sequence_labeling.py:171: UserWarning: Coil Voltage seems not to be NE tag.\n",
      "  warnings.warn('{} seems not to be NE tag.'.format(chunk))\n",
      "C:\\Users\\xx07230\\Anaconda3\\envs\\smart_warehouse\\lib\\site-packages\\seqeval\\metrics\\sequence_labeling.py:171: UserWarning: Number of Poles seems not to be NE tag.\n",
      "  warnings.warn('{} seems not to be NE tag.'.format(chunk))\n",
      "C:\\Users\\xx07230\\Anaconda3\\envs\\smart_warehouse\\lib\\site-packages\\seqeval\\metrics\\sequence_labeling.py:171: UserWarning: Stud Holes seems not to be NE tag.\n",
      "  warnings.warn('{} seems not to be NE tag.'.format(chunk))\n",
      "C:\\Users\\xx07230\\Anaconda3\\envs\\smart_warehouse\\lib\\site-packages\\seqeval\\metrics\\sequence_labeling.py:171: UserWarning: Installation seems not to be NE tag.\n",
      "  warnings.warn('{} seems not to be NE tag.'.format(chunk))\n",
      "C:\\Users\\xx07230\\Anaconda3\\envs\\smart_warehouse\\lib\\site-packages\\seqeval\\metrics\\sequence_labeling.py:171: UserWarning: Width seems not to be NE tag.\n",
      "  warnings.warn('{} seems not to be NE tag.'.format(chunk))\n",
      "C:\\Users\\xx07230\\Anaconda3\\envs\\smart_warehouse\\lib\\site-packages\\seqeval\\metrics\\sequence_labeling.py:171: UserWarning: Diameter seems not to be NE tag.\n",
      "  warnings.warn('{} seems not to be NE tag.'.format(chunk))\n",
      "C:\\Users\\xx07230\\Anaconda3\\envs\\smart_warehouse\\lib\\site-packages\\seqeval\\metrics\\sequence_labeling.py:171: UserWarning: Speed Rating seems not to be NE tag.\n",
      "  warnings.warn('{} seems not to be NE tag.'.format(chunk))\n",
      "C:\\Users\\xx07230\\Anaconda3\\envs\\smart_warehouse\\lib\\site-packages\\seqeval\\metrics\\sequence_labeling.py:171: UserWarning: Voltage Maximum seems not to be NE tag.\n",
      "  warnings.warn('{} seems not to be NE tag.'.format(chunk))\n",
      "C:\\Users\\xx07230\\Anaconda3\\envs\\smart_warehouse\\lib\\site-packages\\seqeval\\metrics\\sequence_labeling.py:171: UserWarning: Assembly Type seems not to be NE tag.\n",
      "  warnings.warn('{} seems not to be NE tag.'.format(chunk))\n",
      "C:\\Users\\xx07230\\Anaconda3\\envs\\smart_warehouse\\lib\\site-packages\\seqeval\\metrics\\sequence_labeling.py:171: UserWarning: Cable Type seems not to be NE tag.\n",
      "  warnings.warn('{} seems not to be NE tag.'.format(chunk))\n",
      "C:\\Users\\xx07230\\Anaconda3\\envs\\smart_warehouse\\lib\\site-packages\\seqeval\\metrics\\sequence_labeling.py:171: UserWarning: Conductor Count seems not to be NE tag.\n",
      "  warnings.warn('{} seems not to be NE tag.'.format(chunk))\n",
      "C:\\Users\\xx07230\\Anaconda3\\envs\\smart_warehouse\\lib\\site-packages\\seqeval\\metrics\\sequence_labeling.py:171: UserWarning: Socket Depth seems not to be NE tag.\n",
      "  warnings.warn('{} seems not to be NE tag.'.format(chunk))\n",
      "C:\\Users\\xx07230\\Anaconda3\\envs\\smart_warehouse\\lib\\site-packages\\seqeval\\metrics\\sequence_labeling.py:171: UserWarning: Connector Type seems not to be NE tag.\n",
      "  warnings.warn('{} seems not to be NE tag.'.format(chunk))\n",
      "C:\\Users\\xx07230\\Anaconda3\\envs\\smart_warehouse\\lib\\site-packages\\seqeval\\metrics\\sequence_labeling.py:171: UserWarning: Use With seems not to be NE tag.\n",
      "  warnings.warn('{} seems not to be NE tag.'.format(chunk))\n",
      "C:\\Users\\xx07230\\Anaconda3\\envs\\smart_warehouse\\lib\\site-packages\\seqeval\\metrics\\sequence_labeling.py:171: UserWarning: Label Width seems not to be NE tag.\n",
      "  warnings.warn('{} seems not to be NE tag.'.format(chunk))\n",
      "C:\\Users\\xx07230\\Anaconda3\\envs\\smart_warehouse\\lib\\site-packages\\seqeval\\metrics\\sequence_labeling.py:171: UserWarning: Edge Thickness seems not to be NE tag.\n",
      "  warnings.warn('{} seems not to be NE tag.'.format(chunk))\n",
      "C:\\Users\\xx07230\\Anaconda3\\envs\\smart_warehouse\\lib\\site-packages\\seqeval\\metrics\\sequence_labeling.py:171: UserWarning: Mounting Size seems not to be NE tag.\n",
      "  warnings.warn('{} seems not to be NE tag.'.format(chunk))\n",
      "C:\\Users\\xx07230\\Anaconda3\\envs\\smart_warehouse\\lib\\site-packages\\seqeval\\metrics\\sequence_labeling.py:171: UserWarning: Overload Relay seems not to be NE tag.\n",
      "  warnings.warn('{} seems not to be NE tag.'.format(chunk))\n",
      "C:\\Users\\xx07230\\Anaconda3\\envs\\smart_warehouse\\lib\\site-packages\\seqeval\\metrics\\sequence_labeling.py:171: UserWarning: Conductor Type seems not to be NE tag.\n",
      "  warnings.warn('{} seems not to be NE tag.'.format(chunk))\n",
      "C:\\Users\\xx07230\\Anaconda3\\envs\\smart_warehouse\\lib\\site-packages\\seqeval\\metrics\\sequence_labeling.py:171: UserWarning: Drive Size seems not to be NE tag.\n",
      "  warnings.warn('{} seems not to be NE tag.'.format(chunk))\n",
      "C:\\Users\\xx07230\\Anaconda3\\envs\\smart_warehouse\\lib\\site-packages\\seqeval\\metrics\\sequence_labeling.py:171: UserWarning: Lamp Type seems not to be NE tag.\n",
      "  warnings.warn('{} seems not to be NE tag.'.format(chunk))\n",
      "C:\\Users\\xx07230\\Anaconda3\\envs\\smart_warehouse\\lib\\site-packages\\seqeval\\metrics\\sequence_labeling.py:171: UserWarning: Capacity seems not to be NE tag.\n",
      "  warnings.warn('{} seems not to be NE tag.'.format(chunk))\n",
      "C:\\Users\\xx07230\\Anaconda3\\envs\\smart_warehouse\\lib\\site-packages\\seqeval\\metrics\\sequence_labeling.py:171: UserWarning: Watts seems not to be NE tag.\n",
      "  warnings.warn('{} seems not to be NE tag.'.format(chunk))\n",
      "C:\\Users\\xx07230\\Anaconda3\\envs\\smart_warehouse\\lib\\site-packages\\seqeval\\metrics\\sequence_labeling.py:171: UserWarning: Fixture Type seems not to be NE tag.\n",
      "  warnings.warn('{} seems not to be NE tag.'.format(chunk))\n",
      "C:\\Users\\xx07230\\Anaconda3\\envs\\smart_warehouse\\lib\\site-packages\\seqeval\\metrics\\sequence_labeling.py:171: UserWarning: Category seems not to be NE tag.\n",
      "  warnings.warn('{} seems not to be NE tag.'.format(chunk))\n",
      "C:\\Users\\xx07230\\Anaconda3\\envs\\smart_warehouse\\lib\\site-packages\\seqeval\\metrics\\sequence_labeling.py:171: UserWarning: Grade seems not to be NE tag.\n",
      "  warnings.warn('{} seems not to be NE tag.'.format(chunk))\n",
      "C:\\Users\\xx07230\\Anaconda3\\envs\\smart_warehouse\\lib\\site-packages\\seqeval\\metrics\\sequence_labeling.py:171: UserWarning: For Use With seems not to be NE tag.\n",
      "  warnings.warn('{} seems not to be NE tag.'.format(chunk))\n",
      "C:\\Users\\xx07230\\Anaconda3\\envs\\smart_warehouse\\lib\\site-packages\\seqeval\\metrics\\sequence_labeling.py:171: UserWarning: Legend - Number seems not to be NE tag.\n",
      "  warnings.warn('{} seems not to be NE tag.'.format(chunk))\n"
     ]
    }
   ],
   "source": [
    "print(\"F1-score: {:.1%}\".format(f1_score(test_tags, pred_tags)))"
   ]
  },
  {
   "cell_type": "code",
   "execution_count": null,
   "metadata": {},
   "outputs": [],
   "source": []
  }
 ],
 "metadata": {
  "accelerator": "GPU",
  "colab": {
   "machine_shape": "hm",
   "provenance": []
  },
  "kernelspec": {
   "display_name": "Python 3 (ipykernel)",
   "language": "python",
   "name": "python3"
  },
  "language_info": {
   "codemirror_mode": {
    "name": "ipython",
    "version": 3
   },
   "file_extension": ".py",
   "mimetype": "text/x-python",
   "name": "python",
   "nbconvert_exporter": "python",
   "pygments_lexer": "ipython3",
   "version": "3.8.13"
  }
 },
 "nbformat": 4,
 "nbformat_minor": 1
}
